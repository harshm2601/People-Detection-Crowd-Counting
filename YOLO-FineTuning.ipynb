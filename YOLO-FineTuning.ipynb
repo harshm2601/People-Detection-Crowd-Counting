{
 "cells": [
  {
   "cell_type": "code",
   "execution_count": null,
   "metadata": {
    "id": "MXy6pLr5rd4O"
   },
   "outputs": [],
   "source": [
    "from google.colab import userdata\n",
    "userdata.get('secretName')"
   ]
  },
  {
   "cell_type": "code",
   "execution_count": null,
   "metadata": {
    "colab": {
     "base_uri": "https://localhost:8080/"
    },
    "executionInfo": {
     "elapsed": 76388,
     "status": "ok",
     "timestamp": 1716097275343,
     "user": {
      "displayName": "Harsh Maheshwari",
      "userId": "10425666184789192535"
     },
     "user_tz": -330
    },
    "id": "rocq3XjbWlUu",
    "outputId": "edf47691-3f00-4b73-e919-b0566fa3e85a"
   },
   "outputs": [
    {
     "name": "stdout",
     "output_type": "stream",
     "text": [
      "Collecting ultralytics\n",
      "  Downloading ultralytics-8.2.18-py3-none-any.whl (757 kB)\n",
      "\u001b[?25l     \u001b[90m━━━━━━━━━━━━━━━━━━━━━━━━━━━━━━━━━━━━━━━━\u001b[0m \u001b[32m0.0/757.2 kB\u001b[0m \u001b[31m?\u001b[0m eta \u001b[36m-:--:--\u001b[0m\r\u001b[2K     \u001b[91m━━━━━━━━━━━━━━━━━━━━━━━━━━━━━━━━━━━━━━━\u001b[0m\u001b[90m╺\u001b[0m \u001b[32m747.5/757.2 kB\u001b[0m \u001b[31m23.5 MB/s\u001b[0m eta \u001b[36m0:00:01\u001b[0m\r\u001b[2K     \u001b[90m━━━━━━━━━━━━━━━━━━━━━━━━━━━━━━━━━━━━━━━━\u001b[0m \u001b[32m757.2/757.2 kB\u001b[0m \u001b[31m16.1 MB/s\u001b[0m eta \u001b[36m0:00:00\u001b[0m\n",
      "\u001b[?25hRequirement already satisfied: matplotlib>=3.3.0 in /usr/local/lib/python3.10/dist-packages (from ultralytics) (3.7.1)\n",
      "Requirement already satisfied: opencv-python>=4.6.0 in /usr/local/lib/python3.10/dist-packages (from ultralytics) (4.8.0.76)\n",
      "Requirement already satisfied: pillow>=7.1.2 in /usr/local/lib/python3.10/dist-packages (from ultralytics) (9.4.0)\n",
      "Requirement already satisfied: pyyaml>=5.3.1 in /usr/local/lib/python3.10/dist-packages (from ultralytics) (6.0.1)\n",
      "Requirement already satisfied: requests>=2.23.0 in /usr/local/lib/python3.10/dist-packages (from ultralytics) (2.31.0)\n",
      "Requirement already satisfied: scipy>=1.4.1 in /usr/local/lib/python3.10/dist-packages (from ultralytics) (1.11.4)\n",
      "Requirement already satisfied: torch>=1.8.0 in /usr/local/lib/python3.10/dist-packages (from ultralytics) (2.2.1+cu121)\n",
      "Requirement already satisfied: torchvision>=0.9.0 in /usr/local/lib/python3.10/dist-packages (from ultralytics) (0.17.1+cu121)\n",
      "Requirement already satisfied: tqdm>=4.64.0 in /usr/local/lib/python3.10/dist-packages (from ultralytics) (4.66.4)\n",
      "Requirement already satisfied: psutil in /usr/local/lib/python3.10/dist-packages (from ultralytics) (5.9.5)\n",
      "Requirement already satisfied: py-cpuinfo in /usr/local/lib/python3.10/dist-packages (from ultralytics) (9.0.0)\n",
      "Collecting thop>=0.1.1 (from ultralytics)\n",
      "  Downloading thop-0.1.1.post2209072238-py3-none-any.whl (15 kB)\n",
      "Requirement already satisfied: pandas>=1.1.4 in /usr/local/lib/python3.10/dist-packages (from ultralytics) (2.0.3)\n",
      "Requirement already satisfied: seaborn>=0.11.0 in /usr/local/lib/python3.10/dist-packages (from ultralytics) (0.13.1)\n",
      "Requirement already satisfied: contourpy>=1.0.1 in /usr/local/lib/python3.10/dist-packages (from matplotlib>=3.3.0->ultralytics) (1.2.1)\n",
      "Requirement already satisfied: cycler>=0.10 in /usr/local/lib/python3.10/dist-packages (from matplotlib>=3.3.0->ultralytics) (0.12.1)\n",
      "Requirement already satisfied: fonttools>=4.22.0 in /usr/local/lib/python3.10/dist-packages (from matplotlib>=3.3.0->ultralytics) (4.51.0)\n",
      "Requirement already satisfied: kiwisolver>=1.0.1 in /usr/local/lib/python3.10/dist-packages (from matplotlib>=3.3.0->ultralytics) (1.4.5)\n",
      "Requirement already satisfied: numpy>=1.20 in /usr/local/lib/python3.10/dist-packages (from matplotlib>=3.3.0->ultralytics) (1.25.2)\n",
      "Requirement already satisfied: packaging>=20.0 in /usr/local/lib/python3.10/dist-packages (from matplotlib>=3.3.0->ultralytics) (24.0)\n",
      "Requirement already satisfied: pyparsing>=2.3.1 in /usr/local/lib/python3.10/dist-packages (from matplotlib>=3.3.0->ultralytics) (3.1.2)\n",
      "Requirement already satisfied: python-dateutil>=2.7 in /usr/local/lib/python3.10/dist-packages (from matplotlib>=3.3.0->ultralytics) (2.8.2)\n",
      "Requirement already satisfied: pytz>=2020.1 in /usr/local/lib/python3.10/dist-packages (from pandas>=1.1.4->ultralytics) (2023.4)\n",
      "Requirement already satisfied: tzdata>=2022.1 in /usr/local/lib/python3.10/dist-packages (from pandas>=1.1.4->ultralytics) (2024.1)\n",
      "Requirement already satisfied: charset-normalizer<4,>=2 in /usr/local/lib/python3.10/dist-packages (from requests>=2.23.0->ultralytics) (3.3.2)\n",
      "Requirement already satisfied: idna<4,>=2.5 in /usr/local/lib/python3.10/dist-packages (from requests>=2.23.0->ultralytics) (3.7)\n",
      "Requirement already satisfied: urllib3<3,>=1.21.1 in /usr/local/lib/python3.10/dist-packages (from requests>=2.23.0->ultralytics) (2.0.7)\n",
      "Requirement already satisfied: certifi>=2017.4.17 in /usr/local/lib/python3.10/dist-packages (from requests>=2.23.0->ultralytics) (2024.2.2)\n",
      "Requirement already satisfied: filelock in /usr/local/lib/python3.10/dist-packages (from torch>=1.8.0->ultralytics) (3.14.0)\n",
      "Requirement already satisfied: typing-extensions>=4.8.0 in /usr/local/lib/python3.10/dist-packages (from torch>=1.8.0->ultralytics) (4.11.0)\n",
      "Requirement already satisfied: sympy in /usr/local/lib/python3.10/dist-packages (from torch>=1.8.0->ultralytics) (1.12)\n",
      "Requirement already satisfied: networkx in /usr/local/lib/python3.10/dist-packages (from torch>=1.8.0->ultralytics) (3.3)\n",
      "Requirement already satisfied: jinja2 in /usr/local/lib/python3.10/dist-packages (from torch>=1.8.0->ultralytics) (3.1.4)\n",
      "Requirement already satisfied: fsspec in /usr/local/lib/python3.10/dist-packages (from torch>=1.8.0->ultralytics) (2023.6.0)\n",
      "Collecting nvidia-cuda-nvrtc-cu12==12.1.105 (from torch>=1.8.0->ultralytics)\n",
      "  Using cached nvidia_cuda_nvrtc_cu12-12.1.105-py3-none-manylinux1_x86_64.whl (23.7 MB)\n",
      "Collecting nvidia-cuda-runtime-cu12==12.1.105 (from torch>=1.8.0->ultralytics)\n",
      "  Using cached nvidia_cuda_runtime_cu12-12.1.105-py3-none-manylinux1_x86_64.whl (823 kB)\n",
      "Collecting nvidia-cuda-cupti-cu12==12.1.105 (from torch>=1.8.0->ultralytics)\n",
      "  Using cached nvidia_cuda_cupti_cu12-12.1.105-py3-none-manylinux1_x86_64.whl (14.1 MB)\n",
      "Collecting nvidia-cudnn-cu12==8.9.2.26 (from torch>=1.8.0->ultralytics)\n",
      "  Using cached nvidia_cudnn_cu12-8.9.2.26-py3-none-manylinux1_x86_64.whl (731.7 MB)\n",
      "Collecting nvidia-cublas-cu12==12.1.3.1 (from torch>=1.8.0->ultralytics)\n",
      "  Using cached nvidia_cublas_cu12-12.1.3.1-py3-none-manylinux1_x86_64.whl (410.6 MB)\n",
      "Collecting nvidia-cufft-cu12==11.0.2.54 (from torch>=1.8.0->ultralytics)\n",
      "  Using cached nvidia_cufft_cu12-11.0.2.54-py3-none-manylinux1_x86_64.whl (121.6 MB)\n",
      "Collecting nvidia-curand-cu12==10.3.2.106 (from torch>=1.8.0->ultralytics)\n",
      "  Using cached nvidia_curand_cu12-10.3.2.106-py3-none-manylinux1_x86_64.whl (56.5 MB)\n",
      "Collecting nvidia-cusolver-cu12==11.4.5.107 (from torch>=1.8.0->ultralytics)\n",
      "  Using cached nvidia_cusolver_cu12-11.4.5.107-py3-none-manylinux1_x86_64.whl (124.2 MB)\n",
      "Collecting nvidia-cusparse-cu12==12.1.0.106 (from torch>=1.8.0->ultralytics)\n",
      "  Using cached nvidia_cusparse_cu12-12.1.0.106-py3-none-manylinux1_x86_64.whl (196.0 MB)\n",
      "Collecting nvidia-nccl-cu12==2.19.3 (from torch>=1.8.0->ultralytics)\n",
      "  Using cached nvidia_nccl_cu12-2.19.3-py3-none-manylinux1_x86_64.whl (166.0 MB)\n",
      "Collecting nvidia-nvtx-cu12==12.1.105 (from torch>=1.8.0->ultralytics)\n",
      "  Using cached nvidia_nvtx_cu12-12.1.105-py3-none-manylinux1_x86_64.whl (99 kB)\n",
      "Requirement already satisfied: triton==2.2.0 in /usr/local/lib/python3.10/dist-packages (from torch>=1.8.0->ultralytics) (2.2.0)\n",
      "Collecting nvidia-nvjitlink-cu12 (from nvidia-cusolver-cu12==11.4.5.107->torch>=1.8.0->ultralytics)\n",
      "  Using cached nvidia_nvjitlink_cu12-12.4.127-py3-none-manylinux2014_x86_64.whl (21.1 MB)\n",
      "Requirement already satisfied: six>=1.5 in /usr/local/lib/python3.10/dist-packages (from python-dateutil>=2.7->matplotlib>=3.3.0->ultralytics) (1.16.0)\n",
      "Requirement already satisfied: MarkupSafe>=2.0 in /usr/local/lib/python3.10/dist-packages (from jinja2->torch>=1.8.0->ultralytics) (2.1.5)\n",
      "Requirement already satisfied: mpmath>=0.19 in /usr/local/lib/python3.10/dist-packages (from sympy->torch>=1.8.0->ultralytics) (1.3.0)\n",
      "Installing collected packages: nvidia-nvtx-cu12, nvidia-nvjitlink-cu12, nvidia-nccl-cu12, nvidia-curand-cu12, nvidia-cufft-cu12, nvidia-cuda-runtime-cu12, nvidia-cuda-nvrtc-cu12, nvidia-cuda-cupti-cu12, nvidia-cublas-cu12, nvidia-cusparse-cu12, nvidia-cudnn-cu12, nvidia-cusolver-cu12, thop, ultralytics\n",
      "Successfully installed nvidia-cublas-cu12-12.1.3.1 nvidia-cuda-cupti-cu12-12.1.105 nvidia-cuda-nvrtc-cu12-12.1.105 nvidia-cuda-runtime-cu12-12.1.105 nvidia-cudnn-cu12-8.9.2.26 nvidia-cufft-cu12-11.0.2.54 nvidia-curand-cu12-10.3.2.106 nvidia-cusolver-cu12-11.4.5.107 nvidia-cusparse-cu12-12.1.0.106 nvidia-nccl-cu12-2.19.3 nvidia-nvjitlink-cu12-12.4.127 nvidia-nvtx-cu12-12.1.105 thop-0.1.1.post2209072238 ultralytics-8.2.18\n"
     ]
    }
   ],
   "source": [
    "!pip install ultralytics"
   ]
  },
  {
   "cell_type": "code",
   "execution_count": null,
   "metadata": {
    "id": "yYYAZ3M26VBc"
   },
   "outputs": [],
   "source": [
    "import cv2\n",
    "import os\n",
    "\n",
    "def video_to_frames_with_skipping(video_path, save_dir, start_skip_seconds=360, frame_interval=15):\n",
    "    \"\"\"\n",
    "    This function takes a video path as input, skips the specified initial seconds,\n",
    "    and then saves every nth frame to a specified directory.\n",
    "\n",
    "    Args:\n",
    "        video_path: The path to the video file.\n",
    "        save_dir: The directory to save the frames to.\n",
    "        start_skip_seconds: The number of seconds to skip at the beginning of the video.\n",
    "        frame_interval: The interval between frames to save (e.g., saving every 15th frame).\n",
    "    \"\"\"\n",
    "\n",
    "    # Create the save directory if it doesn't exist.\n",
    "    if not os.path.exists(save_dir):\n",
    "        os.makedirs(save_dir)\n",
    "\n",
    "    # Open the video file.\n",
    "    video = cv2.VideoCapture(video_path)\n",
    "\n",
    "    # Get the frame rate of the video.\n",
    "    fps = video.get(cv2.CAP_PROP_FPS)\n",
    "\n",
    "    # Calculate the number of frames to skip initially.\n",
    "    start_skip_frames = int(start_skip_seconds * fps)\n",
    "\n",
    "    # Skip the initial frames.\n",
    "    for _ in range(start_skip_frames):\n",
    "        video.read()\n",
    "\n",
    "    # Counter for saved frames.\n",
    "    frame_count = 0\n",
    "\n",
    "    # Loop through the remaining frames and save every nth frame.\n",
    "    while True:\n",
    "        ret, frame = video.read()\n",
    "        if not ret:\n",
    "            break\n",
    "\n",
    "        if frame_count % frame_interval == 0:\n",
    "            cv2.imwrite(os.path.join(save_dir, f\"frame_{frame_count}.jpg\"), frame)\n",
    "\n",
    "        frame_count += 1\n",
    "\n",
    "    # Release the video capture object.\n",
    "    video.release()\n",
    "\n",
    "# Example usage\n",
    "video_path = \"/content/drive/My Drive/wcdata/A5DEPSTAR-1.mp4\"\n",
    "save_dir = \"/content/drive/My Drive/wcdata/frames-A5Depstar\"\n",
    "\n",
    "video_to_frames_with_skipping(video_path, save_dir)\n"
   ]
  },
  {
   "cell_type": "code",
   "execution_count": null,
   "metadata": {
    "colab": {
     "base_uri": "https://localhost:8080/"
    },
    "executionInfo": {
     "elapsed": 29496,
     "status": "ok",
     "timestamp": 1710442450122,
     "user": {
      "displayName": "Harsh Maheshwari",
      "userId": "10425666184789192535"
     },
     "user_tz": -330
    },
    "id": "x2BrJFYGS309",
    "outputId": "def43772-c6ce-4e69-89ea-9d81c4fafd8c"
   },
   "outputs": [
    {
     "name": "stdout",
     "output_type": "stream",
     "text": [
      "Archive:  /content/drive/MyDrive/dataset/yolofinetuning.zip\n",
      "  inflating: /content/drive/MyDrive/dataset/yolofinetuning/yolo finetuning/data.yaml  \n",
      "  inflating: /content/drive/MyDrive/dataset/yolofinetuning/yolo finetuning/train.txt  \n",
      "   creating: /content/drive/MyDrive/dataset/yolofinetuning/yolo finetuning/train/\n",
      "   creating: /content/drive/MyDrive/dataset/yolofinetuning/yolo finetuning/train/images/\n",
      "  inflating: /content/drive/MyDrive/dataset/yolofinetuning/yolo finetuning/train/images/frame_0.jpg  \n",
      "  inflating: /content/drive/MyDrive/dataset/yolofinetuning/yolo finetuning/train/images/frame_10.jpg  \n",
      "  inflating: /content/drive/MyDrive/dataset/yolofinetuning/yolo finetuning/train/images/frame_100.jpg  \n",
      "  inflating: /content/drive/MyDrive/dataset/yolofinetuning/yolo finetuning/train/images/frame_1000.jpg  \n",
      "  inflating: /content/drive/MyDrive/dataset/yolofinetuning/yolo finetuning/train/images/frame_1002.jpg  \n",
      "  inflating: /content/drive/MyDrive/dataset/yolofinetuning/yolo finetuning/train/images/frame_1004.jpg  \n",
      "  inflating: /content/drive/MyDrive/dataset/yolofinetuning/yolo finetuning/train/images/frame_1006.jpg  \n",
      "  inflating: /content/drive/MyDrive/dataset/yolofinetuning/yolo finetuning/train/images/frame_1008.jpg  \n",
      "  inflating: /content/drive/MyDrive/dataset/yolofinetuning/yolo finetuning/train/images/frame_1010.jpg  \n",
      "  inflating: /content/drive/MyDrive/dataset/yolofinetuning/yolo finetuning/train/images/frame_1012.jpg  \n",
      "  inflating: /content/drive/MyDrive/dataset/yolofinetuning/yolo finetuning/train/images/frame_1014.jpg  \n",
      "  inflating: /content/drive/MyDrive/dataset/yolofinetuning/yolo finetuning/train/images/frame_1016.jpg  \n",
      "  inflating: /content/drive/MyDrive/dataset/yolofinetuning/yolo finetuning/train/images/frame_1018.jpg  \n",
      "  inflating: /content/drive/MyDrive/dataset/yolofinetuning/yolo finetuning/train/images/frame_102.jpg  \n",
      "  inflating: /content/drive/MyDrive/dataset/yolofinetuning/yolo finetuning/train/images/frame_1020.jpg  \n",
      "  inflating: /content/drive/MyDrive/dataset/yolofinetuning/yolo finetuning/train/images/frame_1022.jpg  \n",
      "  inflating: /content/drive/MyDrive/dataset/yolofinetuning/yolo finetuning/train/images/frame_1024.jpg  \n",
      "  inflating: /content/drive/MyDrive/dataset/yolofinetuning/yolo finetuning/train/images/frame_1026.jpg  \n",
      "  inflating: /content/drive/MyDrive/dataset/yolofinetuning/yolo finetuning/train/images/frame_1028.jpg  \n",
      "  inflating: /content/drive/MyDrive/dataset/yolofinetuning/yolo finetuning/train/images/frame_1030.jpg  \n",
      "  inflating: /content/drive/MyDrive/dataset/yolofinetuning/yolo finetuning/train/images/frame_1032.jpg  \n",
      "  inflating: /content/drive/MyDrive/dataset/yolofinetuning/yolo finetuning/train/images/frame_1034.jpg  \n",
      "  inflating: /content/drive/MyDrive/dataset/yolofinetuning/yolo finetuning/train/images/frame_1036.jpg  \n",
      "  inflating: /content/drive/MyDrive/dataset/yolofinetuning/yolo finetuning/train/images/frame_1038.jpg  \n",
      "  inflating: /content/drive/MyDrive/dataset/yolofinetuning/yolo finetuning/train/images/frame_104.jpg  \n",
      "  inflating: /content/drive/MyDrive/dataset/yolofinetuning/yolo finetuning/train/images/frame_1040.jpg  \n",
      "  inflating: /content/drive/MyDrive/dataset/yolofinetuning/yolo finetuning/train/images/frame_1042.jpg  \n",
      "  inflating: /content/drive/MyDrive/dataset/yolofinetuning/yolo finetuning/train/images/frame_1044.jpg  \n",
      "  inflating: /content/drive/MyDrive/dataset/yolofinetuning/yolo finetuning/train/images/frame_1046.jpg  \n",
      "  inflating: /content/drive/MyDrive/dataset/yolofinetuning/yolo finetuning/train/images/frame_1048.jpg  \n",
      "  inflating: /content/drive/MyDrive/dataset/yolofinetuning/yolo finetuning/train/images/frame_1050.jpg  \n",
      "  inflating: /content/drive/MyDrive/dataset/yolofinetuning/yolo finetuning/train/images/frame_1052.jpg  \n",
      "  inflating: /content/drive/MyDrive/dataset/yolofinetuning/yolo finetuning/train/images/frame_1054.jpg  \n",
      "  inflating: /content/drive/MyDrive/dataset/yolofinetuning/yolo finetuning/train/images/frame_1056.jpg  \n",
      "  inflating: /content/drive/MyDrive/dataset/yolofinetuning/yolo finetuning/train/images/frame_1058.jpg  \n",
      "  inflating: /content/drive/MyDrive/dataset/yolofinetuning/yolo finetuning/train/images/frame_106.jpg  \n",
      "  inflating: /content/drive/MyDrive/dataset/yolofinetuning/yolo finetuning/train/images/frame_1060.jpg  \n",
      "  inflating: /content/drive/MyDrive/dataset/yolofinetuning/yolo finetuning/train/images/frame_1062.jpg  \n",
      "  inflating: /content/drive/MyDrive/dataset/yolofinetuning/yolo finetuning/train/images/frame_1064.jpg  \n",
      "  inflating: /content/drive/MyDrive/dataset/yolofinetuning/yolo finetuning/train/images/frame_1066.jpg  \n",
      "  inflating: /content/drive/MyDrive/dataset/yolofinetuning/yolo finetuning/train/images/frame_1068.jpg  \n",
      "  inflating: /content/drive/MyDrive/dataset/yolofinetuning/yolo finetuning/train/images/frame_1070.jpg  \n",
      "  inflating: /content/drive/MyDrive/dataset/yolofinetuning/yolo finetuning/train/images/frame_1072.jpg  \n",
      "  inflating: /content/drive/MyDrive/dataset/yolofinetuning/yolo finetuning/train/images/frame_1074.jpg  \n",
      "  inflating: /content/drive/MyDrive/dataset/yolofinetuning/yolo finetuning/train/images/frame_1076.jpg  \n",
      "  inflating: /content/drive/MyDrive/dataset/yolofinetuning/yolo finetuning/train/images/frame_1078.jpg  \n",
      "  inflating: /content/drive/MyDrive/dataset/yolofinetuning/yolo finetuning/train/images/frame_108.jpg  \n",
      "  inflating: /content/drive/MyDrive/dataset/yolofinetuning/yolo finetuning/train/images/frame_1080.jpg  \n",
      "  inflating: /content/drive/MyDrive/dataset/yolofinetuning/yolo finetuning/train/images/frame_1082.jpg  \n",
      "  inflating: /content/drive/MyDrive/dataset/yolofinetuning/yolo finetuning/train/images/frame_1084.jpg  \n",
      "  inflating: /content/drive/MyDrive/dataset/yolofinetuning/yolo finetuning/train/images/frame_1086.jpg  \n",
      "  inflating: /content/drive/MyDrive/dataset/yolofinetuning/yolo finetuning/train/images/frame_1088.jpg  \n",
      "  inflating: /content/drive/MyDrive/dataset/yolofinetuning/yolo finetuning/train/images/frame_1090.jpg  \n",
      "  inflating: /content/drive/MyDrive/dataset/yolofinetuning/yolo finetuning/train/images/frame_1092.jpg  \n",
      "  inflating: /content/drive/MyDrive/dataset/yolofinetuning/yolo finetuning/train/images/frame_1094.jpg  \n",
      "  inflating: /content/drive/MyDrive/dataset/yolofinetuning/yolo finetuning/train/images/frame_1096.jpg  \n",
      "  inflating: /content/drive/MyDrive/dataset/yolofinetuning/yolo finetuning/train/images/frame_1098.jpg  \n",
      "  inflating: /content/drive/MyDrive/dataset/yolofinetuning/yolo finetuning/train/images/frame_110.jpg  \n",
      "  inflating: /content/drive/MyDrive/dataset/yolofinetuning/yolo finetuning/train/images/frame_1100.jpg  \n",
      "  inflating: /content/drive/MyDrive/dataset/yolofinetuning/yolo finetuning/train/images/frame_1102.jpg  \n",
      "  inflating: /content/drive/MyDrive/dataset/yolofinetuning/yolo finetuning/train/images/frame_1104.jpg  \n",
      "  inflating: /content/drive/MyDrive/dataset/yolofinetuning/yolo finetuning/train/images/frame_1106.jpg  \n",
      "  inflating: /content/drive/MyDrive/dataset/yolofinetuning/yolo finetuning/train/images/frame_1108.jpg  \n",
      "  inflating: /content/drive/MyDrive/dataset/yolofinetuning/yolo finetuning/train/images/frame_1110.jpg  \n",
      "  inflating: /content/drive/MyDrive/dataset/yolofinetuning/yolo finetuning/train/images/frame_1112.jpg  \n",
      "  inflating: /content/drive/MyDrive/dataset/yolofinetuning/yolo finetuning/train/images/frame_1114.jpg  \n",
      "  inflating: /content/drive/MyDrive/dataset/yolofinetuning/yolo finetuning/train/images/frame_1116.jpg  \n",
      "  inflating: /content/drive/MyDrive/dataset/yolofinetuning/yolo finetuning/train/images/frame_1118.jpg  \n",
      "  inflating: /content/drive/MyDrive/dataset/yolofinetuning/yolo finetuning/train/images/frame_112.jpg  \n",
      "  inflating: /content/drive/MyDrive/dataset/yolofinetuning/yolo finetuning/train/images/frame_1120.jpg  \n",
      "  inflating: /content/drive/MyDrive/dataset/yolofinetuning/yolo finetuning/train/images/frame_1122.jpg  \n",
      "  inflating: /content/drive/MyDrive/dataset/yolofinetuning/yolo finetuning/train/images/frame_1124.jpg  \n",
      "  inflating: /content/drive/MyDrive/dataset/yolofinetuning/yolo finetuning/train/images/frame_1126.jpg  \n",
      "  inflating: /content/drive/MyDrive/dataset/yolofinetuning/yolo finetuning/train/images/frame_1128.jpg  \n",
      "  inflating: /content/drive/MyDrive/dataset/yolofinetuning/yolo finetuning/train/images/frame_1130.jpg  \n",
      "  inflating: /content/drive/MyDrive/dataset/yolofinetuning/yolo finetuning/train/images/frame_1132.jpg  \n",
      "  inflating: /content/drive/MyDrive/dataset/yolofinetuning/yolo finetuning/train/images/frame_1134.jpg  \n",
      "  inflating: /content/drive/MyDrive/dataset/yolofinetuning/yolo finetuning/train/images/frame_1136.jpg  \n",
      "  inflating: /content/drive/MyDrive/dataset/yolofinetuning/yolo finetuning/train/images/frame_1138.jpg  \n",
      "  inflating: /content/drive/MyDrive/dataset/yolofinetuning/yolo finetuning/train/images/frame_114.jpg  \n",
      "  inflating: /content/drive/MyDrive/dataset/yolofinetuning/yolo finetuning/train/images/frame_1140.jpg  \n",
      "  inflating: /content/drive/MyDrive/dataset/yolofinetuning/yolo finetuning/train/images/frame_1142.jpg  \n",
      "  inflating: /content/drive/MyDrive/dataset/yolofinetuning/yolo finetuning/train/images/frame_1144.jpg  \n",
      "  inflating: /content/drive/MyDrive/dataset/yolofinetuning/yolo finetuning/train/images/frame_1146.jpg  \n",
      "  inflating: /content/drive/MyDrive/dataset/yolofinetuning/yolo finetuning/train/images/frame_1148.jpg  \n",
      "  inflating: /content/drive/MyDrive/dataset/yolofinetuning/yolo finetuning/train/images/frame_1150.jpg  \n",
      "  inflating: /content/drive/MyDrive/dataset/yolofinetuning/yolo finetuning/train/images/frame_1152.jpg  \n",
      "  inflating: /content/drive/MyDrive/dataset/yolofinetuning/yolo finetuning/train/images/frame_1154.jpg  \n",
      "  inflating: /content/drive/MyDrive/dataset/yolofinetuning/yolo finetuning/train/images/frame_1156.jpg  \n",
      "  inflating: /content/drive/MyDrive/dataset/yolofinetuning/yolo finetuning/train/images/frame_1158.jpg  \n",
      "  inflating: /content/drive/MyDrive/dataset/yolofinetuning/yolo finetuning/train/images/frame_116.jpg  \n",
      "  inflating: /content/drive/MyDrive/dataset/yolofinetuning/yolo finetuning/train/images/frame_1160.jpg  \n",
      "  inflating: /content/drive/MyDrive/dataset/yolofinetuning/yolo finetuning/train/images/frame_1162.jpg  \n",
      "  inflating: /content/drive/MyDrive/dataset/yolofinetuning/yolo finetuning/train/images/frame_1164.jpg  \n",
      "  inflating: /content/drive/MyDrive/dataset/yolofinetuning/yolo finetuning/train/images/frame_1166.jpg  \n",
      "  inflating: /content/drive/MyDrive/dataset/yolofinetuning/yolo finetuning/train/images/frame_1168.jpg  \n",
      "  inflating: /content/drive/MyDrive/dataset/yolofinetuning/yolo finetuning/train/images/frame_1170.jpg  \n",
      "  inflating: /content/drive/MyDrive/dataset/yolofinetuning/yolo finetuning/train/images/frame_1172.jpg  \n",
      "  inflating: /content/drive/MyDrive/dataset/yolofinetuning/yolo finetuning/train/images/frame_1174.jpg  \n",
      "  inflating: /content/drive/MyDrive/dataset/yolofinetuning/yolo finetuning/train/images/frame_1176.jpg  \n",
      "  inflating: /content/drive/MyDrive/dataset/yolofinetuning/yolo finetuning/train/images/frame_1178.jpg  \n",
      "  inflating: /content/drive/MyDrive/dataset/yolofinetuning/yolo finetuning/train/images/frame_118.jpg  \n",
      "  inflating: /content/drive/MyDrive/dataset/yolofinetuning/yolo finetuning/train/images/frame_1180.jpg  \n",
      "  inflating: /content/drive/MyDrive/dataset/yolofinetuning/yolo finetuning/train/images/frame_1182.jpg  \n",
      "  inflating: /content/drive/MyDrive/dataset/yolofinetuning/yolo finetuning/train/images/frame_1184.jpg  \n",
      "  inflating: /content/drive/MyDrive/dataset/yolofinetuning/yolo finetuning/train/images/frame_1186.jpg  \n",
      "  inflating: /content/drive/MyDrive/dataset/yolofinetuning/yolo finetuning/train/images/frame_1188.jpg  \n",
      "  inflating: /content/drive/MyDrive/dataset/yolofinetuning/yolo finetuning/train/images/frame_1190.jpg  \n",
      "  inflating: /content/drive/MyDrive/dataset/yolofinetuning/yolo finetuning/train/images/frame_1192.jpg  \n",
      "  inflating: /content/drive/MyDrive/dataset/yolofinetuning/yolo finetuning/train/images/frame_1194.jpg  \n",
      "  inflating: /content/drive/MyDrive/dataset/yolofinetuning/yolo finetuning/train/images/frame_1196.jpg  \n",
      "  inflating: /content/drive/MyDrive/dataset/yolofinetuning/yolo finetuning/train/images/frame_1198.jpg  \n",
      "  inflating: /content/drive/MyDrive/dataset/yolofinetuning/yolo finetuning/train/images/frame_12.jpg  \n",
      "  inflating: /content/drive/MyDrive/dataset/yolofinetuning/yolo finetuning/train/images/frame_120.jpg  \n",
      "  inflating: /content/drive/MyDrive/dataset/yolofinetuning/yolo finetuning/train/images/frame_1200.jpg  \n",
      "  inflating: /content/drive/MyDrive/dataset/yolofinetuning/yolo finetuning/train/images/frame_1202.jpg  \n",
      "  inflating: /content/drive/MyDrive/dataset/yolofinetuning/yolo finetuning/train/images/frame_1204.jpg  \n",
      "  inflating: /content/drive/MyDrive/dataset/yolofinetuning/yolo finetuning/train/images/frame_1206.jpg  \n",
      "  inflating: /content/drive/MyDrive/dataset/yolofinetuning/yolo finetuning/train/images/frame_1208.jpg  \n",
      "  inflating: /content/drive/MyDrive/dataset/yolofinetuning/yolo finetuning/train/images/frame_1210.jpg  \n",
      "  inflating: /content/drive/MyDrive/dataset/yolofinetuning/yolo finetuning/train/images/frame_1212.jpg  \n",
      "  inflating: /content/drive/MyDrive/dataset/yolofinetuning/yolo finetuning/train/images/frame_1214.jpg  \n",
      "  inflating: /content/drive/MyDrive/dataset/yolofinetuning/yolo finetuning/train/images/frame_1216.jpg  \n",
      "  inflating: /content/drive/MyDrive/dataset/yolofinetuning/yolo finetuning/train/images/frame_1218.jpg  \n",
      "  inflating: /content/drive/MyDrive/dataset/yolofinetuning/yolo finetuning/train/images/frame_122.jpg  \n",
      "  inflating: /content/drive/MyDrive/dataset/yolofinetuning/yolo finetuning/train/images/frame_1220.jpg  \n",
      "  inflating: /content/drive/MyDrive/dataset/yolofinetuning/yolo finetuning/train/images/frame_1222.jpg  \n",
      "  inflating: /content/drive/MyDrive/dataset/yolofinetuning/yolo finetuning/train/images/frame_1224.jpg  \n",
      "  inflating: /content/drive/MyDrive/dataset/yolofinetuning/yolo finetuning/train/images/frame_1226.jpg  \n",
      "  inflating: /content/drive/MyDrive/dataset/yolofinetuning/yolo finetuning/train/images/frame_1228.jpg  \n",
      "  inflating: /content/drive/MyDrive/dataset/yolofinetuning/yolo finetuning/train/images/frame_1230.jpg  \n",
      "  inflating: /content/drive/MyDrive/dataset/yolofinetuning/yolo finetuning/train/images/frame_1232.jpg  \n",
      "  inflating: /content/drive/MyDrive/dataset/yolofinetuning/yolo finetuning/train/images/frame_1234.jpg  \n",
      "  inflating: /content/drive/MyDrive/dataset/yolofinetuning/yolo finetuning/train/images/frame_1236.jpg  \n",
      "  inflating: /content/drive/MyDrive/dataset/yolofinetuning/yolo finetuning/train/images/frame_1238.jpg  \n",
      "  inflating: /content/drive/MyDrive/dataset/yolofinetuning/yolo finetuning/train/images/frame_124.jpg  \n",
      "  inflating: /content/drive/MyDrive/dataset/yolofinetuning/yolo finetuning/train/images/frame_1240.jpg  \n",
      "  inflating: /content/drive/MyDrive/dataset/yolofinetuning/yolo finetuning/train/images/frame_1242.jpg  \n",
      "  inflating: /content/drive/MyDrive/dataset/yolofinetuning/yolo finetuning/train/images/frame_1244.jpg  \n",
      "  inflating: /content/drive/MyDrive/dataset/yolofinetuning/yolo finetuning/train/images/frame_1246.jpg  \n",
      "  inflating: /content/drive/MyDrive/dataset/yolofinetuning/yolo finetuning/train/images/frame_1248.jpg  \n",
      "  inflating: /content/drive/MyDrive/dataset/yolofinetuning/yolo finetuning/train/images/frame_1250.jpg  \n",
      "  inflating: /content/drive/MyDrive/dataset/yolofinetuning/yolo finetuning/train/images/frame_1252.jpg  \n",
      "  inflating: /content/drive/MyDrive/dataset/yolofinetuning/yolo finetuning/train/images/frame_1254.jpg  \n",
      "  inflating: /content/drive/MyDrive/dataset/yolofinetuning/yolo finetuning/train/images/frame_1256.jpg  \n",
      "  inflating: /content/drive/MyDrive/dataset/yolofinetuning/yolo finetuning/train/images/frame_1258.jpg  \n",
      "  inflating: /content/drive/MyDrive/dataset/yolofinetuning/yolo finetuning/train/images/frame_126.jpg  \n",
      "  inflating: /content/drive/MyDrive/dataset/yolofinetuning/yolo finetuning/train/images/frame_1260.jpg  \n",
      "  inflating: /content/drive/MyDrive/dataset/yolofinetuning/yolo finetuning/train/images/frame_1262.jpg  \n",
      "  inflating: /content/drive/MyDrive/dataset/yolofinetuning/yolo finetuning/train/images/frame_1264.jpg  \n",
      "  inflating: /content/drive/MyDrive/dataset/yolofinetuning/yolo finetuning/train/images/frame_1266.jpg  \n",
      "  inflating: /content/drive/MyDrive/dataset/yolofinetuning/yolo finetuning/train/images/frame_1268.jpg  \n",
      "  inflating: /content/drive/MyDrive/dataset/yolofinetuning/yolo finetuning/train/images/frame_1270.jpg  \n",
      "  inflating: /content/drive/MyDrive/dataset/yolofinetuning/yolo finetuning/train/images/frame_1272.jpg  \n",
      "  inflating: /content/drive/MyDrive/dataset/yolofinetuning/yolo finetuning/train/images/frame_1274.jpg  \n",
      "  inflating: /content/drive/MyDrive/dataset/yolofinetuning/yolo finetuning/train/images/frame_1276.jpg  \n",
      "  inflating: /content/drive/MyDrive/dataset/yolofinetuning/yolo finetuning/train/images/frame_1278.jpg  \n",
      "  inflating: /content/drive/MyDrive/dataset/yolofinetuning/yolo finetuning/train/images/frame_128.jpg  \n",
      "  inflating: /content/drive/MyDrive/dataset/yolofinetuning/yolo finetuning/train/images/frame_1280.jpg  \n",
      "  inflating: /content/drive/MyDrive/dataset/yolofinetuning/yolo finetuning/train/images/frame_1282.jpg  \n",
      "  inflating: /content/drive/MyDrive/dataset/yolofinetuning/yolo finetuning/train/images/frame_1284.jpg  \n",
      "  inflating: /content/drive/MyDrive/dataset/yolofinetuning/yolo finetuning/train/images/frame_1286.jpg  \n",
      "  inflating: /content/drive/MyDrive/dataset/yolofinetuning/yolo finetuning/train/images/frame_1288.jpg  \n",
      "  inflating: /content/drive/MyDrive/dataset/yolofinetuning/yolo finetuning/train/images/frame_1290.jpg  \n",
      "  inflating: /content/drive/MyDrive/dataset/yolofinetuning/yolo finetuning/train/images/frame_1292.jpg  \n",
      "  inflating: /content/drive/MyDrive/dataset/yolofinetuning/yolo finetuning/train/images/frame_1294.jpg  \n",
      "  inflating: /content/drive/MyDrive/dataset/yolofinetuning/yolo finetuning/train/images/frame_1296.jpg  \n",
      "  inflating: /content/drive/MyDrive/dataset/yolofinetuning/yolo finetuning/train/images/frame_1298.jpg  \n",
      "  inflating: /content/drive/MyDrive/dataset/yolofinetuning/yolo finetuning/train/images/frame_130.jpg  \n",
      "  inflating: /content/drive/MyDrive/dataset/yolofinetuning/yolo finetuning/train/images/frame_1300.jpg  \n",
      "  inflating: /content/drive/MyDrive/dataset/yolofinetuning/yolo finetuning/train/images/frame_1302.jpg  \n",
      "  inflating: /content/drive/MyDrive/dataset/yolofinetuning/yolo finetuning/train/images/frame_1304.jpg  \n",
      "  inflating: /content/drive/MyDrive/dataset/yolofinetuning/yolo finetuning/train/images/frame_1306.jpg  \n",
      "  inflating: /content/drive/MyDrive/dataset/yolofinetuning/yolo finetuning/train/images/frame_1308.jpg  \n",
      "  inflating: /content/drive/MyDrive/dataset/yolofinetuning/yolo finetuning/train/images/frame_1310.jpg  \n",
      "  inflating: /content/drive/MyDrive/dataset/yolofinetuning/yolo finetuning/train/images/frame_1312.jpg  \n",
      "  inflating: /content/drive/MyDrive/dataset/yolofinetuning/yolo finetuning/train/images/frame_1314.jpg  \n",
      "  inflating: /content/drive/MyDrive/dataset/yolofinetuning/yolo finetuning/train/images/frame_1316.jpg  \n",
      "  inflating: /content/drive/MyDrive/dataset/yolofinetuning/yolo finetuning/train/images/frame_1318.jpg  \n",
      "  inflating: /content/drive/MyDrive/dataset/yolofinetuning/yolo finetuning/train/images/frame_132.jpg  \n",
      "  inflating: /content/drive/MyDrive/dataset/yolofinetuning/yolo finetuning/train/images/frame_1320.jpg  \n",
      "  inflating: /content/drive/MyDrive/dataset/yolofinetuning/yolo finetuning/train/images/frame_1322.jpg  \n",
      "  inflating: /content/drive/MyDrive/dataset/yolofinetuning/yolo finetuning/train/images/frame_1324.jpg  \n",
      "  inflating: /content/drive/MyDrive/dataset/yolofinetuning/yolo finetuning/train/images/frame_1326.jpg  \n",
      "  inflating: /content/drive/MyDrive/dataset/yolofinetuning/yolo finetuning/train/images/frame_1328.jpg  \n",
      "  inflating: /content/drive/MyDrive/dataset/yolofinetuning/yolo finetuning/train/images/frame_1330.jpg  \n",
      "  inflating: /content/drive/MyDrive/dataset/yolofinetuning/yolo finetuning/train/images/frame_1332.jpg  \n",
      "  inflating: /content/drive/MyDrive/dataset/yolofinetuning/yolo finetuning/train/images/frame_1334.jpg  \n",
      "  inflating: /content/drive/MyDrive/dataset/yolofinetuning/yolo finetuning/train/images/frame_1336.jpg  \n",
      "  inflating: /content/drive/MyDrive/dataset/yolofinetuning/yolo finetuning/train/images/frame_1338.jpg  \n",
      "  inflating: /content/drive/MyDrive/dataset/yolofinetuning/yolo finetuning/train/images/frame_134.jpg  \n",
      "  inflating: /content/drive/MyDrive/dataset/yolofinetuning/yolo finetuning/train/images/frame_1340.jpg  \n",
      "  inflating: /content/drive/MyDrive/dataset/yolofinetuning/yolo finetuning/train/images/frame_1342.jpg  \n",
      "  inflating: /content/drive/MyDrive/dataset/yolofinetuning/yolo finetuning/train/images/frame_1344.jpg  \n",
      "  inflating: /content/drive/MyDrive/dataset/yolofinetuning/yolo finetuning/train/images/frame_1346.jpg  \n",
      "  inflating: /content/drive/MyDrive/dataset/yolofinetuning/yolo finetuning/train/images/frame_1348.jpg  \n",
      "  inflating: /content/drive/MyDrive/dataset/yolofinetuning/yolo finetuning/train/images/frame_1350.jpg  \n",
      "  inflating: /content/drive/MyDrive/dataset/yolofinetuning/yolo finetuning/train/images/frame_1352.jpg  \n",
      "  inflating: /content/drive/MyDrive/dataset/yolofinetuning/yolo finetuning/train/images/frame_1354.jpg  \n",
      "  inflating: /content/drive/MyDrive/dataset/yolofinetuning/yolo finetuning/train/images/frame_1356.jpg  \n",
      "  inflating: /content/drive/MyDrive/dataset/yolofinetuning/yolo finetuning/train/images/frame_1358.jpg  \n",
      "  inflating: /content/drive/MyDrive/dataset/yolofinetuning/yolo finetuning/train/images/frame_136.jpg  \n",
      "  inflating: /content/drive/MyDrive/dataset/yolofinetuning/yolo finetuning/train/images/frame_1360.jpg  \n",
      "  inflating: /content/drive/MyDrive/dataset/yolofinetuning/yolo finetuning/train/images/frame_1362.jpg  \n",
      "  inflating: /content/drive/MyDrive/dataset/yolofinetuning/yolo finetuning/train/images/frame_1364.jpg  \n",
      "  inflating: /content/drive/MyDrive/dataset/yolofinetuning/yolo finetuning/train/images/frame_1366.jpg  \n",
      "  inflating: /content/drive/MyDrive/dataset/yolofinetuning/yolo finetuning/train/images/frame_1368.jpg  \n",
      "  inflating: /content/drive/MyDrive/dataset/yolofinetuning/yolo finetuning/train/images/frame_1370.jpg  \n",
      "  inflating: /content/drive/MyDrive/dataset/yolofinetuning/yolo finetuning/train/images/frame_1372.jpg  \n",
      "  inflating: /content/drive/MyDrive/dataset/yolofinetuning/yolo finetuning/train/images/frame_1374.jpg  \n",
      "  inflating: /content/drive/MyDrive/dataset/yolofinetuning/yolo finetuning/train/images/frame_1376.jpg  \n",
      "  inflating: /content/drive/MyDrive/dataset/yolofinetuning/yolo finetuning/train/images/frame_1378.jpg  \n",
      "  inflating: /content/drive/MyDrive/dataset/yolofinetuning/yolo finetuning/train/images/frame_138.jpg  \n",
      "  inflating: /content/drive/MyDrive/dataset/yolofinetuning/yolo finetuning/train/images/frame_1380.jpg  \n",
      "  inflating: /content/drive/MyDrive/dataset/yolofinetuning/yolo finetuning/train/images/frame_1382.jpg  \n",
      "  inflating: /content/drive/MyDrive/dataset/yolofinetuning/yolo finetuning/train/images/frame_1384.jpg  \n",
      "  inflating: /content/drive/MyDrive/dataset/yolofinetuning/yolo finetuning/train/images/frame_1386.jpg  \n",
      "  inflating: /content/drive/MyDrive/dataset/yolofinetuning/yolo finetuning/train/images/frame_1388.jpg  \n",
      "  inflating: /content/drive/MyDrive/dataset/yolofinetuning/yolo finetuning/train/images/frame_1390.jpg  \n",
      "  inflating: /content/drive/MyDrive/dataset/yolofinetuning/yolo finetuning/train/images/frame_1392.jpg  \n",
      "  inflating: /content/drive/MyDrive/dataset/yolofinetuning/yolo finetuning/train/images/frame_1394.jpg  \n",
      "  inflating: /content/drive/MyDrive/dataset/yolofinetuning/yolo finetuning/train/images/frame_1396.jpg  \n",
      "  inflating: /content/drive/MyDrive/dataset/yolofinetuning/yolo finetuning/train/images/frame_1398.jpg  \n",
      "  inflating: /content/drive/MyDrive/dataset/yolofinetuning/yolo finetuning/train/images/frame_14.jpg  \n",
      "  inflating: /content/drive/MyDrive/dataset/yolofinetuning/yolo finetuning/train/images/frame_140.jpg  \n",
      "  inflating: /content/drive/MyDrive/dataset/yolofinetuning/yolo finetuning/train/images/frame_1400.jpg  \n",
      "  inflating: /content/drive/MyDrive/dataset/yolofinetuning/yolo finetuning/train/images/frame_142.jpg  \n",
      "  inflating: /content/drive/MyDrive/dataset/yolofinetuning/yolo finetuning/train/images/frame_144.jpg  \n",
      "  inflating: /content/drive/MyDrive/dataset/yolofinetuning/yolo finetuning/train/images/frame_146.jpg  \n",
      "  inflating: /content/drive/MyDrive/dataset/yolofinetuning/yolo finetuning/train/images/frame_148.jpg  \n",
      "  inflating: /content/drive/MyDrive/dataset/yolofinetuning/yolo finetuning/train/images/frame_150.jpg  \n",
      "  inflating: /content/drive/MyDrive/dataset/yolofinetuning/yolo finetuning/train/images/frame_152.jpg  \n",
      "  inflating: /content/drive/MyDrive/dataset/yolofinetuning/yolo finetuning/train/images/frame_154.jpg  \n",
      "  inflating: /content/drive/MyDrive/dataset/yolofinetuning/yolo finetuning/train/images/frame_156.jpg  \n",
      "  inflating: /content/drive/MyDrive/dataset/yolofinetuning/yolo finetuning/train/images/frame_158.jpg  \n",
      "  inflating: /content/drive/MyDrive/dataset/yolofinetuning/yolo finetuning/train/images/frame_16.jpg  \n",
      "  inflating: /content/drive/MyDrive/dataset/yolofinetuning/yolo finetuning/train/images/frame_160.jpg  \n",
      "  inflating: /content/drive/MyDrive/dataset/yolofinetuning/yolo finetuning/train/images/frame_162.jpg  \n",
      "  inflating: /content/drive/MyDrive/dataset/yolofinetuning/yolo finetuning/train/images/frame_164.jpg  \n",
      "  inflating: /content/drive/MyDrive/dataset/yolofinetuning/yolo finetuning/train/images/frame_166.jpg  \n",
      "  inflating: /content/drive/MyDrive/dataset/yolofinetuning/yolo finetuning/train/images/frame_168.jpg  \n",
      "  inflating: /content/drive/MyDrive/dataset/yolofinetuning/yolo finetuning/train/images/frame_170.jpg  \n",
      "  inflating: /content/drive/MyDrive/dataset/yolofinetuning/yolo finetuning/train/images/frame_172.jpg  \n",
      "  inflating: /content/drive/MyDrive/dataset/yolofinetuning/yolo finetuning/train/images/frame_174.jpg  \n",
      "  inflating: /content/drive/MyDrive/dataset/yolofinetuning/yolo finetuning/train/images/frame_176.jpg  \n",
      "  inflating: /content/drive/MyDrive/dataset/yolofinetuning/yolo finetuning/train/images/frame_178.jpg  \n",
      "  inflating: /content/drive/MyDrive/dataset/yolofinetuning/yolo finetuning/train/images/frame_18.jpg  \n",
      "  inflating: /content/drive/MyDrive/dataset/yolofinetuning/yolo finetuning/train/images/frame_180.jpg  \n",
      "  inflating: /content/drive/MyDrive/dataset/yolofinetuning/yolo finetuning/train/images/frame_182.jpg  \n",
      "  inflating: /content/drive/MyDrive/dataset/yolofinetuning/yolo finetuning/train/images/frame_184.jpg  \n",
      "  inflating: /content/drive/MyDrive/dataset/yolofinetuning/yolo finetuning/train/images/frame_186.jpg  \n",
      "  inflating: /content/drive/MyDrive/dataset/yolofinetuning/yolo finetuning/train/images/frame_188.jpg  \n",
      "  inflating: /content/drive/MyDrive/dataset/yolofinetuning/yolo finetuning/train/images/frame_190.jpg  \n",
      "  inflating: /content/drive/MyDrive/dataset/yolofinetuning/yolo finetuning/train/images/frame_192.jpg  \n",
      "  inflating: /content/drive/MyDrive/dataset/yolofinetuning/yolo finetuning/train/images/frame_194.jpg  \n",
      "  inflating: /content/drive/MyDrive/dataset/yolofinetuning/yolo finetuning/train/images/frame_196.jpg  \n",
      "  inflating: /content/drive/MyDrive/dataset/yolofinetuning/yolo finetuning/train/images/frame_198.jpg  \n",
      "  inflating: /content/drive/MyDrive/dataset/yolofinetuning/yolo finetuning/train/images/frame_2.jpg  \n",
      "  inflating: /content/drive/MyDrive/dataset/yolofinetuning/yolo finetuning/train/images/frame_20.jpg  \n",
      "  inflating: /content/drive/MyDrive/dataset/yolofinetuning/yolo finetuning/train/images/frame_200.jpg  \n",
      "  inflating: /content/drive/MyDrive/dataset/yolofinetuning/yolo finetuning/train/images/frame_202.jpg  \n",
      "  inflating: /content/drive/MyDrive/dataset/yolofinetuning/yolo finetuning/train/images/frame_204.jpg  \n",
      "  inflating: /content/drive/MyDrive/dataset/yolofinetuning/yolo finetuning/train/images/frame_206.jpg  \n",
      "  inflating: /content/drive/MyDrive/dataset/yolofinetuning/yolo finetuning/train/images/frame_208.jpg  \n",
      "  inflating: /content/drive/MyDrive/dataset/yolofinetuning/yolo finetuning/train/images/frame_210.jpg  \n",
      "  inflating: /content/drive/MyDrive/dataset/yolofinetuning/yolo finetuning/train/images/frame_212.jpg  \n",
      "  inflating: /content/drive/MyDrive/dataset/yolofinetuning/yolo finetuning/train/images/frame_214.jpg  \n",
      "  inflating: /content/drive/MyDrive/dataset/yolofinetuning/yolo finetuning/train/images/frame_216.jpg  \n",
      "  inflating: /content/drive/MyDrive/dataset/yolofinetuning/yolo finetuning/train/images/frame_218.jpg  \n",
      "  inflating: /content/drive/MyDrive/dataset/yolofinetuning/yolo finetuning/train/images/frame_22.jpg  \n",
      "  inflating: /content/drive/MyDrive/dataset/yolofinetuning/yolo finetuning/train/images/frame_220.jpg  \n",
      "  inflating: /content/drive/MyDrive/dataset/yolofinetuning/yolo finetuning/train/images/frame_222.jpg  \n",
      "  inflating: /content/drive/MyDrive/dataset/yolofinetuning/yolo finetuning/train/images/frame_224.jpg  \n",
      "  inflating: /content/drive/MyDrive/dataset/yolofinetuning/yolo finetuning/train/images/frame_226.jpg  \n",
      "  inflating: /content/drive/MyDrive/dataset/yolofinetuning/yolo finetuning/train/images/frame_228.jpg  \n",
      "  inflating: /content/drive/MyDrive/dataset/yolofinetuning/yolo finetuning/train/images/frame_230.jpg  \n",
      "  inflating: /content/drive/MyDrive/dataset/yolofinetuning/yolo finetuning/train/images/frame_232.jpg  \n",
      "  inflating: /content/drive/MyDrive/dataset/yolofinetuning/yolo finetuning/train/images/frame_234.jpg  \n",
      "  inflating: /content/drive/MyDrive/dataset/yolofinetuning/yolo finetuning/train/images/frame_236.jpg  \n",
      "  inflating: /content/drive/MyDrive/dataset/yolofinetuning/yolo finetuning/train/images/frame_238.jpg  \n",
      "  inflating: /content/drive/MyDrive/dataset/yolofinetuning/yolo finetuning/train/images/frame_24.jpg  \n",
      "  inflating: /content/drive/MyDrive/dataset/yolofinetuning/yolo finetuning/train/images/frame_240.jpg  \n",
      "  inflating: /content/drive/MyDrive/dataset/yolofinetuning/yolo finetuning/train/images/frame_242.jpg  \n",
      "  inflating: /content/drive/MyDrive/dataset/yolofinetuning/yolo finetuning/train/images/frame_244.jpg  \n",
      "  inflating: /content/drive/MyDrive/dataset/yolofinetuning/yolo finetuning/train/images/frame_246.jpg  \n",
      "  inflating: /content/drive/MyDrive/dataset/yolofinetuning/yolo finetuning/train/images/frame_248.jpg  \n",
      "  inflating: /content/drive/MyDrive/dataset/yolofinetuning/yolo finetuning/train/images/frame_250.jpg  \n",
      "  inflating: /content/drive/MyDrive/dataset/yolofinetuning/yolo finetuning/train/images/frame_252.jpg  \n",
      "  inflating: /content/drive/MyDrive/dataset/yolofinetuning/yolo finetuning/train/images/frame_254.jpg  \n",
      "  inflating: /content/drive/MyDrive/dataset/yolofinetuning/yolo finetuning/train/images/frame_256.jpg  \n",
      "  inflating: /content/drive/MyDrive/dataset/yolofinetuning/yolo finetuning/train/images/frame_258.jpg  \n",
      "  inflating: /content/drive/MyDrive/dataset/yolofinetuning/yolo finetuning/train/images/frame_26.jpg  \n",
      "  inflating: /content/drive/MyDrive/dataset/yolofinetuning/yolo finetuning/train/images/frame_260.jpg  \n",
      "  inflating: /content/drive/MyDrive/dataset/yolofinetuning/yolo finetuning/train/images/frame_262.jpg  \n",
      "  inflating: /content/drive/MyDrive/dataset/yolofinetuning/yolo finetuning/train/images/frame_264.jpg  \n",
      "  inflating: /content/drive/MyDrive/dataset/yolofinetuning/yolo finetuning/train/images/frame_266.jpg  \n",
      "  inflating: /content/drive/MyDrive/dataset/yolofinetuning/yolo finetuning/train/images/frame_268.jpg  \n",
      "  inflating: /content/drive/MyDrive/dataset/yolofinetuning/yolo finetuning/train/images/frame_270.jpg  \n",
      "  inflating: /content/drive/MyDrive/dataset/yolofinetuning/yolo finetuning/train/images/frame_272.jpg  \n",
      "  inflating: /content/drive/MyDrive/dataset/yolofinetuning/yolo finetuning/train/images/frame_274.jpg  \n",
      "  inflating: /content/drive/MyDrive/dataset/yolofinetuning/yolo finetuning/train/images/frame_276.jpg  \n",
      "  inflating: /content/drive/MyDrive/dataset/yolofinetuning/yolo finetuning/train/images/frame_278.jpg  \n",
      "  inflating: /content/drive/MyDrive/dataset/yolofinetuning/yolo finetuning/train/images/frame_28.jpg  \n",
      "  inflating: /content/drive/MyDrive/dataset/yolofinetuning/yolo finetuning/train/images/frame_280.jpg  \n",
      "  inflating: /content/drive/MyDrive/dataset/yolofinetuning/yolo finetuning/train/images/frame_282.jpg  \n",
      "  inflating: /content/drive/MyDrive/dataset/yolofinetuning/yolo finetuning/train/images/frame_284.jpg  \n",
      "  inflating: /content/drive/MyDrive/dataset/yolofinetuning/yolo finetuning/train/images/frame_286.jpg  \n",
      "  inflating: /content/drive/MyDrive/dataset/yolofinetuning/yolo finetuning/train/images/frame_288.jpg  \n",
      "  inflating: /content/drive/MyDrive/dataset/yolofinetuning/yolo finetuning/train/images/frame_290.jpg  \n",
      "  inflating: /content/drive/MyDrive/dataset/yolofinetuning/yolo finetuning/train/images/frame_292.jpg  \n",
      "  inflating: /content/drive/MyDrive/dataset/yolofinetuning/yolo finetuning/train/images/frame_294.jpg  \n",
      "  inflating: /content/drive/MyDrive/dataset/yolofinetuning/yolo finetuning/train/images/frame_296.jpg  \n",
      "  inflating: /content/drive/MyDrive/dataset/yolofinetuning/yolo finetuning/train/images/frame_298.jpg  \n",
      "  inflating: /content/drive/MyDrive/dataset/yolofinetuning/yolo finetuning/train/images/frame_30.jpg  \n",
      "  inflating: /content/drive/MyDrive/dataset/yolofinetuning/yolo finetuning/train/images/frame_300.jpg  \n",
      "  inflating: /content/drive/MyDrive/dataset/yolofinetuning/yolo finetuning/train/images/frame_302.jpg  \n",
      "  inflating: /content/drive/MyDrive/dataset/yolofinetuning/yolo finetuning/train/images/frame_304.jpg  \n",
      "  inflating: /content/drive/MyDrive/dataset/yolofinetuning/yolo finetuning/train/images/frame_306.jpg  \n",
      "  inflating: /content/drive/MyDrive/dataset/yolofinetuning/yolo finetuning/train/images/frame_308.jpg  \n",
      "  inflating: /content/drive/MyDrive/dataset/yolofinetuning/yolo finetuning/train/images/frame_310.jpg  \n",
      "  inflating: /content/drive/MyDrive/dataset/yolofinetuning/yolo finetuning/train/images/frame_312.jpg  \n",
      "  inflating: /content/drive/MyDrive/dataset/yolofinetuning/yolo finetuning/train/images/frame_314.jpg  \n",
      "  inflating: /content/drive/MyDrive/dataset/yolofinetuning/yolo finetuning/train/images/frame_316.jpg  \n",
      "  inflating: /content/drive/MyDrive/dataset/yolofinetuning/yolo finetuning/train/images/frame_318.jpg  \n",
      "  inflating: /content/drive/MyDrive/dataset/yolofinetuning/yolo finetuning/train/images/frame_32.jpg  \n",
      "  inflating: /content/drive/MyDrive/dataset/yolofinetuning/yolo finetuning/train/images/frame_320.jpg  \n",
      "  inflating: /content/drive/MyDrive/dataset/yolofinetuning/yolo finetuning/train/images/frame_322.jpg  \n",
      "  inflating: /content/drive/MyDrive/dataset/yolofinetuning/yolo finetuning/train/images/frame_324.jpg  \n",
      "  inflating: /content/drive/MyDrive/dataset/yolofinetuning/yolo finetuning/train/images/frame_326.jpg  \n",
      "  inflating: /content/drive/MyDrive/dataset/yolofinetuning/yolo finetuning/train/images/frame_328.jpg  \n",
      "  inflating: /content/drive/MyDrive/dataset/yolofinetuning/yolo finetuning/train/images/frame_330.jpg  \n",
      "  inflating: /content/drive/MyDrive/dataset/yolofinetuning/yolo finetuning/train/images/frame_332.jpg  \n",
      "  inflating: /content/drive/MyDrive/dataset/yolofinetuning/yolo finetuning/train/images/frame_334.jpg  \n",
      "  inflating: /content/drive/MyDrive/dataset/yolofinetuning/yolo finetuning/train/images/frame_336.jpg  \n",
      "  inflating: /content/drive/MyDrive/dataset/yolofinetuning/yolo finetuning/train/images/frame_338.jpg  \n",
      "  inflating: /content/drive/MyDrive/dataset/yolofinetuning/yolo finetuning/train/images/frame_34.jpg  \n",
      "  inflating: /content/drive/MyDrive/dataset/yolofinetuning/yolo finetuning/train/images/frame_340.jpg  \n",
      "  inflating: /content/drive/MyDrive/dataset/yolofinetuning/yolo finetuning/train/images/frame_342.jpg  \n",
      "  inflating: /content/drive/MyDrive/dataset/yolofinetuning/yolo finetuning/train/images/frame_344.jpg  \n",
      "  inflating: /content/drive/MyDrive/dataset/yolofinetuning/yolo finetuning/train/images/frame_346.jpg  \n",
      "  inflating: /content/drive/MyDrive/dataset/yolofinetuning/yolo finetuning/train/images/frame_348.jpg  \n",
      "  inflating: /content/drive/MyDrive/dataset/yolofinetuning/yolo finetuning/train/images/frame_350.jpg  \n",
      "  inflating: /content/drive/MyDrive/dataset/yolofinetuning/yolo finetuning/train/images/frame_352.jpg  \n",
      "  inflating: /content/drive/MyDrive/dataset/yolofinetuning/yolo finetuning/train/images/frame_354.jpg  \n",
      "  inflating: /content/drive/MyDrive/dataset/yolofinetuning/yolo finetuning/train/images/frame_356.jpg  \n",
      "  inflating: /content/drive/MyDrive/dataset/yolofinetuning/yolo finetuning/train/images/frame_358.jpg  \n",
      "  inflating: /content/drive/MyDrive/dataset/yolofinetuning/yolo finetuning/train/images/frame_36.jpg  \n",
      "  inflating: /content/drive/MyDrive/dataset/yolofinetuning/yolo finetuning/train/images/frame_360.jpg  \n",
      "  inflating: /content/drive/MyDrive/dataset/yolofinetuning/yolo finetuning/train/images/frame_362.jpg  \n",
      "  inflating: /content/drive/MyDrive/dataset/yolofinetuning/yolo finetuning/train/images/frame_364.jpg  \n",
      "  inflating: /content/drive/MyDrive/dataset/yolofinetuning/yolo finetuning/train/images/frame_366.jpg  \n",
      "  inflating: /content/drive/MyDrive/dataset/yolofinetuning/yolo finetuning/train/images/frame_368.jpg  \n",
      "  inflating: /content/drive/MyDrive/dataset/yolofinetuning/yolo finetuning/train/images/frame_370.jpg  \n",
      "  inflating: /content/drive/MyDrive/dataset/yolofinetuning/yolo finetuning/train/images/frame_372.jpg  \n",
      "  inflating: /content/drive/MyDrive/dataset/yolofinetuning/yolo finetuning/train/images/frame_374.jpg  \n",
      "  inflating: /content/drive/MyDrive/dataset/yolofinetuning/yolo finetuning/train/images/frame_376.jpg  \n",
      "  inflating: /content/drive/MyDrive/dataset/yolofinetuning/yolo finetuning/train/images/frame_378.jpg  \n",
      "  inflating: /content/drive/MyDrive/dataset/yolofinetuning/yolo finetuning/train/images/frame_38.jpg  \n",
      "  inflating: /content/drive/MyDrive/dataset/yolofinetuning/yolo finetuning/train/images/frame_380.jpg  \n",
      "  inflating: /content/drive/MyDrive/dataset/yolofinetuning/yolo finetuning/train/images/frame_382.jpg  \n",
      "  inflating: /content/drive/MyDrive/dataset/yolofinetuning/yolo finetuning/train/images/frame_384.jpg  \n",
      "  inflating: /content/drive/MyDrive/dataset/yolofinetuning/yolo finetuning/train/images/frame_386.jpg  \n",
      "  inflating: /content/drive/MyDrive/dataset/yolofinetuning/yolo finetuning/train/images/frame_388.jpg  \n",
      "  inflating: /content/drive/MyDrive/dataset/yolofinetuning/yolo finetuning/train/images/frame_390.jpg  \n",
      "  inflating: /content/drive/MyDrive/dataset/yolofinetuning/yolo finetuning/train/images/frame_392.jpg  \n",
      "  inflating: /content/drive/MyDrive/dataset/yolofinetuning/yolo finetuning/train/images/frame_394.jpg  \n",
      "  inflating: /content/drive/MyDrive/dataset/yolofinetuning/yolo finetuning/train/images/frame_396.jpg  \n",
      "  inflating: /content/drive/MyDrive/dataset/yolofinetuning/yolo finetuning/train/images/frame_398.jpg  \n",
      "  inflating: /content/drive/MyDrive/dataset/yolofinetuning/yolo finetuning/train/images/frame_4.jpg  \n",
      "  inflating: /content/drive/MyDrive/dataset/yolofinetuning/yolo finetuning/train/images/frame_40.jpg  \n",
      "  inflating: /content/drive/MyDrive/dataset/yolofinetuning/yolo finetuning/train/images/frame_400.jpg  \n",
      "  inflating: /content/drive/MyDrive/dataset/yolofinetuning/yolo finetuning/train/images/frame_402.jpg  \n",
      "  inflating: /content/drive/MyDrive/dataset/yolofinetuning/yolo finetuning/train/images/frame_404.jpg  \n",
      "  inflating: /content/drive/MyDrive/dataset/yolofinetuning/yolo finetuning/train/images/frame_406.jpg  \n",
      "  inflating: /content/drive/MyDrive/dataset/yolofinetuning/yolo finetuning/train/images/frame_408.jpg  \n",
      "  inflating: /content/drive/MyDrive/dataset/yolofinetuning/yolo finetuning/train/images/frame_410.jpg  \n",
      "  inflating: /content/drive/MyDrive/dataset/yolofinetuning/yolo finetuning/train/images/frame_412.jpg  \n",
      "  inflating: /content/drive/MyDrive/dataset/yolofinetuning/yolo finetuning/train/images/frame_414.jpg  \n",
      "  inflating: /content/drive/MyDrive/dataset/yolofinetuning/yolo finetuning/train/images/frame_416.jpg  \n",
      "  inflating: /content/drive/MyDrive/dataset/yolofinetuning/yolo finetuning/train/images/frame_418.jpg  \n",
      "  inflating: /content/drive/MyDrive/dataset/yolofinetuning/yolo finetuning/train/images/frame_42.jpg  \n",
      "  inflating: /content/drive/MyDrive/dataset/yolofinetuning/yolo finetuning/train/images/frame_420.jpg  \n",
      "  inflating: /content/drive/MyDrive/dataset/yolofinetuning/yolo finetuning/train/images/frame_422.jpg  \n",
      "  inflating: /content/drive/MyDrive/dataset/yolofinetuning/yolo finetuning/train/images/frame_424.jpg  \n",
      "  inflating: /content/drive/MyDrive/dataset/yolofinetuning/yolo finetuning/train/images/frame_426.jpg  \n",
      "  inflating: /content/drive/MyDrive/dataset/yolofinetuning/yolo finetuning/train/images/frame_428.jpg  \n",
      "  inflating: /content/drive/MyDrive/dataset/yolofinetuning/yolo finetuning/train/images/frame_430.jpg  \n",
      "  inflating: /content/drive/MyDrive/dataset/yolofinetuning/yolo finetuning/train/images/frame_432.jpg  \n",
      "  inflating: /content/drive/MyDrive/dataset/yolofinetuning/yolo finetuning/train/images/frame_434.jpg  \n",
      "  inflating: /content/drive/MyDrive/dataset/yolofinetuning/yolo finetuning/train/images/frame_436.jpg  \n",
      "  inflating: /content/drive/MyDrive/dataset/yolofinetuning/yolo finetuning/train/images/frame_438.jpg  \n",
      "  inflating: /content/drive/MyDrive/dataset/yolofinetuning/yolo finetuning/train/images/frame_44.jpg  \n",
      "  inflating: /content/drive/MyDrive/dataset/yolofinetuning/yolo finetuning/train/images/frame_440.jpg  \n",
      "  inflating: /content/drive/MyDrive/dataset/yolofinetuning/yolo finetuning/train/images/frame_442.jpg  \n",
      "  inflating: /content/drive/MyDrive/dataset/yolofinetuning/yolo finetuning/train/images/frame_444.jpg  \n",
      "  inflating: /content/drive/MyDrive/dataset/yolofinetuning/yolo finetuning/train/images/frame_446.jpg  \n",
      "  inflating: /content/drive/MyDrive/dataset/yolofinetuning/yolo finetuning/train/images/frame_448.jpg  \n",
      "  inflating: /content/drive/MyDrive/dataset/yolofinetuning/yolo finetuning/train/images/frame_450.jpg  \n",
      "  inflating: /content/drive/MyDrive/dataset/yolofinetuning/yolo finetuning/train/images/frame_452.jpg  \n",
      "  inflating: /content/drive/MyDrive/dataset/yolofinetuning/yolo finetuning/train/images/frame_454.jpg  \n",
      "  inflating: /content/drive/MyDrive/dataset/yolofinetuning/yolo finetuning/train/images/frame_456.jpg  \n",
      "  inflating: /content/drive/MyDrive/dataset/yolofinetuning/yolo finetuning/train/images/frame_458.jpg  \n",
      "  inflating: /content/drive/MyDrive/dataset/yolofinetuning/yolo finetuning/train/images/frame_46.jpg  \n",
      "  inflating: /content/drive/MyDrive/dataset/yolofinetuning/yolo finetuning/train/images/frame_460.jpg  \n",
      "  inflating: /content/drive/MyDrive/dataset/yolofinetuning/yolo finetuning/train/images/frame_462.jpg  \n",
      "  inflating: /content/drive/MyDrive/dataset/yolofinetuning/yolo finetuning/train/images/frame_464.jpg  \n",
      "  inflating: /content/drive/MyDrive/dataset/yolofinetuning/yolo finetuning/train/images/frame_466.jpg  \n",
      "  inflating: /content/drive/MyDrive/dataset/yolofinetuning/yolo finetuning/train/images/frame_468.jpg  \n",
      "  inflating: /content/drive/MyDrive/dataset/yolofinetuning/yolo finetuning/train/images/frame_470.jpg  \n",
      "  inflating: /content/drive/MyDrive/dataset/yolofinetuning/yolo finetuning/train/images/frame_472.jpg  \n",
      "  inflating: /content/drive/MyDrive/dataset/yolofinetuning/yolo finetuning/train/images/frame_474.jpg  \n",
      "  inflating: /content/drive/MyDrive/dataset/yolofinetuning/yolo finetuning/train/images/frame_476.jpg  \n",
      "  inflating: /content/drive/MyDrive/dataset/yolofinetuning/yolo finetuning/train/images/frame_478.jpg  \n",
      "  inflating: /content/drive/MyDrive/dataset/yolofinetuning/yolo finetuning/train/images/frame_48.jpg  \n",
      "  inflating: /content/drive/MyDrive/dataset/yolofinetuning/yolo finetuning/train/images/frame_480.jpg  \n",
      "  inflating: /content/drive/MyDrive/dataset/yolofinetuning/yolo finetuning/train/images/frame_482.jpg  \n",
      "  inflating: /content/drive/MyDrive/dataset/yolofinetuning/yolo finetuning/train/images/frame_484.jpg  \n",
      "  inflating: /content/drive/MyDrive/dataset/yolofinetuning/yolo finetuning/train/images/frame_486.jpg  \n",
      "  inflating: /content/drive/MyDrive/dataset/yolofinetuning/yolo finetuning/train/images/frame_488.jpg  \n",
      "  inflating: /content/drive/MyDrive/dataset/yolofinetuning/yolo finetuning/train/images/frame_490.jpg  \n",
      "  inflating: /content/drive/MyDrive/dataset/yolofinetuning/yolo finetuning/train/images/frame_492.jpg  \n",
      "  inflating: /content/drive/MyDrive/dataset/yolofinetuning/yolo finetuning/train/images/frame_494.jpg  \n",
      "  inflating: /content/drive/MyDrive/dataset/yolofinetuning/yolo finetuning/train/images/frame_496.jpg  \n",
      "  inflating: /content/drive/MyDrive/dataset/yolofinetuning/yolo finetuning/train/images/frame_498.jpg  \n",
      "  inflating: /content/drive/MyDrive/dataset/yolofinetuning/yolo finetuning/train/images/frame_50.jpg  \n",
      "  inflating: /content/drive/MyDrive/dataset/yolofinetuning/yolo finetuning/train/images/frame_500.jpg  \n",
      "  inflating: /content/drive/MyDrive/dataset/yolofinetuning/yolo finetuning/train/images/frame_502.jpg  \n",
      "  inflating: /content/drive/MyDrive/dataset/yolofinetuning/yolo finetuning/train/images/frame_504.jpg  \n",
      "  inflating: /content/drive/MyDrive/dataset/yolofinetuning/yolo finetuning/train/images/frame_506.jpg  \n",
      "  inflating: /content/drive/MyDrive/dataset/yolofinetuning/yolo finetuning/train/images/frame_508.jpg  \n",
      "  inflating: /content/drive/MyDrive/dataset/yolofinetuning/yolo finetuning/train/images/frame_510.jpg  \n",
      "  inflating: /content/drive/MyDrive/dataset/yolofinetuning/yolo finetuning/train/images/frame_512.jpg  \n",
      "  inflating: /content/drive/MyDrive/dataset/yolofinetuning/yolo finetuning/train/images/frame_514.jpg  \n",
      "  inflating: /content/drive/MyDrive/dataset/yolofinetuning/yolo finetuning/train/images/frame_516.jpg  \n",
      "  inflating: /content/drive/MyDrive/dataset/yolofinetuning/yolo finetuning/train/images/frame_518.jpg  \n",
      "  inflating: /content/drive/MyDrive/dataset/yolofinetuning/yolo finetuning/train/images/frame_52.jpg  \n",
      "  inflating: /content/drive/MyDrive/dataset/yolofinetuning/yolo finetuning/train/images/frame_520.jpg  \n",
      "  inflating: /content/drive/MyDrive/dataset/yolofinetuning/yolo finetuning/train/images/frame_522.jpg  \n",
      "  inflating: /content/drive/MyDrive/dataset/yolofinetuning/yolo finetuning/train/images/frame_524.jpg  \n",
      "  inflating: /content/drive/MyDrive/dataset/yolofinetuning/yolo finetuning/train/images/frame_526.jpg  \n",
      "  inflating: /content/drive/MyDrive/dataset/yolofinetuning/yolo finetuning/train/images/frame_528.jpg  \n",
      "  inflating: /content/drive/MyDrive/dataset/yolofinetuning/yolo finetuning/train/images/frame_530.jpg  \n",
      "  inflating: /content/drive/MyDrive/dataset/yolofinetuning/yolo finetuning/train/images/frame_532.jpg  \n",
      "  inflating: /content/drive/MyDrive/dataset/yolofinetuning/yolo finetuning/train/images/frame_534.jpg  \n",
      "  inflating: /content/drive/MyDrive/dataset/yolofinetuning/yolo finetuning/train/images/frame_536.jpg  \n",
      "  inflating: /content/drive/MyDrive/dataset/yolofinetuning/yolo finetuning/train/images/frame_538.jpg  \n",
      "  inflating: /content/drive/MyDrive/dataset/yolofinetuning/yolo finetuning/train/images/frame_54.jpg  \n",
      "  inflating: /content/drive/MyDrive/dataset/yolofinetuning/yolo finetuning/train/images/frame_540.jpg  \n",
      "  inflating: /content/drive/MyDrive/dataset/yolofinetuning/yolo finetuning/train/images/frame_542.jpg  \n",
      "  inflating: /content/drive/MyDrive/dataset/yolofinetuning/yolo finetuning/train/images/frame_544.jpg  \n",
      "  inflating: /content/drive/MyDrive/dataset/yolofinetuning/yolo finetuning/train/images/frame_546.jpg  \n",
      "  inflating: /content/drive/MyDrive/dataset/yolofinetuning/yolo finetuning/train/images/frame_548.jpg  \n",
      "  inflating: /content/drive/MyDrive/dataset/yolofinetuning/yolo finetuning/train/images/frame_550.jpg  \n",
      "  inflating: /content/drive/MyDrive/dataset/yolofinetuning/yolo finetuning/train/images/frame_552.jpg  \n",
      "  inflating: /content/drive/MyDrive/dataset/yolofinetuning/yolo finetuning/train/images/frame_554.jpg  \n",
      "  inflating: /content/drive/MyDrive/dataset/yolofinetuning/yolo finetuning/train/images/frame_556.jpg  \n",
      "  inflating: /content/drive/MyDrive/dataset/yolofinetuning/yolo finetuning/train/images/frame_558.jpg  \n",
      "  inflating: /content/drive/MyDrive/dataset/yolofinetuning/yolo finetuning/train/images/frame_56.jpg  \n",
      "  inflating: /content/drive/MyDrive/dataset/yolofinetuning/yolo finetuning/train/images/frame_560.jpg  \n",
      "  inflating: /content/drive/MyDrive/dataset/yolofinetuning/yolo finetuning/train/images/frame_562.jpg  \n",
      "  inflating: /content/drive/MyDrive/dataset/yolofinetuning/yolo finetuning/train/images/frame_564.jpg  \n",
      "  inflating: /content/drive/MyDrive/dataset/yolofinetuning/yolo finetuning/train/images/frame_566.jpg  \n",
      "  inflating: /content/drive/MyDrive/dataset/yolofinetuning/yolo finetuning/train/images/frame_568.jpg  \n",
      "  inflating: /content/drive/MyDrive/dataset/yolofinetuning/yolo finetuning/train/images/frame_570.jpg  \n",
      "  inflating: /content/drive/MyDrive/dataset/yolofinetuning/yolo finetuning/train/images/frame_572.jpg  \n",
      "  inflating: /content/drive/MyDrive/dataset/yolofinetuning/yolo finetuning/train/images/frame_574.jpg  \n",
      "  inflating: /content/drive/MyDrive/dataset/yolofinetuning/yolo finetuning/train/images/frame_576.jpg  \n",
      "  inflating: /content/drive/MyDrive/dataset/yolofinetuning/yolo finetuning/train/images/frame_578.jpg  \n",
      "  inflating: /content/drive/MyDrive/dataset/yolofinetuning/yolo finetuning/train/images/frame_58.jpg  \n",
      "  inflating: /content/drive/MyDrive/dataset/yolofinetuning/yolo finetuning/train/images/frame_580.jpg  \n",
      "  inflating: /content/drive/MyDrive/dataset/yolofinetuning/yolo finetuning/train/images/frame_582.jpg  \n",
      "  inflating: /content/drive/MyDrive/dataset/yolofinetuning/yolo finetuning/train/images/frame_584.jpg  \n",
      "  inflating: /content/drive/MyDrive/dataset/yolofinetuning/yolo finetuning/train/images/frame_586.jpg  \n",
      "  inflating: /content/drive/MyDrive/dataset/yolofinetuning/yolo finetuning/train/images/frame_588.jpg  \n",
      "  inflating: /content/drive/MyDrive/dataset/yolofinetuning/yolo finetuning/train/images/frame_590.jpg  \n",
      "  inflating: /content/drive/MyDrive/dataset/yolofinetuning/yolo finetuning/train/images/frame_592.jpg  \n",
      "  inflating: /content/drive/MyDrive/dataset/yolofinetuning/yolo finetuning/train/images/frame_594.jpg  \n",
      "  inflating: /content/drive/MyDrive/dataset/yolofinetuning/yolo finetuning/train/images/frame_596.jpg  \n",
      "  inflating: /content/drive/MyDrive/dataset/yolofinetuning/yolo finetuning/train/images/frame_598.jpg  \n",
      "  inflating: /content/drive/MyDrive/dataset/yolofinetuning/yolo finetuning/train/images/frame_6.jpg  \n",
      "  inflating: /content/drive/MyDrive/dataset/yolofinetuning/yolo finetuning/train/images/frame_60.jpg  \n",
      "  inflating: /content/drive/MyDrive/dataset/yolofinetuning/yolo finetuning/train/images/frame_600.jpg  \n",
      "  inflating: /content/drive/MyDrive/dataset/yolofinetuning/yolo finetuning/train/images/frame_602.jpg  \n",
      "  inflating: /content/drive/MyDrive/dataset/yolofinetuning/yolo finetuning/train/images/frame_604.jpg  \n",
      "  inflating: /content/drive/MyDrive/dataset/yolofinetuning/yolo finetuning/train/images/frame_606.jpg  \n",
      "  inflating: /content/drive/MyDrive/dataset/yolofinetuning/yolo finetuning/train/images/frame_608.jpg  \n",
      "  inflating: /content/drive/MyDrive/dataset/yolofinetuning/yolo finetuning/train/images/frame_610.jpg  \n",
      "  inflating: /content/drive/MyDrive/dataset/yolofinetuning/yolo finetuning/train/images/frame_612.jpg  \n",
      "  inflating: /content/drive/MyDrive/dataset/yolofinetuning/yolo finetuning/train/images/frame_614.jpg  \n",
      "  inflating: /content/drive/MyDrive/dataset/yolofinetuning/yolo finetuning/train/images/frame_616.jpg  \n",
      "  inflating: /content/drive/MyDrive/dataset/yolofinetuning/yolo finetuning/train/images/frame_618.jpg  \n",
      "  inflating: /content/drive/MyDrive/dataset/yolofinetuning/yolo finetuning/train/images/frame_62.jpg  \n",
      "  inflating: /content/drive/MyDrive/dataset/yolofinetuning/yolo finetuning/train/images/frame_620.jpg  \n",
      "  inflating: /content/drive/MyDrive/dataset/yolofinetuning/yolo finetuning/train/images/frame_622.jpg  \n",
      "  inflating: /content/drive/MyDrive/dataset/yolofinetuning/yolo finetuning/train/images/frame_624.jpg  \n",
      "  inflating: /content/drive/MyDrive/dataset/yolofinetuning/yolo finetuning/train/images/frame_626.jpg  \n",
      "  inflating: /content/drive/MyDrive/dataset/yolofinetuning/yolo finetuning/train/images/frame_628.jpg  \n",
      "  inflating: /content/drive/MyDrive/dataset/yolofinetuning/yolo finetuning/train/images/frame_630.jpg  \n",
      "  inflating: /content/drive/MyDrive/dataset/yolofinetuning/yolo finetuning/train/images/frame_632.jpg  \n",
      "  inflating: /content/drive/MyDrive/dataset/yolofinetuning/yolo finetuning/train/images/frame_634.jpg  \n",
      "  inflating: /content/drive/MyDrive/dataset/yolofinetuning/yolo finetuning/train/images/frame_636.jpg  \n",
      "  inflating: /content/drive/MyDrive/dataset/yolofinetuning/yolo finetuning/train/images/frame_638.jpg  \n",
      "  inflating: /content/drive/MyDrive/dataset/yolofinetuning/yolo finetuning/train/images/frame_64.jpg  \n",
      "  inflating: /content/drive/MyDrive/dataset/yolofinetuning/yolo finetuning/train/images/frame_640.jpg  \n",
      "  inflating: /content/drive/MyDrive/dataset/yolofinetuning/yolo finetuning/train/images/frame_642.jpg  \n",
      "  inflating: /content/drive/MyDrive/dataset/yolofinetuning/yolo finetuning/train/images/frame_644.jpg  \n",
      "  inflating: /content/drive/MyDrive/dataset/yolofinetuning/yolo finetuning/train/images/frame_646.jpg  \n",
      "  inflating: /content/drive/MyDrive/dataset/yolofinetuning/yolo finetuning/train/images/frame_648.jpg  \n",
      "  inflating: /content/drive/MyDrive/dataset/yolofinetuning/yolo finetuning/train/images/frame_650.jpg  \n",
      "  inflating: /content/drive/MyDrive/dataset/yolofinetuning/yolo finetuning/train/images/frame_652.jpg  \n",
      "  inflating: /content/drive/MyDrive/dataset/yolofinetuning/yolo finetuning/train/images/frame_654.jpg  \n",
      "  inflating: /content/drive/MyDrive/dataset/yolofinetuning/yolo finetuning/train/images/frame_656.jpg  \n",
      "  inflating: /content/drive/MyDrive/dataset/yolofinetuning/yolo finetuning/train/images/frame_658.jpg  \n",
      "  inflating: /content/drive/MyDrive/dataset/yolofinetuning/yolo finetuning/train/images/frame_66.jpg  \n",
      "  inflating: /content/drive/MyDrive/dataset/yolofinetuning/yolo finetuning/train/images/frame_660.jpg  \n",
      "  inflating: /content/drive/MyDrive/dataset/yolofinetuning/yolo finetuning/train/images/frame_662.jpg  \n",
      "  inflating: /content/drive/MyDrive/dataset/yolofinetuning/yolo finetuning/train/images/frame_664.jpg  \n",
      "  inflating: /content/drive/MyDrive/dataset/yolofinetuning/yolo finetuning/train/images/frame_666.jpg  \n",
      "  inflating: /content/drive/MyDrive/dataset/yolofinetuning/yolo finetuning/train/images/frame_668.jpg  \n",
      "  inflating: /content/drive/MyDrive/dataset/yolofinetuning/yolo finetuning/train/images/frame_670.jpg  \n",
      "  inflating: /content/drive/MyDrive/dataset/yolofinetuning/yolo finetuning/train/images/frame_672.jpg  \n",
      "  inflating: /content/drive/MyDrive/dataset/yolofinetuning/yolo finetuning/train/images/frame_674.jpg  \n",
      "  inflating: /content/drive/MyDrive/dataset/yolofinetuning/yolo finetuning/train/images/frame_676.jpg  \n",
      "  inflating: /content/drive/MyDrive/dataset/yolofinetuning/yolo finetuning/train/images/frame_678.jpg  \n",
      "  inflating: /content/drive/MyDrive/dataset/yolofinetuning/yolo finetuning/train/images/frame_68.jpg  \n",
      "  inflating: /content/drive/MyDrive/dataset/yolofinetuning/yolo finetuning/train/images/frame_680.jpg  \n",
      "  inflating: /content/drive/MyDrive/dataset/yolofinetuning/yolo finetuning/train/images/frame_682.jpg  \n",
      "  inflating: /content/drive/MyDrive/dataset/yolofinetuning/yolo finetuning/train/images/frame_684.jpg  \n",
      "  inflating: /content/drive/MyDrive/dataset/yolofinetuning/yolo finetuning/train/images/frame_686.jpg  \n",
      "  inflating: /content/drive/MyDrive/dataset/yolofinetuning/yolo finetuning/train/images/frame_688.jpg  \n",
      "  inflating: /content/drive/MyDrive/dataset/yolofinetuning/yolo finetuning/train/images/frame_690.jpg  \n",
      "  inflating: /content/drive/MyDrive/dataset/yolofinetuning/yolo finetuning/train/images/frame_692.jpg  \n",
      "  inflating: /content/drive/MyDrive/dataset/yolofinetuning/yolo finetuning/train/images/frame_694.jpg  \n",
      "  inflating: /content/drive/MyDrive/dataset/yolofinetuning/yolo finetuning/train/images/frame_696.jpg  \n",
      "  inflating: /content/drive/MyDrive/dataset/yolofinetuning/yolo finetuning/train/images/frame_698.jpg  \n",
      "  inflating: /content/drive/MyDrive/dataset/yolofinetuning/yolo finetuning/train/images/frame_70.jpg  \n",
      "  inflating: /content/drive/MyDrive/dataset/yolofinetuning/yolo finetuning/train/images/frame_700.jpg  \n",
      "  inflating: /content/drive/MyDrive/dataset/yolofinetuning/yolo finetuning/train/images/frame_702.jpg  \n",
      "  inflating: /content/drive/MyDrive/dataset/yolofinetuning/yolo finetuning/train/images/frame_704.jpg  \n",
      "  inflating: /content/drive/MyDrive/dataset/yolofinetuning/yolo finetuning/train/images/frame_706.jpg  \n",
      "  inflating: /content/drive/MyDrive/dataset/yolofinetuning/yolo finetuning/train/images/frame_708.jpg  \n",
      "  inflating: /content/drive/MyDrive/dataset/yolofinetuning/yolo finetuning/train/images/frame_710.jpg  \n",
      "  inflating: /content/drive/MyDrive/dataset/yolofinetuning/yolo finetuning/train/images/frame_72.jpg  \n",
      "  inflating: /content/drive/MyDrive/dataset/yolofinetuning/yolo finetuning/train/images/frame_74.jpg  \n",
      "  inflating: /content/drive/MyDrive/dataset/yolofinetuning/yolo finetuning/train/images/frame_76.jpg  \n",
      "  inflating: /content/drive/MyDrive/dataset/yolofinetuning/yolo finetuning/train/images/frame_78.jpg  \n",
      "  inflating: /content/drive/MyDrive/dataset/yolofinetuning/yolo finetuning/train/images/frame_8.jpg  \n",
      "  inflating: /content/drive/MyDrive/dataset/yolofinetuning/yolo finetuning/train/images/frame_80.jpg  \n",
      "  inflating: /content/drive/MyDrive/dataset/yolofinetuning/yolo finetuning/train/images/frame_82.jpg  \n",
      "  inflating: /content/drive/MyDrive/dataset/yolofinetuning/yolo finetuning/train/images/frame_84.jpg  \n",
      "  inflating: /content/drive/MyDrive/dataset/yolofinetuning/yolo finetuning/train/images/frame_86.jpg  \n",
      "  inflating: /content/drive/MyDrive/dataset/yolofinetuning/yolo finetuning/train/images/frame_88.jpg  \n",
      "  inflating: /content/drive/MyDrive/dataset/yolofinetuning/yolo finetuning/train/images/frame_90.jpg  \n",
      "  inflating: /content/drive/MyDrive/dataset/yolofinetuning/yolo finetuning/train/images/frame_92.jpg  \n",
      "  inflating: /content/drive/MyDrive/dataset/yolofinetuning/yolo finetuning/train/images/frame_94.jpg  \n",
      "  inflating: /content/drive/MyDrive/dataset/yolofinetuning/yolo finetuning/train/images/frame_96.jpg  \n",
      "  inflating: /content/drive/MyDrive/dataset/yolofinetuning/yolo finetuning/train/images/frame_98.jpg  \n",
      "   creating: /content/drive/MyDrive/dataset/yolofinetuning/yolo finetuning/train/labels/\n",
      "  inflating: /content/drive/MyDrive/dataset/yolofinetuning/yolo finetuning/train/labels/classes.txt  \n",
      "  inflating: /content/drive/MyDrive/dataset/yolofinetuning/yolo finetuning/train/labels/frame_0.txt  \n",
      "  inflating: /content/drive/MyDrive/dataset/yolofinetuning/yolo finetuning/train/labels/frame_10.txt  \n",
      "  inflating: /content/drive/MyDrive/dataset/yolofinetuning/yolo finetuning/train/labels/frame_100.txt  \n",
      "  inflating: /content/drive/MyDrive/dataset/yolofinetuning/yolo finetuning/train/labels/frame_1000.txt  \n",
      "  inflating: /content/drive/MyDrive/dataset/yolofinetuning/yolo finetuning/train/labels/frame_1002.txt  \n",
      "  inflating: /content/drive/MyDrive/dataset/yolofinetuning/yolo finetuning/train/labels/frame_1004.txt  \n",
      "  inflating: /content/drive/MyDrive/dataset/yolofinetuning/yolo finetuning/train/labels/frame_1006.txt  \n",
      "  inflating: /content/drive/MyDrive/dataset/yolofinetuning/yolo finetuning/train/labels/frame_1008.txt  \n",
      "  inflating: /content/drive/MyDrive/dataset/yolofinetuning/yolo finetuning/train/labels/frame_1010.txt  \n",
      "  inflating: /content/drive/MyDrive/dataset/yolofinetuning/yolo finetuning/train/labels/frame_1012.txt  \n",
      "  inflating: /content/drive/MyDrive/dataset/yolofinetuning/yolo finetuning/train/labels/frame_1014.txt  \n",
      "  inflating: /content/drive/MyDrive/dataset/yolofinetuning/yolo finetuning/train/labels/frame_1016.txt  \n",
      "  inflating: /content/drive/MyDrive/dataset/yolofinetuning/yolo finetuning/train/labels/frame_1018.txt  \n",
      "  inflating: /content/drive/MyDrive/dataset/yolofinetuning/yolo finetuning/train/labels/frame_102.txt  \n",
      "  inflating: /content/drive/MyDrive/dataset/yolofinetuning/yolo finetuning/train/labels/frame_1020.txt  \n",
      "  inflating: /content/drive/MyDrive/dataset/yolofinetuning/yolo finetuning/train/labels/frame_1022.txt  \n",
      "  inflating: /content/drive/MyDrive/dataset/yolofinetuning/yolo finetuning/train/labels/frame_1024.txt  \n",
      "  inflating: /content/drive/MyDrive/dataset/yolofinetuning/yolo finetuning/train/labels/frame_1026.txt  \n",
      "  inflating: /content/drive/MyDrive/dataset/yolofinetuning/yolo finetuning/train/labels/frame_1028.txt  \n",
      "  inflating: /content/drive/MyDrive/dataset/yolofinetuning/yolo finetuning/train/labels/frame_1030.txt  \n",
      "  inflating: /content/drive/MyDrive/dataset/yolofinetuning/yolo finetuning/train/labels/frame_1032.txt  \n",
      "  inflating: /content/drive/MyDrive/dataset/yolofinetuning/yolo finetuning/train/labels/frame_1034.txt  \n",
      "  inflating: /content/drive/MyDrive/dataset/yolofinetuning/yolo finetuning/train/labels/frame_1036.txt  \n",
      "  inflating: /content/drive/MyDrive/dataset/yolofinetuning/yolo finetuning/train/labels/frame_1038.txt  \n",
      "  inflating: /content/drive/MyDrive/dataset/yolofinetuning/yolo finetuning/train/labels/frame_104.txt  \n",
      "  inflating: /content/drive/MyDrive/dataset/yolofinetuning/yolo finetuning/train/labels/frame_1040.txt  \n",
      "  inflating: /content/drive/MyDrive/dataset/yolofinetuning/yolo finetuning/train/labels/frame_1042.txt  \n",
      "  inflating: /content/drive/MyDrive/dataset/yolofinetuning/yolo finetuning/train/labels/frame_1044.txt  \n",
      "  inflating: /content/drive/MyDrive/dataset/yolofinetuning/yolo finetuning/train/labels/frame_1046.txt  \n",
      "  inflating: /content/drive/MyDrive/dataset/yolofinetuning/yolo finetuning/train/labels/frame_1048.txt  \n",
      "  inflating: /content/drive/MyDrive/dataset/yolofinetuning/yolo finetuning/train/labels/frame_1050.txt  \n",
      "  inflating: /content/drive/MyDrive/dataset/yolofinetuning/yolo finetuning/train/labels/frame_1052.txt  \n",
      "  inflating: /content/drive/MyDrive/dataset/yolofinetuning/yolo finetuning/train/labels/frame_1054.txt  \n",
      "  inflating: /content/drive/MyDrive/dataset/yolofinetuning/yolo finetuning/train/labels/frame_1056.txt  \n",
      "  inflating: /content/drive/MyDrive/dataset/yolofinetuning/yolo finetuning/train/labels/frame_1058.txt  \n",
      "  inflating: /content/drive/MyDrive/dataset/yolofinetuning/yolo finetuning/train/labels/frame_106.txt  \n",
      "  inflating: /content/drive/MyDrive/dataset/yolofinetuning/yolo finetuning/train/labels/frame_1060.txt  \n",
      "  inflating: /content/drive/MyDrive/dataset/yolofinetuning/yolo finetuning/train/labels/frame_1062.txt  \n",
      "  inflating: /content/drive/MyDrive/dataset/yolofinetuning/yolo finetuning/train/labels/frame_1064.txt  \n",
      "  inflating: /content/drive/MyDrive/dataset/yolofinetuning/yolo finetuning/train/labels/frame_1066.txt  \n",
      "  inflating: /content/drive/MyDrive/dataset/yolofinetuning/yolo finetuning/train/labels/frame_1068.txt  \n",
      "  inflating: /content/drive/MyDrive/dataset/yolofinetuning/yolo finetuning/train/labels/frame_1070.txt  \n",
      "  inflating: /content/drive/MyDrive/dataset/yolofinetuning/yolo finetuning/train/labels/frame_1072.txt  \n",
      "  inflating: /content/drive/MyDrive/dataset/yolofinetuning/yolo finetuning/train/labels/frame_1074.txt  \n",
      "  inflating: /content/drive/MyDrive/dataset/yolofinetuning/yolo finetuning/train/labels/frame_1076.txt  \n",
      "  inflating: /content/drive/MyDrive/dataset/yolofinetuning/yolo finetuning/train/labels/frame_1078.txt  \n",
      "  inflating: /content/drive/MyDrive/dataset/yolofinetuning/yolo finetuning/train/labels/frame_108.txt  \n",
      "  inflating: /content/drive/MyDrive/dataset/yolofinetuning/yolo finetuning/train/labels/frame_1080.txt  \n",
      "  inflating: /content/drive/MyDrive/dataset/yolofinetuning/yolo finetuning/train/labels/frame_1082.txt  \n",
      "  inflating: /content/drive/MyDrive/dataset/yolofinetuning/yolo finetuning/train/labels/frame_1084.txt  \n",
      "  inflating: /content/drive/MyDrive/dataset/yolofinetuning/yolo finetuning/train/labels/frame_1086.txt  \n",
      "  inflating: /content/drive/MyDrive/dataset/yolofinetuning/yolo finetuning/train/labels/frame_1088.txt  \n",
      "  inflating: /content/drive/MyDrive/dataset/yolofinetuning/yolo finetuning/train/labels/frame_1090.txt  \n",
      "  inflating: /content/drive/MyDrive/dataset/yolofinetuning/yolo finetuning/train/labels/frame_1092.txt  \n",
      "  inflating: /content/drive/MyDrive/dataset/yolofinetuning/yolo finetuning/train/labels/frame_1094.txt  \n",
      "  inflating: /content/drive/MyDrive/dataset/yolofinetuning/yolo finetuning/train/labels/frame_1096.txt  \n",
      "  inflating: /content/drive/MyDrive/dataset/yolofinetuning/yolo finetuning/train/labels/frame_1098.txt  \n",
      "  inflating: /content/drive/MyDrive/dataset/yolofinetuning/yolo finetuning/train/labels/frame_110.txt  \n",
      "  inflating: /content/drive/MyDrive/dataset/yolofinetuning/yolo finetuning/train/labels/frame_1100.txt  \n",
      "  inflating: /content/drive/MyDrive/dataset/yolofinetuning/yolo finetuning/train/labels/frame_1102.txt  \n",
      "  inflating: /content/drive/MyDrive/dataset/yolofinetuning/yolo finetuning/train/labels/frame_1104.txt  \n",
      "  inflating: /content/drive/MyDrive/dataset/yolofinetuning/yolo finetuning/train/labels/frame_1106.txt  \n",
      "  inflating: /content/drive/MyDrive/dataset/yolofinetuning/yolo finetuning/train/labels/frame_1108.txt  \n",
      "  inflating: /content/drive/MyDrive/dataset/yolofinetuning/yolo finetuning/train/labels/frame_1110.txt  \n",
      "  inflating: /content/drive/MyDrive/dataset/yolofinetuning/yolo finetuning/train/labels/frame_1112.txt  \n",
      "  inflating: /content/drive/MyDrive/dataset/yolofinetuning/yolo finetuning/train/labels/frame_1114.txt  \n",
      "  inflating: /content/drive/MyDrive/dataset/yolofinetuning/yolo finetuning/train/labels/frame_1116.txt  \n",
      "  inflating: /content/drive/MyDrive/dataset/yolofinetuning/yolo finetuning/train/labels/frame_1118.txt  \n",
      "  inflating: /content/drive/MyDrive/dataset/yolofinetuning/yolo finetuning/train/labels/frame_112.txt  \n",
      "  inflating: /content/drive/MyDrive/dataset/yolofinetuning/yolo finetuning/train/labels/frame_1120.txt  \n",
      "  inflating: /content/drive/MyDrive/dataset/yolofinetuning/yolo finetuning/train/labels/frame_1122.txt  \n",
      "  inflating: /content/drive/MyDrive/dataset/yolofinetuning/yolo finetuning/train/labels/frame_1124.txt  \n",
      "  inflating: /content/drive/MyDrive/dataset/yolofinetuning/yolo finetuning/train/labels/frame_1126.txt  \n",
      "  inflating: /content/drive/MyDrive/dataset/yolofinetuning/yolo finetuning/train/labels/frame_1128.txt  \n",
      "  inflating: /content/drive/MyDrive/dataset/yolofinetuning/yolo finetuning/train/labels/frame_1130.txt  \n",
      "  inflating: /content/drive/MyDrive/dataset/yolofinetuning/yolo finetuning/train/labels/frame_1132.txt  \n",
      "  inflating: /content/drive/MyDrive/dataset/yolofinetuning/yolo finetuning/train/labels/frame_1134.txt  \n",
      "  inflating: /content/drive/MyDrive/dataset/yolofinetuning/yolo finetuning/train/labels/frame_1136.txt  \n",
      "  inflating: /content/drive/MyDrive/dataset/yolofinetuning/yolo finetuning/train/labels/frame_1138.txt  \n",
      "  inflating: /content/drive/MyDrive/dataset/yolofinetuning/yolo finetuning/train/labels/frame_114.txt  \n",
      "  inflating: /content/drive/MyDrive/dataset/yolofinetuning/yolo finetuning/train/labels/frame_1140.txt  \n",
      "  inflating: /content/drive/MyDrive/dataset/yolofinetuning/yolo finetuning/train/labels/frame_1142.txt  \n",
      "  inflating: /content/drive/MyDrive/dataset/yolofinetuning/yolo finetuning/train/labels/frame_1144.txt  \n",
      "  inflating: /content/drive/MyDrive/dataset/yolofinetuning/yolo finetuning/train/labels/frame_1146.txt  \n",
      "  inflating: /content/drive/MyDrive/dataset/yolofinetuning/yolo finetuning/train/labels/frame_1148.txt  \n",
      "  inflating: /content/drive/MyDrive/dataset/yolofinetuning/yolo finetuning/train/labels/frame_1150.txt  \n",
      "  inflating: /content/drive/MyDrive/dataset/yolofinetuning/yolo finetuning/train/labels/frame_1152.txt  \n",
      "  inflating: /content/drive/MyDrive/dataset/yolofinetuning/yolo finetuning/train/labels/frame_1154.txt  \n",
      "  inflating: /content/drive/MyDrive/dataset/yolofinetuning/yolo finetuning/train/labels/frame_1156.txt  \n",
      "  inflating: /content/drive/MyDrive/dataset/yolofinetuning/yolo finetuning/train/labels/frame_1158.txt  \n",
      "  inflating: /content/drive/MyDrive/dataset/yolofinetuning/yolo finetuning/train/labels/frame_116.txt  \n",
      "  inflating: /content/drive/MyDrive/dataset/yolofinetuning/yolo finetuning/train/labels/frame_1160.txt  \n",
      "  inflating: /content/drive/MyDrive/dataset/yolofinetuning/yolo finetuning/train/labels/frame_1162.txt  \n",
      "  inflating: /content/drive/MyDrive/dataset/yolofinetuning/yolo finetuning/train/labels/frame_1164.txt  \n",
      "  inflating: /content/drive/MyDrive/dataset/yolofinetuning/yolo finetuning/train/labels/frame_1166.txt  \n",
      "  inflating: /content/drive/MyDrive/dataset/yolofinetuning/yolo finetuning/train/labels/frame_1168.txt  \n",
      "  inflating: /content/drive/MyDrive/dataset/yolofinetuning/yolo finetuning/train/labels/frame_1170.txt  \n",
      "  inflating: /content/drive/MyDrive/dataset/yolofinetuning/yolo finetuning/train/labels/frame_1172.txt  \n",
      "  inflating: /content/drive/MyDrive/dataset/yolofinetuning/yolo finetuning/train/labels/frame_1174.txt  \n",
      "  inflating: /content/drive/MyDrive/dataset/yolofinetuning/yolo finetuning/train/labels/frame_1176.txt  \n",
      "  inflating: /content/drive/MyDrive/dataset/yolofinetuning/yolo finetuning/train/labels/frame_1178.txt  \n",
      "  inflating: /content/drive/MyDrive/dataset/yolofinetuning/yolo finetuning/train/labels/frame_118.txt  \n",
      "  inflating: /content/drive/MyDrive/dataset/yolofinetuning/yolo finetuning/train/labels/frame_1180.txt  \n",
      "  inflating: /content/drive/MyDrive/dataset/yolofinetuning/yolo finetuning/train/labels/frame_1182.txt  \n",
      "  inflating: /content/drive/MyDrive/dataset/yolofinetuning/yolo finetuning/train/labels/frame_1184.txt  \n",
      "  inflating: /content/drive/MyDrive/dataset/yolofinetuning/yolo finetuning/train/labels/frame_1186.txt  \n",
      "  inflating: /content/drive/MyDrive/dataset/yolofinetuning/yolo finetuning/train/labels/frame_1188.txt  \n",
      "  inflating: /content/drive/MyDrive/dataset/yolofinetuning/yolo finetuning/train/labels/frame_1190.txt  \n",
      "  inflating: /content/drive/MyDrive/dataset/yolofinetuning/yolo finetuning/train/labels/frame_1192.txt  \n",
      "  inflating: /content/drive/MyDrive/dataset/yolofinetuning/yolo finetuning/train/labels/frame_1194.txt  \n",
      "  inflating: /content/drive/MyDrive/dataset/yolofinetuning/yolo finetuning/train/labels/frame_1196.txt  \n",
      "  inflating: /content/drive/MyDrive/dataset/yolofinetuning/yolo finetuning/train/labels/frame_1198.txt  \n",
      "  inflating: /content/drive/MyDrive/dataset/yolofinetuning/yolo finetuning/train/labels/frame_12.txt  \n",
      "  inflating: /content/drive/MyDrive/dataset/yolofinetuning/yolo finetuning/train/labels/frame_120.txt  \n",
      "  inflating: /content/drive/MyDrive/dataset/yolofinetuning/yolo finetuning/train/labels/frame_1200.txt  \n",
      "  inflating: /content/drive/MyDrive/dataset/yolofinetuning/yolo finetuning/train/labels/frame_1202.txt  \n",
      "  inflating: /content/drive/MyDrive/dataset/yolofinetuning/yolo finetuning/train/labels/frame_1204.txt  \n",
      "  inflating: /content/drive/MyDrive/dataset/yolofinetuning/yolo finetuning/train/labels/frame_1206.txt  \n",
      "  inflating: /content/drive/MyDrive/dataset/yolofinetuning/yolo finetuning/train/labels/frame_1208.txt  \n",
      "  inflating: /content/drive/MyDrive/dataset/yolofinetuning/yolo finetuning/train/labels/frame_1210.txt  \n",
      "  inflating: /content/drive/MyDrive/dataset/yolofinetuning/yolo finetuning/train/labels/frame_1212.txt  \n",
      "  inflating: /content/drive/MyDrive/dataset/yolofinetuning/yolo finetuning/train/labels/frame_1214.txt  \n",
      "  inflating: /content/drive/MyDrive/dataset/yolofinetuning/yolo finetuning/train/labels/frame_1216.txt  \n",
      "  inflating: /content/drive/MyDrive/dataset/yolofinetuning/yolo finetuning/train/labels/frame_1218.txt  \n",
      "  inflating: /content/drive/MyDrive/dataset/yolofinetuning/yolo finetuning/train/labels/frame_122.txt  \n",
      "  inflating: /content/drive/MyDrive/dataset/yolofinetuning/yolo finetuning/train/labels/frame_1220.txt  \n",
      "  inflating: /content/drive/MyDrive/dataset/yolofinetuning/yolo finetuning/train/labels/frame_1222.txt  \n",
      "  inflating: /content/drive/MyDrive/dataset/yolofinetuning/yolo finetuning/train/labels/frame_1224.txt  \n",
      "  inflating: /content/drive/MyDrive/dataset/yolofinetuning/yolo finetuning/train/labels/frame_1226.txt  \n",
      "  inflating: /content/drive/MyDrive/dataset/yolofinetuning/yolo finetuning/train/labels/frame_1228.txt  \n",
      "  inflating: /content/drive/MyDrive/dataset/yolofinetuning/yolo finetuning/train/labels/frame_1230.txt  \n",
      "  inflating: /content/drive/MyDrive/dataset/yolofinetuning/yolo finetuning/train/labels/frame_1232.txt  \n",
      "  inflating: /content/drive/MyDrive/dataset/yolofinetuning/yolo finetuning/train/labels/frame_1234.txt  \n",
      "  inflating: /content/drive/MyDrive/dataset/yolofinetuning/yolo finetuning/train/labels/frame_1236.txt  \n",
      "  inflating: /content/drive/MyDrive/dataset/yolofinetuning/yolo finetuning/train/labels/frame_1238.txt  \n",
      "  inflating: /content/drive/MyDrive/dataset/yolofinetuning/yolo finetuning/train/labels/frame_124.txt  \n",
      "  inflating: /content/drive/MyDrive/dataset/yolofinetuning/yolo finetuning/train/labels/frame_1240.txt  \n",
      "  inflating: /content/drive/MyDrive/dataset/yolofinetuning/yolo finetuning/train/labels/frame_1242.txt  \n",
      "  inflating: /content/drive/MyDrive/dataset/yolofinetuning/yolo finetuning/train/labels/frame_1244.txt  \n",
      "  inflating: /content/drive/MyDrive/dataset/yolofinetuning/yolo finetuning/train/labels/frame_1246.txt  \n",
      "  inflating: /content/drive/MyDrive/dataset/yolofinetuning/yolo finetuning/train/labels/frame_1248.txt  \n",
      "  inflating: /content/drive/MyDrive/dataset/yolofinetuning/yolo finetuning/train/labels/frame_1250.txt  \n",
      "  inflating: /content/drive/MyDrive/dataset/yolofinetuning/yolo finetuning/train/labels/frame_1252.txt  \n",
      "  inflating: /content/drive/MyDrive/dataset/yolofinetuning/yolo finetuning/train/labels/frame_1254.txt  \n",
      "  inflating: /content/drive/MyDrive/dataset/yolofinetuning/yolo finetuning/train/labels/frame_1256.txt  \n",
      "  inflating: /content/drive/MyDrive/dataset/yolofinetuning/yolo finetuning/train/labels/frame_1258.txt  \n",
      "  inflating: /content/drive/MyDrive/dataset/yolofinetuning/yolo finetuning/train/labels/frame_126.txt  \n",
      "  inflating: /content/drive/MyDrive/dataset/yolofinetuning/yolo finetuning/train/labels/frame_1260.txt  \n",
      "  inflating: /content/drive/MyDrive/dataset/yolofinetuning/yolo finetuning/train/labels/frame_1262.txt  \n",
      "  inflating: /content/drive/MyDrive/dataset/yolofinetuning/yolo finetuning/train/labels/frame_1264.txt  \n",
      "  inflating: /content/drive/MyDrive/dataset/yolofinetuning/yolo finetuning/train/labels/frame_1266.txt  \n",
      "  inflating: /content/drive/MyDrive/dataset/yolofinetuning/yolo finetuning/train/labels/frame_1268.txt  \n",
      "  inflating: /content/drive/MyDrive/dataset/yolofinetuning/yolo finetuning/train/labels/frame_1270.txt  \n",
      "  inflating: /content/drive/MyDrive/dataset/yolofinetuning/yolo finetuning/train/labels/frame_1272.txt  \n",
      "  inflating: /content/drive/MyDrive/dataset/yolofinetuning/yolo finetuning/train/labels/frame_1274.txt  \n",
      "  inflating: /content/drive/MyDrive/dataset/yolofinetuning/yolo finetuning/train/labels/frame_1276.txt  \n",
      "  inflating: /content/drive/MyDrive/dataset/yolofinetuning/yolo finetuning/train/labels/frame_1278.txt  \n",
      "  inflating: /content/drive/MyDrive/dataset/yolofinetuning/yolo finetuning/train/labels/frame_128.txt  \n",
      "  inflating: /content/drive/MyDrive/dataset/yolofinetuning/yolo finetuning/train/labels/frame_1280.txt  \n",
      "  inflating: /content/drive/MyDrive/dataset/yolofinetuning/yolo finetuning/train/labels/frame_1282.txt  \n",
      "  inflating: /content/drive/MyDrive/dataset/yolofinetuning/yolo finetuning/train/labels/frame_1284.txt  \n",
      "  inflating: /content/drive/MyDrive/dataset/yolofinetuning/yolo finetuning/train/labels/frame_1286.txt  \n",
      "  inflating: /content/drive/MyDrive/dataset/yolofinetuning/yolo finetuning/train/labels/frame_1288.txt  \n",
      "  inflating: /content/drive/MyDrive/dataset/yolofinetuning/yolo finetuning/train/labels/frame_1290.txt  \n",
      "  inflating: /content/drive/MyDrive/dataset/yolofinetuning/yolo finetuning/train/labels/frame_1292.txt  \n",
      "  inflating: /content/drive/MyDrive/dataset/yolofinetuning/yolo finetuning/train/labels/frame_1294.txt  \n",
      "  inflating: /content/drive/MyDrive/dataset/yolofinetuning/yolo finetuning/train/labels/frame_1296.txt  \n",
      "  inflating: /content/drive/MyDrive/dataset/yolofinetuning/yolo finetuning/train/labels/frame_1298.txt  \n",
      "  inflating: /content/drive/MyDrive/dataset/yolofinetuning/yolo finetuning/train/labels/frame_130.txt  \n",
      "  inflating: /content/drive/MyDrive/dataset/yolofinetuning/yolo finetuning/train/labels/frame_1300.txt  \n",
      "  inflating: /content/drive/MyDrive/dataset/yolofinetuning/yolo finetuning/train/labels/frame_1302.txt  \n",
      "  inflating: /content/drive/MyDrive/dataset/yolofinetuning/yolo finetuning/train/labels/frame_1304.txt  \n",
      "  inflating: /content/drive/MyDrive/dataset/yolofinetuning/yolo finetuning/train/labels/frame_1306.txt  \n",
      "  inflating: /content/drive/MyDrive/dataset/yolofinetuning/yolo finetuning/train/labels/frame_1308.txt  \n",
      "  inflating: /content/drive/MyDrive/dataset/yolofinetuning/yolo finetuning/train/labels/frame_1310.txt  \n",
      "  inflating: /content/drive/MyDrive/dataset/yolofinetuning/yolo finetuning/train/labels/frame_1312.txt  \n",
      "  inflating: /content/drive/MyDrive/dataset/yolofinetuning/yolo finetuning/train/labels/frame_1314.txt  \n",
      "  inflating: /content/drive/MyDrive/dataset/yolofinetuning/yolo finetuning/train/labels/frame_1316.txt  \n",
      "  inflating: /content/drive/MyDrive/dataset/yolofinetuning/yolo finetuning/train/labels/frame_1318.txt  \n",
      "  inflating: /content/drive/MyDrive/dataset/yolofinetuning/yolo finetuning/train/labels/frame_132.txt  \n",
      "  inflating: /content/drive/MyDrive/dataset/yolofinetuning/yolo finetuning/train/labels/frame_1320.txt  \n",
      "  inflating: /content/drive/MyDrive/dataset/yolofinetuning/yolo finetuning/train/labels/frame_1322.txt  \n",
      "  inflating: /content/drive/MyDrive/dataset/yolofinetuning/yolo finetuning/train/labels/frame_1324.txt  \n",
      "  inflating: /content/drive/MyDrive/dataset/yolofinetuning/yolo finetuning/train/labels/frame_1326.txt  \n",
      "  inflating: /content/drive/MyDrive/dataset/yolofinetuning/yolo finetuning/train/labels/frame_1328.txt  \n",
      "  inflating: /content/drive/MyDrive/dataset/yolofinetuning/yolo finetuning/train/labels/frame_1330.txt  \n",
      "  inflating: /content/drive/MyDrive/dataset/yolofinetuning/yolo finetuning/train/labels/frame_1332.txt  \n",
      "  inflating: /content/drive/MyDrive/dataset/yolofinetuning/yolo finetuning/train/labels/frame_1334.txt  \n",
      "  inflating: /content/drive/MyDrive/dataset/yolofinetuning/yolo finetuning/train/labels/frame_1336.txt  \n",
      "  inflating: /content/drive/MyDrive/dataset/yolofinetuning/yolo finetuning/train/labels/frame_1338.txt  \n",
      "  inflating: /content/drive/MyDrive/dataset/yolofinetuning/yolo finetuning/train/labels/frame_134.txt  \n",
      "  inflating: /content/drive/MyDrive/dataset/yolofinetuning/yolo finetuning/train/labels/frame_1340.txt  \n",
      "  inflating: /content/drive/MyDrive/dataset/yolofinetuning/yolo finetuning/train/labels/frame_1342.txt  \n",
      "  inflating: /content/drive/MyDrive/dataset/yolofinetuning/yolo finetuning/train/labels/frame_1344.txt  \n",
      "  inflating: /content/drive/MyDrive/dataset/yolofinetuning/yolo finetuning/train/labels/frame_1346.txt  \n",
      "  inflating: /content/drive/MyDrive/dataset/yolofinetuning/yolo finetuning/train/labels/frame_1348.txt  \n",
      "  inflating: /content/drive/MyDrive/dataset/yolofinetuning/yolo finetuning/train/labels/frame_1350.txt  \n",
      "  inflating: /content/drive/MyDrive/dataset/yolofinetuning/yolo finetuning/train/labels/frame_1352.txt  \n",
      "  inflating: /content/drive/MyDrive/dataset/yolofinetuning/yolo finetuning/train/labels/frame_1354.txt  \n",
      "  inflating: /content/drive/MyDrive/dataset/yolofinetuning/yolo finetuning/train/labels/frame_1356.txt  \n",
      "  inflating: /content/drive/MyDrive/dataset/yolofinetuning/yolo finetuning/train/labels/frame_1358.txt  \n",
      "  inflating: /content/drive/MyDrive/dataset/yolofinetuning/yolo finetuning/train/labels/frame_136.txt  \n",
      "  inflating: /content/drive/MyDrive/dataset/yolofinetuning/yolo finetuning/train/labels/frame_1360.txt  \n",
      "  inflating: /content/drive/MyDrive/dataset/yolofinetuning/yolo finetuning/train/labels/frame_1362.txt  \n",
      "  inflating: /content/drive/MyDrive/dataset/yolofinetuning/yolo finetuning/train/labels/frame_1364.txt  \n",
      "  inflating: /content/drive/MyDrive/dataset/yolofinetuning/yolo finetuning/train/labels/frame_1366.txt  \n",
      "  inflating: /content/drive/MyDrive/dataset/yolofinetuning/yolo finetuning/train/labels/frame_1368.txt  \n",
      "  inflating: /content/drive/MyDrive/dataset/yolofinetuning/yolo finetuning/train/labels/frame_1370.txt  \n",
      "  inflating: /content/drive/MyDrive/dataset/yolofinetuning/yolo finetuning/train/labels/frame_1372.txt  \n",
      "  inflating: /content/drive/MyDrive/dataset/yolofinetuning/yolo finetuning/train/labels/frame_1374.txt  \n",
      "  inflating: /content/drive/MyDrive/dataset/yolofinetuning/yolo finetuning/train/labels/frame_1376.txt  \n",
      "  inflating: /content/drive/MyDrive/dataset/yolofinetuning/yolo finetuning/train/labels/frame_1378.txt  \n",
      "  inflating: /content/drive/MyDrive/dataset/yolofinetuning/yolo finetuning/train/labels/frame_138.txt  \n",
      "  inflating: /content/drive/MyDrive/dataset/yolofinetuning/yolo finetuning/train/labels/frame_1380.txt  \n",
      "  inflating: /content/drive/MyDrive/dataset/yolofinetuning/yolo finetuning/train/labels/frame_1382.txt  \n",
      "  inflating: /content/drive/MyDrive/dataset/yolofinetuning/yolo finetuning/train/labels/frame_1384.txt  \n",
      "  inflating: /content/drive/MyDrive/dataset/yolofinetuning/yolo finetuning/train/labels/frame_1386.txt  \n",
      "  inflating: /content/drive/MyDrive/dataset/yolofinetuning/yolo finetuning/train/labels/frame_1388.txt  \n",
      "  inflating: /content/drive/MyDrive/dataset/yolofinetuning/yolo finetuning/train/labels/frame_1390.txt  \n",
      "  inflating: /content/drive/MyDrive/dataset/yolofinetuning/yolo finetuning/train/labels/frame_1392.txt  \n",
      "  inflating: /content/drive/MyDrive/dataset/yolofinetuning/yolo finetuning/train/labels/frame_1394.txt  \n",
      "  inflating: /content/drive/MyDrive/dataset/yolofinetuning/yolo finetuning/train/labels/frame_1396.txt  \n",
      "  inflating: /content/drive/MyDrive/dataset/yolofinetuning/yolo finetuning/train/labels/frame_1398.txt  \n",
      "  inflating: /content/drive/MyDrive/dataset/yolofinetuning/yolo finetuning/train/labels/frame_14.txt  \n",
      "  inflating: /content/drive/MyDrive/dataset/yolofinetuning/yolo finetuning/train/labels/frame_140.txt  \n",
      "  inflating: /content/drive/MyDrive/dataset/yolofinetuning/yolo finetuning/train/labels/frame_1400.txt  \n",
      "  inflating: /content/drive/MyDrive/dataset/yolofinetuning/yolo finetuning/train/labels/frame_142.txt  \n",
      "  inflating: /content/drive/MyDrive/dataset/yolofinetuning/yolo finetuning/train/labels/frame_144.txt  \n",
      "  inflating: /content/drive/MyDrive/dataset/yolofinetuning/yolo finetuning/train/labels/frame_146.txt  \n",
      "  inflating: /content/drive/MyDrive/dataset/yolofinetuning/yolo finetuning/train/labels/frame_148.txt  \n",
      "  inflating: /content/drive/MyDrive/dataset/yolofinetuning/yolo finetuning/train/labels/frame_150.txt  \n",
      "  inflating: /content/drive/MyDrive/dataset/yolofinetuning/yolo finetuning/train/labels/frame_152.txt  \n",
      "  inflating: /content/drive/MyDrive/dataset/yolofinetuning/yolo finetuning/train/labels/frame_154.txt  \n",
      "  inflating: /content/drive/MyDrive/dataset/yolofinetuning/yolo finetuning/train/labels/frame_156.txt  \n",
      "  inflating: /content/drive/MyDrive/dataset/yolofinetuning/yolo finetuning/train/labels/frame_158.txt  \n",
      "  inflating: /content/drive/MyDrive/dataset/yolofinetuning/yolo finetuning/train/labels/frame_16.txt  \n",
      "  inflating: /content/drive/MyDrive/dataset/yolofinetuning/yolo finetuning/train/labels/frame_160.txt  \n",
      "  inflating: /content/drive/MyDrive/dataset/yolofinetuning/yolo finetuning/train/labels/frame_162.txt  \n",
      "  inflating: /content/drive/MyDrive/dataset/yolofinetuning/yolo finetuning/train/labels/frame_164.txt  \n",
      "  inflating: /content/drive/MyDrive/dataset/yolofinetuning/yolo finetuning/train/labels/frame_166.txt  \n",
      "  inflating: /content/drive/MyDrive/dataset/yolofinetuning/yolo finetuning/train/labels/frame_168.txt  \n",
      "  inflating: /content/drive/MyDrive/dataset/yolofinetuning/yolo finetuning/train/labels/frame_170.txt  \n",
      "  inflating: /content/drive/MyDrive/dataset/yolofinetuning/yolo finetuning/train/labels/frame_172.txt  \n",
      "  inflating: /content/drive/MyDrive/dataset/yolofinetuning/yolo finetuning/train/labels/frame_174.txt  \n",
      "  inflating: /content/drive/MyDrive/dataset/yolofinetuning/yolo finetuning/train/labels/frame_176.txt  \n",
      "  inflating: /content/drive/MyDrive/dataset/yolofinetuning/yolo finetuning/train/labels/frame_178.txt  \n",
      "  inflating: /content/drive/MyDrive/dataset/yolofinetuning/yolo finetuning/train/labels/frame_18.txt  \n",
      "  inflating: /content/drive/MyDrive/dataset/yolofinetuning/yolo finetuning/train/labels/frame_180.txt  \n",
      "  inflating: /content/drive/MyDrive/dataset/yolofinetuning/yolo finetuning/train/labels/frame_182.txt  \n",
      "  inflating: /content/drive/MyDrive/dataset/yolofinetuning/yolo finetuning/train/labels/frame_184.txt  \n",
      "  inflating: /content/drive/MyDrive/dataset/yolofinetuning/yolo finetuning/train/labels/frame_186.txt  \n",
      "  inflating: /content/drive/MyDrive/dataset/yolofinetuning/yolo finetuning/train/labels/frame_188.txt  \n",
      "  inflating: /content/drive/MyDrive/dataset/yolofinetuning/yolo finetuning/train/labels/frame_190.txt  \n",
      "  inflating: /content/drive/MyDrive/dataset/yolofinetuning/yolo finetuning/train/labels/frame_192.txt  \n",
      "  inflating: /content/drive/MyDrive/dataset/yolofinetuning/yolo finetuning/train/labels/frame_194.txt  \n",
      "  inflating: /content/drive/MyDrive/dataset/yolofinetuning/yolo finetuning/train/labels/frame_196.txt  \n",
      "  inflating: /content/drive/MyDrive/dataset/yolofinetuning/yolo finetuning/train/labels/frame_198.txt  \n",
      "  inflating: /content/drive/MyDrive/dataset/yolofinetuning/yolo finetuning/train/labels/frame_2.txt  \n",
      "  inflating: /content/drive/MyDrive/dataset/yolofinetuning/yolo finetuning/train/labels/frame_20.txt  \n",
      "  inflating: /content/drive/MyDrive/dataset/yolofinetuning/yolo finetuning/train/labels/frame_200.txt  \n",
      "  inflating: /content/drive/MyDrive/dataset/yolofinetuning/yolo finetuning/train/labels/frame_202.txt  \n",
      "  inflating: /content/drive/MyDrive/dataset/yolofinetuning/yolo finetuning/train/labels/frame_204.txt  \n",
      "  inflating: /content/drive/MyDrive/dataset/yolofinetuning/yolo finetuning/train/labels/frame_206.txt  \n",
      "  inflating: /content/drive/MyDrive/dataset/yolofinetuning/yolo finetuning/train/labels/frame_208.txt  \n",
      "  inflating: /content/drive/MyDrive/dataset/yolofinetuning/yolo finetuning/train/labels/frame_210.txt  \n",
      "  inflating: /content/drive/MyDrive/dataset/yolofinetuning/yolo finetuning/train/labels/frame_212.txt  \n",
      "  inflating: /content/drive/MyDrive/dataset/yolofinetuning/yolo finetuning/train/labels/frame_214.txt  \n",
      "  inflating: /content/drive/MyDrive/dataset/yolofinetuning/yolo finetuning/train/labels/frame_216.txt  \n",
      "  inflating: /content/drive/MyDrive/dataset/yolofinetuning/yolo finetuning/train/labels/frame_218.txt  \n",
      "  inflating: /content/drive/MyDrive/dataset/yolofinetuning/yolo finetuning/train/labels/frame_22.txt  \n",
      "  inflating: /content/drive/MyDrive/dataset/yolofinetuning/yolo finetuning/train/labels/frame_220.txt  \n",
      "  inflating: /content/drive/MyDrive/dataset/yolofinetuning/yolo finetuning/train/labels/frame_222.txt  \n",
      "  inflating: /content/drive/MyDrive/dataset/yolofinetuning/yolo finetuning/train/labels/frame_224.txt  \n",
      "  inflating: /content/drive/MyDrive/dataset/yolofinetuning/yolo finetuning/train/labels/frame_226.txt  \n",
      "  inflating: /content/drive/MyDrive/dataset/yolofinetuning/yolo finetuning/train/labels/frame_228.txt  \n",
      "  inflating: /content/drive/MyDrive/dataset/yolofinetuning/yolo finetuning/train/labels/frame_230.txt  \n",
      "  inflating: /content/drive/MyDrive/dataset/yolofinetuning/yolo finetuning/train/labels/frame_232.txt  \n",
      "  inflating: /content/drive/MyDrive/dataset/yolofinetuning/yolo finetuning/train/labels/frame_234.txt  \n",
      "  inflating: /content/drive/MyDrive/dataset/yolofinetuning/yolo finetuning/train/labels/frame_236.txt  \n",
      "  inflating: /content/drive/MyDrive/dataset/yolofinetuning/yolo finetuning/train/labels/frame_238.txt  \n",
      "  inflating: /content/drive/MyDrive/dataset/yolofinetuning/yolo finetuning/train/labels/frame_24.txt  \n",
      "  inflating: /content/drive/MyDrive/dataset/yolofinetuning/yolo finetuning/train/labels/frame_240.txt  \n",
      "  inflating: /content/drive/MyDrive/dataset/yolofinetuning/yolo finetuning/train/labels/frame_242.txt  \n",
      "  inflating: /content/drive/MyDrive/dataset/yolofinetuning/yolo finetuning/train/labels/frame_244.txt  \n",
      "  inflating: /content/drive/MyDrive/dataset/yolofinetuning/yolo finetuning/train/labels/frame_246.txt  \n",
      "  inflating: /content/drive/MyDrive/dataset/yolofinetuning/yolo finetuning/train/labels/frame_248.txt  \n",
      "  inflating: /content/drive/MyDrive/dataset/yolofinetuning/yolo finetuning/train/labels/frame_250.txt  \n",
      "  inflating: /content/drive/MyDrive/dataset/yolofinetuning/yolo finetuning/train/labels/frame_252.txt  \n",
      "  inflating: /content/drive/MyDrive/dataset/yolofinetuning/yolo finetuning/train/labels/frame_254.txt  \n",
      "  inflating: /content/drive/MyDrive/dataset/yolofinetuning/yolo finetuning/train/labels/frame_256.txt  \n",
      "  inflating: /content/drive/MyDrive/dataset/yolofinetuning/yolo finetuning/train/labels/frame_258.txt  \n",
      "  inflating: /content/drive/MyDrive/dataset/yolofinetuning/yolo finetuning/train/labels/frame_26.txt  \n",
      "  inflating: /content/drive/MyDrive/dataset/yolofinetuning/yolo finetuning/train/labels/frame_260.txt  \n",
      "  inflating: /content/drive/MyDrive/dataset/yolofinetuning/yolo finetuning/train/labels/frame_262.txt  \n",
      "  inflating: /content/drive/MyDrive/dataset/yolofinetuning/yolo finetuning/train/labels/frame_264.txt  \n",
      "  inflating: /content/drive/MyDrive/dataset/yolofinetuning/yolo finetuning/train/labels/frame_266.txt  \n",
      "  inflating: /content/drive/MyDrive/dataset/yolofinetuning/yolo finetuning/train/labels/frame_268.txt  \n",
      "  inflating: /content/drive/MyDrive/dataset/yolofinetuning/yolo finetuning/train/labels/frame_270.txt  \n",
      "  inflating: /content/drive/MyDrive/dataset/yolofinetuning/yolo finetuning/train/labels/frame_272.txt  \n",
      "  inflating: /content/drive/MyDrive/dataset/yolofinetuning/yolo finetuning/train/labels/frame_274.txt  \n",
      "  inflating: /content/drive/MyDrive/dataset/yolofinetuning/yolo finetuning/train/labels/frame_276.txt  \n",
      "  inflating: /content/drive/MyDrive/dataset/yolofinetuning/yolo finetuning/train/labels/frame_278.txt  \n",
      "  inflating: /content/drive/MyDrive/dataset/yolofinetuning/yolo finetuning/train/labels/frame_28.txt  \n",
      "  inflating: /content/drive/MyDrive/dataset/yolofinetuning/yolo finetuning/train/labels/frame_280.txt  \n",
      "  inflating: /content/drive/MyDrive/dataset/yolofinetuning/yolo finetuning/train/labels/frame_282.txt  \n",
      "  inflating: /content/drive/MyDrive/dataset/yolofinetuning/yolo finetuning/train/labels/frame_284.txt  \n",
      "  inflating: /content/drive/MyDrive/dataset/yolofinetuning/yolo finetuning/train/labels/frame_286.txt  \n",
      "  inflating: /content/drive/MyDrive/dataset/yolofinetuning/yolo finetuning/train/labels/frame_288.txt  \n",
      "  inflating: /content/drive/MyDrive/dataset/yolofinetuning/yolo finetuning/train/labels/frame_290.txt  \n",
      "  inflating: /content/drive/MyDrive/dataset/yolofinetuning/yolo finetuning/train/labels/frame_292.txt  \n",
      "  inflating: /content/drive/MyDrive/dataset/yolofinetuning/yolo finetuning/train/labels/frame_294.txt  \n",
      "  inflating: /content/drive/MyDrive/dataset/yolofinetuning/yolo finetuning/train/labels/frame_296.txt  \n",
      "  inflating: /content/drive/MyDrive/dataset/yolofinetuning/yolo finetuning/train/labels/frame_298.txt  \n",
      "  inflating: /content/drive/MyDrive/dataset/yolofinetuning/yolo finetuning/train/labels/frame_30.txt  \n",
      "  inflating: /content/drive/MyDrive/dataset/yolofinetuning/yolo finetuning/train/labels/frame_300.txt  \n",
      "  inflating: /content/drive/MyDrive/dataset/yolofinetuning/yolo finetuning/train/labels/frame_302.txt  \n",
      "  inflating: /content/drive/MyDrive/dataset/yolofinetuning/yolo finetuning/train/labels/frame_304.txt  \n",
      "  inflating: /content/drive/MyDrive/dataset/yolofinetuning/yolo finetuning/train/labels/frame_306.txt  \n",
      "  inflating: /content/drive/MyDrive/dataset/yolofinetuning/yolo finetuning/train/labels/frame_308.txt  \n",
      "  inflating: /content/drive/MyDrive/dataset/yolofinetuning/yolo finetuning/train/labels/frame_310.txt  \n",
      "  inflating: /content/drive/MyDrive/dataset/yolofinetuning/yolo finetuning/train/labels/frame_312.txt  \n",
      "  inflating: /content/drive/MyDrive/dataset/yolofinetuning/yolo finetuning/train/labels/frame_314.txt  \n",
      "  inflating: /content/drive/MyDrive/dataset/yolofinetuning/yolo finetuning/train/labels/frame_316.txt  \n",
      "  inflating: /content/drive/MyDrive/dataset/yolofinetuning/yolo finetuning/train/labels/frame_318.txt  \n",
      "  inflating: /content/drive/MyDrive/dataset/yolofinetuning/yolo finetuning/train/labels/frame_32.txt  \n",
      "  inflating: /content/drive/MyDrive/dataset/yolofinetuning/yolo finetuning/train/labels/frame_320.txt  \n",
      "  inflating: /content/drive/MyDrive/dataset/yolofinetuning/yolo finetuning/train/labels/frame_322.txt  \n",
      "  inflating: /content/drive/MyDrive/dataset/yolofinetuning/yolo finetuning/train/labels/frame_324.txt  \n",
      "  inflating: /content/drive/MyDrive/dataset/yolofinetuning/yolo finetuning/train/labels/frame_326.txt  \n",
      "  inflating: /content/drive/MyDrive/dataset/yolofinetuning/yolo finetuning/train/labels/frame_328.txt  \n",
      "  inflating: /content/drive/MyDrive/dataset/yolofinetuning/yolo finetuning/train/labels/frame_330.txt  \n",
      "  inflating: /content/drive/MyDrive/dataset/yolofinetuning/yolo finetuning/train/labels/frame_332.txt  \n",
      "  inflating: /content/drive/MyDrive/dataset/yolofinetuning/yolo finetuning/train/labels/frame_334.txt  \n",
      "  inflating: /content/drive/MyDrive/dataset/yolofinetuning/yolo finetuning/train/labels/frame_336.txt  \n",
      "  inflating: /content/drive/MyDrive/dataset/yolofinetuning/yolo finetuning/train/labels/frame_338.txt  \n",
      "  inflating: /content/drive/MyDrive/dataset/yolofinetuning/yolo finetuning/train/labels/frame_34.txt  \n",
      "  inflating: /content/drive/MyDrive/dataset/yolofinetuning/yolo finetuning/train/labels/frame_340.txt  \n",
      "  inflating: /content/drive/MyDrive/dataset/yolofinetuning/yolo finetuning/train/labels/frame_342.txt  \n",
      "  inflating: /content/drive/MyDrive/dataset/yolofinetuning/yolo finetuning/train/labels/frame_344.txt  \n",
      "  inflating: /content/drive/MyDrive/dataset/yolofinetuning/yolo finetuning/train/labels/frame_346.txt  \n",
      "  inflating: /content/drive/MyDrive/dataset/yolofinetuning/yolo finetuning/train/labels/frame_348.txt  \n",
      "  inflating: /content/drive/MyDrive/dataset/yolofinetuning/yolo finetuning/train/labels/frame_350.txt  \n",
      "  inflating: /content/drive/MyDrive/dataset/yolofinetuning/yolo finetuning/train/labels/frame_352.txt  \n",
      "  inflating: /content/drive/MyDrive/dataset/yolofinetuning/yolo finetuning/train/labels/frame_354.txt  \n",
      "  inflating: /content/drive/MyDrive/dataset/yolofinetuning/yolo finetuning/train/labels/frame_356.txt  \n",
      "  inflating: /content/drive/MyDrive/dataset/yolofinetuning/yolo finetuning/train/labels/frame_358.txt  \n",
      "  inflating: /content/drive/MyDrive/dataset/yolofinetuning/yolo finetuning/train/labels/frame_36.txt  \n",
      "  inflating: /content/drive/MyDrive/dataset/yolofinetuning/yolo finetuning/train/labels/frame_360.txt  \n",
      "  inflating: /content/drive/MyDrive/dataset/yolofinetuning/yolo finetuning/train/labels/frame_362.txt  \n",
      "  inflating: /content/drive/MyDrive/dataset/yolofinetuning/yolo finetuning/train/labels/frame_364.txt  \n",
      "  inflating: /content/drive/MyDrive/dataset/yolofinetuning/yolo finetuning/train/labels/frame_366.txt  \n",
      "  inflating: /content/drive/MyDrive/dataset/yolofinetuning/yolo finetuning/train/labels/frame_368.txt  \n",
      "  inflating: /content/drive/MyDrive/dataset/yolofinetuning/yolo finetuning/train/labels/frame_370.txt  \n",
      "  inflating: /content/drive/MyDrive/dataset/yolofinetuning/yolo finetuning/train/labels/frame_372.txt  \n",
      "  inflating: /content/drive/MyDrive/dataset/yolofinetuning/yolo finetuning/train/labels/frame_374.txt  \n",
      "  inflating: /content/drive/MyDrive/dataset/yolofinetuning/yolo finetuning/train/labels/frame_376.txt  \n",
      "  inflating: /content/drive/MyDrive/dataset/yolofinetuning/yolo finetuning/train/labels/frame_378.txt  \n",
      "  inflating: /content/drive/MyDrive/dataset/yolofinetuning/yolo finetuning/train/labels/frame_38.txt  \n",
      "  inflating: /content/drive/MyDrive/dataset/yolofinetuning/yolo finetuning/train/labels/frame_380.txt  \n",
      "  inflating: /content/drive/MyDrive/dataset/yolofinetuning/yolo finetuning/train/labels/frame_382.txt  \n",
      "  inflating: /content/drive/MyDrive/dataset/yolofinetuning/yolo finetuning/train/labels/frame_384.txt  \n",
      "  inflating: /content/drive/MyDrive/dataset/yolofinetuning/yolo finetuning/train/labels/frame_386.txt  \n",
      "  inflating: /content/drive/MyDrive/dataset/yolofinetuning/yolo finetuning/train/labels/frame_388.txt  \n",
      "  inflating: /content/drive/MyDrive/dataset/yolofinetuning/yolo finetuning/train/labels/frame_390.txt  \n",
      "  inflating: /content/drive/MyDrive/dataset/yolofinetuning/yolo finetuning/train/labels/frame_392.txt  \n",
      "  inflating: /content/drive/MyDrive/dataset/yolofinetuning/yolo finetuning/train/labels/frame_394.txt  \n",
      "  inflating: /content/drive/MyDrive/dataset/yolofinetuning/yolo finetuning/train/labels/frame_396.txt  \n",
      "  inflating: /content/drive/MyDrive/dataset/yolofinetuning/yolo finetuning/train/labels/frame_398.txt  \n",
      "  inflating: /content/drive/MyDrive/dataset/yolofinetuning/yolo finetuning/train/labels/frame_4.txt  \n",
      "  inflating: /content/drive/MyDrive/dataset/yolofinetuning/yolo finetuning/train/labels/frame_40.txt  \n",
      "  inflating: /content/drive/MyDrive/dataset/yolofinetuning/yolo finetuning/train/labels/frame_400.txt  \n",
      "  inflating: /content/drive/MyDrive/dataset/yolofinetuning/yolo finetuning/train/labels/frame_402.txt  \n",
      "  inflating: /content/drive/MyDrive/dataset/yolofinetuning/yolo finetuning/train/labels/frame_404.txt  \n",
      "  inflating: /content/drive/MyDrive/dataset/yolofinetuning/yolo finetuning/train/labels/frame_406.txt  \n",
      "  inflating: /content/drive/MyDrive/dataset/yolofinetuning/yolo finetuning/train/labels/frame_408.txt  \n",
      "  inflating: /content/drive/MyDrive/dataset/yolofinetuning/yolo finetuning/train/labels/frame_410.txt  \n",
      "  inflating: /content/drive/MyDrive/dataset/yolofinetuning/yolo finetuning/train/labels/frame_412.txt  \n",
      "  inflating: /content/drive/MyDrive/dataset/yolofinetuning/yolo finetuning/train/labels/frame_414.txt  \n",
      "  inflating: /content/drive/MyDrive/dataset/yolofinetuning/yolo finetuning/train/labels/frame_416.txt  \n",
      "  inflating: /content/drive/MyDrive/dataset/yolofinetuning/yolo finetuning/train/labels/frame_418.txt  \n",
      "  inflating: /content/drive/MyDrive/dataset/yolofinetuning/yolo finetuning/train/labels/frame_42.txt  \n",
      "  inflating: /content/drive/MyDrive/dataset/yolofinetuning/yolo finetuning/train/labels/frame_420.txt  \n",
      "  inflating: /content/drive/MyDrive/dataset/yolofinetuning/yolo finetuning/train/labels/frame_422.txt  \n",
      "  inflating: /content/drive/MyDrive/dataset/yolofinetuning/yolo finetuning/train/labels/frame_424.txt  \n",
      "  inflating: /content/drive/MyDrive/dataset/yolofinetuning/yolo finetuning/train/labels/frame_426.txt  \n",
      "  inflating: /content/drive/MyDrive/dataset/yolofinetuning/yolo finetuning/train/labels/frame_428.txt  \n",
      "  inflating: /content/drive/MyDrive/dataset/yolofinetuning/yolo finetuning/train/labels/frame_430.txt  \n",
      "  inflating: /content/drive/MyDrive/dataset/yolofinetuning/yolo finetuning/train/labels/frame_432.txt  \n",
      "  inflating: /content/drive/MyDrive/dataset/yolofinetuning/yolo finetuning/train/labels/frame_434.txt  \n",
      "  inflating: /content/drive/MyDrive/dataset/yolofinetuning/yolo finetuning/train/labels/frame_436.txt  \n",
      "  inflating: /content/drive/MyDrive/dataset/yolofinetuning/yolo finetuning/train/labels/frame_438.txt  \n",
      "  inflating: /content/drive/MyDrive/dataset/yolofinetuning/yolo finetuning/train/labels/frame_44.txt  \n",
      "  inflating: /content/drive/MyDrive/dataset/yolofinetuning/yolo finetuning/train/labels/frame_440.txt  \n",
      "  inflating: /content/drive/MyDrive/dataset/yolofinetuning/yolo finetuning/train/labels/frame_442.txt  \n",
      "  inflating: /content/drive/MyDrive/dataset/yolofinetuning/yolo finetuning/train/labels/frame_444.txt  \n",
      "  inflating: /content/drive/MyDrive/dataset/yolofinetuning/yolo finetuning/train/labels/frame_446.txt  \n",
      "  inflating: /content/drive/MyDrive/dataset/yolofinetuning/yolo finetuning/train/labels/frame_448.txt  \n",
      "  inflating: /content/drive/MyDrive/dataset/yolofinetuning/yolo finetuning/train/labels/frame_450.txt  \n",
      "  inflating: /content/drive/MyDrive/dataset/yolofinetuning/yolo finetuning/train/labels/frame_452.txt  \n",
      "  inflating: /content/drive/MyDrive/dataset/yolofinetuning/yolo finetuning/train/labels/frame_454.txt  \n",
      "  inflating: /content/drive/MyDrive/dataset/yolofinetuning/yolo finetuning/train/labels/frame_456.txt  \n",
      "  inflating: /content/drive/MyDrive/dataset/yolofinetuning/yolo finetuning/train/labels/frame_458.txt  \n",
      "  inflating: /content/drive/MyDrive/dataset/yolofinetuning/yolo finetuning/train/labels/frame_46.txt  \n",
      "  inflating: /content/drive/MyDrive/dataset/yolofinetuning/yolo finetuning/train/labels/frame_460.txt  \n",
      "  inflating: /content/drive/MyDrive/dataset/yolofinetuning/yolo finetuning/train/labels/frame_462.txt  \n",
      "  inflating: /content/drive/MyDrive/dataset/yolofinetuning/yolo finetuning/train/labels/frame_464.txt  \n",
      "  inflating: /content/drive/MyDrive/dataset/yolofinetuning/yolo finetuning/train/labels/frame_466.txt  \n",
      "  inflating: /content/drive/MyDrive/dataset/yolofinetuning/yolo finetuning/train/labels/frame_468.txt  \n",
      "  inflating: /content/drive/MyDrive/dataset/yolofinetuning/yolo finetuning/train/labels/frame_470.txt  \n",
      "  inflating: /content/drive/MyDrive/dataset/yolofinetuning/yolo finetuning/train/labels/frame_472.txt  \n",
      "  inflating: /content/drive/MyDrive/dataset/yolofinetuning/yolo finetuning/train/labels/frame_474.txt  \n",
      "  inflating: /content/drive/MyDrive/dataset/yolofinetuning/yolo finetuning/train/labels/frame_476.txt  \n",
      "  inflating: /content/drive/MyDrive/dataset/yolofinetuning/yolo finetuning/train/labels/frame_478.txt  \n",
      "  inflating: /content/drive/MyDrive/dataset/yolofinetuning/yolo finetuning/train/labels/frame_48.txt  \n",
      "  inflating: /content/drive/MyDrive/dataset/yolofinetuning/yolo finetuning/train/labels/frame_480.txt  \n",
      "  inflating: /content/drive/MyDrive/dataset/yolofinetuning/yolo finetuning/train/labels/frame_482.txt  \n",
      "  inflating: /content/drive/MyDrive/dataset/yolofinetuning/yolo finetuning/train/labels/frame_484.txt  \n",
      "  inflating: /content/drive/MyDrive/dataset/yolofinetuning/yolo finetuning/train/labels/frame_486.txt  \n",
      "  inflating: /content/drive/MyDrive/dataset/yolofinetuning/yolo finetuning/train/labels/frame_488.txt  \n",
      "  inflating: /content/drive/MyDrive/dataset/yolofinetuning/yolo finetuning/train/labels/frame_490.txt  \n",
      "  inflating: /content/drive/MyDrive/dataset/yolofinetuning/yolo finetuning/train/labels/frame_492.txt  \n",
      "  inflating: /content/drive/MyDrive/dataset/yolofinetuning/yolo finetuning/train/labels/frame_494.txt  \n",
      "  inflating: /content/drive/MyDrive/dataset/yolofinetuning/yolo finetuning/train/labels/frame_496.txt  \n",
      "  inflating: /content/drive/MyDrive/dataset/yolofinetuning/yolo finetuning/train/labels/frame_498.txt  \n",
      "  inflating: /content/drive/MyDrive/dataset/yolofinetuning/yolo finetuning/train/labels/frame_50.txt  \n",
      "  inflating: /content/drive/MyDrive/dataset/yolofinetuning/yolo finetuning/train/labels/frame_500.txt  \n",
      "  inflating: /content/drive/MyDrive/dataset/yolofinetuning/yolo finetuning/train/labels/frame_502.txt  \n",
      "  inflating: /content/drive/MyDrive/dataset/yolofinetuning/yolo finetuning/train/labels/frame_504.txt  \n",
      "  inflating: /content/drive/MyDrive/dataset/yolofinetuning/yolo finetuning/train/labels/frame_506.txt  \n",
      "  inflating: /content/drive/MyDrive/dataset/yolofinetuning/yolo finetuning/train/labels/frame_508.txt  \n",
      "  inflating: /content/drive/MyDrive/dataset/yolofinetuning/yolo finetuning/train/labels/frame_510.txt  \n",
      "  inflating: /content/drive/MyDrive/dataset/yolofinetuning/yolo finetuning/train/labels/frame_512.txt  \n",
      "  inflating: /content/drive/MyDrive/dataset/yolofinetuning/yolo finetuning/train/labels/frame_514.txt  \n",
      "  inflating: /content/drive/MyDrive/dataset/yolofinetuning/yolo finetuning/train/labels/frame_516.txt  \n",
      "  inflating: /content/drive/MyDrive/dataset/yolofinetuning/yolo finetuning/train/labels/frame_518.txt  \n",
      "  inflating: /content/drive/MyDrive/dataset/yolofinetuning/yolo finetuning/train/labels/frame_52.txt  \n",
      "  inflating: /content/drive/MyDrive/dataset/yolofinetuning/yolo finetuning/train/labels/frame_520.txt  \n",
      "  inflating: /content/drive/MyDrive/dataset/yolofinetuning/yolo finetuning/train/labels/frame_522.txt  \n",
      "  inflating: /content/drive/MyDrive/dataset/yolofinetuning/yolo finetuning/train/labels/frame_524.txt  \n",
      "  inflating: /content/drive/MyDrive/dataset/yolofinetuning/yolo finetuning/train/labels/frame_526.txt  \n",
      "  inflating: /content/drive/MyDrive/dataset/yolofinetuning/yolo finetuning/train/labels/frame_528.txt  \n",
      "  inflating: /content/drive/MyDrive/dataset/yolofinetuning/yolo finetuning/train/labels/frame_530.txt  \n",
      "  inflating: /content/drive/MyDrive/dataset/yolofinetuning/yolo finetuning/train/labels/frame_532.txt  \n",
      "  inflating: /content/drive/MyDrive/dataset/yolofinetuning/yolo finetuning/train/labels/frame_534.txt  \n",
      "  inflating: /content/drive/MyDrive/dataset/yolofinetuning/yolo finetuning/train/labels/frame_536.txt  \n",
      "  inflating: /content/drive/MyDrive/dataset/yolofinetuning/yolo finetuning/train/labels/frame_538.txt  \n",
      "  inflating: /content/drive/MyDrive/dataset/yolofinetuning/yolo finetuning/train/labels/frame_54.txt  \n",
      "  inflating: /content/drive/MyDrive/dataset/yolofinetuning/yolo finetuning/train/labels/frame_540.txt  \n",
      "  inflating: /content/drive/MyDrive/dataset/yolofinetuning/yolo finetuning/train/labels/frame_542.txt  \n",
      "  inflating: /content/drive/MyDrive/dataset/yolofinetuning/yolo finetuning/train/labels/frame_544.txt  \n",
      "  inflating: /content/drive/MyDrive/dataset/yolofinetuning/yolo finetuning/train/labels/frame_546.txt  \n",
      "  inflating: /content/drive/MyDrive/dataset/yolofinetuning/yolo finetuning/train/labels/frame_548.txt  \n",
      "  inflating: /content/drive/MyDrive/dataset/yolofinetuning/yolo finetuning/train/labels/frame_550.txt  \n",
      "  inflating: /content/drive/MyDrive/dataset/yolofinetuning/yolo finetuning/train/labels/frame_552.txt  \n",
      "  inflating: /content/drive/MyDrive/dataset/yolofinetuning/yolo finetuning/train/labels/frame_554.txt  \n",
      "  inflating: /content/drive/MyDrive/dataset/yolofinetuning/yolo finetuning/train/labels/frame_556.txt  \n",
      "  inflating: /content/drive/MyDrive/dataset/yolofinetuning/yolo finetuning/train/labels/frame_558.txt  \n",
      "  inflating: /content/drive/MyDrive/dataset/yolofinetuning/yolo finetuning/train/labels/frame_56.txt  \n",
      "  inflating: /content/drive/MyDrive/dataset/yolofinetuning/yolo finetuning/train/labels/frame_560.txt  \n",
      "  inflating: /content/drive/MyDrive/dataset/yolofinetuning/yolo finetuning/train/labels/frame_562.txt  \n",
      "  inflating: /content/drive/MyDrive/dataset/yolofinetuning/yolo finetuning/train/labels/frame_564.txt  \n",
      "  inflating: /content/drive/MyDrive/dataset/yolofinetuning/yolo finetuning/train/labels/frame_566.txt  \n",
      "  inflating: /content/drive/MyDrive/dataset/yolofinetuning/yolo finetuning/train/labels/frame_568.txt  \n",
      "  inflating: /content/drive/MyDrive/dataset/yolofinetuning/yolo finetuning/train/labels/frame_570.txt  \n",
      "  inflating: /content/drive/MyDrive/dataset/yolofinetuning/yolo finetuning/train/labels/frame_572.txt  \n",
      "  inflating: /content/drive/MyDrive/dataset/yolofinetuning/yolo finetuning/train/labels/frame_574.txt  \n",
      "  inflating: /content/drive/MyDrive/dataset/yolofinetuning/yolo finetuning/train/labels/frame_576.txt  \n",
      "  inflating: /content/drive/MyDrive/dataset/yolofinetuning/yolo finetuning/train/labels/frame_578.txt  \n",
      "  inflating: /content/drive/MyDrive/dataset/yolofinetuning/yolo finetuning/train/labels/frame_58.txt  \n",
      "  inflating: /content/drive/MyDrive/dataset/yolofinetuning/yolo finetuning/train/labels/frame_580.txt  \n",
      "  inflating: /content/drive/MyDrive/dataset/yolofinetuning/yolo finetuning/train/labels/frame_582.txt  \n",
      "  inflating: /content/drive/MyDrive/dataset/yolofinetuning/yolo finetuning/train/labels/frame_584.txt  \n",
      "  inflating: /content/drive/MyDrive/dataset/yolofinetuning/yolo finetuning/train/labels/frame_586.txt  \n",
      "  inflating: /content/drive/MyDrive/dataset/yolofinetuning/yolo finetuning/train/labels/frame_588.txt  \n",
      "  inflating: /content/drive/MyDrive/dataset/yolofinetuning/yolo finetuning/train/labels/frame_590.txt  \n",
      "  inflating: /content/drive/MyDrive/dataset/yolofinetuning/yolo finetuning/train/labels/frame_592.txt  \n",
      "  inflating: /content/drive/MyDrive/dataset/yolofinetuning/yolo finetuning/train/labels/frame_594.txt  \n",
      "  inflating: /content/drive/MyDrive/dataset/yolofinetuning/yolo finetuning/train/labels/frame_596.txt  \n",
      "  inflating: /content/drive/MyDrive/dataset/yolofinetuning/yolo finetuning/train/labels/frame_598.txt  \n",
      "  inflating: /content/drive/MyDrive/dataset/yolofinetuning/yolo finetuning/train/labels/frame_6.txt  \n",
      "  inflating: /content/drive/MyDrive/dataset/yolofinetuning/yolo finetuning/train/labels/frame_60.txt  \n",
      "  inflating: /content/drive/MyDrive/dataset/yolofinetuning/yolo finetuning/train/labels/frame_600.txt  \n",
      "  inflating: /content/drive/MyDrive/dataset/yolofinetuning/yolo finetuning/train/labels/frame_602.txt  \n",
      "  inflating: /content/drive/MyDrive/dataset/yolofinetuning/yolo finetuning/train/labels/frame_604.txt  \n",
      "  inflating: /content/drive/MyDrive/dataset/yolofinetuning/yolo finetuning/train/labels/frame_606.txt  \n",
      "  inflating: /content/drive/MyDrive/dataset/yolofinetuning/yolo finetuning/train/labels/frame_608.txt  \n",
      "  inflating: /content/drive/MyDrive/dataset/yolofinetuning/yolo finetuning/train/labels/frame_610.txt  \n",
      "  inflating: /content/drive/MyDrive/dataset/yolofinetuning/yolo finetuning/train/labels/frame_612.txt  \n",
      "  inflating: /content/drive/MyDrive/dataset/yolofinetuning/yolo finetuning/train/labels/frame_614.txt  \n",
      "  inflating: /content/drive/MyDrive/dataset/yolofinetuning/yolo finetuning/train/labels/frame_616.txt  \n",
      "  inflating: /content/drive/MyDrive/dataset/yolofinetuning/yolo finetuning/train/labels/frame_618.txt  \n",
      "  inflating: /content/drive/MyDrive/dataset/yolofinetuning/yolo finetuning/train/labels/frame_62.txt  \n",
      "  inflating: /content/drive/MyDrive/dataset/yolofinetuning/yolo finetuning/train/labels/frame_620.txt  \n",
      "  inflating: /content/drive/MyDrive/dataset/yolofinetuning/yolo finetuning/train/labels/frame_622.txt  \n",
      "  inflating: /content/drive/MyDrive/dataset/yolofinetuning/yolo finetuning/train/labels/frame_624.txt  \n",
      "  inflating: /content/drive/MyDrive/dataset/yolofinetuning/yolo finetuning/train/labels/frame_626.txt  \n",
      "  inflating: /content/drive/MyDrive/dataset/yolofinetuning/yolo finetuning/train/labels/frame_628.txt  \n",
      "  inflating: /content/drive/MyDrive/dataset/yolofinetuning/yolo finetuning/train/labels/frame_630.txt  \n",
      "  inflating: /content/drive/MyDrive/dataset/yolofinetuning/yolo finetuning/train/labels/frame_632.txt  \n",
      "  inflating: /content/drive/MyDrive/dataset/yolofinetuning/yolo finetuning/train/labels/frame_634.txt  \n",
      "  inflating: /content/drive/MyDrive/dataset/yolofinetuning/yolo finetuning/train/labels/frame_636.txt  \n",
      "  inflating: /content/drive/MyDrive/dataset/yolofinetuning/yolo finetuning/train/labels/frame_638.txt  \n",
      "  inflating: /content/drive/MyDrive/dataset/yolofinetuning/yolo finetuning/train/labels/frame_64.txt  \n",
      "  inflating: /content/drive/MyDrive/dataset/yolofinetuning/yolo finetuning/train/labels/frame_640.txt  \n",
      "  inflating: /content/drive/MyDrive/dataset/yolofinetuning/yolo finetuning/train/labels/frame_642.txt  \n",
      "  inflating: /content/drive/MyDrive/dataset/yolofinetuning/yolo finetuning/train/labels/frame_644.txt  \n",
      "  inflating: /content/drive/MyDrive/dataset/yolofinetuning/yolo finetuning/train/labels/frame_646.txt  \n",
      "  inflating: /content/drive/MyDrive/dataset/yolofinetuning/yolo finetuning/train/labels/frame_648.txt  \n",
      "  inflating: /content/drive/MyDrive/dataset/yolofinetuning/yolo finetuning/train/labels/frame_650.txt  \n",
      "  inflating: /content/drive/MyDrive/dataset/yolofinetuning/yolo finetuning/train/labels/frame_652.txt  \n",
      "  inflating: /content/drive/MyDrive/dataset/yolofinetuning/yolo finetuning/train/labels/frame_654.txt  \n",
      "  inflating: /content/drive/MyDrive/dataset/yolofinetuning/yolo finetuning/train/labels/frame_656.txt  \n",
      "  inflating: /content/drive/MyDrive/dataset/yolofinetuning/yolo finetuning/train/labels/frame_658.txt  \n",
      "  inflating: /content/drive/MyDrive/dataset/yolofinetuning/yolo finetuning/train/labels/frame_66.txt  \n",
      "  inflating: /content/drive/MyDrive/dataset/yolofinetuning/yolo finetuning/train/labels/frame_660.txt  \n",
      "  inflating: /content/drive/MyDrive/dataset/yolofinetuning/yolo finetuning/train/labels/frame_662.txt  \n",
      "  inflating: /content/drive/MyDrive/dataset/yolofinetuning/yolo finetuning/train/labels/frame_664.txt  \n",
      "  inflating: /content/drive/MyDrive/dataset/yolofinetuning/yolo finetuning/train/labels/frame_666.txt  \n",
      "  inflating: /content/drive/MyDrive/dataset/yolofinetuning/yolo finetuning/train/labels/frame_668.txt  \n",
      "  inflating: /content/drive/MyDrive/dataset/yolofinetuning/yolo finetuning/train/labels/frame_670.txt  \n",
      "  inflating: /content/drive/MyDrive/dataset/yolofinetuning/yolo finetuning/train/labels/frame_672.txt  \n",
      "  inflating: /content/drive/MyDrive/dataset/yolofinetuning/yolo finetuning/train/labels/frame_674.txt  \n",
      "  inflating: /content/drive/MyDrive/dataset/yolofinetuning/yolo finetuning/train/labels/frame_676.txt  \n",
      "  inflating: /content/drive/MyDrive/dataset/yolofinetuning/yolo finetuning/train/labels/frame_678.txt  \n",
      "  inflating: /content/drive/MyDrive/dataset/yolofinetuning/yolo finetuning/train/labels/frame_68.txt  \n",
      "  inflating: /content/drive/MyDrive/dataset/yolofinetuning/yolo finetuning/train/labels/frame_680.txt  \n",
      "  inflating: /content/drive/MyDrive/dataset/yolofinetuning/yolo finetuning/train/labels/frame_682.txt  \n",
      "  inflating: /content/drive/MyDrive/dataset/yolofinetuning/yolo finetuning/train/labels/frame_684.txt  \n",
      "  inflating: /content/drive/MyDrive/dataset/yolofinetuning/yolo finetuning/train/labels/frame_686.txt  \n",
      "  inflating: /content/drive/MyDrive/dataset/yolofinetuning/yolo finetuning/train/labels/frame_688.txt  \n",
      "  inflating: /content/drive/MyDrive/dataset/yolofinetuning/yolo finetuning/train/labels/frame_690.txt  \n",
      "  inflating: /content/drive/MyDrive/dataset/yolofinetuning/yolo finetuning/train/labels/frame_692.txt  \n",
      "  inflating: /content/drive/MyDrive/dataset/yolofinetuning/yolo finetuning/train/labels/frame_694.txt  \n",
      "  inflating: /content/drive/MyDrive/dataset/yolofinetuning/yolo finetuning/train/labels/frame_696.txt  \n",
      "  inflating: /content/drive/MyDrive/dataset/yolofinetuning/yolo finetuning/train/labels/frame_698.txt  \n",
      "  inflating: /content/drive/MyDrive/dataset/yolofinetuning/yolo finetuning/train/labels/frame_70.txt  \n",
      "  inflating: /content/drive/MyDrive/dataset/yolofinetuning/yolo finetuning/train/labels/frame_700.txt  \n",
      "  inflating: /content/drive/MyDrive/dataset/yolofinetuning/yolo finetuning/train/labels/frame_702.txt  \n",
      "  inflating: /content/drive/MyDrive/dataset/yolofinetuning/yolo finetuning/train/labels/frame_704.txt  \n",
      "  inflating: /content/drive/MyDrive/dataset/yolofinetuning/yolo finetuning/train/labels/frame_706.txt  \n",
      "  inflating: /content/drive/MyDrive/dataset/yolofinetuning/yolo finetuning/train/labels/frame_708.txt  \n",
      "  inflating: /content/drive/MyDrive/dataset/yolofinetuning/yolo finetuning/train/labels/frame_710.txt  \n",
      "  inflating: /content/drive/MyDrive/dataset/yolofinetuning/yolo finetuning/train/labels/frame_72.txt  \n",
      "  inflating: /content/drive/MyDrive/dataset/yolofinetuning/yolo finetuning/train/labels/frame_74.txt  \n",
      "  inflating: /content/drive/MyDrive/dataset/yolofinetuning/yolo finetuning/train/labels/frame_76.txt  \n",
      "  inflating: /content/drive/MyDrive/dataset/yolofinetuning/yolo finetuning/train/labels/frame_78.txt  \n",
      "  inflating: /content/drive/MyDrive/dataset/yolofinetuning/yolo finetuning/train/labels/frame_8.txt  \n",
      "  inflating: /content/drive/MyDrive/dataset/yolofinetuning/yolo finetuning/train/labels/frame_80.txt  \n",
      "  inflating: /content/drive/MyDrive/dataset/yolofinetuning/yolo finetuning/train/labels/frame_82.txt  \n",
      "  inflating: /content/drive/MyDrive/dataset/yolofinetuning/yolo finetuning/train/labels/frame_84.txt  \n",
      "  inflating: /content/drive/MyDrive/dataset/yolofinetuning/yolo finetuning/train/labels/frame_86.txt  \n",
      "  inflating: /content/drive/MyDrive/dataset/yolofinetuning/yolo finetuning/train/labels/frame_88.txt  \n",
      "  inflating: /content/drive/MyDrive/dataset/yolofinetuning/yolo finetuning/train/labels/frame_90.txt  \n",
      "  inflating: /content/drive/MyDrive/dataset/yolofinetuning/yolo finetuning/train/labels/frame_92.txt  \n",
      "  inflating: /content/drive/MyDrive/dataset/yolofinetuning/yolo finetuning/train/labels/frame_94.txt  \n",
      "  inflating: /content/drive/MyDrive/dataset/yolofinetuning/yolo finetuning/train/labels/frame_96.txt  \n",
      "  inflating: /content/drive/MyDrive/dataset/yolofinetuning/yolo finetuning/train/labels/frame_98.txt  \n",
      "   creating: /content/drive/MyDrive/dataset/yolofinetuning/yolo finetuning/valid/\n",
      "   creating: /content/drive/MyDrive/dataset/yolofinetuning/yolo finetuning/valid/images/\n",
      "  inflating: /content/drive/MyDrive/dataset/yolofinetuning/yolo finetuning/valid/images/frame_1402.jpg  \n",
      "  inflating: /content/drive/MyDrive/dataset/yolofinetuning/yolo finetuning/valid/images/frame_1404.jpg  \n",
      "  inflating: /content/drive/MyDrive/dataset/yolofinetuning/yolo finetuning/valid/images/frame_1406.jpg  \n",
      "  inflating: /content/drive/MyDrive/dataset/yolofinetuning/yolo finetuning/valid/images/frame_1408.jpg  \n",
      "  inflating: /content/drive/MyDrive/dataset/yolofinetuning/yolo finetuning/valid/images/frame_1410.jpg  \n",
      "  inflating: /content/drive/MyDrive/dataset/yolofinetuning/yolo finetuning/valid/images/frame_1412.jpg  \n",
      "  inflating: /content/drive/MyDrive/dataset/yolofinetuning/yolo finetuning/valid/images/frame_1414.jpg  \n",
      "  inflating: /content/drive/MyDrive/dataset/yolofinetuning/yolo finetuning/valid/images/frame_1416.jpg  \n",
      "  inflating: /content/drive/MyDrive/dataset/yolofinetuning/yolo finetuning/valid/images/frame_1418.jpg  \n",
      "  inflating: /content/drive/MyDrive/dataset/yolofinetuning/yolo finetuning/valid/images/frame_1420.jpg  \n",
      "  inflating: /content/drive/MyDrive/dataset/yolofinetuning/yolo finetuning/valid/images/frame_1422.jpg  \n",
      "  inflating: /content/drive/MyDrive/dataset/yolofinetuning/yolo finetuning/valid/images/frame_1424.jpg  \n",
      "  inflating: /content/drive/MyDrive/dataset/yolofinetuning/yolo finetuning/valid/images/frame_1426.jpg  \n",
      "  inflating: /content/drive/MyDrive/dataset/yolofinetuning/yolo finetuning/valid/images/frame_1428.jpg  \n",
      "  inflating: /content/drive/MyDrive/dataset/yolofinetuning/yolo finetuning/valid/images/frame_1430.jpg  \n",
      "  inflating: /content/drive/MyDrive/dataset/yolofinetuning/yolo finetuning/valid/images/frame_1432.jpg  \n",
      "  inflating: /content/drive/MyDrive/dataset/yolofinetuning/yolo finetuning/valid/images/frame_1434.jpg  \n",
      "  inflating: /content/drive/MyDrive/dataset/yolofinetuning/yolo finetuning/valid/images/frame_1436.jpg  \n",
      "  inflating: /content/drive/MyDrive/dataset/yolofinetuning/yolo finetuning/valid/images/frame_1438.jpg  \n",
      "  inflating: /content/drive/MyDrive/dataset/yolofinetuning/yolo finetuning/valid/images/frame_1440.jpg  \n",
      "  inflating: /content/drive/MyDrive/dataset/yolofinetuning/yolo finetuning/valid/images/frame_1442.jpg  \n",
      "  inflating: /content/drive/MyDrive/dataset/yolofinetuning/yolo finetuning/valid/images/frame_1444.jpg  \n",
      "  inflating: /content/drive/MyDrive/dataset/yolofinetuning/yolo finetuning/valid/images/frame_1446.jpg  \n",
      "  inflating: /content/drive/MyDrive/dataset/yolofinetuning/yolo finetuning/valid/images/frame_1448.jpg  \n",
      "  inflating: /content/drive/MyDrive/dataset/yolofinetuning/yolo finetuning/valid/images/frame_1450.jpg  \n",
      "  inflating: /content/drive/MyDrive/dataset/yolofinetuning/yolo finetuning/valid/images/frame_1452.jpg  \n",
      "  inflating: /content/drive/MyDrive/dataset/yolofinetuning/yolo finetuning/valid/images/frame_1454.jpg  \n",
      "  inflating: /content/drive/MyDrive/dataset/yolofinetuning/yolo finetuning/valid/images/frame_1456.jpg  \n",
      "  inflating: /content/drive/MyDrive/dataset/yolofinetuning/yolo finetuning/valid/images/frame_1458.jpg  \n",
      "  inflating: /content/drive/MyDrive/dataset/yolofinetuning/yolo finetuning/valid/images/frame_1460.jpg  \n",
      "  inflating: /content/drive/MyDrive/dataset/yolofinetuning/yolo finetuning/valid/images/frame_1462.jpg  \n",
      "  inflating: /content/drive/MyDrive/dataset/yolofinetuning/yolo finetuning/valid/images/frame_1464.jpg  \n",
      "  inflating: /content/drive/MyDrive/dataset/yolofinetuning/yolo finetuning/valid/images/frame_1466.jpg  \n",
      "  inflating: /content/drive/MyDrive/dataset/yolofinetuning/yolo finetuning/valid/images/frame_1468.jpg  \n",
      "  inflating: /content/drive/MyDrive/dataset/yolofinetuning/yolo finetuning/valid/images/frame_1470.jpg  \n",
      "  inflating: /content/drive/MyDrive/dataset/yolofinetuning/yolo finetuning/valid/images/frame_1472.jpg  \n",
      "  inflating: /content/drive/MyDrive/dataset/yolofinetuning/yolo finetuning/valid/images/frame_1474.jpg  \n",
      "  inflating: /content/drive/MyDrive/dataset/yolofinetuning/yolo finetuning/valid/images/frame_1476.jpg  \n",
      "  inflating: /content/drive/MyDrive/dataset/yolofinetuning/yolo finetuning/valid/images/frame_1478.jpg  \n",
      "  inflating: /content/drive/MyDrive/dataset/yolofinetuning/yolo finetuning/valid/images/frame_1480.jpg  \n",
      "  inflating: /content/drive/MyDrive/dataset/yolofinetuning/yolo finetuning/valid/images/frame_1482.jpg  \n",
      "  inflating: /content/drive/MyDrive/dataset/yolofinetuning/yolo finetuning/valid/images/frame_1484.jpg  \n",
      "  inflating: /content/drive/MyDrive/dataset/yolofinetuning/yolo finetuning/valid/images/frame_1486.jpg  \n",
      "  inflating: /content/drive/MyDrive/dataset/yolofinetuning/yolo finetuning/valid/images/frame_1488.jpg  \n",
      "  inflating: /content/drive/MyDrive/dataset/yolofinetuning/yolo finetuning/valid/images/frame_1490.jpg  \n",
      "  inflating: /content/drive/MyDrive/dataset/yolofinetuning/yolo finetuning/valid/images/frame_1492.jpg  \n",
      "  inflating: /content/drive/MyDrive/dataset/yolofinetuning/yolo finetuning/valid/images/frame_1494.jpg  \n",
      "  inflating: /content/drive/MyDrive/dataset/yolofinetuning/yolo finetuning/valid/images/frame_1496.jpg  \n",
      "  inflating: /content/drive/MyDrive/dataset/yolofinetuning/yolo finetuning/valid/images/frame_1498.jpg  \n",
      "  inflating: /content/drive/MyDrive/dataset/yolofinetuning/yolo finetuning/valid/images/frame_1500.jpg  \n",
      "   creating: /content/drive/MyDrive/dataset/yolofinetuning/yolo finetuning/valid/labels/\n",
      "  inflating: /content/drive/MyDrive/dataset/yolofinetuning/yolo finetuning/valid/labels/classes.txt  \n",
      "  inflating: /content/drive/MyDrive/dataset/yolofinetuning/yolo finetuning/valid/labels/frame_1402.txt  \n",
      "  inflating: /content/drive/MyDrive/dataset/yolofinetuning/yolo finetuning/valid/labels/frame_1404.txt  \n",
      "  inflating: /content/drive/MyDrive/dataset/yolofinetuning/yolo finetuning/valid/labels/frame_1406.txt  \n",
      "  inflating: /content/drive/MyDrive/dataset/yolofinetuning/yolo finetuning/valid/labels/frame_1408.txt  \n",
      "  inflating: /content/drive/MyDrive/dataset/yolofinetuning/yolo finetuning/valid/labels/frame_1410.txt  \n",
      "  inflating: /content/drive/MyDrive/dataset/yolofinetuning/yolo finetuning/valid/labels/frame_1412.txt  \n",
      "  inflating: /content/drive/MyDrive/dataset/yolofinetuning/yolo finetuning/valid/labels/frame_1414.txt  \n",
      "  inflating: /content/drive/MyDrive/dataset/yolofinetuning/yolo finetuning/valid/labels/frame_1416.txt  \n",
      "  inflating: /content/drive/MyDrive/dataset/yolofinetuning/yolo finetuning/valid/labels/frame_1418.txt  \n",
      "  inflating: /content/drive/MyDrive/dataset/yolofinetuning/yolo finetuning/valid/labels/frame_1420.txt  \n",
      "  inflating: /content/drive/MyDrive/dataset/yolofinetuning/yolo finetuning/valid/labels/frame_1422.txt  \n",
      "  inflating: /content/drive/MyDrive/dataset/yolofinetuning/yolo finetuning/valid/labels/frame_1424.txt  \n",
      "  inflating: /content/drive/MyDrive/dataset/yolofinetuning/yolo finetuning/valid/labels/frame_1426.txt  \n",
      "  inflating: /content/drive/MyDrive/dataset/yolofinetuning/yolo finetuning/valid/labels/frame_1428.txt  \n",
      "  inflating: /content/drive/MyDrive/dataset/yolofinetuning/yolo finetuning/valid/labels/frame_1430.txt  \n",
      "  inflating: /content/drive/MyDrive/dataset/yolofinetuning/yolo finetuning/valid/labels/frame_1432.txt  \n",
      "  inflating: /content/drive/MyDrive/dataset/yolofinetuning/yolo finetuning/valid/labels/frame_1434.txt  \n",
      "  inflating: /content/drive/MyDrive/dataset/yolofinetuning/yolo finetuning/valid/labels/frame_1436.txt  \n",
      "  inflating: /content/drive/MyDrive/dataset/yolofinetuning/yolo finetuning/valid/labels/frame_1438.txt  \n",
      "  inflating: /content/drive/MyDrive/dataset/yolofinetuning/yolo finetuning/valid/labels/frame_1440.txt  \n",
      "  inflating: /content/drive/MyDrive/dataset/yolofinetuning/yolo finetuning/valid/labels/frame_1442.txt  \n",
      "  inflating: /content/drive/MyDrive/dataset/yolofinetuning/yolo finetuning/valid/labels/frame_1444.txt  \n",
      "  inflating: /content/drive/MyDrive/dataset/yolofinetuning/yolo finetuning/valid/labels/frame_1446.txt  \n",
      "  inflating: /content/drive/MyDrive/dataset/yolofinetuning/yolo finetuning/valid/labels/frame_1448.txt  \n",
      "  inflating: /content/drive/MyDrive/dataset/yolofinetuning/yolo finetuning/valid/labels/frame_1450.txt  \n",
      "  inflating: /content/drive/MyDrive/dataset/yolofinetuning/yolo finetuning/valid/labels/frame_1452.txt  \n",
      "  inflating: /content/drive/MyDrive/dataset/yolofinetuning/yolo finetuning/valid/labels/frame_1454.txt  \n",
      "  inflating: /content/drive/MyDrive/dataset/yolofinetuning/yolo finetuning/valid/labels/frame_1456.txt  \n",
      "  inflating: /content/drive/MyDrive/dataset/yolofinetuning/yolo finetuning/valid/labels/frame_1458.txt  \n",
      "  inflating: /content/drive/MyDrive/dataset/yolofinetuning/yolo finetuning/valid/labels/frame_1460.txt  \n",
      "  inflating: /content/drive/MyDrive/dataset/yolofinetuning/yolo finetuning/valid/labels/frame_1462.txt  \n",
      "  inflating: /content/drive/MyDrive/dataset/yolofinetuning/yolo finetuning/valid/labels/frame_1464.txt  \n",
      "  inflating: /content/drive/MyDrive/dataset/yolofinetuning/yolo finetuning/valid/labels/frame_1466.txt  \n",
      "  inflating: /content/drive/MyDrive/dataset/yolofinetuning/yolo finetuning/valid/labels/frame_1468.txt  \n",
      "  inflating: /content/drive/MyDrive/dataset/yolofinetuning/yolo finetuning/valid/labels/frame_1470.txt  \n",
      "  inflating: /content/drive/MyDrive/dataset/yolofinetuning/yolo finetuning/valid/labels/frame_1472.txt  \n",
      "  inflating: /content/drive/MyDrive/dataset/yolofinetuning/yolo finetuning/valid/labels/frame_1474.txt  \n",
      "  inflating: /content/drive/MyDrive/dataset/yolofinetuning/yolo finetuning/valid/labels/frame_1476.txt  \n",
      "  inflating: /content/drive/MyDrive/dataset/yolofinetuning/yolo finetuning/valid/labels/frame_1478.txt  \n",
      "  inflating: /content/drive/MyDrive/dataset/yolofinetuning/yolo finetuning/valid/labels/frame_1480.txt  \n",
      "  inflating: /content/drive/MyDrive/dataset/yolofinetuning/yolo finetuning/valid/labels/frame_1482.txt  \n",
      "  inflating: /content/drive/MyDrive/dataset/yolofinetuning/yolo finetuning/valid/labels/frame_1484.txt  \n",
      "  inflating: /content/drive/MyDrive/dataset/yolofinetuning/yolo finetuning/valid/labels/frame_1486.txt  \n",
      "  inflating: /content/drive/MyDrive/dataset/yolofinetuning/yolo finetuning/valid/labels/frame_1488.txt  \n",
      "  inflating: /content/drive/MyDrive/dataset/yolofinetuning/yolo finetuning/valid/labels/frame_1490.txt  \n",
      "  inflating: /content/drive/MyDrive/dataset/yolofinetuning/yolo finetuning/valid/labels/frame_1492.txt  \n",
      "  inflating: /content/drive/MyDrive/dataset/yolofinetuning/yolo finetuning/valid/labels/frame_1494.txt  \n",
      "  inflating: /content/drive/MyDrive/dataset/yolofinetuning/yolo finetuning/valid/labels/frame_1496.txt  \n",
      "  inflating: /content/drive/MyDrive/dataset/yolofinetuning/yolo finetuning/valid/labels/frame_1498.txt  \n",
      "  inflating: /content/drive/MyDrive/dataset/yolofinetuning/yolo finetuning/valid/labels/frame_1500.txt  \n"
     ]
    }
   ],
   "source": [
    "!unzip /content/drive/MyDrive/dataset/yolofinetuning.zip -d /content/drive/MyDrive/dataset/yolofinetuning"
   ]
  },
  {
   "cell_type": "markdown",
   "metadata": {
    "id": "mSu3VbZQS1cr"
   },
   "source": [
    "\n",
    "\n",
    "# Fine tuning Code\n"
   ]
  },
  {
   "cell_type": "code",
   "execution_count": null,
   "metadata": {
    "colab": {
     "base_uri": "https://localhost:8080/"
    },
    "executionInfo": {
     "elapsed": 1164978,
     "status": "ok",
     "timestamp": 1714326469576,
     "user": {
      "displayName": "Harsh Maheshwari",
      "userId": "10425666184789192535"
     },
     "user_tz": -330
    },
    "id": "gQ_U0M0rWi0m",
    "outputId": "a3edc22f-4fa7-430f-bb9c-72adec3cbaa2"
   },
   "outputs": [
    {
     "name": "stdout",
     "output_type": "stream",
     "text": [
      "Downloading https://github.com/ultralytics/assets/releases/download/v8.2.0/yolov8x.pt to 'yolov8x.pt'...\n"
     ]
    },
    {
     "name": "stderr",
     "output_type": "stream",
     "text": [
      "100%|██████████| 131M/131M [00:01<00:00, 126MB/s]\n"
     ]
    },
    {
     "name": "stdout",
     "output_type": "stream",
     "text": [
      "Ultralytics YOLOv8.2.4 🚀 Python-3.10.12 torch-2.2.1+cu121 CUDA:0 (Tesla T4, 15102MiB)\n",
      "\u001b[34m\u001b[1mengine/trainer: \u001b[0mtask=detect, mode=train, model=yolov8x.pt, data=/content/drive/MyDrive/dataset/yolofinetuning/yolofinetuning/data.yaml, epochs=40, time=None, patience=100, batch=16, imgsz=640, save=True, save_period=-1, cache=False, device=None, workers=8, project=None, name=train, exist_ok=False, pretrained=True, optimizer=auto, verbose=True, seed=0, deterministic=True, single_cls=False, rect=False, cos_lr=False, close_mosaic=10, resume=False, amp=True, fraction=1.0, profile=False, freeze=None, multi_scale=False, overlap_mask=True, mask_ratio=4, dropout=0.0, val=True, split=val, save_json=False, save_hybrid=False, conf=None, iou=0.7, max_det=300, half=False, dnn=False, plots=True, source=None, vid_stride=1, stream_buffer=False, visualize=False, augment=False, agnostic_nms=False, classes=None, retina_masks=False, embed=None, show=False, save_frames=False, save_txt=False, save_conf=False, save_crop=False, show_labels=True, show_conf=True, show_boxes=True, line_width=None, format=torchscript, keras=False, optimize=False, int8=False, dynamic=False, simplify=False, opset=None, workspace=4, nms=False, lr0=0.01, lrf=0.01, momentum=0.937, weight_decay=0.0005, warmup_epochs=3.0, warmup_momentum=0.8, warmup_bias_lr=0.1, box=7.5, cls=0.5, dfl=1.5, pose=12.0, kobj=1.0, label_smoothing=0.0, nbs=64, hsv_h=0.015, hsv_s=0.7, hsv_v=0.4, degrees=0.0, translate=0.1, scale=0.5, shear=0.0, perspective=0.0, flipud=0.0, fliplr=0.5, bgr=0.0, mosaic=1.0, mixup=0.0, copy_paste=0.0, auto_augment=randaugment, erasing=0.4, crop_fraction=1.0, cfg=None, tracker=botsort.yaml, save_dir=runs/detect/train\n",
      "Downloading https://ultralytics.com/assets/Arial.ttf to '/root/.config/Ultralytics/Arial.ttf'...\n"
     ]
    },
    {
     "name": "stderr",
     "output_type": "stream",
     "text": [
      "100%|██████████| 755k/755k [00:00<00:00, 17.0MB/s]\n"
     ]
    },
    {
     "name": "stdout",
     "output_type": "stream",
     "text": [
      "Overriding model.yaml nc=80 with nc=2\n",
      "\n",
      "                   from  n    params  module                                       arguments                     \n",
      "  0                  -1  1      2320  ultralytics.nn.modules.conv.Conv             [3, 80, 3, 2]                 \n",
      "  1                  -1  1    115520  ultralytics.nn.modules.conv.Conv             [80, 160, 3, 2]               \n",
      "  2                  -1  3    436800  ultralytics.nn.modules.block.C2f             [160, 160, 3, True]           \n",
      "  3                  -1  1    461440  ultralytics.nn.modules.conv.Conv             [160, 320, 3, 2]              \n",
      "  4                  -1  6   3281920  ultralytics.nn.modules.block.C2f             [320, 320, 6, True]           \n",
      "  5                  -1  1   1844480  ultralytics.nn.modules.conv.Conv             [320, 640, 3, 2]              \n",
      "  6                  -1  6  13117440  ultralytics.nn.modules.block.C2f             [640, 640, 6, True]           \n",
      "  7                  -1  1   3687680  ultralytics.nn.modules.conv.Conv             [640, 640, 3, 2]              \n",
      "  8                  -1  3   6969600  ultralytics.nn.modules.block.C2f             [640, 640, 3, True]           \n",
      "  9                  -1  1   1025920  ultralytics.nn.modules.block.SPPF            [640, 640, 5]                 \n",
      " 10                  -1  1         0  torch.nn.modules.upsampling.Upsample         [None, 2, 'nearest']          \n",
      " 11             [-1, 6]  1         0  ultralytics.nn.modules.conv.Concat           [1]                           \n",
      " 12                  -1  3   7379200  ultralytics.nn.modules.block.C2f             [1280, 640, 3]                \n",
      " 13                  -1  1         0  torch.nn.modules.upsampling.Upsample         [None, 2, 'nearest']          \n",
      " 14             [-1, 4]  1         0  ultralytics.nn.modules.conv.Concat           [1]                           \n",
      " 15                  -1  3   1948800  ultralytics.nn.modules.block.C2f             [960, 320, 3]                 \n",
      " 16                  -1  1    922240  ultralytics.nn.modules.conv.Conv             [320, 320, 3, 2]              \n",
      " 17            [-1, 12]  1         0  ultralytics.nn.modules.conv.Concat           [1]                           \n",
      " 18                  -1  3   7174400  ultralytics.nn.modules.block.C2f             [960, 640, 3]                 \n",
      " 19                  -1  1   3687680  ultralytics.nn.modules.conv.Conv             [640, 640, 3, 2]              \n",
      " 20             [-1, 9]  1         0  ultralytics.nn.modules.conv.Concat           [1]                           \n",
      " 21                  -1  3   7379200  ultralytics.nn.modules.block.C2f             [1280, 640, 3]                \n",
      " 22        [15, 18, 21]  1   8719894  ultralytics.nn.modules.head.Detect           [2, [320, 640, 640]]          \n",
      "Model summary: 365 layers, 68154534 parameters, 68154518 gradients, 258.1 GFLOPs\n",
      "\n",
      "Transferred 589/595 items from pretrained weights\n",
      "\u001b[34m\u001b[1mTensorBoard: \u001b[0mStart with 'tensorboard --logdir runs/detect/train', view at http://localhost:6006/\n",
      "Freezing layer 'model.22.dfl.conv.weight'\n",
      "\u001b[34m\u001b[1mAMP: \u001b[0mrunning Automatic Mixed Precision (AMP) checks with YOLOv8n...\n",
      "Downloading https://github.com/ultralytics/assets/releases/download/v8.2.0/yolov8n.pt to 'yolov8n.pt'...\n"
     ]
    },
    {
     "name": "stderr",
     "output_type": "stream",
     "text": [
      "100%|██████████| 6.23M/6.23M [00:00<00:00, 77.4MB/s]\n"
     ]
    },
    {
     "name": "stdout",
     "output_type": "stream",
     "text": [
      "\u001b[34m\u001b[1mAMP: \u001b[0mchecks passed ✅\n"
     ]
    },
    {
     "name": "stderr",
     "output_type": "stream",
     "text": [
      "\u001b[34m\u001b[1mtrain: \u001b[0mScanning /content/drive/MyDrive/dataset/yolofinetuning/yolofinetuning/train/labels.cache... 557 images, 0 backgrounds, 0 corrupt: 100%|██████████| 557/557 [00:00<?, ?it/s]\n"
     ]
    },
    {
     "name": "stdout",
     "output_type": "stream",
     "text": [
      "\u001b[34m\u001b[1malbumentations: \u001b[0mBlur(p=0.01, blur_limit=(3, 7)), MedianBlur(p=0.01, blur_limit=(3, 7)), ToGray(p=0.01), CLAHE(p=0.01, clip_limit=(1, 4.0), tile_grid_size=(8, 8))\n"
     ]
    },
    {
     "name": "stderr",
     "output_type": "stream",
     "text": [
      "/usr/lib/python3.10/multiprocessing/popen_fork.py:66: RuntimeWarning: os.fork() was called. os.fork() is incompatible with multithreaded code, and JAX is multithreaded, so this will likely lead to a deadlock.\n",
      "  self.pid = os.fork()\n",
      "\u001b[34m\u001b[1mval: \u001b[0mScanning /content/drive/MyDrive/dataset/yolofinetuning/yolofinetuning/valid/labels.cache... 50 images, 0 backgrounds, 0 corrupt: 100%|██████████| 50/50 [00:00<?, ?it/s]\n"
     ]
    },
    {
     "name": "stdout",
     "output_type": "stream",
     "text": [
      "Plotting labels to runs/detect/train/labels.jpg... \n",
      "\u001b[34m\u001b[1moptimizer:\u001b[0m 'optimizer=auto' found, ignoring 'lr0=0.01' and 'momentum=0.937' and determining best 'optimizer', 'lr0' and 'momentum' automatically... \n",
      "\u001b[34m\u001b[1moptimizer:\u001b[0m AdamW(lr=0.001667, momentum=0.9) with parameter groups 97 weight(decay=0.0), 104 weight(decay=0.0005), 103 bias(decay=0.0)\n",
      "\u001b[34m\u001b[1mTensorBoard: \u001b[0mmodel graph visualization added ✅\n",
      "Image sizes 640 train, 640 val\n",
      "Using 2 dataloader workers\n",
      "Logging results to \u001b[1mruns/detect/train\u001b[0m\n",
      "Starting training for 40 epochs...\n",
      "\n",
      "      Epoch    GPU_mem   box_loss   cls_loss   dfl_loss  Instances       Size\n"
     ]
    },
    {
     "name": "stderr",
     "output_type": "stream",
     "text": [
      "       1/40      14.2G      2.071      1.867      1.631        512        640: 100%|██████████| 35/35 [00:52<00:00,  1.50s/it]\n",
      "                 Class     Images  Instances      Box(P          R      mAP50  mAP50-95): 100%|██████████| 2/2 [00:02<00:00,  1.41s/it]"
     ]
    },
    {
     "name": "stdout",
     "output_type": "stream",
     "text": [
      "                   all         50       1437      0.261      0.559      0.258      0.135\n"
     ]
    },
    {
     "name": "stderr",
     "output_type": "stream",
     "text": [
      "\n"
     ]
    },
    {
     "name": "stdout",
     "output_type": "stream",
     "text": [
      "\n",
      "      Epoch    GPU_mem   box_loss   cls_loss   dfl_loss  Instances       Size\n"
     ]
    },
    {
     "name": "stderr",
     "output_type": "stream",
     "text": [
      "       2/40      13.8G      1.492     0.8277      1.303        624        640: 100%|██████████| 35/35 [00:43<00:00,  1.23s/it]\n",
      "                 Class     Images  Instances      Box(P          R      mAP50  mAP50-95): 100%|██████████| 2/2 [00:02<00:00,  1.19s/it]"
     ]
    },
    {
     "name": "stdout",
     "output_type": "stream",
     "text": [
      "                   all         50       1437     0.0539       0.37     0.0394     0.0209\n"
     ]
    },
    {
     "name": "stderr",
     "output_type": "stream",
     "text": [
      "\n"
     ]
    },
    {
     "name": "stdout",
     "output_type": "stream",
     "text": [
      "\n",
      "      Epoch    GPU_mem   box_loss   cls_loss   dfl_loss  Instances       Size\n"
     ]
    },
    {
     "name": "stderr",
     "output_type": "stream",
     "text": [
      "       3/40      13.9G      1.276     0.7169      1.203        520        640: 100%|██████████| 35/35 [00:43<00:00,  1.23s/it]\n",
      "                 Class     Images  Instances      Box(P          R      mAP50  mAP50-95): 100%|██████████| 2/2 [00:01<00:00,  1.17it/s]"
     ]
    },
    {
     "name": "stdout",
     "output_type": "stream",
     "text": [
      "                   all         50       1437      0.775      0.649      0.746      0.491\n"
     ]
    },
    {
     "name": "stderr",
     "output_type": "stream",
     "text": [
      "\n"
     ]
    },
    {
     "name": "stdout",
     "output_type": "stream",
     "text": [
      "\n",
      "      Epoch    GPU_mem   box_loss   cls_loss   dfl_loss  Instances       Size\n"
     ]
    },
    {
     "name": "stderr",
     "output_type": "stream",
     "text": [
      "       4/40      13.9G      1.199     0.6873       1.17        488        640: 100%|██████████| 35/35 [00:43<00:00,  1.23s/it]\n",
      "                 Class     Images  Instances      Box(P          R      mAP50  mAP50-95): 100%|██████████| 2/2 [00:01<00:00,  1.08it/s]"
     ]
    },
    {
     "name": "stdout",
     "output_type": "stream",
     "text": [
      "                   all         50       1437      0.636      0.586      0.645      0.486\n"
     ]
    },
    {
     "name": "stderr",
     "output_type": "stream",
     "text": [
      "\n"
     ]
    },
    {
     "name": "stdout",
     "output_type": "stream",
     "text": [
      "\n",
      "      Epoch    GPU_mem   box_loss   cls_loss   dfl_loss  Instances       Size\n"
     ]
    },
    {
     "name": "stderr",
     "output_type": "stream",
     "text": [
      "       5/40      13.8G      1.057      0.614      1.111        502        640: 100%|██████████| 35/35 [00:42<00:00,  1.23s/it]\n",
      "                 Class     Images  Instances      Box(P          R      mAP50  mAP50-95): 100%|██████████| 2/2 [00:01<00:00,  1.09it/s]"
     ]
    },
    {
     "name": "stdout",
     "output_type": "stream",
     "text": [
      "                   all         50       1437      0.769      0.584      0.668      0.479\n"
     ]
    },
    {
     "name": "stderr",
     "output_type": "stream",
     "text": [
      "\n"
     ]
    },
    {
     "name": "stdout",
     "output_type": "stream",
     "text": [
      "\n",
      "      Epoch    GPU_mem   box_loss   cls_loss   dfl_loss  Instances       Size\n"
     ]
    },
    {
     "name": "stderr",
     "output_type": "stream",
     "text": [
      "       6/40      13.9G     0.9965     0.5685      1.067        545        640: 100%|██████████| 35/35 [00:42<00:00,  1.23s/it]\n",
      "                 Class     Images  Instances      Box(P          R      mAP50  mAP50-95): 100%|██████████| 2/2 [00:01<00:00,  1.22it/s]"
     ]
    },
    {
     "name": "stdout",
     "output_type": "stream",
     "text": [
      "                   all         50       1437      0.921      0.766      0.876      0.678\n"
     ]
    },
    {
     "name": "stderr",
     "output_type": "stream",
     "text": [
      "\n"
     ]
    },
    {
     "name": "stdout",
     "output_type": "stream",
     "text": [
      "\n",
      "      Epoch    GPU_mem   box_loss   cls_loss   dfl_loss  Instances       Size\n"
     ]
    },
    {
     "name": "stderr",
     "output_type": "stream",
     "text": [
      "       7/40      14.1G     0.9088     0.5267      1.042        603        640: 100%|██████████| 35/35 [00:42<00:00,  1.23s/it]\n",
      "                 Class     Images  Instances      Box(P          R      mAP50  mAP50-95): 100%|██████████| 2/2 [00:01<00:00,  1.17it/s]"
     ]
    },
    {
     "name": "stdout",
     "output_type": "stream",
     "text": [
      "                   all         50       1437      0.884       0.85      0.927      0.719\n"
     ]
    },
    {
     "name": "stderr",
     "output_type": "stream",
     "text": [
      "\n"
     ]
    },
    {
     "name": "stdout",
     "output_type": "stream",
     "text": [
      "\n",
      "      Epoch    GPU_mem   box_loss   cls_loss   dfl_loss  Instances       Size\n"
     ]
    },
    {
     "name": "stderr",
     "output_type": "stream",
     "text": [
      "       8/40      14.1G     0.8809      0.509      1.023        426        640: 100%|██████████| 35/35 [00:42<00:00,  1.22s/it]\n",
      "                 Class     Images  Instances      Box(P          R      mAP50  mAP50-95): 100%|██████████| 2/2 [00:01<00:00,  1.09it/s]"
     ]
    },
    {
     "name": "stdout",
     "output_type": "stream",
     "text": [
      "                   all         50       1437      0.881       0.87      0.935       0.69\n"
     ]
    },
    {
     "name": "stderr",
     "output_type": "stream",
     "text": [
      "\n"
     ]
    },
    {
     "name": "stdout",
     "output_type": "stream",
     "text": [
      "\n",
      "      Epoch    GPU_mem   box_loss   cls_loss   dfl_loss  Instances       Size\n"
     ]
    },
    {
     "name": "stderr",
     "output_type": "stream",
     "text": [
      "       9/40      14.1G     0.8242     0.4822     0.9934        467        640: 100%|██████████| 35/35 [00:42<00:00,  1.22s/it]\n",
      "                 Class     Images  Instances      Box(P          R      mAP50  mAP50-95): 100%|██████████| 2/2 [00:01<00:00,  1.10it/s]"
     ]
    },
    {
     "name": "stdout",
     "output_type": "stream",
     "text": [
      "                   all         50       1437      0.958      0.851      0.956      0.763\n"
     ]
    },
    {
     "name": "stderr",
     "output_type": "stream",
     "text": [
      "\n"
     ]
    },
    {
     "name": "stdout",
     "output_type": "stream",
     "text": [
      "\n",
      "      Epoch    GPU_mem   box_loss   cls_loss   dfl_loss  Instances       Size\n"
     ]
    },
    {
     "name": "stderr",
     "output_type": "stream",
     "text": [
      "      10/40      13.8G     0.7564     0.4509     0.9703        466        640: 100%|██████████| 35/35 [00:43<00:00,  1.23s/it]\n",
      "                 Class     Images  Instances      Box(P          R      mAP50  mAP50-95): 100%|██████████| 2/2 [00:01<00:00,  1.20it/s]"
     ]
    },
    {
     "name": "stdout",
     "output_type": "stream",
     "text": [
      "                   all         50       1437      0.921      0.902      0.955      0.777\n"
     ]
    },
    {
     "name": "stderr",
     "output_type": "stream",
     "text": [
      "\n"
     ]
    },
    {
     "name": "stdout",
     "output_type": "stream",
     "text": [
      "\n",
      "      Epoch    GPU_mem   box_loss   cls_loss   dfl_loss  Instances       Size\n"
     ]
    },
    {
     "name": "stderr",
     "output_type": "stream",
     "text": [
      "      11/40      13.9G     0.7177     0.4307     0.9682        514        640: 100%|██████████| 35/35 [00:43<00:00,  1.23s/it]\n",
      "                 Class     Images  Instances      Box(P          R      mAP50  mAP50-95): 100%|██████████| 2/2 [00:01<00:00,  1.20it/s]"
     ]
    },
    {
     "name": "stdout",
     "output_type": "stream",
     "text": [
      "                   all         50       1437      0.895      0.863      0.946       0.78\n"
     ]
    },
    {
     "name": "stderr",
     "output_type": "stream",
     "text": [
      "\n"
     ]
    },
    {
     "name": "stdout",
     "output_type": "stream",
     "text": [
      "\n",
      "      Epoch    GPU_mem   box_loss   cls_loss   dfl_loss  Instances       Size\n"
     ]
    },
    {
     "name": "stderr",
     "output_type": "stream",
     "text": [
      "      12/40        14G     0.7034     0.4187     0.9571        535        640: 100%|██████████| 35/35 [00:42<00:00,  1.23s/it]\n",
      "                 Class     Images  Instances      Box(P          R      mAP50  mAP50-95): 100%|██████████| 2/2 [00:02<00:00,  1.03s/it]"
     ]
    },
    {
     "name": "stdout",
     "output_type": "stream",
     "text": [
      "                   all         50       1437      0.949      0.898      0.964      0.777\n"
     ]
    },
    {
     "name": "stderr",
     "output_type": "stream",
     "text": [
      "\n"
     ]
    },
    {
     "name": "stdout",
     "output_type": "stream",
     "text": [
      "\n",
      "      Epoch    GPU_mem   box_loss   cls_loss   dfl_loss  Instances       Size\n"
     ]
    },
    {
     "name": "stderr",
     "output_type": "stream",
     "text": [
      "      13/40        14G     0.7015      0.419     0.9597        463        640: 100%|██████████| 35/35 [00:42<00:00,  1.23s/it]\n",
      "                 Class     Images  Instances      Box(P          R      mAP50  mAP50-95): 100%|██████████| 2/2 [00:01<00:00,  1.20it/s]"
     ]
    },
    {
     "name": "stdout",
     "output_type": "stream",
     "text": [
      "                   all         50       1437      0.945      0.849      0.936      0.754\n"
     ]
    },
    {
     "name": "stderr",
     "output_type": "stream",
     "text": [
      "\n"
     ]
    },
    {
     "name": "stdout",
     "output_type": "stream",
     "text": [
      "\n",
      "      Epoch    GPU_mem   box_loss   cls_loss   dfl_loss  Instances       Size\n"
     ]
    },
    {
     "name": "stderr",
     "output_type": "stream",
     "text": [
      "      14/40      13.8G     0.6746     0.4089     0.9432        441        640: 100%|██████████| 35/35 [00:43<00:00,  1.23s/it]\n",
      "                 Class     Images  Instances      Box(P          R      mAP50  mAP50-95): 100%|██████████| 2/2 [00:01<00:00,  1.33it/s]"
     ]
    },
    {
     "name": "stdout",
     "output_type": "stream",
     "text": [
      "                   all         50       1437      0.963      0.846      0.957      0.777\n"
     ]
    },
    {
     "name": "stderr",
     "output_type": "stream",
     "text": [
      "\n"
     ]
    },
    {
     "name": "stdout",
     "output_type": "stream",
     "text": [
      "\n",
      "      Epoch    GPU_mem   box_loss   cls_loss   dfl_loss  Instances       Size\n"
     ]
    },
    {
     "name": "stderr",
     "output_type": "stream",
     "text": [
      "      15/40      13.8G     0.6483     0.3932     0.9322        477        640: 100%|██████████| 35/35 [00:43<00:00,  1.23s/it]\n",
      "                 Class     Images  Instances      Box(P          R      mAP50  mAP50-95): 100%|██████████| 2/2 [00:01<00:00,  1.04it/s]"
     ]
    },
    {
     "name": "stdout",
     "output_type": "stream",
     "text": [
      "                   all         50       1437      0.969      0.886      0.945      0.761\n"
     ]
    },
    {
     "name": "stderr",
     "output_type": "stream",
     "text": [
      "\n"
     ]
    },
    {
     "name": "stdout",
     "output_type": "stream",
     "text": [
      "\n",
      "      Epoch    GPU_mem   box_loss   cls_loss   dfl_loss  Instances       Size\n"
     ]
    },
    {
     "name": "stderr",
     "output_type": "stream",
     "text": [
      "      16/40      13.8G     0.6163     0.3804     0.9193        428        640: 100%|██████████| 35/35 [00:43<00:00,  1.23s/it]\n",
      "                 Class     Images  Instances      Box(P          R      mAP50  mAP50-95): 100%|██████████| 2/2 [00:01<00:00,  1.17it/s]"
     ]
    },
    {
     "name": "stdout",
     "output_type": "stream",
     "text": [
      "                   all         50       1437      0.951      0.844      0.956      0.804\n"
     ]
    },
    {
     "name": "stderr",
     "output_type": "stream",
     "text": [
      "\n"
     ]
    },
    {
     "name": "stdout",
     "output_type": "stream",
     "text": [
      "\n",
      "      Epoch    GPU_mem   box_loss   cls_loss   dfl_loss  Instances       Size\n"
     ]
    },
    {
     "name": "stderr",
     "output_type": "stream",
     "text": [
      "      17/40      13.7G      0.607     0.3712     0.9125        493        640: 100%|██████████| 35/35 [00:43<00:00,  1.23s/it]\n",
      "                 Class     Images  Instances      Box(P          R      mAP50  mAP50-95): 100%|██████████| 2/2 [00:01<00:00,  1.12it/s]"
     ]
    },
    {
     "name": "stdout",
     "output_type": "stream",
     "text": [
      "                   all         50       1437      0.961      0.877       0.97      0.822\n"
     ]
    },
    {
     "name": "stderr",
     "output_type": "stream",
     "text": [
      "\n"
     ]
    },
    {
     "name": "stdout",
     "output_type": "stream",
     "text": [
      "\n",
      "      Epoch    GPU_mem   box_loss   cls_loss   dfl_loss  Instances       Size\n"
     ]
    },
    {
     "name": "stderr",
     "output_type": "stream",
     "text": [
      "      18/40        14G     0.6175     0.3744     0.9199        452        640: 100%|██████████| 35/35 [00:43<00:00,  1.23s/it]\n",
      "                 Class     Images  Instances      Box(P          R      mAP50  mAP50-95): 100%|██████████| 2/2 [00:01<00:00,  1.05it/s]"
     ]
    },
    {
     "name": "stdout",
     "output_type": "stream",
     "text": [
      "                   all         50       1437      0.988      0.845      0.959      0.784\n"
     ]
    },
    {
     "name": "stderr",
     "output_type": "stream",
     "text": [
      "\n"
     ]
    },
    {
     "name": "stdout",
     "output_type": "stream",
     "text": [
      "\n",
      "      Epoch    GPU_mem   box_loss   cls_loss   dfl_loss  Instances       Size\n"
     ]
    },
    {
     "name": "stderr",
     "output_type": "stream",
     "text": [
      "      19/40      13.9G     0.5929     0.3581     0.9146        439        640: 100%|██████████| 35/35 [00:42<00:00,  1.22s/it]\n",
      "                 Class     Images  Instances      Box(P          R      mAP50  mAP50-95): 100%|██████████| 2/2 [00:01<00:00,  1.17it/s]"
     ]
    },
    {
     "name": "stdout",
     "output_type": "stream",
     "text": [
      "                   all         50       1437      0.939        0.9      0.971      0.832\n"
     ]
    },
    {
     "name": "stderr",
     "output_type": "stream",
     "text": [
      "\n"
     ]
    },
    {
     "name": "stdout",
     "output_type": "stream",
     "text": [
      "\n",
      "      Epoch    GPU_mem   box_loss   cls_loss   dfl_loss  Instances       Size\n"
     ]
    },
    {
     "name": "stderr",
     "output_type": "stream",
     "text": [
      "      20/40      13.8G     0.5487     0.3384     0.8988        441        640: 100%|██████████| 35/35 [00:43<00:00,  1.23s/it]\n",
      "                 Class     Images  Instances      Box(P          R      mAP50  mAP50-95): 100%|██████████| 2/2 [00:01<00:00,  1.34it/s]"
     ]
    },
    {
     "name": "stdout",
     "output_type": "stream",
     "text": [
      "                   all         50       1437      0.989        0.9      0.974      0.789\n"
     ]
    },
    {
     "name": "stderr",
     "output_type": "stream",
     "text": [
      "\n"
     ]
    },
    {
     "name": "stdout",
     "output_type": "stream",
     "text": [
      "\n",
      "      Epoch    GPU_mem   box_loss   cls_loss   dfl_loss  Instances       Size\n"
     ]
    },
    {
     "name": "stderr",
     "output_type": "stream",
     "text": [
      "      21/40        14G     0.5168     0.3214      0.898        433        640: 100%|██████████| 35/35 [00:42<00:00,  1.22s/it]\n",
      "                 Class     Images  Instances      Box(P          R      mAP50  mAP50-95): 100%|██████████| 2/2 [00:01<00:00,  1.05it/s]"
     ]
    },
    {
     "name": "stdout",
     "output_type": "stream",
     "text": [
      "                   all         50       1437      0.943      0.865      0.971      0.838\n"
     ]
    },
    {
     "name": "stderr",
     "output_type": "stream",
     "text": [
      "\n"
     ]
    },
    {
     "name": "stdout",
     "output_type": "stream",
     "text": [
      "\n",
      "      Epoch    GPU_mem   box_loss   cls_loss   dfl_loss  Instances       Size\n"
     ]
    },
    {
     "name": "stderr",
     "output_type": "stream",
     "text": [
      "      22/40        14G      0.516     0.3232     0.8922        405        640: 100%|██████████| 35/35 [00:43<00:00,  1.23s/it]\n",
      "                 Class     Images  Instances      Box(P          R      mAP50  mAP50-95): 100%|██████████| 2/2 [00:01<00:00,  1.21it/s]"
     ]
    },
    {
     "name": "stdout",
     "output_type": "stream",
     "text": [
      "                   all         50       1437      0.957        0.9      0.973      0.818\n"
     ]
    },
    {
     "name": "stderr",
     "output_type": "stream",
     "text": [
      "\n"
     ]
    },
    {
     "name": "stdout",
     "output_type": "stream",
     "text": [
      "\n",
      "      Epoch    GPU_mem   box_loss   cls_loss   dfl_loss  Instances       Size\n"
     ]
    },
    {
     "name": "stderr",
     "output_type": "stream",
     "text": [
      "      23/40      14.1G     0.5009     0.3173     0.8989        559        640: 100%|██████████| 35/35 [00:42<00:00,  1.22s/it]\n",
      "                 Class     Images  Instances      Box(P          R      mAP50  mAP50-95): 100%|██████████| 2/2 [00:01<00:00,  1.02it/s]"
     ]
    },
    {
     "name": "stdout",
     "output_type": "stream",
     "text": [
      "                   all         50       1437      0.947      0.914      0.973      0.832\n"
     ]
    },
    {
     "name": "stderr",
     "output_type": "stream",
     "text": [
      "\n"
     ]
    },
    {
     "name": "stdout",
     "output_type": "stream",
     "text": [
      "\n",
      "      Epoch    GPU_mem   box_loss   cls_loss   dfl_loss  Instances       Size\n"
     ]
    },
    {
     "name": "stderr",
     "output_type": "stream",
     "text": [
      "      24/40      13.9G     0.4998     0.3165     0.8918        467        640: 100%|██████████| 35/35 [00:42<00:00,  1.22s/it]\n",
      "                 Class     Images  Instances      Box(P          R      mAP50  mAP50-95): 100%|██████████| 2/2 [00:01<00:00,  1.17it/s]"
     ]
    },
    {
     "name": "stdout",
     "output_type": "stream",
     "text": [
      "                   all         50       1437      0.983      0.914      0.975      0.853\n"
     ]
    },
    {
     "name": "stderr",
     "output_type": "stream",
     "text": [
      "\n"
     ]
    },
    {
     "name": "stdout",
     "output_type": "stream",
     "text": [
      "\n",
      "      Epoch    GPU_mem   box_loss   cls_loss   dfl_loss  Instances       Size\n"
     ]
    },
    {
     "name": "stderr",
     "output_type": "stream",
     "text": [
      "      25/40      13.7G     0.5117     0.3197     0.8923        478        640: 100%|██████████| 35/35 [00:42<00:00,  1.23s/it]\n",
      "                 Class     Images  Instances      Box(P          R      mAP50  mAP50-95): 100%|██████████| 2/2 [00:01<00:00,  1.13it/s]"
     ]
    },
    {
     "name": "stdout",
     "output_type": "stream",
     "text": [
      "                   all         50       1437      0.972      0.882      0.967      0.829\n"
     ]
    },
    {
     "name": "stderr",
     "output_type": "stream",
     "text": [
      "\n"
     ]
    },
    {
     "name": "stdout",
     "output_type": "stream",
     "text": [
      "\n",
      "      Epoch    GPU_mem   box_loss   cls_loss   dfl_loss  Instances       Size\n"
     ]
    },
    {
     "name": "stderr",
     "output_type": "stream",
     "text": [
      "      26/40      13.8G     0.4913     0.3138     0.8873        443        640: 100%|██████████| 35/35 [00:42<00:00,  1.22s/it]\n",
      "                 Class     Images  Instances      Box(P          R      mAP50  mAP50-95): 100%|██████████| 2/2 [00:01<00:00,  1.22it/s]"
     ]
    },
    {
     "name": "stdout",
     "output_type": "stream",
     "text": [
      "                   all         50       1437      0.937      0.918      0.973      0.819\n"
     ]
    },
    {
     "name": "stderr",
     "output_type": "stream",
     "text": [
      "\n"
     ]
    },
    {
     "name": "stdout",
     "output_type": "stream",
     "text": [
      "\n",
      "      Epoch    GPU_mem   box_loss   cls_loss   dfl_loss  Instances       Size\n"
     ]
    },
    {
     "name": "stderr",
     "output_type": "stream",
     "text": [
      "      27/40      13.9G     0.4798     0.3045      0.883        424        640: 100%|██████████| 35/35 [00:42<00:00,  1.22s/it]\n",
      "                 Class     Images  Instances      Box(P          R      mAP50  mAP50-95): 100%|██████████| 2/2 [00:01<00:00,  1.15it/s]"
     ]
    },
    {
     "name": "stdout",
     "output_type": "stream",
     "text": [
      "                   all         50       1437      0.932      0.919      0.974      0.835\n"
     ]
    },
    {
     "name": "stderr",
     "output_type": "stream",
     "text": [
      "\n"
     ]
    },
    {
     "name": "stdout",
     "output_type": "stream",
     "text": [
      "\n",
      "      Epoch    GPU_mem   box_loss   cls_loss   dfl_loss  Instances       Size\n"
     ]
    },
    {
     "name": "stderr",
     "output_type": "stream",
     "text": [
      "      28/40        14G     0.4367     0.2818     0.8671        400        640: 100%|██████████| 35/35 [00:42<00:00,  1.22s/it]\n",
      "                 Class     Images  Instances      Box(P          R      mAP50  mAP50-95): 100%|██████████| 2/2 [00:01<00:00,  1.19it/s]"
     ]
    },
    {
     "name": "stdout",
     "output_type": "stream",
     "text": [
      "                   all         50       1437      0.926      0.959      0.975      0.861\n"
     ]
    },
    {
     "name": "stderr",
     "output_type": "stream",
     "text": [
      "\n"
     ]
    },
    {
     "name": "stdout",
     "output_type": "stream",
     "text": [
      "\n",
      "      Epoch    GPU_mem   box_loss   cls_loss   dfl_loss  Instances       Size\n"
     ]
    },
    {
     "name": "stderr",
     "output_type": "stream",
     "text": [
      "      29/40      13.7G      0.423      0.276     0.8649        626        640: 100%|██████████| 35/35 [00:42<00:00,  1.23s/it]\n",
      "                 Class     Images  Instances      Box(P          R      mAP50  mAP50-95): 100%|██████████| 2/2 [00:01<00:00,  1.17it/s]"
     ]
    },
    {
     "name": "stdout",
     "output_type": "stream",
     "text": [
      "                   all         50       1437      0.901      0.939      0.973      0.852\n"
     ]
    },
    {
     "name": "stderr",
     "output_type": "stream",
     "text": [
      "\n"
     ]
    },
    {
     "name": "stdout",
     "output_type": "stream",
     "text": [
      "\n",
      "      Epoch    GPU_mem   box_loss   cls_loss   dfl_loss  Instances       Size\n"
     ]
    },
    {
     "name": "stderr",
     "output_type": "stream",
     "text": [
      "      30/40      14.1G     0.4084     0.2694     0.8628        596        640: 100%|██████████| 35/35 [00:42<00:00,  1.22s/it]\n",
      "                 Class     Images  Instances      Box(P          R      mAP50  mAP50-95): 100%|██████████| 2/2 [00:01<00:00,  1.20it/s]"
     ]
    },
    {
     "name": "stdout",
     "output_type": "stream",
     "text": [
      "                   all         50       1437      0.936      0.918      0.971      0.863\n"
     ]
    },
    {
     "name": "stderr",
     "output_type": "stream",
     "text": [
      "\n"
     ]
    },
    {
     "name": "stdout",
     "output_type": "stream",
     "text": [
      "Closing dataloader mosaic\n",
      "\u001b[34m\u001b[1malbumentations: \u001b[0mBlur(p=0.01, blur_limit=(3, 7)), MedianBlur(p=0.01, blur_limit=(3, 7)), ToGray(p=0.01), CLAHE(p=0.01, clip_limit=(1, 4.0), tile_grid_size=(8, 8))\n"
     ]
    },
    {
     "name": "stderr",
     "output_type": "stream",
     "text": [
      "/usr/lib/python3.10/multiprocessing/popen_fork.py:66: RuntimeWarning: os.fork() was called. os.fork() is incompatible with multithreaded code, and JAX is multithreaded, so this will likely lead to a deadlock.\n",
      "  self.pid = os.fork()\n"
     ]
    },
    {
     "name": "stdout",
     "output_type": "stream",
     "text": [
      "\n",
      "      Epoch    GPU_mem   box_loss   cls_loss   dfl_loss  Instances       Size\n"
     ]
    },
    {
     "name": "stderr",
     "output_type": "stream",
     "text": [
      "      31/40        14G     0.4328     0.2726     0.8697        258        640: 100%|██████████| 35/35 [00:46<00:00,  1.34s/it]\n",
      "                 Class     Images  Instances      Box(P          R      mAP50  mAP50-95): 100%|██████████| 2/2 [00:01<00:00,  1.17it/s]"
     ]
    },
    {
     "name": "stdout",
     "output_type": "stream",
     "text": [
      "                   all         50       1437      0.945      0.879      0.956      0.866\n"
     ]
    },
    {
     "name": "stderr",
     "output_type": "stream",
     "text": [
      "\n"
     ]
    },
    {
     "name": "stdout",
     "output_type": "stream",
     "text": [
      "\n",
      "      Epoch    GPU_mem   box_loss   cls_loss   dfl_loss  Instances       Size\n"
     ]
    },
    {
     "name": "stderr",
     "output_type": "stream",
     "text": [
      "      32/40        14G     0.3915     0.2548     0.8638        284        640: 100%|██████████| 35/35 [00:42<00:00,  1.20s/it]\n",
      "                 Class     Images  Instances      Box(P          R      mAP50  mAP50-95): 100%|██████████| 2/2 [00:02<00:00,  1.10s/it]"
     ]
    },
    {
     "name": "stdout",
     "output_type": "stream",
     "text": [
      "                   all         50       1437      0.992      0.847      0.958      0.841\n"
     ]
    },
    {
     "name": "stderr",
     "output_type": "stream",
     "text": [
      "\n"
     ]
    },
    {
     "name": "stdout",
     "output_type": "stream",
     "text": [
      "\n",
      "      Epoch    GPU_mem   box_loss   cls_loss   dfl_loss  Instances       Size\n"
     ]
    },
    {
     "name": "stderr",
     "output_type": "stream",
     "text": [
      "      33/40        14G     0.3741     0.2473     0.8597        275        640: 100%|██████████| 35/35 [00:42<00:00,  1.21s/it]\n",
      "                 Class     Images  Instances      Box(P          R      mAP50  mAP50-95): 100%|██████████| 2/2 [00:01<00:00,  1.18it/s]"
     ]
    },
    {
     "name": "stdout",
     "output_type": "stream",
     "text": [
      "                   all         50       1437      0.944      0.885      0.963      0.885\n"
     ]
    },
    {
     "name": "stderr",
     "output_type": "stream",
     "text": [
      "\n"
     ]
    },
    {
     "name": "stdout",
     "output_type": "stream",
     "text": [
      "\n",
      "      Epoch    GPU_mem   box_loss   cls_loss   dfl_loss  Instances       Size\n"
     ]
    },
    {
     "name": "stderr",
     "output_type": "stream",
     "text": [
      "      34/40        14G      0.366     0.2424     0.8579        246        640: 100%|██████████| 35/35 [00:42<00:00,  1.21s/it]\n",
      "                 Class     Images  Instances      Box(P          R      mAP50  mAP50-95): 100%|██████████| 2/2 [00:01<00:00,  1.01it/s]"
     ]
    },
    {
     "name": "stdout",
     "output_type": "stream",
     "text": [
      "                   all         50       1437      0.912      0.954      0.975        0.9\n"
     ]
    },
    {
     "name": "stderr",
     "output_type": "stream",
     "text": [
      "\n"
     ]
    },
    {
     "name": "stdout",
     "output_type": "stream",
     "text": [
      "\n",
      "      Epoch    GPU_mem   box_loss   cls_loss   dfl_loss  Instances       Size\n"
     ]
    },
    {
     "name": "stderr",
     "output_type": "stream",
     "text": [
      "      35/40        14G     0.3463     0.2316     0.8532        292        640: 100%|██████████| 35/35 [00:42<00:00,  1.21s/it]\n",
      "                 Class     Images  Instances      Box(P          R      mAP50  mAP50-95): 100%|██████████| 2/2 [00:01<00:00,  1.16it/s]"
     ]
    },
    {
     "name": "stdout",
     "output_type": "stream",
     "text": [
      "                   all         50       1437      0.928      0.933       0.97      0.897\n"
     ]
    },
    {
     "name": "stderr",
     "output_type": "stream",
     "text": [
      "\n"
     ]
    },
    {
     "name": "stdout",
     "output_type": "stream",
     "text": [
      "\n",
      "      Epoch    GPU_mem   box_loss   cls_loss   dfl_loss  Instances       Size\n"
     ]
    },
    {
     "name": "stderr",
     "output_type": "stream",
     "text": [
      "      36/40        14G     0.3326     0.2266     0.8499        275        640: 100%|██████████| 35/35 [00:42<00:00,  1.21s/it]\n",
      "                 Class     Images  Instances      Box(P          R      mAP50  mAP50-95): 100%|██████████| 2/2 [00:01<00:00,  1.15it/s]"
     ]
    },
    {
     "name": "stdout",
     "output_type": "stream",
     "text": [
      "                   all         50       1437      0.921      0.935      0.971      0.893\n"
     ]
    },
    {
     "name": "stderr",
     "output_type": "stream",
     "text": [
      "\n"
     ]
    },
    {
     "name": "stdout",
     "output_type": "stream",
     "text": [
      "\n",
      "      Epoch    GPU_mem   box_loss   cls_loss   dfl_loss  Instances       Size\n"
     ]
    },
    {
     "name": "stderr",
     "output_type": "stream",
     "text": [
      "      37/40        14G     0.3123     0.2133      0.841        285        640: 100%|██████████| 35/35 [00:42<00:00,  1.21s/it]\n",
      "                 Class     Images  Instances      Box(P          R      mAP50  mAP50-95): 100%|██████████| 2/2 [00:01<00:00,  1.11it/s]"
     ]
    },
    {
     "name": "stdout",
     "output_type": "stream",
     "text": [
      "                   all         50       1437      0.923      0.952      0.973      0.898\n"
     ]
    },
    {
     "name": "stderr",
     "output_type": "stream",
     "text": [
      "\n"
     ]
    },
    {
     "name": "stdout",
     "output_type": "stream",
     "text": [
      "\n",
      "      Epoch    GPU_mem   box_loss   cls_loss   dfl_loss  Instances       Size\n"
     ]
    },
    {
     "name": "stderr",
     "output_type": "stream",
     "text": [
      "      38/40        14G     0.3111     0.2133      0.835        293        640: 100%|██████████| 35/35 [00:42<00:00,  1.21s/it]\n",
      "                 Class     Images  Instances      Box(P          R      mAP50  mAP50-95): 100%|██████████| 2/2 [00:01<00:00,  1.20it/s]"
     ]
    },
    {
     "name": "stdout",
     "output_type": "stream",
     "text": [
      "                   all         50       1437      0.914      0.955      0.976      0.897\n"
     ]
    },
    {
     "name": "stderr",
     "output_type": "stream",
     "text": [
      "\n"
     ]
    },
    {
     "name": "stdout",
     "output_type": "stream",
     "text": [
      "\n",
      "      Epoch    GPU_mem   box_loss   cls_loss   dfl_loss  Instances       Size\n"
     ]
    },
    {
     "name": "stderr",
     "output_type": "stream",
     "text": [
      "      39/40        14G     0.2942     0.2054     0.8367        294        640: 100%|██████████| 35/35 [00:42<00:00,  1.21s/it]\n",
      "                 Class     Images  Instances      Box(P          R      mAP50  mAP50-95): 100%|██████████| 2/2 [00:01<00:00,  1.20it/s]"
     ]
    },
    {
     "name": "stdout",
     "output_type": "stream",
     "text": [
      "                   all         50       1437      0.922      0.943      0.975      0.903\n"
     ]
    },
    {
     "name": "stderr",
     "output_type": "stream",
     "text": [
      "\n"
     ]
    },
    {
     "name": "stdout",
     "output_type": "stream",
     "text": [
      "\n",
      "      Epoch    GPU_mem   box_loss   cls_loss   dfl_loss  Instances       Size\n"
     ]
    },
    {
     "name": "stderr",
     "output_type": "stream",
     "text": [
      "      40/40        14G     0.2852     0.1996     0.8385        266        640: 100%|██████████| 35/35 [00:42<00:00,  1.21s/it]\n",
      "                 Class     Images  Instances      Box(P          R      mAP50  mAP50-95): 100%|██████████| 2/2 [00:01<00:00,  1.14it/s]"
     ]
    },
    {
     "name": "stdout",
     "output_type": "stream",
     "text": [
      "                   all         50       1437      0.926      0.933      0.974      0.909\n"
     ]
    },
    {
     "name": "stderr",
     "output_type": "stream",
     "text": [
      "\n"
     ]
    },
    {
     "name": "stdout",
     "output_type": "stream",
     "text": [
      "\n",
      "40 epochs completed in 0.555 hours.\n",
      "Optimizer stripped from runs/detect/train/weights/last.pt, 136.7MB\n",
      "Optimizer stripped from runs/detect/train/weights/best.pt, 136.7MB\n",
      "\n",
      "Validating runs/detect/train/weights/best.pt...\n",
      "Ultralytics YOLOv8.2.4 🚀 Python-3.10.12 torch-2.2.1+cu121 CUDA:0 (Tesla T4, 15102MiB)\n",
      "Model summary (fused): 268 layers, 68125494 parameters, 0 gradients, 257.4 GFLOPs\n"
     ]
    },
    {
     "name": "stderr",
     "output_type": "stream",
     "text": [
      "                 Class     Images  Instances      Box(P          R      mAP50  mAP50-95): 100%|██████████| 2/2 [00:02<00:00,  1.36s/it]\n"
     ]
    },
    {
     "name": "stdout",
     "output_type": "stream",
     "text": [
      "                   all         50       1437      0.926      0.933      0.974      0.908\n",
      "                person         50       1437      0.926      0.933      0.974      0.908\n",
      "Speed: 0.3ms preprocess, 25.7ms inference, 0.0ms loss, 2.7ms postprocess per image\n",
      "Results saved to \u001b[1mruns/detect/train\u001b[0m\n",
      "Ultralytics YOLOv8.2.4 🚀 Python-3.10.12 torch-2.2.1+cu121 CUDA:0 (Tesla T4, 15102MiB)\n",
      "Model summary (fused): 268 layers, 68125494 parameters, 0 gradients, 257.4 GFLOPs\n"
     ]
    },
    {
     "name": "stderr",
     "output_type": "stream",
     "text": [
      "\u001b[34m\u001b[1mval: \u001b[0mScanning /content/drive/MyDrive/dataset/yolofinetuning/yolofinetuning/valid/labels.cache... 50 images, 0 backgrounds, 0 corrupt: 100%|██████████| 50/50 [00:00<?, ?it/s]\n",
      "/usr/lib/python3.10/multiprocessing/popen_fork.py:66: RuntimeWarning: os.fork() was called. os.fork() is incompatible with multithreaded code, and JAX is multithreaded, so this will likely lead to a deadlock.\n",
      "  self.pid = os.fork()\n",
      "                 Class     Images  Instances      Box(P          R      mAP50  mAP50-95): 100%|██████████| 4/4 [00:11<00:00,  2.76s/it]\n"
     ]
    },
    {
     "name": "stdout",
     "output_type": "stream",
     "text": [
      "                   all         50       1437      0.928      0.935      0.974      0.911\n",
      "                person         50       1437      0.928      0.935      0.974      0.911\n",
      "Speed: 0.6ms preprocess, 86.3ms inference, 0.0ms loss, 7.6ms postprocess per image\n",
      "Results saved to \u001b[1mruns/detect/train2\u001b[0m\n",
      "ultralytics.utils.metrics.DetMetrics object with attributes:\n",
      "\n",
      "ap_class_index: array([1])\n",
      "box: ultralytics.utils.metrics.Metric object\n",
      "confusion_matrix: <ultralytics.utils.metrics.ConfusionMatrix object at 0x7b75b0826fe0>\n",
      "curves: ['Precision-Recall(B)', 'F1-Confidence(B)', 'Precision-Confidence(B)', 'Recall-Confidence(B)']\n",
      "curves_results: [[array([          0,    0.001001,    0.002002,    0.003003,    0.004004,    0.005005,    0.006006,    0.007007,    0.008008,    0.009009,     0.01001,    0.011011,    0.012012,    0.013013,    0.014014,    0.015015,    0.016016,    0.017017,    0.018018,    0.019019,     0.02002,    0.021021,    0.022022,    0.023023,\n",
      "          0.024024,    0.025025,    0.026026,    0.027027,    0.028028,    0.029029,     0.03003,    0.031031,    0.032032,    0.033033,    0.034034,    0.035035,    0.036036,    0.037037,    0.038038,    0.039039,     0.04004,    0.041041,    0.042042,    0.043043,    0.044044,    0.045045,    0.046046,    0.047047,\n",
      "          0.048048,    0.049049,     0.05005,    0.051051,    0.052052,    0.053053,    0.054054,    0.055055,    0.056056,    0.057057,    0.058058,    0.059059,     0.06006,    0.061061,    0.062062,    0.063063,    0.064064,    0.065065,    0.066066,    0.067067,    0.068068,    0.069069,     0.07007,    0.071071,\n",
      "          0.072072,    0.073073,    0.074074,    0.075075,    0.076076,    0.077077,    0.078078,    0.079079,     0.08008,    0.081081,    0.082082,    0.083083,    0.084084,    0.085085,    0.086086,    0.087087,    0.088088,    0.089089,     0.09009,    0.091091,    0.092092,    0.093093,    0.094094,    0.095095,\n",
      "          0.096096,    0.097097,    0.098098,    0.099099,      0.1001,      0.1011,      0.1021,      0.1031,      0.1041,     0.10511,     0.10611,     0.10711,     0.10811,     0.10911,     0.11011,     0.11111,     0.11211,     0.11311,     0.11411,     0.11512,     0.11612,     0.11712,     0.11812,     0.11912,\n",
      "           0.12012,     0.12112,     0.12212,     0.12312,     0.12412,     0.12513,     0.12613,     0.12713,     0.12813,     0.12913,     0.13013,     0.13113,     0.13213,     0.13313,     0.13413,     0.13514,     0.13614,     0.13714,     0.13814,     0.13914,     0.14014,     0.14114,     0.14214,     0.14314,\n",
      "           0.14414,     0.14515,     0.14615,     0.14715,     0.14815,     0.14915,     0.15015,     0.15115,     0.15215,     0.15315,     0.15415,     0.15516,     0.15616,     0.15716,     0.15816,     0.15916,     0.16016,     0.16116,     0.16216,     0.16316,     0.16416,     0.16517,     0.16617,     0.16717,\n",
      "           0.16817,     0.16917,     0.17017,     0.17117,     0.17217,     0.17317,     0.17417,     0.17518,     0.17618,     0.17718,     0.17818,     0.17918,     0.18018,     0.18118,     0.18218,     0.18318,     0.18418,     0.18519,     0.18619,     0.18719,     0.18819,     0.18919,     0.19019,     0.19119,\n",
      "           0.19219,     0.19319,     0.19419,      0.1952,      0.1962,      0.1972,      0.1982,      0.1992,      0.2002,      0.2012,      0.2022,      0.2032,      0.2042,     0.20521,     0.20621,     0.20721,     0.20821,     0.20921,     0.21021,     0.21121,     0.21221,     0.21321,     0.21421,     0.21522,\n",
      "           0.21622,     0.21722,     0.21822,     0.21922,     0.22022,     0.22122,     0.22222,     0.22322,     0.22422,     0.22523,     0.22623,     0.22723,     0.22823,     0.22923,     0.23023,     0.23123,     0.23223,     0.23323,     0.23423,     0.23524,     0.23624,     0.23724,     0.23824,     0.23924,\n",
      "           0.24024,     0.24124,     0.24224,     0.24324,     0.24424,     0.24525,     0.24625,     0.24725,     0.24825,     0.24925,     0.25025,     0.25125,     0.25225,     0.25325,     0.25425,     0.25526,     0.25626,     0.25726,     0.25826,     0.25926,     0.26026,     0.26126,     0.26226,     0.26326,\n",
      "           0.26426,     0.26527,     0.26627,     0.26727,     0.26827,     0.26927,     0.27027,     0.27127,     0.27227,     0.27327,     0.27427,     0.27528,     0.27628,     0.27728,     0.27828,     0.27928,     0.28028,     0.28128,     0.28228,     0.28328,     0.28428,     0.28529,     0.28629,     0.28729,\n",
      "           0.28829,     0.28929,     0.29029,     0.29129,     0.29229,     0.29329,     0.29429,      0.2953,      0.2963,      0.2973,      0.2983,      0.2993,      0.3003,      0.3013,      0.3023,      0.3033,      0.3043,     0.30531,     0.30631,     0.30731,     0.30831,     0.30931,     0.31031,     0.31131,\n",
      "           0.31231,     0.31331,     0.31431,     0.31532,     0.31632,     0.31732,     0.31832,     0.31932,     0.32032,     0.32132,     0.32232,     0.32332,     0.32432,     0.32533,     0.32633,     0.32733,     0.32833,     0.32933,     0.33033,     0.33133,     0.33233,     0.33333,     0.33433,     0.33534,\n",
      "           0.33634,     0.33734,     0.33834,     0.33934,     0.34034,     0.34134,     0.34234,     0.34334,     0.34434,     0.34535,     0.34635,     0.34735,     0.34835,     0.34935,     0.35035,     0.35135,     0.35235,     0.35335,     0.35435,     0.35536,     0.35636,     0.35736,     0.35836,     0.35936,\n",
      "           0.36036,     0.36136,     0.36236,     0.36336,     0.36436,     0.36537,     0.36637,     0.36737,     0.36837,     0.36937,     0.37037,     0.37137,     0.37237,     0.37337,     0.37437,     0.37538,     0.37638,     0.37738,     0.37838,     0.37938,     0.38038,     0.38138,     0.38238,     0.38338,\n",
      "           0.38438,     0.38539,     0.38639,     0.38739,     0.38839,     0.38939,     0.39039,     0.39139,     0.39239,     0.39339,     0.39439,      0.3954,      0.3964,      0.3974,      0.3984,      0.3994,      0.4004,      0.4014,      0.4024,      0.4034,      0.4044,     0.40541,     0.40641,     0.40741,\n",
      "           0.40841,     0.40941,     0.41041,     0.41141,     0.41241,     0.41341,     0.41441,     0.41542,     0.41642,     0.41742,     0.41842,     0.41942,     0.42042,     0.42142,     0.42242,     0.42342,     0.42442,     0.42543,     0.42643,     0.42743,     0.42843,     0.42943,     0.43043,     0.43143,\n",
      "           0.43243,     0.43343,     0.43443,     0.43544,     0.43644,     0.43744,     0.43844,     0.43944,     0.44044,     0.44144,     0.44244,     0.44344,     0.44444,     0.44545,     0.44645,     0.44745,     0.44845,     0.44945,     0.45045,     0.45145,     0.45245,     0.45345,     0.45445,     0.45546,\n",
      "           0.45646,     0.45746,     0.45846,     0.45946,     0.46046,     0.46146,     0.46246,     0.46346,     0.46446,     0.46547,     0.46647,     0.46747,     0.46847,     0.46947,     0.47047,     0.47147,     0.47247,     0.47347,     0.47447,     0.47548,     0.47648,     0.47748,     0.47848,     0.47948,\n",
      "           0.48048,     0.48148,     0.48248,     0.48348,     0.48448,     0.48549,     0.48649,     0.48749,     0.48849,     0.48949,     0.49049,     0.49149,     0.49249,     0.49349,     0.49449,      0.4955,      0.4965,      0.4975,      0.4985,      0.4995,      0.5005,      0.5015,      0.5025,      0.5035,\n",
      "            0.5045,     0.50551,     0.50651,     0.50751,     0.50851,     0.50951,     0.51051,     0.51151,     0.51251,     0.51351,     0.51451,     0.51552,     0.51652,     0.51752,     0.51852,     0.51952,     0.52052,     0.52152,     0.52252,     0.52352,     0.52452,     0.52553,     0.52653,     0.52753,\n",
      "           0.52853,     0.52953,     0.53053,     0.53153,     0.53253,     0.53353,     0.53453,     0.53554,     0.53654,     0.53754,     0.53854,     0.53954,     0.54054,     0.54154,     0.54254,     0.54354,     0.54454,     0.54555,     0.54655,     0.54755,     0.54855,     0.54955,     0.55055,     0.55155,\n",
      "           0.55255,     0.55355,     0.55455,     0.55556,     0.55656,     0.55756,     0.55856,     0.55956,     0.56056,     0.56156,     0.56256,     0.56356,     0.56456,     0.56557,     0.56657,     0.56757,     0.56857,     0.56957,     0.57057,     0.57157,     0.57257,     0.57357,     0.57457,     0.57558,\n",
      "           0.57658,     0.57758,     0.57858,     0.57958,     0.58058,     0.58158,     0.58258,     0.58358,     0.58458,     0.58559,     0.58659,     0.58759,     0.58859,     0.58959,     0.59059,     0.59159,     0.59259,     0.59359,     0.59459,      0.5956,      0.5966,      0.5976,      0.5986,      0.5996,\n",
      "            0.6006,      0.6016,      0.6026,      0.6036,      0.6046,     0.60561,     0.60661,     0.60761,     0.60861,     0.60961,     0.61061,     0.61161,     0.61261,     0.61361,     0.61461,     0.61562,     0.61662,     0.61762,     0.61862,     0.61962,     0.62062,     0.62162,     0.62262,     0.62362,\n",
      "           0.62462,     0.62563,     0.62663,     0.62763,     0.62863,     0.62963,     0.63063,     0.63163,     0.63263,     0.63363,     0.63463,     0.63564,     0.63664,     0.63764,     0.63864,     0.63964,     0.64064,     0.64164,     0.64264,     0.64364,     0.64464,     0.64565,     0.64665,     0.64765,\n",
      "           0.64865,     0.64965,     0.65065,     0.65165,     0.65265,     0.65365,     0.65465,     0.65566,     0.65666,     0.65766,     0.65866,     0.65966,     0.66066,     0.66166,     0.66266,     0.66366,     0.66466,     0.66567,     0.66667,     0.66767,     0.66867,     0.66967,     0.67067,     0.67167,\n",
      "           0.67267,     0.67367,     0.67467,     0.67568,     0.67668,     0.67768,     0.67868,     0.67968,     0.68068,     0.68168,     0.68268,     0.68368,     0.68468,     0.68569,     0.68669,     0.68769,     0.68869,     0.68969,     0.69069,     0.69169,     0.69269,     0.69369,     0.69469,      0.6957,\n",
      "            0.6967,      0.6977,      0.6987,      0.6997,      0.7007,      0.7017,      0.7027,      0.7037,      0.7047,     0.70571,     0.70671,     0.70771,     0.70871,     0.70971,     0.71071,     0.71171,     0.71271,     0.71371,     0.71471,     0.71572,     0.71672,     0.71772,     0.71872,     0.71972,\n",
      "           0.72072,     0.72172,     0.72272,     0.72372,     0.72472,     0.72573,     0.72673,     0.72773,     0.72873,     0.72973,     0.73073,     0.73173,     0.73273,     0.73373,     0.73473,     0.73574,     0.73674,     0.73774,     0.73874,     0.73974,     0.74074,     0.74174,     0.74274,     0.74374,\n",
      "           0.74474,     0.74575,     0.74675,     0.74775,     0.74875,     0.74975,     0.75075,     0.75175,     0.75275,     0.75375,     0.75475,     0.75576,     0.75676,     0.75776,     0.75876,     0.75976,     0.76076,     0.76176,     0.76276,     0.76376,     0.76476,     0.76577,     0.76677,     0.76777,\n",
      "           0.76877,     0.76977,     0.77077,     0.77177,     0.77277,     0.77377,     0.77477,     0.77578,     0.77678,     0.77778,     0.77878,     0.77978,     0.78078,     0.78178,     0.78278,     0.78378,     0.78478,     0.78579,     0.78679,     0.78779,     0.78879,     0.78979,     0.79079,     0.79179,\n",
      "           0.79279,     0.79379,     0.79479,      0.7958,      0.7968,      0.7978,      0.7988,      0.7998,      0.8008,      0.8018,      0.8028,      0.8038,      0.8048,     0.80581,     0.80681,     0.80781,     0.80881,     0.80981,     0.81081,     0.81181,     0.81281,     0.81381,     0.81481,     0.81582,\n",
      "           0.81682,     0.81782,     0.81882,     0.81982,     0.82082,     0.82182,     0.82282,     0.82382,     0.82482,     0.82583,     0.82683,     0.82783,     0.82883,     0.82983,     0.83083,     0.83183,     0.83283,     0.83383,     0.83483,     0.83584,     0.83684,     0.83784,     0.83884,     0.83984,\n",
      "           0.84084,     0.84184,     0.84284,     0.84384,     0.84484,     0.84585,     0.84685,     0.84785,     0.84885,     0.84985,     0.85085,     0.85185,     0.85285,     0.85385,     0.85485,     0.85586,     0.85686,     0.85786,     0.85886,     0.85986,     0.86086,     0.86186,     0.86286,     0.86386,\n",
      "           0.86486,     0.86587,     0.86687,     0.86787,     0.86887,     0.86987,     0.87087,     0.87187,     0.87287,     0.87387,     0.87487,     0.87588,     0.87688,     0.87788,     0.87888,     0.87988,     0.88088,     0.88188,     0.88288,     0.88388,     0.88488,     0.88589,     0.88689,     0.88789,\n",
      "           0.88889,     0.88989,     0.89089,     0.89189,     0.89289,     0.89389,     0.89489,      0.8959,      0.8969,      0.8979,      0.8989,      0.8999,      0.9009,      0.9019,      0.9029,      0.9039,      0.9049,     0.90591,     0.90691,     0.90791,     0.90891,     0.90991,     0.91091,     0.91191,\n",
      "           0.91291,     0.91391,     0.91491,     0.91592,     0.91692,     0.91792,     0.91892,     0.91992,     0.92092,     0.92192,     0.92292,     0.92392,     0.92492,     0.92593,     0.92693,     0.92793,     0.92893,     0.92993,     0.93093,     0.93193,     0.93293,     0.93393,     0.93493,     0.93594,\n",
      "           0.93694,     0.93794,     0.93894,     0.93994,     0.94094,     0.94194,     0.94294,     0.94394,     0.94494,     0.94595,     0.94695,     0.94795,     0.94895,     0.94995,     0.95095,     0.95195,     0.95295,     0.95395,     0.95495,     0.95596,     0.95696,     0.95796,     0.95896,     0.95996,\n",
      "           0.96096,     0.96196,     0.96296,     0.96396,     0.96496,     0.96597,     0.96697,     0.96797,     0.96897,     0.96997,     0.97097,     0.97197,     0.97297,     0.97397,     0.97497,     0.97598,     0.97698,     0.97798,     0.97898,     0.97998,     0.98098,     0.98198,     0.98298,     0.98398,\n",
      "           0.98498,     0.98599,     0.98699,     0.98799,     0.98899,     0.98999,     0.99099,     0.99199,     0.99299,     0.99399,     0.99499,       0.996,       0.997,       0.998,       0.999,           1]), array([[          1,           1,           1,           1,           1,           1,           1,           1,           1,           1,           1,           1,           1,           1,           1,           1,           1,           1,           1,           1,           1,           1,           1,\n",
      "                  1,           1,           1,           1,           1,           1,           1,           1,           1,           1,           1,           1,           1,           1,           1,           1,           1,           1,           1,           1,           1,           1,           1,\n",
      "                  1,           1,           1,           1,           1,           1,           1,           1,           1,           1,           1,           1,           1,           1,           1,           1,           1,           1,           1,           1,           1,           1,           1,\n",
      "                  1,           1,           1,           1,           1,           1,           1,           1,           1,           1,           1,           1,           1,           1,           1,           1,           1,           1,           1,           1,           1,           1,           1,\n",
      "                  1,           1,           1,           1,           1,           1,           1,           1,           1,           1,           1,           1,           1,           1,           1,           1,           1,           1,           1,           1,           1,           1,           1,\n",
      "                  1,           1,           1,           1,           1,           1,           1,           1,           1,           1,           1,           1,           1,           1,           1,           1,           1,           1,           1,           1,           1,           1,           1,\n",
      "                  1,           1,           1,           1,           1,           1,           1,           1,           1,           1,           1,           1,           1,           1,           1,           1,           1,           1,           1,           1,           1,           1,           1,\n",
      "                  1,           1,           1,           1,           1,           1,           1,           1,           1,           1,           1,           1,           1,           1,           1,           1,           1,           1,           1,           1,           1,           1,           1,\n",
      "                  1,           1,           1,           1,           1,           1,           1,           1,           1,           1,           1,           1,           1,           1,           1,           1,           1,           1,           1,           1,           1,           1,           1,\n",
      "                  1,           1,           1,           1,           1,           1,           1,           1,           1,           1,           1,           1,           1,           1,           1,           1,           1,           1,           1,           1,           1,           1,           1,\n",
      "                  1,           1,           1,           1,           1,           1,           1,           1,           1,           1,           1,           1,           1,           1,           1,           1,           1,           1,           1,           1,           1,           1,           1,\n",
      "                  1,           1,           1,           1,           1,           1,           1,           1,           1,           1,           1,           1,           1,           1,           1,           1,           1,           1,           1,           1,           1,           1,           1,\n",
      "                  1,           1,           1,           1,           1,           1,           1,           1,           1,           1,           1,           1,           1,           1,           1,           1,           1,           1,           1,           1,           1,           1,           1,\n",
      "                  1,           1,           1,           1,           1,           1,           1,           1,           1,           1,           1,           1,           1,           1,           1,           1,           1,           1,           1,           1,           1,           1,           1,\n",
      "                  1,           1,           1,           1,           1,           1,           1,           1,           1,           1,           1,           1,           1,           1,           1,           1,           1,           1,           1,           1,           1,           1,           1,\n",
      "                  1,           1,           1,           1,           1,           1,           1,           1,           1,           1,           1,           1,           1,           1,           1,           1,           1,           1,           1,           1,           1,           1,           1,\n",
      "                  1,           1,           1,           1,           1,           1,           1,           1,           1,           1,           1,           1,           1,           1,           1,           1,           1,           1,           1,           1,           1,           1,           1,\n",
      "                  1,           1,           1,           1,           1,           1,           1,           1,           1,           1,           1,           1,           1,           1,           1,           1,           1,           1,           1,           1,           1,           1,           1,\n",
      "                  1,           1,           1,           1,           1,           1,           1,           1,           1,           1,           1,           1,           1,           1,           1,           1,           1,           1,           1,           1,           1,           1,           1,\n",
      "                  1,           1,           1,           1,           1,           1,           1,           1,           1,           1,           1,           1,           1,           1,           1,           1,           1,           1,           1,           1,           1,           1,           1,\n",
      "                  1,           1,           1,           1,           1,           1,           1,           1,           1,           1,           1,           1,           1,           1,           1,           1,           1,           1,           1,           1,           1,           1,           1,\n",
      "                  1,           1,           1,           1,           1,           1,           1,           1,           1,           1,           1,           1,           1,           1,           1,           1,           1,           1,           1,           1,           1,           1,           1,\n",
      "                  1,           1,           1,           1,           1,           1,           1,           1,           1,           1,           1,           1,           1,           1,           1,           1,           1,           1,           1,           1,           1,           1,           1,\n",
      "                  1,           1,           1,           1,           1,           1,           1,           1,           1,           1,           1,           1,           1,           1,           1,           1,           1,           1,           1,           1,           1,           1,           1,\n",
      "                  1,           1,           1,           1,           1,           1,           1,           1,           1,           1,           1,           1,           1,           1,           1,           1,           1,           1,           1,           1,           1,           1,           1,\n",
      "                  1,           1,           1,           1,           1,           1,           1,           1,           1,           1,           1,           1,           1,           1,           1,           1,           1,           1,           1,           1,           1,           1,           1,\n",
      "                  1,           1,           1,           1,           1,           1,           1,           1,           1,           1,           1,           1,           1,           1,           1,           1,           1,           1,           1,           1,           1,           1,           1,\n",
      "                  1,           1,           1,           1,           1,           1,           1,           1,           1,           1,           1,           1,           1,           1,           1,           1,           1,           1,           1,           1,           1,           1,           1,\n",
      "                  1,           1,           1,           1,           1,           1,           1,           1,           1,           1,           1,           1,           1,           1,           1,           1,           1,           1,           1,           1,           1,           1,           1,\n",
      "                  1,           1,           1,           1,           1,           1,           1,           1,           1,           1,           1,           1,           1,           1,           1,           1,           1,           1,           1,           1,           1,           1,           1,\n",
      "                  1,           1,           1,           1,           1,           1,           1,           1,           1,           1,           1,           1,           1,           1,           1,           1,           1,           1,           1,           1,           1,           1,           1,\n",
      "                  1,           1,           1,           1,           1,           1,           1,           1,           1,           1,           1,           1,           1,           1,           1,           1,           1,           1,           1,           1,           1,           1,           1,\n",
      "                  1,           1,           1,           1,           1,           1,           1,           1,           1,           1,           1,           1,           1,           1,           1,           1,           1,           1,           1,           1,           1,           1,           1,\n",
      "                  1,           1,           1,           1,           1,           1,           1,           1,           1,           1,           1,           1,           1,           1,           1,           1,           1,           1,           1,           1,           1,           1,           1,\n",
      "                  1,           1,           1,           1,           1,           1,           1,           1,           1,           1,           1,           1,           1,           1,           1,           1,           1,           1,           1,           1,           1,           1,           1,\n",
      "                  1,           1,           1,           1,           1,           1,           1,           1,           1,           1,           1,           1,           1,           1,           1,           1,           1,           1,           1,           1,           1,           1,           1,\n",
      "            0.99916,     0.99836,     0.99836,     0.99836,     0.99836,     0.99836,     0.99836,     0.99836,     0.99836,     0.99836,     0.99836,     0.99836,     0.99836,     0.99836,     0.99836,     0.99836,     0.99836,     0.99755,     0.99755,     0.99755,     0.99755,     0.99594,     0.99594,\n",
      "            0.99594,     0.99594,     0.99515,     0.99515,     0.99515,     0.99436,     0.99436,     0.99436,     0.99359,     0.99359,     0.99359,     0.99359,     0.99282,     0.99282,     0.99282,     0.99125,     0.99048,     0.98975,     0.98975,     0.98975,     0.98975,     0.98975,     0.98899,\n",
      "            0.98899,     0.98826,     0.98826,     0.98826,     0.98826,     0.98367,     0.98216,     0.97991,     0.97465,     0.97097,     0.96951,     0.96081,     0.96081,      0.9573,      0.9573,     0.95672,     0.95672,     0.95672,     0.95536,     0.95485,     0.95485,     0.95485,     0.95485,\n",
      "            0.95431,     0.95431,     0.95431,     0.95431,     0.95311,     0.95311,     0.95311,     0.95311,     0.95175,     0.94836,     0.94634,     0.94232,     0.93835,     0.93835,     0.93452,     0.93452,     0.93404,     0.93404,     0.93404,     0.93352,     0.93352,     0.93338,     0.93338,\n",
      "            0.93338,     0.93338,     0.93338,     0.93338,     0.93338,     0.93338,     0.93217,     0.93175,     0.93175,     0.93175,     0.93175,      0.9306,      0.9306,     0.92882,     0.92882,     0.92392,     0.92392,     0.92392,     0.92156,     0.92156,     0.91853,     0.91734,     0.91375,\n",
      "            0.91258,     0.91214,     0.91214,     0.90733,     0.90505,     0.90376,     0.90376,     0.90376,     0.90376,     0.90376,     0.90376,      0.9027,     0.90157,     0.89642,     0.89597,     0.89313,     0.88918,     0.88753,     0.86926,      0.8688,     0.85927,     0.84832,     0.84233,\n",
      "            0.83735,     0.80591,       0.796,     0.79205,     0.77042,     0.70507,     0.67989,     0.65471,     0.62953,     0.60434,     0.57916,     0.55398,      0.5288,     0.50362,     0.47844,     0.45326,     0.42808,      0.4029,     0.37772,     0.35253,     0.32735,     0.30217,     0.27699,\n",
      "            0.25181,     0.22663,     0.20145,     0.17627,     0.15109,     0.12591,     0.10072,    0.075543,    0.050362,    0.025181,           0]]), 'Recall', 'Precision'], [array([          0,    0.001001,    0.002002,    0.003003,    0.004004,    0.005005,    0.006006,    0.007007,    0.008008,    0.009009,     0.01001,    0.011011,    0.012012,    0.013013,    0.014014,    0.015015,    0.016016,    0.017017,    0.018018,    0.019019,     0.02002,    0.021021,    0.022022,    0.023023,\n",
      "          0.024024,    0.025025,    0.026026,    0.027027,    0.028028,    0.029029,     0.03003,    0.031031,    0.032032,    0.033033,    0.034034,    0.035035,    0.036036,    0.037037,    0.038038,    0.039039,     0.04004,    0.041041,    0.042042,    0.043043,    0.044044,    0.045045,    0.046046,    0.047047,\n",
      "          0.048048,    0.049049,     0.05005,    0.051051,    0.052052,    0.053053,    0.054054,    0.055055,    0.056056,    0.057057,    0.058058,    0.059059,     0.06006,    0.061061,    0.062062,    0.063063,    0.064064,    0.065065,    0.066066,    0.067067,    0.068068,    0.069069,     0.07007,    0.071071,\n",
      "          0.072072,    0.073073,    0.074074,    0.075075,    0.076076,    0.077077,    0.078078,    0.079079,     0.08008,    0.081081,    0.082082,    0.083083,    0.084084,    0.085085,    0.086086,    0.087087,    0.088088,    0.089089,     0.09009,    0.091091,    0.092092,    0.093093,    0.094094,    0.095095,\n",
      "          0.096096,    0.097097,    0.098098,    0.099099,      0.1001,      0.1011,      0.1021,      0.1031,      0.1041,     0.10511,     0.10611,     0.10711,     0.10811,     0.10911,     0.11011,     0.11111,     0.11211,     0.11311,     0.11411,     0.11512,     0.11612,     0.11712,     0.11812,     0.11912,\n",
      "           0.12012,     0.12112,     0.12212,     0.12312,     0.12412,     0.12513,     0.12613,     0.12713,     0.12813,     0.12913,     0.13013,     0.13113,     0.13213,     0.13313,     0.13413,     0.13514,     0.13614,     0.13714,     0.13814,     0.13914,     0.14014,     0.14114,     0.14214,     0.14314,\n",
      "           0.14414,     0.14515,     0.14615,     0.14715,     0.14815,     0.14915,     0.15015,     0.15115,     0.15215,     0.15315,     0.15415,     0.15516,     0.15616,     0.15716,     0.15816,     0.15916,     0.16016,     0.16116,     0.16216,     0.16316,     0.16416,     0.16517,     0.16617,     0.16717,\n",
      "           0.16817,     0.16917,     0.17017,     0.17117,     0.17217,     0.17317,     0.17417,     0.17518,     0.17618,     0.17718,     0.17818,     0.17918,     0.18018,     0.18118,     0.18218,     0.18318,     0.18418,     0.18519,     0.18619,     0.18719,     0.18819,     0.18919,     0.19019,     0.19119,\n",
      "           0.19219,     0.19319,     0.19419,      0.1952,      0.1962,      0.1972,      0.1982,      0.1992,      0.2002,      0.2012,      0.2022,      0.2032,      0.2042,     0.20521,     0.20621,     0.20721,     0.20821,     0.20921,     0.21021,     0.21121,     0.21221,     0.21321,     0.21421,     0.21522,\n",
      "           0.21622,     0.21722,     0.21822,     0.21922,     0.22022,     0.22122,     0.22222,     0.22322,     0.22422,     0.22523,     0.22623,     0.22723,     0.22823,     0.22923,     0.23023,     0.23123,     0.23223,     0.23323,     0.23423,     0.23524,     0.23624,     0.23724,     0.23824,     0.23924,\n",
      "           0.24024,     0.24124,     0.24224,     0.24324,     0.24424,     0.24525,     0.24625,     0.24725,     0.24825,     0.24925,     0.25025,     0.25125,     0.25225,     0.25325,     0.25425,     0.25526,     0.25626,     0.25726,     0.25826,     0.25926,     0.26026,     0.26126,     0.26226,     0.26326,\n",
      "           0.26426,     0.26527,     0.26627,     0.26727,     0.26827,     0.26927,     0.27027,     0.27127,     0.27227,     0.27327,     0.27427,     0.27528,     0.27628,     0.27728,     0.27828,     0.27928,     0.28028,     0.28128,     0.28228,     0.28328,     0.28428,     0.28529,     0.28629,     0.28729,\n",
      "           0.28829,     0.28929,     0.29029,     0.29129,     0.29229,     0.29329,     0.29429,      0.2953,      0.2963,      0.2973,      0.2983,      0.2993,      0.3003,      0.3013,      0.3023,      0.3033,      0.3043,     0.30531,     0.30631,     0.30731,     0.30831,     0.30931,     0.31031,     0.31131,\n",
      "           0.31231,     0.31331,     0.31431,     0.31532,     0.31632,     0.31732,     0.31832,     0.31932,     0.32032,     0.32132,     0.32232,     0.32332,     0.32432,     0.32533,     0.32633,     0.32733,     0.32833,     0.32933,     0.33033,     0.33133,     0.33233,     0.33333,     0.33433,     0.33534,\n",
      "           0.33634,     0.33734,     0.33834,     0.33934,     0.34034,     0.34134,     0.34234,     0.34334,     0.34434,     0.34535,     0.34635,     0.34735,     0.34835,     0.34935,     0.35035,     0.35135,     0.35235,     0.35335,     0.35435,     0.35536,     0.35636,     0.35736,     0.35836,     0.35936,\n",
      "           0.36036,     0.36136,     0.36236,     0.36336,     0.36436,     0.36537,     0.36637,     0.36737,     0.36837,     0.36937,     0.37037,     0.37137,     0.37237,     0.37337,     0.37437,     0.37538,     0.37638,     0.37738,     0.37838,     0.37938,     0.38038,     0.38138,     0.38238,     0.38338,\n",
      "           0.38438,     0.38539,     0.38639,     0.38739,     0.38839,     0.38939,     0.39039,     0.39139,     0.39239,     0.39339,     0.39439,      0.3954,      0.3964,      0.3974,      0.3984,      0.3994,      0.4004,      0.4014,      0.4024,      0.4034,      0.4044,     0.40541,     0.40641,     0.40741,\n",
      "           0.40841,     0.40941,     0.41041,     0.41141,     0.41241,     0.41341,     0.41441,     0.41542,     0.41642,     0.41742,     0.41842,     0.41942,     0.42042,     0.42142,     0.42242,     0.42342,     0.42442,     0.42543,     0.42643,     0.42743,     0.42843,     0.42943,     0.43043,     0.43143,\n",
      "           0.43243,     0.43343,     0.43443,     0.43544,     0.43644,     0.43744,     0.43844,     0.43944,     0.44044,     0.44144,     0.44244,     0.44344,     0.44444,     0.44545,     0.44645,     0.44745,     0.44845,     0.44945,     0.45045,     0.45145,     0.45245,     0.45345,     0.45445,     0.45546,\n",
      "           0.45646,     0.45746,     0.45846,     0.45946,     0.46046,     0.46146,     0.46246,     0.46346,     0.46446,     0.46547,     0.46647,     0.46747,     0.46847,     0.46947,     0.47047,     0.47147,     0.47247,     0.47347,     0.47447,     0.47548,     0.47648,     0.47748,     0.47848,     0.47948,\n",
      "           0.48048,     0.48148,     0.48248,     0.48348,     0.48448,     0.48549,     0.48649,     0.48749,     0.48849,     0.48949,     0.49049,     0.49149,     0.49249,     0.49349,     0.49449,      0.4955,      0.4965,      0.4975,      0.4985,      0.4995,      0.5005,      0.5015,      0.5025,      0.5035,\n",
      "            0.5045,     0.50551,     0.50651,     0.50751,     0.50851,     0.50951,     0.51051,     0.51151,     0.51251,     0.51351,     0.51451,     0.51552,     0.51652,     0.51752,     0.51852,     0.51952,     0.52052,     0.52152,     0.52252,     0.52352,     0.52452,     0.52553,     0.52653,     0.52753,\n",
      "           0.52853,     0.52953,     0.53053,     0.53153,     0.53253,     0.53353,     0.53453,     0.53554,     0.53654,     0.53754,     0.53854,     0.53954,     0.54054,     0.54154,     0.54254,     0.54354,     0.54454,     0.54555,     0.54655,     0.54755,     0.54855,     0.54955,     0.55055,     0.55155,\n",
      "           0.55255,     0.55355,     0.55455,     0.55556,     0.55656,     0.55756,     0.55856,     0.55956,     0.56056,     0.56156,     0.56256,     0.56356,     0.56456,     0.56557,     0.56657,     0.56757,     0.56857,     0.56957,     0.57057,     0.57157,     0.57257,     0.57357,     0.57457,     0.57558,\n",
      "           0.57658,     0.57758,     0.57858,     0.57958,     0.58058,     0.58158,     0.58258,     0.58358,     0.58458,     0.58559,     0.58659,     0.58759,     0.58859,     0.58959,     0.59059,     0.59159,     0.59259,     0.59359,     0.59459,      0.5956,      0.5966,      0.5976,      0.5986,      0.5996,\n",
      "            0.6006,      0.6016,      0.6026,      0.6036,      0.6046,     0.60561,     0.60661,     0.60761,     0.60861,     0.60961,     0.61061,     0.61161,     0.61261,     0.61361,     0.61461,     0.61562,     0.61662,     0.61762,     0.61862,     0.61962,     0.62062,     0.62162,     0.62262,     0.62362,\n",
      "           0.62462,     0.62563,     0.62663,     0.62763,     0.62863,     0.62963,     0.63063,     0.63163,     0.63263,     0.63363,     0.63463,     0.63564,     0.63664,     0.63764,     0.63864,     0.63964,     0.64064,     0.64164,     0.64264,     0.64364,     0.64464,     0.64565,     0.64665,     0.64765,\n",
      "           0.64865,     0.64965,     0.65065,     0.65165,     0.65265,     0.65365,     0.65465,     0.65566,     0.65666,     0.65766,     0.65866,     0.65966,     0.66066,     0.66166,     0.66266,     0.66366,     0.66466,     0.66567,     0.66667,     0.66767,     0.66867,     0.66967,     0.67067,     0.67167,\n",
      "           0.67267,     0.67367,     0.67467,     0.67568,     0.67668,     0.67768,     0.67868,     0.67968,     0.68068,     0.68168,     0.68268,     0.68368,     0.68468,     0.68569,     0.68669,     0.68769,     0.68869,     0.68969,     0.69069,     0.69169,     0.69269,     0.69369,     0.69469,      0.6957,\n",
      "            0.6967,      0.6977,      0.6987,      0.6997,      0.7007,      0.7017,      0.7027,      0.7037,      0.7047,     0.70571,     0.70671,     0.70771,     0.70871,     0.70971,     0.71071,     0.71171,     0.71271,     0.71371,     0.71471,     0.71572,     0.71672,     0.71772,     0.71872,     0.71972,\n",
      "           0.72072,     0.72172,     0.72272,     0.72372,     0.72472,     0.72573,     0.72673,     0.72773,     0.72873,     0.72973,     0.73073,     0.73173,     0.73273,     0.73373,     0.73473,     0.73574,     0.73674,     0.73774,     0.73874,     0.73974,     0.74074,     0.74174,     0.74274,     0.74374,\n",
      "           0.74474,     0.74575,     0.74675,     0.74775,     0.74875,     0.74975,     0.75075,     0.75175,     0.75275,     0.75375,     0.75475,     0.75576,     0.75676,     0.75776,     0.75876,     0.75976,     0.76076,     0.76176,     0.76276,     0.76376,     0.76476,     0.76577,     0.76677,     0.76777,\n",
      "           0.76877,     0.76977,     0.77077,     0.77177,     0.77277,     0.77377,     0.77477,     0.77578,     0.77678,     0.77778,     0.77878,     0.77978,     0.78078,     0.78178,     0.78278,     0.78378,     0.78478,     0.78579,     0.78679,     0.78779,     0.78879,     0.78979,     0.79079,     0.79179,\n",
      "           0.79279,     0.79379,     0.79479,      0.7958,      0.7968,      0.7978,      0.7988,      0.7998,      0.8008,      0.8018,      0.8028,      0.8038,      0.8048,     0.80581,     0.80681,     0.80781,     0.80881,     0.80981,     0.81081,     0.81181,     0.81281,     0.81381,     0.81481,     0.81582,\n",
      "           0.81682,     0.81782,     0.81882,     0.81982,     0.82082,     0.82182,     0.82282,     0.82382,     0.82482,     0.82583,     0.82683,     0.82783,     0.82883,     0.82983,     0.83083,     0.83183,     0.83283,     0.83383,     0.83483,     0.83584,     0.83684,     0.83784,     0.83884,     0.83984,\n",
      "           0.84084,     0.84184,     0.84284,     0.84384,     0.84484,     0.84585,     0.84685,     0.84785,     0.84885,     0.84985,     0.85085,     0.85185,     0.85285,     0.85385,     0.85485,     0.85586,     0.85686,     0.85786,     0.85886,     0.85986,     0.86086,     0.86186,     0.86286,     0.86386,\n",
      "           0.86486,     0.86587,     0.86687,     0.86787,     0.86887,     0.86987,     0.87087,     0.87187,     0.87287,     0.87387,     0.87487,     0.87588,     0.87688,     0.87788,     0.87888,     0.87988,     0.88088,     0.88188,     0.88288,     0.88388,     0.88488,     0.88589,     0.88689,     0.88789,\n",
      "           0.88889,     0.88989,     0.89089,     0.89189,     0.89289,     0.89389,     0.89489,      0.8959,      0.8969,      0.8979,      0.8989,      0.8999,      0.9009,      0.9019,      0.9029,      0.9039,      0.9049,     0.90591,     0.90691,     0.90791,     0.90891,     0.90991,     0.91091,     0.91191,\n",
      "           0.91291,     0.91391,     0.91491,     0.91592,     0.91692,     0.91792,     0.91892,     0.91992,     0.92092,     0.92192,     0.92292,     0.92392,     0.92492,     0.92593,     0.92693,     0.92793,     0.92893,     0.92993,     0.93093,     0.93193,     0.93293,     0.93393,     0.93493,     0.93594,\n",
      "           0.93694,     0.93794,     0.93894,     0.93994,     0.94094,     0.94194,     0.94294,     0.94394,     0.94494,     0.94595,     0.94695,     0.94795,     0.94895,     0.94995,     0.95095,     0.95195,     0.95295,     0.95395,     0.95495,     0.95596,     0.95696,     0.95796,     0.95896,     0.95996,\n",
      "           0.96096,     0.96196,     0.96296,     0.96396,     0.96496,     0.96597,     0.96697,     0.96797,     0.96897,     0.96997,     0.97097,     0.97197,     0.97297,     0.97397,     0.97497,     0.97598,     0.97698,     0.97798,     0.97898,     0.97998,     0.98098,     0.98198,     0.98298,     0.98398,\n",
      "           0.98498,     0.98599,     0.98699,     0.98799,     0.98899,     0.98999,     0.99099,     0.99199,     0.99299,     0.99399,     0.99499,       0.996,       0.997,       0.998,       0.999,           1]), array([[    0.82555,     0.82555,     0.86398,       0.877,     0.88711,     0.89533,     0.90136,     0.90541,     0.90872,        0.91,     0.91153,     0.91322,     0.91367,      0.9154,     0.91625,     0.91671,     0.91773,     0.91872,      0.9195,     0.91969,     0.92021,     0.92055,     0.92129,\n",
      "            0.92226,     0.92271,     0.92273,     0.92309,     0.92465,     0.92488,     0.92501,     0.92521,     0.92557,     0.92603,     0.92575,     0.92593,     0.92577,     0.92563,     0.92579,     0.92594,     0.92603,     0.92612,     0.92621,     0.92638,     0.92663,     0.92696,     0.92716,\n",
      "            0.92689,     0.92718,     0.92729,      0.9274,     0.92764,     0.92799,     0.92788,     0.92776,     0.92804,     0.92815,     0.92827,     0.92808,     0.92814,     0.92793,     0.92802,     0.92812,     0.92822,     0.92782,     0.92752,     0.92717,     0.92696,     0.92675,     0.92648,\n",
      "             0.9259,     0.92539,     0.92564,     0.92577,     0.92591,     0.92622,     0.92599,     0.92589,     0.92605,     0.92618,     0.92623,     0.92627,     0.92632,     0.92637,     0.92642,     0.92647,     0.92665,     0.92674,      0.9266,     0.92646,     0.92651,     0.92661,     0.92671,\n",
      "            0.92677,     0.92682,     0.92686,      0.9269,     0.92694,     0.92698,     0.92703,     0.92709,     0.92728,     0.92754,     0.92776,      0.9279,     0.92803,     0.92815,     0.92827,     0.92836,     0.92841,     0.92847,     0.92853,     0.92859,     0.92865,      0.9288,     0.92894,\n",
      "            0.92885,     0.92873,      0.9286,     0.92811,     0.92789,     0.92802,     0.92814,     0.92813,     0.92805,     0.92798,      0.9279,     0.92783,     0.92798,     0.92844,      0.9281,     0.92818,     0.92825,     0.92833,     0.92838,     0.92816,     0.92847,     0.92878,     0.92902,\n",
      "            0.92913,     0.92924,     0.92937,     0.92953,     0.92937,     0.92956,     0.92959,     0.92966,     0.92973,      0.9298,     0.92975,     0.92981,     0.92995,     0.93009,     0.93061,     0.93051,     0.93031,     0.93018,     0.93006,      0.9302,     0.93074,     0.93095,     0.93089,\n",
      "            0.93082,     0.93076,      0.9307,     0.93063,      0.9309,      0.9308,     0.93064,     0.93048,     0.93033,     0.92983,      0.9298,     0.92976,     0.92973,      0.9297,     0.92967,     0.92963,      0.9296,     0.92957,     0.92953,      0.9295,     0.92947,     0.92953,     0.92961,\n",
      "             0.9297,     0.92978,     0.93012,      0.9304,      0.9308,     0.93091,     0.93102,     0.93119,     0.93144,     0.93165,     0.93175,     0.93181,     0.93186,     0.93192,     0.93197,     0.93202,     0.93193,     0.93177,     0.93155,     0.93127,     0.93117,     0.93107,     0.93098,\n",
      "            0.93126,     0.93133,      0.9314,     0.93148,     0.93155,     0.93161,     0.93167,     0.93173,      0.9318,     0.93186,     0.93178,     0.93149,     0.93134,     0.93118,     0.93131,     0.93145,     0.93122,      0.9312,     0.93139,     0.93105,     0.93098,     0.93091,     0.93084,\n",
      "            0.93077,      0.9307,     0.92993,     0.92979,     0.92966,     0.92962,     0.92979,     0.92983,     0.92965,     0.92946,      0.9292,      0.9295,     0.92958,     0.92965,     0.92972,     0.92979,      0.9295,     0.92925,     0.92901,      0.9287,     0.92859,      0.9285,     0.92841,\n",
      "            0.92833,     0.92808,     0.92787,     0.92776,     0.92765,     0.92753,     0.92704,     0.92676,     0.92661,     0.92647,     0.92593,     0.92574,     0.92587,     0.92587,      0.9253,     0.92502,     0.92508,     0.92479,     0.92438,     0.92425,     0.92411,       0.924,      0.9239,\n",
      "            0.92381,     0.92372,     0.92377,     0.92396,     0.92376,      0.9236,     0.92357,     0.92355,     0.92352,     0.92349,     0.92346,     0.92343,      0.9234,     0.92337,     0.92335,     0.92332,     0.92329,     0.92326,      0.9232,     0.92306,     0.92291,      0.9229,     0.92298,\n",
      "            0.92305,     0.92312,     0.92318,     0.92314,     0.92309,     0.92305,       0.923,     0.92296,     0.92291,     0.92287,     0.92282,     0.92291,     0.92306,     0.92379,     0.92383,     0.92387,     0.92391,     0.92396,       0.924,     0.92404,     0.92409,     0.92422,     0.92442,\n",
      "            0.92427,     0.92412,     0.92374,     0.92391,     0.92401,     0.92404,     0.92407,     0.92409,     0.92412,     0.92414,     0.92417,      0.9242,     0.92422,     0.92425,     0.92427,      0.9243,     0.92432,     0.92443,     0.92455,     0.92498,     0.92507,     0.92516,     0.92525,\n",
      "            0.92533,     0.92539,     0.92545,     0.92551,     0.92557,     0.92563,     0.92526,     0.92529,     0.92531,     0.92534,     0.92537,      0.9254,     0.92542,     0.92545,     0.92548,      0.9255,     0.92553,     0.92556,     0.92558,     0.92561,     0.92564,     0.92567,      0.9257,\n",
      "            0.92572,     0.92575,     0.92578,     0.92581,     0.92584,     0.92586,     0.92589,     0.92602,     0.92653,      0.9263,     0.92621,     0.92626,     0.92631,     0.92635,      0.9264,     0.92645,     0.92649,     0.92656,     0.92665,     0.92675,     0.92684,     0.92653,     0.92656,\n",
      "            0.92668,     0.92679,     0.92688,     0.92696,     0.92705,     0.92713,     0.92722,      0.9273,     0.92738,     0.92744,     0.92734,     0.92725,     0.92716,      0.9271,     0.92735,     0.92769,     0.92784,     0.92796,     0.92807,     0.92811,     0.92815,     0.92818,     0.92822,\n",
      "            0.92826,      0.9283,     0.92834,     0.92837,     0.92826,     0.92806,     0.92831,     0.92824,     0.92817,      0.9281,     0.92802,     0.92801,     0.92831,     0.92841,      0.9285,      0.9286,     0.92854,     0.92842,      0.9283,     0.92789,     0.92754,     0.92742,     0.92736,\n",
      "            0.92729,     0.92723,     0.92717,      0.9271,     0.92701,     0.92691,     0.92682,     0.92672,      0.9265,     0.92639,     0.92664,     0.92668,     0.92671,     0.92674,     0.92677,      0.9268,     0.92683,     0.92686,     0.92689,     0.92692,     0.92695,     0.92698,     0.92691,\n",
      "             0.9268,      0.9267,      0.9266,     0.92654,     0.92649,     0.92644,     0.92638,     0.92633,     0.92627,     0.92622,     0.92591,     0.92559,     0.92538,     0.92519,     0.92491,     0.92436,     0.92418,     0.92408,     0.92398,     0.92389,     0.92374,     0.92357,     0.92339,\n",
      "            0.92319,      0.9234,     0.92315,      0.9233,     0.92319,     0.92304,     0.92305,     0.92272,     0.92249,     0.92238,     0.92228,     0.92217,     0.92201,     0.92184,     0.92202,     0.92179,     0.92161,     0.92147,     0.92133,     0.92128,     0.92125,     0.92123,      0.9212,\n",
      "            0.92117,     0.92115,     0.92112,     0.92109,     0.92107,     0.92104,     0.92101,     0.92099,     0.92096,     0.92093,     0.92128,     0.92185,     0.92198,     0.92206,     0.92214,     0.92222,     0.92246,     0.92226,     0.92181,     0.92199,     0.92214,      0.9222,     0.92226,\n",
      "            0.92232,     0.92239,     0.92245,     0.92256,      0.9227,     0.92274,     0.92255,     0.92242,     0.92248,     0.92254,     0.92261,     0.92267,     0.92273,     0.92282,     0.92292,     0.92302,     0.92328,     0.92377,     0.92393,     0.92408,     0.92503,     0.92516,     0.92523,\n",
      "             0.9253,     0.92537,     0.92509,     0.92563,     0.92539,     0.92548,     0.92557,     0.92566,     0.92611,     0.92629,     0.92645,      0.9266,     0.92634,     0.92651,     0.92659,     0.92652,     0.92645,     0.92638,     0.92631,     0.92623,      0.9265,     0.92665,     0.92677,\n",
      "            0.92688,     0.92702,     0.92717,     0.92753,     0.92814,     0.92829,     0.92857,     0.92887,     0.92876,     0.92864,     0.92853,     0.92849,     0.92868,     0.92884,     0.92896,     0.92909,     0.92925,     0.92916,     0.92918,     0.92942,      0.9296,     0.92975,     0.92987,\n",
      "               0.93,     0.93037,     0.93023,      0.9301,     0.92997,     0.92988,      0.9298,     0.92971,     0.92962,     0.92958,     0.92956,     0.92954,     0.92952,      0.9295,     0.92948,     0.92946,     0.92943,     0.92941,     0.92939,     0.92937,     0.92935,     0.92933,     0.92931,\n",
      "            0.92929,     0.92926,     0.92924,     0.92922,     0.92919,     0.92913,     0.92907,     0.92901,     0.92895,     0.92889,     0.92883,     0.92874,     0.92865,     0.92855,     0.92845,     0.92845,     0.92851,     0.92858,     0.92864,      0.9287,     0.92872,     0.92855,     0.92837,\n",
      "            0.92821,     0.92806,     0.92794,     0.92789,     0.92783,     0.92778,     0.92773,     0.92767,     0.92762,     0.92757,     0.92759,     0.92761,     0.92763,     0.92765,     0.92767,      0.9277,     0.92772,     0.92774,     0.92776,     0.92778,      0.9278,     0.92782,     0.92784,\n",
      "            0.92786,     0.92788,      0.9279,     0.92786,     0.92777,     0.92769,     0.92761,     0.92752,     0.92708,     0.92698,     0.92689,     0.92679,      0.9267,     0.92662,     0.92654,     0.92646,     0.92638,     0.92631,     0.92624,     0.92618,     0.92612,     0.92606,       0.926,\n",
      "            0.92594,      0.9254,     0.92523,      0.9252,     0.92536,     0.92534,     0.92503,     0.92485,     0.92468,       0.925,     0.92493,     0.92483,     0.92473,     0.92463,     0.92486,     0.92522,     0.92487,     0.92472,     0.92457,     0.92446,     0.92437,     0.92428,      0.9242,\n",
      "            0.92411,     0.92395,     0.92379,     0.92357,     0.92332,     0.92342,     0.92353,     0.92364,     0.92322,     0.92285,     0.92263,      0.9217,     0.92195,     0.92187,      0.9218,     0.92172,     0.92165,     0.92146,     0.92056,     0.92049,     0.92072,      0.9204,     0.91999,\n",
      "            0.91984,     0.91975,     0.91967,     0.91958,     0.91925,     0.91873,     0.91889,     0.91896,     0.91869,     0.91853,     0.91839,     0.91825,     0.91802,      0.9178,     0.91761,     0.91741,     0.91711,     0.91697,      0.9169,     0.91683,     0.91676,     0.91669,     0.91662,\n",
      "            0.91666,     0.91674,     0.91682,      0.9169,     0.91696,       0.917,     0.91705,     0.91709,     0.91713,     0.91718,     0.91722,     0.91726,     0.91708,     0.91674,     0.91654,     0.91635,     0.91616,     0.91564,     0.91543,     0.91528,     0.91543,     0.91558,     0.91507,\n",
      "            0.91488,     0.91456,     0.91399,     0.91352,     0.91319,     0.91301,     0.91285,     0.91232,     0.91208,     0.91189,     0.91181,     0.91174,     0.91166,     0.91159,     0.91152,     0.91132,     0.91109,      0.9109,     0.91071,      0.9105,     0.91028,     0.91016,     0.91004,\n",
      "            0.90992,     0.90972,     0.90941,     0.90917,       0.909,     0.90895,     0.90889,     0.90884,     0.90878,     0.90873,     0.90867,     0.90862,     0.90857,     0.90852,     0.90847,     0.90842,     0.90837,     0.90832,     0.90828,     0.90823,     0.90785,     0.90737,     0.90702,\n",
      "            0.90659,     0.90613,     0.90643,     0.90633,     0.90596,      0.9059,     0.90583,     0.90576,      0.9057,     0.90563,     0.90556,     0.90551,     0.90546,     0.90541,     0.90536,      0.9053,     0.90525,      0.9052,     0.90515,     0.90499,     0.90482,     0.90463,     0.90444,\n",
      "            0.90417,     0.90387,     0.90378,     0.90369,      0.9036,     0.90351,     0.90292,     0.90269,     0.90249,     0.90231,     0.90152,     0.90088,     0.90063,     0.90009,         0.9,     0.89991,     0.89982,     0.89973,     0.89956,     0.89931,     0.89821,     0.89724,     0.89681,\n",
      "            0.89639,     0.89615,     0.89595,     0.89486,     0.89412,      0.8939,     0.89332,     0.89316,     0.89299,     0.89201,     0.89142,     0.89117,     0.89093,     0.89034,     0.89011,     0.88964,     0.88827,     0.88737,     0.88634,     0.88583,     0.88519,     0.88473,     0.88444,\n",
      "            0.88416,      0.8839,     0.88301,     0.88234,     0.88149,     0.88091,     0.88074,     0.88062,      0.8805,     0.88024,     0.87906,     0.87813,      0.8762,       0.875,     0.87217,     0.86909,     0.86207,      0.8587,     0.85476,     0.84832,     0.84543,     0.84341,     0.84264,\n",
      "            0.84185,     0.84149,     0.84043,     0.83831,     0.83765,     0.83725,     0.83554,     0.83438,     0.83136,     0.82767,     0.82489,     0.82301,     0.81786,     0.81207,     0.80408,     0.79758,     0.79065,     0.78144,     0.77406,     0.76513,     0.75764,     0.74915,      0.7333,\n",
      "            0.72298,     0.70367,     0.68747,     0.67311,     0.63891,     0.61359,     0.59337,     0.56616,     0.53288,     0.49999,      0.4476,     0.41336,     0.39547,     0.37262,      0.3675,      0.3608,     0.33884,     0.28408,     0.27011,     0.23822,     0.20755,      0.1982,     0.19011,\n",
      "            0.18522,     0.17371,     0.15452,      0.1143,    0.090091,    0.069274,    0.064258,    0.048248,    0.025513,           0,           0,           0,           0,           0,           0,           0,           0,           0,           0,           0,           0,           0,           0,\n",
      "                  0,           0,           0,           0,           0,           0,           0,           0,           0,           0,           0]]), 'Confidence', 'F1'], [array([          0,    0.001001,    0.002002,    0.003003,    0.004004,    0.005005,    0.006006,    0.007007,    0.008008,    0.009009,     0.01001,    0.011011,    0.012012,    0.013013,    0.014014,    0.015015,    0.016016,    0.017017,    0.018018,    0.019019,     0.02002,    0.021021,    0.022022,    0.023023,\n",
      "          0.024024,    0.025025,    0.026026,    0.027027,    0.028028,    0.029029,     0.03003,    0.031031,    0.032032,    0.033033,    0.034034,    0.035035,    0.036036,    0.037037,    0.038038,    0.039039,     0.04004,    0.041041,    0.042042,    0.043043,    0.044044,    0.045045,    0.046046,    0.047047,\n",
      "          0.048048,    0.049049,     0.05005,    0.051051,    0.052052,    0.053053,    0.054054,    0.055055,    0.056056,    0.057057,    0.058058,    0.059059,     0.06006,    0.061061,    0.062062,    0.063063,    0.064064,    0.065065,    0.066066,    0.067067,    0.068068,    0.069069,     0.07007,    0.071071,\n",
      "          0.072072,    0.073073,    0.074074,    0.075075,    0.076076,    0.077077,    0.078078,    0.079079,     0.08008,    0.081081,    0.082082,    0.083083,    0.084084,    0.085085,    0.086086,    0.087087,    0.088088,    0.089089,     0.09009,    0.091091,    0.092092,    0.093093,    0.094094,    0.095095,\n",
      "          0.096096,    0.097097,    0.098098,    0.099099,      0.1001,      0.1011,      0.1021,      0.1031,      0.1041,     0.10511,     0.10611,     0.10711,     0.10811,     0.10911,     0.11011,     0.11111,     0.11211,     0.11311,     0.11411,     0.11512,     0.11612,     0.11712,     0.11812,     0.11912,\n",
      "           0.12012,     0.12112,     0.12212,     0.12312,     0.12412,     0.12513,     0.12613,     0.12713,     0.12813,     0.12913,     0.13013,     0.13113,     0.13213,     0.13313,     0.13413,     0.13514,     0.13614,     0.13714,     0.13814,     0.13914,     0.14014,     0.14114,     0.14214,     0.14314,\n",
      "           0.14414,     0.14515,     0.14615,     0.14715,     0.14815,     0.14915,     0.15015,     0.15115,     0.15215,     0.15315,     0.15415,     0.15516,     0.15616,     0.15716,     0.15816,     0.15916,     0.16016,     0.16116,     0.16216,     0.16316,     0.16416,     0.16517,     0.16617,     0.16717,\n",
      "           0.16817,     0.16917,     0.17017,     0.17117,     0.17217,     0.17317,     0.17417,     0.17518,     0.17618,     0.17718,     0.17818,     0.17918,     0.18018,     0.18118,     0.18218,     0.18318,     0.18418,     0.18519,     0.18619,     0.18719,     0.18819,     0.18919,     0.19019,     0.19119,\n",
      "           0.19219,     0.19319,     0.19419,      0.1952,      0.1962,      0.1972,      0.1982,      0.1992,      0.2002,      0.2012,      0.2022,      0.2032,      0.2042,     0.20521,     0.20621,     0.20721,     0.20821,     0.20921,     0.21021,     0.21121,     0.21221,     0.21321,     0.21421,     0.21522,\n",
      "           0.21622,     0.21722,     0.21822,     0.21922,     0.22022,     0.22122,     0.22222,     0.22322,     0.22422,     0.22523,     0.22623,     0.22723,     0.22823,     0.22923,     0.23023,     0.23123,     0.23223,     0.23323,     0.23423,     0.23524,     0.23624,     0.23724,     0.23824,     0.23924,\n",
      "           0.24024,     0.24124,     0.24224,     0.24324,     0.24424,     0.24525,     0.24625,     0.24725,     0.24825,     0.24925,     0.25025,     0.25125,     0.25225,     0.25325,     0.25425,     0.25526,     0.25626,     0.25726,     0.25826,     0.25926,     0.26026,     0.26126,     0.26226,     0.26326,\n",
      "           0.26426,     0.26527,     0.26627,     0.26727,     0.26827,     0.26927,     0.27027,     0.27127,     0.27227,     0.27327,     0.27427,     0.27528,     0.27628,     0.27728,     0.27828,     0.27928,     0.28028,     0.28128,     0.28228,     0.28328,     0.28428,     0.28529,     0.28629,     0.28729,\n",
      "           0.28829,     0.28929,     0.29029,     0.29129,     0.29229,     0.29329,     0.29429,      0.2953,      0.2963,      0.2973,      0.2983,      0.2993,      0.3003,      0.3013,      0.3023,      0.3033,      0.3043,     0.30531,     0.30631,     0.30731,     0.30831,     0.30931,     0.31031,     0.31131,\n",
      "           0.31231,     0.31331,     0.31431,     0.31532,     0.31632,     0.31732,     0.31832,     0.31932,     0.32032,     0.32132,     0.32232,     0.32332,     0.32432,     0.32533,     0.32633,     0.32733,     0.32833,     0.32933,     0.33033,     0.33133,     0.33233,     0.33333,     0.33433,     0.33534,\n",
      "           0.33634,     0.33734,     0.33834,     0.33934,     0.34034,     0.34134,     0.34234,     0.34334,     0.34434,     0.34535,     0.34635,     0.34735,     0.34835,     0.34935,     0.35035,     0.35135,     0.35235,     0.35335,     0.35435,     0.35536,     0.35636,     0.35736,     0.35836,     0.35936,\n",
      "           0.36036,     0.36136,     0.36236,     0.36336,     0.36436,     0.36537,     0.36637,     0.36737,     0.36837,     0.36937,     0.37037,     0.37137,     0.37237,     0.37337,     0.37437,     0.37538,     0.37638,     0.37738,     0.37838,     0.37938,     0.38038,     0.38138,     0.38238,     0.38338,\n",
      "           0.38438,     0.38539,     0.38639,     0.38739,     0.38839,     0.38939,     0.39039,     0.39139,     0.39239,     0.39339,     0.39439,      0.3954,      0.3964,      0.3974,      0.3984,      0.3994,      0.4004,      0.4014,      0.4024,      0.4034,      0.4044,     0.40541,     0.40641,     0.40741,\n",
      "           0.40841,     0.40941,     0.41041,     0.41141,     0.41241,     0.41341,     0.41441,     0.41542,     0.41642,     0.41742,     0.41842,     0.41942,     0.42042,     0.42142,     0.42242,     0.42342,     0.42442,     0.42543,     0.42643,     0.42743,     0.42843,     0.42943,     0.43043,     0.43143,\n",
      "           0.43243,     0.43343,     0.43443,     0.43544,     0.43644,     0.43744,     0.43844,     0.43944,     0.44044,     0.44144,     0.44244,     0.44344,     0.44444,     0.44545,     0.44645,     0.44745,     0.44845,     0.44945,     0.45045,     0.45145,     0.45245,     0.45345,     0.45445,     0.45546,\n",
      "           0.45646,     0.45746,     0.45846,     0.45946,     0.46046,     0.46146,     0.46246,     0.46346,     0.46446,     0.46547,     0.46647,     0.46747,     0.46847,     0.46947,     0.47047,     0.47147,     0.47247,     0.47347,     0.47447,     0.47548,     0.47648,     0.47748,     0.47848,     0.47948,\n",
      "           0.48048,     0.48148,     0.48248,     0.48348,     0.48448,     0.48549,     0.48649,     0.48749,     0.48849,     0.48949,     0.49049,     0.49149,     0.49249,     0.49349,     0.49449,      0.4955,      0.4965,      0.4975,      0.4985,      0.4995,      0.5005,      0.5015,      0.5025,      0.5035,\n",
      "            0.5045,     0.50551,     0.50651,     0.50751,     0.50851,     0.50951,     0.51051,     0.51151,     0.51251,     0.51351,     0.51451,     0.51552,     0.51652,     0.51752,     0.51852,     0.51952,     0.52052,     0.52152,     0.52252,     0.52352,     0.52452,     0.52553,     0.52653,     0.52753,\n",
      "           0.52853,     0.52953,     0.53053,     0.53153,     0.53253,     0.53353,     0.53453,     0.53554,     0.53654,     0.53754,     0.53854,     0.53954,     0.54054,     0.54154,     0.54254,     0.54354,     0.54454,     0.54555,     0.54655,     0.54755,     0.54855,     0.54955,     0.55055,     0.55155,\n",
      "           0.55255,     0.55355,     0.55455,     0.55556,     0.55656,     0.55756,     0.55856,     0.55956,     0.56056,     0.56156,     0.56256,     0.56356,     0.56456,     0.56557,     0.56657,     0.56757,     0.56857,     0.56957,     0.57057,     0.57157,     0.57257,     0.57357,     0.57457,     0.57558,\n",
      "           0.57658,     0.57758,     0.57858,     0.57958,     0.58058,     0.58158,     0.58258,     0.58358,     0.58458,     0.58559,     0.58659,     0.58759,     0.58859,     0.58959,     0.59059,     0.59159,     0.59259,     0.59359,     0.59459,      0.5956,      0.5966,      0.5976,      0.5986,      0.5996,\n",
      "            0.6006,      0.6016,      0.6026,      0.6036,      0.6046,     0.60561,     0.60661,     0.60761,     0.60861,     0.60961,     0.61061,     0.61161,     0.61261,     0.61361,     0.61461,     0.61562,     0.61662,     0.61762,     0.61862,     0.61962,     0.62062,     0.62162,     0.62262,     0.62362,\n",
      "           0.62462,     0.62563,     0.62663,     0.62763,     0.62863,     0.62963,     0.63063,     0.63163,     0.63263,     0.63363,     0.63463,     0.63564,     0.63664,     0.63764,     0.63864,     0.63964,     0.64064,     0.64164,     0.64264,     0.64364,     0.64464,     0.64565,     0.64665,     0.64765,\n",
      "           0.64865,     0.64965,     0.65065,     0.65165,     0.65265,     0.65365,     0.65465,     0.65566,     0.65666,     0.65766,     0.65866,     0.65966,     0.66066,     0.66166,     0.66266,     0.66366,     0.66466,     0.66567,     0.66667,     0.66767,     0.66867,     0.66967,     0.67067,     0.67167,\n",
      "           0.67267,     0.67367,     0.67467,     0.67568,     0.67668,     0.67768,     0.67868,     0.67968,     0.68068,     0.68168,     0.68268,     0.68368,     0.68468,     0.68569,     0.68669,     0.68769,     0.68869,     0.68969,     0.69069,     0.69169,     0.69269,     0.69369,     0.69469,      0.6957,\n",
      "            0.6967,      0.6977,      0.6987,      0.6997,      0.7007,      0.7017,      0.7027,      0.7037,      0.7047,     0.70571,     0.70671,     0.70771,     0.70871,     0.70971,     0.71071,     0.71171,     0.71271,     0.71371,     0.71471,     0.71572,     0.71672,     0.71772,     0.71872,     0.71972,\n",
      "           0.72072,     0.72172,     0.72272,     0.72372,     0.72472,     0.72573,     0.72673,     0.72773,     0.72873,     0.72973,     0.73073,     0.73173,     0.73273,     0.73373,     0.73473,     0.73574,     0.73674,     0.73774,     0.73874,     0.73974,     0.74074,     0.74174,     0.74274,     0.74374,\n",
      "           0.74474,     0.74575,     0.74675,     0.74775,     0.74875,     0.74975,     0.75075,     0.75175,     0.75275,     0.75375,     0.75475,     0.75576,     0.75676,     0.75776,     0.75876,     0.75976,     0.76076,     0.76176,     0.76276,     0.76376,     0.76476,     0.76577,     0.76677,     0.76777,\n",
      "           0.76877,     0.76977,     0.77077,     0.77177,     0.77277,     0.77377,     0.77477,     0.77578,     0.77678,     0.77778,     0.77878,     0.77978,     0.78078,     0.78178,     0.78278,     0.78378,     0.78478,     0.78579,     0.78679,     0.78779,     0.78879,     0.78979,     0.79079,     0.79179,\n",
      "           0.79279,     0.79379,     0.79479,      0.7958,      0.7968,      0.7978,      0.7988,      0.7998,      0.8008,      0.8018,      0.8028,      0.8038,      0.8048,     0.80581,     0.80681,     0.80781,     0.80881,     0.80981,     0.81081,     0.81181,     0.81281,     0.81381,     0.81481,     0.81582,\n",
      "           0.81682,     0.81782,     0.81882,     0.81982,     0.82082,     0.82182,     0.82282,     0.82382,     0.82482,     0.82583,     0.82683,     0.82783,     0.82883,     0.82983,     0.83083,     0.83183,     0.83283,     0.83383,     0.83483,     0.83584,     0.83684,     0.83784,     0.83884,     0.83984,\n",
      "           0.84084,     0.84184,     0.84284,     0.84384,     0.84484,     0.84585,     0.84685,     0.84785,     0.84885,     0.84985,     0.85085,     0.85185,     0.85285,     0.85385,     0.85485,     0.85586,     0.85686,     0.85786,     0.85886,     0.85986,     0.86086,     0.86186,     0.86286,     0.86386,\n",
      "           0.86486,     0.86587,     0.86687,     0.86787,     0.86887,     0.86987,     0.87087,     0.87187,     0.87287,     0.87387,     0.87487,     0.87588,     0.87688,     0.87788,     0.87888,     0.87988,     0.88088,     0.88188,     0.88288,     0.88388,     0.88488,     0.88589,     0.88689,     0.88789,\n",
      "           0.88889,     0.88989,     0.89089,     0.89189,     0.89289,     0.89389,     0.89489,      0.8959,      0.8969,      0.8979,      0.8989,      0.8999,      0.9009,      0.9019,      0.9029,      0.9039,      0.9049,     0.90591,     0.90691,     0.90791,     0.90891,     0.90991,     0.91091,     0.91191,\n",
      "           0.91291,     0.91391,     0.91491,     0.91592,     0.91692,     0.91792,     0.91892,     0.91992,     0.92092,     0.92192,     0.92292,     0.92392,     0.92492,     0.92593,     0.92693,     0.92793,     0.92893,     0.92993,     0.93093,     0.93193,     0.93293,     0.93393,     0.93493,     0.93594,\n",
      "           0.93694,     0.93794,     0.93894,     0.93994,     0.94094,     0.94194,     0.94294,     0.94394,     0.94494,     0.94595,     0.94695,     0.94795,     0.94895,     0.94995,     0.95095,     0.95195,     0.95295,     0.95395,     0.95495,     0.95596,     0.95696,     0.95796,     0.95896,     0.95996,\n",
      "           0.96096,     0.96196,     0.96296,     0.96396,     0.96496,     0.96597,     0.96697,     0.96797,     0.96897,     0.96997,     0.97097,     0.97197,     0.97297,     0.97397,     0.97497,     0.97598,     0.97698,     0.97798,     0.97898,     0.97998,     0.98098,     0.98198,     0.98298,     0.98398,\n",
      "           0.98498,     0.98599,     0.98699,     0.98799,     0.98899,     0.98999,     0.99099,     0.99199,     0.99299,     0.99399,     0.99499,       0.996,       0.997,       0.998,       0.999,           1]), array([[    0.71774,     0.71774,     0.77881,     0.80165,     0.81921,     0.83334,      0.8449,     0.85313,     0.85903,     0.86188,     0.86519,     0.86873,     0.87019,     0.87333,     0.87488,     0.87572,     0.87758,      0.8794,     0.88082,     0.88118,     0.88272,     0.88333,      0.8847,\n",
      "            0.88649,     0.88732,     0.88797,     0.88922,     0.89212,     0.89308,     0.89339,     0.89377,     0.89445,      0.8959,     0.89599,     0.89641,     0.89638,     0.89638,     0.89668,     0.89697,     0.89713,      0.8973,     0.89746,     0.89778,     0.89826,     0.89888,     0.89924,\n",
      "            0.89923,     0.89991,     0.90011,     0.90032,     0.90077,     0.90143,     0.90154,     0.90162,     0.90214,     0.90236,     0.90258,     0.90265,      0.9032,     0.90316,     0.90335,     0.90353,     0.90372,     0.90368,     0.90363,     0.90357,     0.90353,      0.9035,     0.90345,\n",
      "            0.90335,     0.90326,     0.90385,     0.90411,     0.90436,     0.90504,     0.90515,      0.9056,      0.9059,     0.90615,     0.90624,     0.90633,     0.90643,     0.90652,     0.90661,     0.90671,     0.90706,     0.90732,      0.9073,     0.90728,     0.90742,     0.90762,     0.90782,\n",
      "            0.90793,     0.90801,     0.90809,     0.90817,     0.90825,     0.90833,     0.90841,     0.90853,     0.90891,     0.90941,     0.90983,     0.91009,     0.91034,     0.91057,      0.9108,     0.91097,     0.91109,      0.9112,     0.91131,     0.91142,     0.91153,     0.91182,     0.91211,\n",
      "            0.91212,      0.9121,     0.91208,       0.912,     0.91202,     0.91226,      0.9125,     0.91257,     0.91256,     0.91254,     0.91253,     0.91252,     0.91284,     0.91374,     0.91373,     0.91387,     0.91402,     0.91416,      0.9143,      0.9145,     0.91509,     0.91569,     0.91617,\n",
      "            0.91638,     0.91659,     0.91684,     0.91715,      0.9173,     0.91848,     0.91861,     0.91874,     0.91887,       0.919,     0.91909,      0.9197,     0.91997,     0.92025,     0.92126,     0.92152,     0.92149,     0.92147,     0.92145,     0.92179,     0.92285,     0.92334,     0.92333,\n",
      "            0.92332,     0.92331,      0.9233,     0.92329,     0.92384,      0.9239,     0.92388,     0.92386,     0.92383,     0.92376,     0.92376,     0.92375,     0.92375,     0.92374,     0.92374,     0.92374,     0.92373,     0.92373,     0.92372,     0.92372,     0.92371,     0.92384,     0.92401,\n",
      "            0.92418,     0.92435,     0.92502,     0.92557,     0.92636,     0.92658,     0.92679,     0.92714,     0.92762,     0.92805,     0.92825,     0.92836,     0.92847,     0.92857,     0.92868,     0.92879,      0.9288,     0.92878,     0.92875,     0.92872,      0.9287,     0.92869,     0.92868,\n",
      "            0.92934,     0.92948,     0.92962,     0.92976,      0.9299,     0.93003,     0.93016,     0.93028,      0.9304,     0.93053,     0.93059,     0.93055,     0.93053,     0.93051,     0.93082,     0.93115,     0.93112,      0.9313,     0.93168,     0.93171,      0.9317,     0.93169,     0.93168,\n",
      "            0.93167,     0.93166,     0.93156,     0.93155,     0.93153,     0.93162,     0.93196,     0.93216,     0.93214,     0.93211,     0.93208,      0.9328,     0.93294,     0.93309,     0.93323,     0.93337,     0.93334,     0.93331,     0.93328,     0.93324,     0.93323,     0.93322,     0.93321,\n",
      "             0.9332,     0.93317,     0.93314,     0.93313,     0.93311,      0.9331,     0.93304,       0.933,     0.93298,     0.93296,      0.9329,       0.933,     0.93328,     0.93351,     0.93344,     0.93371,     0.93403,     0.93399,     0.93394,     0.93393,     0.93391,      0.9339,     0.93388,\n",
      "            0.93387,     0.93386,     0.93406,     0.93443,     0.93449,     0.93447,     0.93447,     0.93446,     0.93446,     0.93446,     0.93445,     0.93445,     0.93445,     0.93444,     0.93444,     0.93444,     0.93443,     0.93443,     0.93442,      0.9344,     0.93439,     0.93447,     0.93462,\n",
      "            0.93476,     0.93491,     0.93505,     0.93504,     0.93503,     0.93503,     0.93502,     0.93502,     0.93501,     0.93501,       0.935,     0.93521,     0.93552,     0.93702,      0.9371,     0.93719,     0.93728,     0.93737,     0.93746,     0.93754,     0.93763,     0.93791,     0.93835,\n",
      "            0.93833,     0.93831,     0.93839,     0.93876,     0.93896,     0.93902,     0.93907,     0.93912,     0.93918,     0.93923,     0.93928,     0.93934,     0.93939,     0.93944,      0.9395,     0.93955,      0.9396,     0.93982,     0.94007,     0.94097,     0.94115,     0.94134,     0.94153,\n",
      "            0.94169,     0.94181,     0.94194,     0.94207,     0.94219,     0.94232,     0.94229,     0.94234,      0.9424,     0.94246,     0.94251,     0.94257,     0.94262,     0.94268,     0.94274,     0.94279,     0.94285,      0.9429,     0.94296,     0.94302,     0.94307,     0.94313,     0.94319,\n",
      "            0.94325,     0.94331,     0.94337,     0.94342,     0.94348,     0.94354,      0.9436,     0.94386,       0.945,     0.94498,     0.94502,     0.94512,     0.94521,     0.94531,     0.94541,      0.9455,      0.9456,     0.94574,     0.94594,     0.94613,     0.94632,     0.94631,      0.9465,\n",
      "            0.94674,     0.94698,     0.94716,     0.94734,     0.94752,     0.94769,     0.94787,     0.94804,     0.94822,     0.94836,     0.94835,     0.94834,     0.94833,     0.94839,     0.94891,     0.94961,     0.94993,     0.95019,     0.95041,     0.95049,     0.95057,     0.95065,     0.95073,\n",
      "            0.95081,     0.95089,     0.95097,     0.95105,     0.95108,     0.95117,     0.95175,     0.95174,     0.95174,     0.95173,     0.95172,     0.95182,     0.95247,     0.95267,     0.95286,     0.95306,     0.95311,      0.9531,     0.95308,     0.95305,     0.95302,     0.95301,       0.953,\n",
      "            0.95299,     0.95299,     0.95298,     0.95298,     0.95297,     0.95296,     0.95295,     0.95294,     0.95292,     0.95305,     0.95359,     0.95367,     0.95373,     0.95379,     0.95386,     0.95392,     0.95398,     0.95404,     0.95411,     0.95417,     0.95423,      0.9543,      0.9543,\n",
      "            0.95429,     0.95429,     0.95428,     0.95427,     0.95427,     0.95426,     0.95426,     0.95425,     0.95425,     0.95424,     0.95422,     0.95419,     0.95485,     0.95483,     0.95481,     0.95476,     0.95474,     0.95473,     0.95473,     0.95472,      0.9547,     0.95469,     0.95467,\n",
      "            0.95466,     0.95534,      0.9556,     0.95592,     0.95602,     0.95616,      0.9567,     0.95667,     0.95665,     0.95664,     0.95663,     0.95662,     0.95661,     0.95659,      0.9573,     0.95728,     0.95726,     0.95725,     0.95724,     0.95724,     0.95724,     0.95723,     0.95723,\n",
      "            0.95723,     0.95723,     0.95722,     0.95722,     0.95722,     0.95722,     0.95722,     0.95721,     0.95721,     0.95721,       0.958,     0.95924,     0.95952,      0.9597,     0.95987,     0.96005,     0.96055,     0.96079,     0.96078,     0.96117,     0.96151,     0.96164,     0.96177,\n",
      "             0.9619,     0.96204,     0.96217,     0.96242,     0.96273,     0.96293,     0.96292,     0.96293,     0.96307,     0.96321,     0.96334,     0.96348,     0.96361,     0.96381,     0.96403,     0.96424,     0.96482,     0.96589,     0.96623,     0.96656,     0.96863,     0.96892,     0.96908,\n",
      "            0.96923,     0.96939,      0.9696,     0.97079,     0.97109,     0.97129,     0.97149,     0.97169,      0.9727,      0.9731,     0.97345,     0.97378,     0.97404,     0.97442,     0.97465,     0.97465,     0.97465,     0.97464,     0.97464,     0.97464,     0.97525,     0.97559,     0.97584,\n",
      "            0.97609,      0.9764,     0.97673,     0.97752,     0.97889,     0.98007,     0.98071,     0.98141,     0.98141,      0.9814,      0.9814,     0.98224,     0.98267,     0.98304,     0.98332,      0.9836,     0.98484,     0.98518,     0.98554,     0.98608,     0.98648,     0.98683,      0.9871,\n",
      "            0.98738,     0.98826,     0.98826,     0.98826,     0.98825,     0.98825,     0.98825,     0.98825,     0.98825,     0.98824,     0.98824,     0.98824,     0.98824,     0.98824,     0.98824,     0.98824,     0.98824,     0.98824,     0.98824,     0.98824,     0.98824,     0.98824,     0.98824,\n",
      "            0.98824,     0.98824,     0.98824,     0.98824,     0.98824,     0.98823,     0.98823,     0.98823,     0.98823,     0.98823,     0.98823,     0.98822,     0.98822,     0.98822,     0.98822,      0.9883,     0.98844,     0.98859,     0.98873,     0.98888,     0.98899,     0.98899,     0.98899,\n",
      "            0.98898,     0.98898,     0.98898,     0.98897,     0.98897,     0.98897,     0.98897,     0.98897,     0.98897,     0.98897,     0.98902,     0.98907,     0.98911,     0.98916,     0.98921,     0.98926,      0.9893,     0.98935,      0.9894,     0.98945,     0.98949,     0.98954,     0.98959,\n",
      "            0.98963,     0.98968,     0.98973,     0.98975,     0.98974,     0.98974,     0.98974,     0.98974,     0.98973,     0.98973,     0.98973,     0.98972,     0.98972,     0.98972,     0.98972,     0.98972,     0.98972,     0.98971,     0.98971,     0.98971,     0.98971,     0.98971,     0.98971,\n",
      "            0.98971,      0.9897,     0.98969,     0.98984,     0.99023,     0.99047,     0.99047,     0.99046,     0.99046,      0.9912,     0.99125,     0.99125,     0.99124,     0.99124,     0.99179,     0.99282,     0.99282,     0.99281,     0.99281,     0.99281,     0.99281,     0.99281,     0.99281,\n",
      "            0.99281,      0.9928,      0.9928,      0.9928,     0.99282,     0.99307,     0.99332,     0.99357,     0.99358,     0.99358,     0.99358,     0.99356,     0.99436,     0.99436,     0.99436,     0.99436,     0.99436,     0.99436,     0.99435,     0.99461,     0.99515,     0.99515,     0.99514,\n",
      "            0.99514,     0.99514,     0.99514,     0.99514,     0.99514,     0.99513,     0.99559,     0.99594,     0.99594,     0.99593,     0.99593,     0.99593,     0.99593,     0.99593,     0.99593,     0.99592,     0.99592,     0.99592,     0.99592,     0.99592,     0.99592,     0.99592,     0.99592,\n",
      "            0.99605,     0.99624,     0.99642,     0.99661,     0.99676,     0.99687,     0.99697,     0.99707,     0.99717,     0.99727,     0.99737,     0.99747,     0.99755,     0.99754,     0.99754,     0.99754,     0.99754,     0.99754,     0.99754,     0.99759,     0.99795,     0.99831,     0.99835,\n",
      "            0.99835,     0.99835,     0.99835,     0.99835,     0.99835,     0.99835,     0.99835,     0.99835,     0.99834,     0.99834,     0.99834,     0.99834,     0.99834,     0.99834,     0.99834,     0.99834,     0.99834,     0.99834,     0.99834,     0.99834,     0.99834,     0.99834,     0.99834,\n",
      "            0.99834,     0.99834,     0.99834,     0.99834,     0.99833,     0.99833,     0.99833,     0.99833,     0.99833,     0.99833,     0.99833,     0.99833,     0.99833,     0.99833,     0.99833,     0.99833,     0.99833,     0.99833,     0.99833,     0.99833,     0.99833,     0.99833,     0.99833,\n",
      "            0.99833,     0.99834,     0.99907,           1,           1,           1,           1,           1,           1,           1,           1,           1,           1,           1,           1,           1,           1,           1,           1,           1,           1,           1,           1,\n",
      "                  1,           1,           1,           1,           1,           1,           1,           1,           1,           1,           1,           1,           1,           1,           1,           1,           1,           1,           1,           1,           1,           1,           1,\n",
      "                  1,           1,           1,           1,           1,           1,           1,           1,           1,           1,           1,           1,           1,           1,           1,           1,           1,           1,           1,           1,           1,           1,           1,\n",
      "                  1,           1,           1,           1,           1,           1,           1,           1,           1,           1,           1,           1,           1,           1,           1,           1,           1,           1,           1,           1,           1,           1,           1,\n",
      "                  1,           1,           1,           1,           1,           1,           1,           1,           1,           1,           1,           1,           1,           1,           1,           1,           1,           1,           1,           1,           1,           1,           1,\n",
      "                  1,           1,           1,           1,           1,           1,           1,           1,           1,           1,           1,           1,           1,           1,           1,           1,           1,           1,           1,           1,           1,           1,           1,\n",
      "                  1,           1,           1,           1,           1,           1,           1,           1,           1,           1,           1,           1,           1,           1,           1,           1,           1,           1,           1,           1,           1,           1,           1,\n",
      "                  1,           1,           1,           1,           1,           1,           1,           1,           1,           1,           1]]), 'Confidence', 'Precision'], [array([          0,    0.001001,    0.002002,    0.003003,    0.004004,    0.005005,    0.006006,    0.007007,    0.008008,    0.009009,     0.01001,    0.011011,    0.012012,    0.013013,    0.014014,    0.015015,    0.016016,    0.017017,    0.018018,    0.019019,     0.02002,    0.021021,    0.022022,    0.023023,\n",
      "          0.024024,    0.025025,    0.026026,    0.027027,    0.028028,    0.029029,     0.03003,    0.031031,    0.032032,    0.033033,    0.034034,    0.035035,    0.036036,    0.037037,    0.038038,    0.039039,     0.04004,    0.041041,    0.042042,    0.043043,    0.044044,    0.045045,    0.046046,    0.047047,\n",
      "          0.048048,    0.049049,     0.05005,    0.051051,    0.052052,    0.053053,    0.054054,    0.055055,    0.056056,    0.057057,    0.058058,    0.059059,     0.06006,    0.061061,    0.062062,    0.063063,    0.064064,    0.065065,    0.066066,    0.067067,    0.068068,    0.069069,     0.07007,    0.071071,\n",
      "          0.072072,    0.073073,    0.074074,    0.075075,    0.076076,    0.077077,    0.078078,    0.079079,     0.08008,    0.081081,    0.082082,    0.083083,    0.084084,    0.085085,    0.086086,    0.087087,    0.088088,    0.089089,     0.09009,    0.091091,    0.092092,    0.093093,    0.094094,    0.095095,\n",
      "          0.096096,    0.097097,    0.098098,    0.099099,      0.1001,      0.1011,      0.1021,      0.1031,      0.1041,     0.10511,     0.10611,     0.10711,     0.10811,     0.10911,     0.11011,     0.11111,     0.11211,     0.11311,     0.11411,     0.11512,     0.11612,     0.11712,     0.11812,     0.11912,\n",
      "           0.12012,     0.12112,     0.12212,     0.12312,     0.12412,     0.12513,     0.12613,     0.12713,     0.12813,     0.12913,     0.13013,     0.13113,     0.13213,     0.13313,     0.13413,     0.13514,     0.13614,     0.13714,     0.13814,     0.13914,     0.14014,     0.14114,     0.14214,     0.14314,\n",
      "           0.14414,     0.14515,     0.14615,     0.14715,     0.14815,     0.14915,     0.15015,     0.15115,     0.15215,     0.15315,     0.15415,     0.15516,     0.15616,     0.15716,     0.15816,     0.15916,     0.16016,     0.16116,     0.16216,     0.16316,     0.16416,     0.16517,     0.16617,     0.16717,\n",
      "           0.16817,     0.16917,     0.17017,     0.17117,     0.17217,     0.17317,     0.17417,     0.17518,     0.17618,     0.17718,     0.17818,     0.17918,     0.18018,     0.18118,     0.18218,     0.18318,     0.18418,     0.18519,     0.18619,     0.18719,     0.18819,     0.18919,     0.19019,     0.19119,\n",
      "           0.19219,     0.19319,     0.19419,      0.1952,      0.1962,      0.1972,      0.1982,      0.1992,      0.2002,      0.2012,      0.2022,      0.2032,      0.2042,     0.20521,     0.20621,     0.20721,     0.20821,     0.20921,     0.21021,     0.21121,     0.21221,     0.21321,     0.21421,     0.21522,\n",
      "           0.21622,     0.21722,     0.21822,     0.21922,     0.22022,     0.22122,     0.22222,     0.22322,     0.22422,     0.22523,     0.22623,     0.22723,     0.22823,     0.22923,     0.23023,     0.23123,     0.23223,     0.23323,     0.23423,     0.23524,     0.23624,     0.23724,     0.23824,     0.23924,\n",
      "           0.24024,     0.24124,     0.24224,     0.24324,     0.24424,     0.24525,     0.24625,     0.24725,     0.24825,     0.24925,     0.25025,     0.25125,     0.25225,     0.25325,     0.25425,     0.25526,     0.25626,     0.25726,     0.25826,     0.25926,     0.26026,     0.26126,     0.26226,     0.26326,\n",
      "           0.26426,     0.26527,     0.26627,     0.26727,     0.26827,     0.26927,     0.27027,     0.27127,     0.27227,     0.27327,     0.27427,     0.27528,     0.27628,     0.27728,     0.27828,     0.27928,     0.28028,     0.28128,     0.28228,     0.28328,     0.28428,     0.28529,     0.28629,     0.28729,\n",
      "           0.28829,     0.28929,     0.29029,     0.29129,     0.29229,     0.29329,     0.29429,      0.2953,      0.2963,      0.2973,      0.2983,      0.2993,      0.3003,      0.3013,      0.3023,      0.3033,      0.3043,     0.30531,     0.30631,     0.30731,     0.30831,     0.30931,     0.31031,     0.31131,\n",
      "           0.31231,     0.31331,     0.31431,     0.31532,     0.31632,     0.31732,     0.31832,     0.31932,     0.32032,     0.32132,     0.32232,     0.32332,     0.32432,     0.32533,     0.32633,     0.32733,     0.32833,     0.32933,     0.33033,     0.33133,     0.33233,     0.33333,     0.33433,     0.33534,\n",
      "           0.33634,     0.33734,     0.33834,     0.33934,     0.34034,     0.34134,     0.34234,     0.34334,     0.34434,     0.34535,     0.34635,     0.34735,     0.34835,     0.34935,     0.35035,     0.35135,     0.35235,     0.35335,     0.35435,     0.35536,     0.35636,     0.35736,     0.35836,     0.35936,\n",
      "           0.36036,     0.36136,     0.36236,     0.36336,     0.36436,     0.36537,     0.36637,     0.36737,     0.36837,     0.36937,     0.37037,     0.37137,     0.37237,     0.37337,     0.37437,     0.37538,     0.37638,     0.37738,     0.37838,     0.37938,     0.38038,     0.38138,     0.38238,     0.38338,\n",
      "           0.38438,     0.38539,     0.38639,     0.38739,     0.38839,     0.38939,     0.39039,     0.39139,     0.39239,     0.39339,     0.39439,      0.3954,      0.3964,      0.3974,      0.3984,      0.3994,      0.4004,      0.4014,      0.4024,      0.4034,      0.4044,     0.40541,     0.40641,     0.40741,\n",
      "           0.40841,     0.40941,     0.41041,     0.41141,     0.41241,     0.41341,     0.41441,     0.41542,     0.41642,     0.41742,     0.41842,     0.41942,     0.42042,     0.42142,     0.42242,     0.42342,     0.42442,     0.42543,     0.42643,     0.42743,     0.42843,     0.42943,     0.43043,     0.43143,\n",
      "           0.43243,     0.43343,     0.43443,     0.43544,     0.43644,     0.43744,     0.43844,     0.43944,     0.44044,     0.44144,     0.44244,     0.44344,     0.44444,     0.44545,     0.44645,     0.44745,     0.44845,     0.44945,     0.45045,     0.45145,     0.45245,     0.45345,     0.45445,     0.45546,\n",
      "           0.45646,     0.45746,     0.45846,     0.45946,     0.46046,     0.46146,     0.46246,     0.46346,     0.46446,     0.46547,     0.46647,     0.46747,     0.46847,     0.46947,     0.47047,     0.47147,     0.47247,     0.47347,     0.47447,     0.47548,     0.47648,     0.47748,     0.47848,     0.47948,\n",
      "           0.48048,     0.48148,     0.48248,     0.48348,     0.48448,     0.48549,     0.48649,     0.48749,     0.48849,     0.48949,     0.49049,     0.49149,     0.49249,     0.49349,     0.49449,      0.4955,      0.4965,      0.4975,      0.4985,      0.4995,      0.5005,      0.5015,      0.5025,      0.5035,\n",
      "            0.5045,     0.50551,     0.50651,     0.50751,     0.50851,     0.50951,     0.51051,     0.51151,     0.51251,     0.51351,     0.51451,     0.51552,     0.51652,     0.51752,     0.51852,     0.51952,     0.52052,     0.52152,     0.52252,     0.52352,     0.52452,     0.52553,     0.52653,     0.52753,\n",
      "           0.52853,     0.52953,     0.53053,     0.53153,     0.53253,     0.53353,     0.53453,     0.53554,     0.53654,     0.53754,     0.53854,     0.53954,     0.54054,     0.54154,     0.54254,     0.54354,     0.54454,     0.54555,     0.54655,     0.54755,     0.54855,     0.54955,     0.55055,     0.55155,\n",
      "           0.55255,     0.55355,     0.55455,     0.55556,     0.55656,     0.55756,     0.55856,     0.55956,     0.56056,     0.56156,     0.56256,     0.56356,     0.56456,     0.56557,     0.56657,     0.56757,     0.56857,     0.56957,     0.57057,     0.57157,     0.57257,     0.57357,     0.57457,     0.57558,\n",
      "           0.57658,     0.57758,     0.57858,     0.57958,     0.58058,     0.58158,     0.58258,     0.58358,     0.58458,     0.58559,     0.58659,     0.58759,     0.58859,     0.58959,     0.59059,     0.59159,     0.59259,     0.59359,     0.59459,      0.5956,      0.5966,      0.5976,      0.5986,      0.5996,\n",
      "            0.6006,      0.6016,      0.6026,      0.6036,      0.6046,     0.60561,     0.60661,     0.60761,     0.60861,     0.60961,     0.61061,     0.61161,     0.61261,     0.61361,     0.61461,     0.61562,     0.61662,     0.61762,     0.61862,     0.61962,     0.62062,     0.62162,     0.62262,     0.62362,\n",
      "           0.62462,     0.62563,     0.62663,     0.62763,     0.62863,     0.62963,     0.63063,     0.63163,     0.63263,     0.63363,     0.63463,     0.63564,     0.63664,     0.63764,     0.63864,     0.63964,     0.64064,     0.64164,     0.64264,     0.64364,     0.64464,     0.64565,     0.64665,     0.64765,\n",
      "           0.64865,     0.64965,     0.65065,     0.65165,     0.65265,     0.65365,     0.65465,     0.65566,     0.65666,     0.65766,     0.65866,     0.65966,     0.66066,     0.66166,     0.66266,     0.66366,     0.66466,     0.66567,     0.66667,     0.66767,     0.66867,     0.66967,     0.67067,     0.67167,\n",
      "           0.67267,     0.67367,     0.67467,     0.67568,     0.67668,     0.67768,     0.67868,     0.67968,     0.68068,     0.68168,     0.68268,     0.68368,     0.68468,     0.68569,     0.68669,     0.68769,     0.68869,     0.68969,     0.69069,     0.69169,     0.69269,     0.69369,     0.69469,      0.6957,\n",
      "            0.6967,      0.6977,      0.6987,      0.6997,      0.7007,      0.7017,      0.7027,      0.7037,      0.7047,     0.70571,     0.70671,     0.70771,     0.70871,     0.70971,     0.71071,     0.71171,     0.71271,     0.71371,     0.71471,     0.71572,     0.71672,     0.71772,     0.71872,     0.71972,\n",
      "           0.72072,     0.72172,     0.72272,     0.72372,     0.72472,     0.72573,     0.72673,     0.72773,     0.72873,     0.72973,     0.73073,     0.73173,     0.73273,     0.73373,     0.73473,     0.73574,     0.73674,     0.73774,     0.73874,     0.73974,     0.74074,     0.74174,     0.74274,     0.74374,\n",
      "           0.74474,     0.74575,     0.74675,     0.74775,     0.74875,     0.74975,     0.75075,     0.75175,     0.75275,     0.75375,     0.75475,     0.75576,     0.75676,     0.75776,     0.75876,     0.75976,     0.76076,     0.76176,     0.76276,     0.76376,     0.76476,     0.76577,     0.76677,     0.76777,\n",
      "           0.76877,     0.76977,     0.77077,     0.77177,     0.77277,     0.77377,     0.77477,     0.77578,     0.77678,     0.77778,     0.77878,     0.77978,     0.78078,     0.78178,     0.78278,     0.78378,     0.78478,     0.78579,     0.78679,     0.78779,     0.78879,     0.78979,     0.79079,     0.79179,\n",
      "           0.79279,     0.79379,     0.79479,      0.7958,      0.7968,      0.7978,      0.7988,      0.7998,      0.8008,      0.8018,      0.8028,      0.8038,      0.8048,     0.80581,     0.80681,     0.80781,     0.80881,     0.80981,     0.81081,     0.81181,     0.81281,     0.81381,     0.81481,     0.81582,\n",
      "           0.81682,     0.81782,     0.81882,     0.81982,     0.82082,     0.82182,     0.82282,     0.82382,     0.82482,     0.82583,     0.82683,     0.82783,     0.82883,     0.82983,     0.83083,     0.83183,     0.83283,     0.83383,     0.83483,     0.83584,     0.83684,     0.83784,     0.83884,     0.83984,\n",
      "           0.84084,     0.84184,     0.84284,     0.84384,     0.84484,     0.84585,     0.84685,     0.84785,     0.84885,     0.84985,     0.85085,     0.85185,     0.85285,     0.85385,     0.85485,     0.85586,     0.85686,     0.85786,     0.85886,     0.85986,     0.86086,     0.86186,     0.86286,     0.86386,\n",
      "           0.86486,     0.86587,     0.86687,     0.86787,     0.86887,     0.86987,     0.87087,     0.87187,     0.87287,     0.87387,     0.87487,     0.87588,     0.87688,     0.87788,     0.87888,     0.87988,     0.88088,     0.88188,     0.88288,     0.88388,     0.88488,     0.88589,     0.88689,     0.88789,\n",
      "           0.88889,     0.88989,     0.89089,     0.89189,     0.89289,     0.89389,     0.89489,      0.8959,      0.8969,      0.8979,      0.8989,      0.8999,      0.9009,      0.9019,      0.9029,      0.9039,      0.9049,     0.90591,     0.90691,     0.90791,     0.90891,     0.90991,     0.91091,     0.91191,\n",
      "           0.91291,     0.91391,     0.91491,     0.91592,     0.91692,     0.91792,     0.91892,     0.91992,     0.92092,     0.92192,     0.92292,     0.92392,     0.92492,     0.92593,     0.92693,     0.92793,     0.92893,     0.92993,     0.93093,     0.93193,     0.93293,     0.93393,     0.93493,     0.93594,\n",
      "           0.93694,     0.93794,     0.93894,     0.93994,     0.94094,     0.94194,     0.94294,     0.94394,     0.94494,     0.94595,     0.94695,     0.94795,     0.94895,     0.94995,     0.95095,     0.95195,     0.95295,     0.95395,     0.95495,     0.95596,     0.95696,     0.95796,     0.95896,     0.95996,\n",
      "           0.96096,     0.96196,     0.96296,     0.96396,     0.96496,     0.96597,     0.96697,     0.96797,     0.96897,     0.96997,     0.97097,     0.97197,     0.97297,     0.97397,     0.97497,     0.97598,     0.97698,     0.97798,     0.97898,     0.97998,     0.98098,     0.98198,     0.98298,     0.98398,\n",
      "           0.98498,     0.98599,     0.98699,     0.98799,     0.98899,     0.98999,     0.99099,     0.99199,     0.99299,     0.99399,     0.99499,       0.996,       0.997,       0.998,       0.999,           1]), array([[    0.97147,     0.97147,     0.97008,     0.96799,     0.96729,     0.96729,      0.9659,     0.96451,     0.96451,     0.96381,     0.96312,     0.96251,     0.96173,     0.96173,     0.96173,     0.96173,     0.96173,     0.96173,     0.96173,     0.96173,     0.96103,     0.96103,     0.96103,\n",
      "            0.96103,     0.96103,     0.96033,     0.95964,     0.95964,     0.95904,     0.95894,     0.95894,     0.95894,     0.95826,     0.95755,     0.95747,     0.95715,     0.95685,     0.95685,     0.95685,     0.95685,     0.95685,     0.95685,     0.95685,     0.95685,     0.95685,     0.95685,\n",
      "            0.95631,     0.95616,     0.95616,     0.95616,     0.95616,     0.95616,     0.95581,     0.95546,     0.95546,     0.95546,     0.95546,     0.95497,     0.95449,     0.95408,     0.95407,     0.95407,     0.95407,     0.95327,      0.9527,     0.95203,     0.95163,     0.95123,     0.95071,\n",
      "            0.94961,     0.94863,      0.9485,      0.9485,      0.9485,     0.94842,     0.94781,     0.94711,     0.94711,     0.94711,     0.94711,     0.94711,     0.94711,     0.94711,     0.94711,     0.94711,     0.94711,     0.94701,     0.94674,     0.94647,     0.94642,     0.94642,     0.94642,\n",
      "            0.94642,     0.94642,     0.94642,     0.94642,     0.94642,     0.94642,     0.94642,     0.94642,     0.94642,     0.94642,     0.94642,     0.94642,     0.94642,     0.94642,     0.94642,     0.94642,     0.94642,     0.94642,     0.94642,     0.94642,     0.94642,     0.94642,     0.94642,\n",
      "            0.94621,     0.94597,     0.94573,      0.9448,     0.94433,     0.94433,     0.94433,     0.94423,     0.94409,     0.94395,      0.9438,     0.94366,     0.94363,     0.94361,     0.94294,     0.94294,     0.94294,     0.94294,      0.9429,     0.94224,     0.94224,     0.94224,     0.94224,\n",
      "            0.94224,     0.94224,     0.94224,     0.94224,     0.94175,     0.94091,     0.94085,     0.94085,     0.94085,     0.94085,     0.94066,     0.94015,     0.94015,     0.94015,     0.94015,     0.93969,      0.9393,     0.93906,     0.93883,     0.93876,     0.93876,      0.9387,     0.93858,\n",
      "            0.93846,     0.93833,     0.93821,     0.93809,     0.93807,      0.9378,     0.93749,     0.93721,     0.93692,     0.93598,     0.93591,     0.93585,     0.93579,     0.93573,     0.93567,      0.9356,     0.93554,     0.93548,     0.93542,     0.93536,     0.93529,     0.93528,     0.93528,\n",
      "            0.93528,     0.93528,     0.93528,     0.93528,     0.93528,     0.93528,     0.93528,     0.93528,     0.93528,     0.93528,     0.93528,     0.93528,     0.93528,     0.93528,     0.93528,     0.93528,     0.93507,     0.93478,     0.93437,     0.93384,     0.93366,     0.93347,     0.93329,\n",
      "            0.93319,     0.93319,     0.93319,     0.93319,     0.93319,     0.93319,     0.93319,     0.93319,     0.93319,     0.93319,     0.93297,     0.93244,     0.93215,     0.93185,      0.9318,     0.93175,     0.93132,     0.93111,     0.93111,      0.9304,     0.93027,     0.93013,        0.93,\n",
      "            0.92987,     0.92973,     0.92829,     0.92805,      0.9278,     0.92763,     0.92763,      0.9275,     0.92718,     0.92681,     0.92634,     0.92624,     0.92624,     0.92624,     0.92624,     0.92624,      0.9257,     0.92523,     0.92478,      0.9242,       0.924,     0.92383,     0.92367,\n",
      "            0.92351,     0.92305,     0.92266,     0.92246,     0.92226,     0.92204,     0.92112,      0.9206,     0.92033,     0.92006,     0.91907,     0.91858,     0.91858,     0.91836,     0.91731,     0.91649,     0.91631,     0.91577,     0.91502,     0.91477,     0.91452,     0.91431,     0.91414,\n",
      "            0.91396,     0.91379,     0.91371,     0.91371,     0.91327,     0.91299,     0.91293,     0.91288,     0.91283,     0.91277,     0.91272,     0.91267,     0.91262,     0.91256,     0.91251,     0.91246,     0.91241,     0.91235,     0.91224,     0.91198,     0.91172,     0.91162,     0.91162,\n",
      "            0.91162,     0.91162,     0.91161,     0.91153,     0.91145,     0.91137,     0.91128,      0.9112,     0.91112,     0.91104,     0.91095,     0.91093,     0.91093,     0.91093,     0.91093,     0.91093,     0.91093,     0.91093,     0.91093,     0.91093,     0.91093,     0.91093,      0.9109,\n",
      "            0.91062,     0.91034,     0.90953,     0.90953,     0.90953,     0.90953,     0.90953,     0.90953,     0.90953,     0.90953,     0.90953,     0.90953,     0.90953,     0.90953,     0.90953,     0.90953,     0.90953,     0.90953,     0.90953,     0.90953,     0.90953,     0.90953,     0.90953,\n",
      "            0.90953,     0.90953,     0.90953,     0.90953,     0.90953,     0.90953,     0.90884,     0.90884,     0.90884,     0.90884,     0.90884,     0.90884,     0.90884,     0.90884,     0.90884,     0.90884,     0.90884,     0.90884,     0.90884,     0.90884,     0.90884,     0.90884,     0.90884,\n",
      "            0.90884,     0.90884,     0.90884,     0.90884,     0.90884,     0.90884,     0.90884,     0.90884,     0.90877,     0.90834,     0.90814,     0.90814,     0.90814,     0.90814,     0.90814,     0.90814,     0.90814,     0.90814,     0.90814,     0.90814,     0.90814,     0.90756,     0.90745,\n",
      "            0.90745,     0.90745,     0.90745,     0.90745,     0.90745,     0.90745,     0.90745,     0.90745,     0.90745,     0.90742,     0.90725,     0.90707,      0.9069,     0.90675,     0.90675,     0.90675,     0.90675,     0.90675,     0.90675,     0.90675,     0.90675,     0.90675,     0.90675,\n",
      "            0.90675,     0.90675,     0.90675,     0.90675,     0.90651,     0.90605,       0.906,     0.90587,     0.90574,      0.9056,     0.90547,     0.90536,     0.90536,     0.90536,     0.90536,     0.90536,      0.9052,     0.90499,     0.90478,     0.90403,     0.90338,     0.90318,     0.90306,\n",
      "            0.90294,     0.90283,     0.90271,      0.9026,     0.90243,     0.90225,     0.90208,      0.9019,      0.9015,     0.90118,     0.90118,     0.90118,     0.90118,     0.90118,     0.90118,     0.90118,     0.90118,     0.90118,     0.90118,     0.90118,     0.90118,     0.90118,     0.90104,\n",
      "            0.90085,     0.90066,     0.90048,     0.90038,     0.90028,     0.90019,     0.90009,     0.89999,     0.89989,      0.8998,     0.89923,     0.89866,     0.89768,     0.89733,     0.89684,     0.89584,     0.89551,     0.89534,     0.89516,     0.89499,     0.89473,     0.89441,     0.89408,\n",
      "            0.89373,     0.89353,     0.89283,     0.89283,     0.89254,     0.89214,     0.89169,      0.8911,     0.89069,      0.8905,      0.8903,     0.89011,     0.88983,     0.88951,     0.88925,     0.88883,     0.88851,     0.88826,     0.88802,     0.88792,     0.88788,     0.88783,     0.88778,\n",
      "            0.88773,     0.88769,     0.88764,     0.88759,     0.88754,      0.8875,     0.88745,      0.8874,     0.88735,     0.88731,     0.88727,     0.88727,     0.88727,     0.88727,     0.88727,     0.88727,     0.88727,      0.8867,     0.88587,     0.88587,     0.88587,     0.88587,     0.88587,\n",
      "            0.88587,     0.88587,     0.88587,     0.88587,     0.88587,     0.88577,     0.88544,     0.88518,     0.88518,     0.88518,     0.88518,     0.88518,     0.88518,     0.88518,     0.88518,     0.88518,     0.88518,     0.88518,     0.88518,     0.88518,     0.88518,     0.88518,     0.88518,\n",
      "            0.88518,     0.88518,     0.88448,     0.88448,     0.88379,     0.88379,     0.88379,     0.88379,     0.88379,     0.88379,     0.88379,     0.88379,     0.88309,     0.88309,     0.88304,     0.88292,     0.88279,     0.88267,     0.88254,     0.88241,     0.88239,     0.88239,     0.88239,\n",
      "            0.88239,     0.88239,     0.88239,     0.88239,     0.88239,      0.8817,      0.8817,     0.88167,     0.88147,     0.88126,     0.88106,     0.88031,     0.88031,     0.88031,     0.88031,     0.88031,     0.87961,     0.87916,     0.87891,     0.87891,     0.87891,     0.87891,     0.87891,\n",
      "            0.87891,     0.87889,     0.87865,      0.8784,     0.87818,     0.87803,     0.87787,     0.87772,     0.87756,     0.87749,     0.87746,     0.87742,     0.87738,     0.87735,     0.87731,     0.87727,     0.87723,      0.8772,     0.87716,     0.87712,     0.87708,     0.87705,     0.87701,\n",
      "            0.87697,     0.87693,      0.8769,     0.87686,     0.87681,      0.8767,     0.87659,     0.87649,     0.87638,     0.87627,     0.87616,     0.87601,     0.87584,     0.87568,     0.87551,     0.87543,     0.87543,     0.87543,     0.87543,     0.87543,     0.87538,     0.87507,     0.87476,\n",
      "            0.87448,     0.87421,       0.874,     0.87391,     0.87381,     0.87372,     0.87362,     0.87353,     0.87343,     0.87335,     0.87335,     0.87335,     0.87335,     0.87335,     0.87335,     0.87335,     0.87335,     0.87335,     0.87335,     0.87335,     0.87335,     0.87335,     0.87335,\n",
      "            0.87335,     0.87335,     0.87335,     0.87326,     0.87311,     0.87296,     0.87281,     0.87266,     0.87188,     0.87172,     0.87155,     0.87139,     0.87123,     0.87109,     0.87095,      0.8708,     0.87066,     0.87053,     0.87042,     0.87032,     0.87021,      0.8701,     0.86999,\n",
      "            0.86989,     0.86895,     0.86865,     0.86848,     0.86848,     0.86825,     0.86769,     0.86739,     0.86709,     0.86708,     0.86692,     0.86675,     0.86657,      0.8664,     0.86639,     0.86623,     0.86563,     0.86537,     0.86511,     0.86491,     0.86476,     0.86461,     0.86446,\n",
      "             0.8643,     0.86403,     0.86375,     0.86336,     0.86291,     0.86291,     0.86291,     0.86291,     0.86217,     0.86151,     0.86114,     0.85953,     0.85937,     0.85923,      0.8591,     0.85897,     0.85884,     0.85852,     0.85697,     0.85665,     0.85665,     0.85611,      0.8554,\n",
      "            0.85513,     0.85498,     0.85483,     0.85468,     0.85411,     0.85322,     0.85317,     0.85303,     0.85257,     0.85228,     0.85204,      0.8518,     0.85142,     0.85103,      0.8507,     0.85037,     0.84986,     0.84961,     0.84949,     0.84937,     0.84926,     0.84914,     0.84902,\n",
      "            0.84899,     0.84899,     0.84899,     0.84899,     0.84899,     0.84899,     0.84899,     0.84899,     0.84899,     0.84899,     0.84899,     0.84899,     0.84863,     0.84805,     0.84771,     0.84738,     0.84706,     0.84617,     0.84581,     0.84551,     0.84551,     0.84551,      0.8446,\n",
      "            0.84429,     0.84375,     0.84277,     0.84197,     0.84142,     0.84111,     0.84085,     0.83994,     0.83954,     0.83921,     0.83909,     0.83896,     0.83884,     0.83871,     0.83858,     0.83825,     0.83786,     0.83754,     0.83722,     0.83687,      0.8365,     0.83629,     0.83609,\n",
      "            0.83589,     0.83554,     0.83502,     0.83463,     0.83434,     0.83425,     0.83416,     0.83407,     0.83397,     0.83388,     0.83379,      0.8337,     0.83361,     0.83353,     0.83345,     0.83337,     0.83329,      0.8332,     0.83312,     0.83304,     0.83241,     0.83159,     0.83101,\n",
      "            0.83029,     0.82951,     0.82951,      0.8287,     0.82809,     0.82798,     0.82787,     0.82776,     0.82764,     0.82753,     0.82742,     0.82734,     0.82725,     0.82716,     0.82708,     0.82699,     0.82691,     0.82682,     0.82674,     0.82647,     0.82618,     0.82587,     0.82554,\n",
      "            0.82511,     0.82459,     0.82445,      0.8243,     0.82415,       0.824,     0.82302,     0.82264,     0.82231,       0.822,      0.8207,     0.81963,     0.81922,     0.81834,     0.81819,     0.81804,     0.81789,     0.81774,     0.81745,     0.81704,     0.81523,     0.81363,     0.81292,\n",
      "            0.81223,     0.81184,     0.81151,     0.80973,     0.80851,     0.80815,     0.80721,     0.80694,     0.80667,     0.80506,      0.8041,     0.80371,     0.80331,     0.80236,     0.80197,     0.80122,       0.799,     0.79754,     0.79589,     0.79506,     0.79403,     0.79328,     0.79282,\n",
      "            0.79238,     0.79195,     0.79053,     0.78946,      0.7881,     0.78717,     0.78689,      0.7867,     0.78651,      0.7861,     0.78422,     0.78273,     0.77967,     0.77778,     0.77331,     0.76849,     0.75757,     0.75239,     0.74636,     0.73659,     0.73225,     0.72922,     0.72807,\n",
      "            0.72689,     0.72636,     0.72478,     0.72162,     0.72065,     0.72006,     0.71753,     0.71582,     0.71139,       0.706,     0.70196,     0.69926,     0.69184,     0.68361,     0.67235,     0.66332,     0.65378,     0.64128,      0.6314,      0.6196,     0.60984,     0.59892,     0.57891,\n",
      "            0.56615,     0.54282,     0.52378,     0.50729,     0.46941,     0.44257,     0.42184,     0.39485,     0.36322,     0.33332,     0.28833,     0.26053,     0.24647,     0.22897,     0.22512,     0.22011,     0.20398,     0.16556,     0.15614,     0.13522,     0.11579,        0.11,     0.10504,\n",
      "            0.10206,    0.095115,    0.083731,    0.060616,     0.04717,     0.03588,    0.033195,     0.02472,    0.012921,           0,           0,           0,           0,           0,           0,           0,           0,           0,           0,           0,           0,           0,           0,\n",
      "                  0,           0,           0,           0,           0,           0,           0,           0,           0,           0,           0]]), 'Confidence', 'Recall']]\n",
      "fitness: 0.9168997702119104\n",
      "keys: ['metrics/precision(B)', 'metrics/recall(B)', 'metrics/mAP50(B)', 'metrics/mAP50-95(B)']\n",
      "maps: array([    0.91052,     0.91052])\n",
      "names: {0: ' ', 1: 'person'}\n",
      "plot: True\n",
      "results_dict: {'metrics/precision(B)': 0.9283599730026854, 'metrics/recall(B)': 0.9352818371607515, 'metrics/mAP50(B)': 0.9743538118253927, 'metrics/mAP50-95(B)': 0.9105159878104123, 'fitness': 0.9168997702119104}\n",
      "save_dir: PosixPath('runs/detect/train2')\n",
      "speed: {'preprocess': 0.5782985687255859, 'inference': 86.32417678833008, 'loss': 0.002307891845703125, 'postprocess': 7.56464958190918}\n",
      "task: 'detect'\n"
     ]
    }
   ],
   "source": [
    "from ultralytics import YOLO\n",
    "\n",
    "yolo = YOLO('yolov8x.pt')\n",
    "yolo.train(data='/content/drive/MyDrive/dataset/yolofinetuning/yolofinetuning/data.yaml', epochs=40)\n",
    "valid_results = yolo.val()\n",
    "print(valid_results)"
   ]
  },
  {
   "cell_type": "markdown",
   "metadata": {
    "id": "oV4T_0JfIQ2j"
   },
   "source": []
  },
  {
   "cell_type": "code",
   "execution_count": null,
   "metadata": {
    "colab": {
     "base_uri": "https://localhost:8080/"
    },
    "executionInfo": {
     "elapsed": 18793,
     "status": "ok",
     "timestamp": 1714327849087,
     "user": {
      "displayName": "Harsh Maheshwari",
      "userId": "10425666184789192535"
     },
     "user_tz": -330
    },
    "id": "l2hhNZ9GRYTa",
    "outputId": "5f729d39-afd8-4bf6-e4db-83c00fe33e4b"
   },
   "outputs": [
    {
     "name": "stdout",
     "output_type": "stream",
     "text": [
      "  adding: content/runs/detect/ (stored 0%)\n",
      "  adding: content/runs/detect/train2/ (stored 0%)\n",
      "  adding: content/runs/detect/train2/R_curve.png (deflated 18%)\n",
      "  adding: content/runs/detect/train2/confusion_matrix.png (deflated 37%)\n",
      "  adding: content/runs/detect/train2/val_batch1_labels.jpg (deflated 3%)\n",
      "  adding: content/runs/detect/train2/confusion_matrix_normalized.png (deflated 37%)\n",
      "  adding: content/runs/detect/train2/PR_curve.png (deflated 25%)\n",
      "  adding: content/runs/detect/train2/val_batch0_pred.jpg (deflated 3%)\n",
      "  adding: content/runs/detect/train2/val_batch1_pred.jpg (deflated 3%)\n",
      "  adding: content/runs/detect/train2/val_batch0_labels.jpg (deflated 3%)\n",
      "  adding: content/runs/detect/train2/F1_curve.png (deflated 20%)\n",
      "  adding: content/runs/detect/train2/val_batch2_pred.jpg (deflated 3%)\n",
      "  adding: content/runs/detect/train2/val_batch2_labels.jpg (deflated 3%)\n",
      "  adding: content/runs/detect/train2/P_curve.png (deflated 25%)\n",
      "  adding: content/runs/detect/train/ (stored 0%)\n",
      "  adding: content/runs/detect/train/args.yaml (deflated 53%)\n",
      "  adding: content/runs/detect/train/train_batch2.jpg (deflated 2%)\n",
      "  adding: content/runs/detect/train/results.csv (deflated 84%)\n",
      "  adding: content/runs/detect/train/R_curve.png (deflated 18%)\n",
      "  adding: content/runs/detect/train/confusion_matrix.png (deflated 38%)\n",
      "  adding: content/runs/detect/train/val_batch1_labels.jpg (deflated 3%)\n",
      "  adding: content/runs/detect/train/confusion_matrix_normalized.png (deflated 37%)\n",
      "  adding: content/runs/detect/train/events.out.tfevents.1714324402.f60afb22752c.290.0 (deflated 92%)\n",
      "  adding: content/runs/detect/train/PR_curve.png (deflated 24%)\n",
      "  adding: content/runs/detect/train/train_batch1.jpg (deflated 3%)\n",
      "  adding: content/runs/detect/train/val_batch0_pred.jpg (deflated 3%)\n",
      "  adding: content/runs/detect/train/val_batch1_pred.jpg (deflated 3%)\n",
      "  adding: content/runs/detect/train/val_batch0_labels.jpg (deflated 3%)\n",
      "  adding: content/runs/detect/train/labels.jpg (deflated 38%)\n",
      "  adding: content/runs/detect/train/F1_curve.png (deflated 20%)\n",
      "  adding: content/runs/detect/train/results.png (deflated 9%)\n",
      "  adding: content/runs/detect/train/weights/ (stored 0%)\n",
      "  adding: content/runs/detect/train/weights/best.pt (deflated 8%)\n",
      "  adding: content/runs/detect/train/weights/last.pt (deflated 8%)\n",
      "  adding: content/runs/detect/train/train_batch1051.jpg (deflated 7%)\n",
      "  adding: content/runs/detect/train/P_curve.png (deflated 24%)\n",
      "  adding: content/runs/detect/train/train_batch1052.jpg (deflated 5%)\n",
      "  adding: content/runs/detect/train/labels_correlogram.jpg (deflated 38%)\n",
      "  adding: content/runs/detect/train/train_batch0.jpg (deflated 2%)\n",
      "  adding: content/runs/detect/train/train_batch1050.jpg (deflated 7%)\n"
     ]
    }
   ],
   "source": [
    "!zip -r runs.zip /content/runs/detect"
   ]
  },
  {
   "cell_type": "code",
   "execution_count": null,
   "metadata": {
    "colab": {
     "base_uri": "https://localhost:8080/"
    },
    "executionInfo": {
     "elapsed": 5646981,
     "status": "ok",
     "timestamp": 1716102922936,
     "user": {
      "displayName": "Harsh Maheshwari",
      "userId": "10425666184789192535"
     },
     "user_tz": -330
    },
    "id": "VXFB9bC3XLEp",
    "outputId": "94dd74a6-9f6d-4534-bf1c-55851f211e29"
   },
   "outputs": [
    {
     "name": "stdout",
     "output_type": "stream",
     "text": [
      "Downloading https://github.com/ultralytics/assets/releases/download/v8.2.0/yolov8x.pt to 'yolov8x.pt'...\n"
     ]
    },
    {
     "name": "stderr",
     "output_type": "stream",
     "text": [
      "100%|██████████| 131M/131M [00:00<00:00, 239MB/s]\n"
     ]
    },
    {
     "name": "stdout",
     "output_type": "stream",
     "text": [
      "Ultralytics YOLOv8.2.18 🚀 Python-3.10.12 torch-2.2.1+cu121 CUDA:0 (Tesla T4, 15102MiB)\n",
      "\u001b[34m\u001b[1mengine/trainer: \u001b[0mtask=detect, mode=train, model=yolov8x.pt, data=/content/drive/MyDrive/dataset/yolofinetuning/yolofinetuning/data.yaml, epochs=100, time=None, patience=100, batch=16, imgsz=640, save=True, save_period=-1, cache=False, device=None, workers=8, project=None, name=train, exist_ok=False, pretrained=True, optimizer=auto, verbose=True, seed=0, deterministic=True, single_cls=False, rect=False, cos_lr=False, close_mosaic=10, resume=False, amp=True, fraction=1.0, profile=False, freeze=None, multi_scale=False, overlap_mask=True, mask_ratio=4, dropout=0.0, val=True, split=val, save_json=False, save_hybrid=False, conf=None, iou=0.7, max_det=300, half=False, dnn=False, plots=True, source=None, vid_stride=1, stream_buffer=False, visualize=False, augment=False, agnostic_nms=False, classes=None, retina_masks=False, embed=None, show=False, save_frames=False, save_txt=False, save_conf=False, save_crop=False, show_labels=True, show_conf=True, show_boxes=True, line_width=None, format=torchscript, keras=False, optimize=False, int8=False, dynamic=False, simplify=False, opset=None, workspace=4, nms=False, lr0=0.01, lrf=0.01, momentum=0.937, weight_decay=0.0005, warmup_epochs=3.0, warmup_momentum=0.8, warmup_bias_lr=0.1, box=7.5, cls=0.5, dfl=1.5, pose=12.0, kobj=1.0, label_smoothing=0.0, nbs=64, hsv_h=0.015, hsv_s=0.7, hsv_v=0.4, degrees=0.0, translate=0.1, scale=0.5, shear=0.0, perspective=0.0, flipud=0.0, fliplr=0.5, bgr=0.0, mosaic=1.0, mixup=0.0, copy_paste=0.0, auto_augment=randaugment, erasing=0.4, crop_fraction=1.0, cfg=None, tracker=botsort.yaml, save_dir=runs/detect/train\n",
      "Downloading https://ultralytics.com/assets/Arial.ttf to '/root/.config/Ultralytics/Arial.ttf'...\n"
     ]
    },
    {
     "name": "stderr",
     "output_type": "stream",
     "text": [
      "100%|██████████| 755k/755k [00:00<00:00, 46.0MB/s]\n"
     ]
    },
    {
     "name": "stdout",
     "output_type": "stream",
     "text": [
      "Overriding model.yaml nc=80 with nc=2\n",
      "\n",
      "                   from  n    params  module                                       arguments                     \n",
      "  0                  -1  1      2320  ultralytics.nn.modules.conv.Conv             [3, 80, 3, 2]                 \n",
      "  1                  -1  1    115520  ultralytics.nn.modules.conv.Conv             [80, 160, 3, 2]               \n",
      "  2                  -1  3    436800  ultralytics.nn.modules.block.C2f             [160, 160, 3, True]           \n",
      "  3                  -1  1    461440  ultralytics.nn.modules.conv.Conv             [160, 320, 3, 2]              \n",
      "  4                  -1  6   3281920  ultralytics.nn.modules.block.C2f             [320, 320, 6, True]           \n",
      "  5                  -1  1   1844480  ultralytics.nn.modules.conv.Conv             [320, 640, 3, 2]              \n",
      "  6                  -1  6  13117440  ultralytics.nn.modules.block.C2f             [640, 640, 6, True]           \n",
      "  7                  -1  1   3687680  ultralytics.nn.modules.conv.Conv             [640, 640, 3, 2]              \n",
      "  8                  -1  3   6969600  ultralytics.nn.modules.block.C2f             [640, 640, 3, True]           \n",
      "  9                  -1  1   1025920  ultralytics.nn.modules.block.SPPF            [640, 640, 5]                 \n",
      " 10                  -1  1         0  torch.nn.modules.upsampling.Upsample         [None, 2, 'nearest']          \n",
      " 11             [-1, 6]  1         0  ultralytics.nn.modules.conv.Concat           [1]                           \n",
      " 12                  -1  3   7379200  ultralytics.nn.modules.block.C2f             [1280, 640, 3]                \n",
      " 13                  -1  1         0  torch.nn.modules.upsampling.Upsample         [None, 2, 'nearest']          \n",
      " 14             [-1, 4]  1         0  ultralytics.nn.modules.conv.Concat           [1]                           \n",
      " 15                  -1  3   1948800  ultralytics.nn.modules.block.C2f             [960, 320, 3]                 \n",
      " 16                  -1  1    922240  ultralytics.nn.modules.conv.Conv             [320, 320, 3, 2]              \n",
      " 17            [-1, 12]  1         0  ultralytics.nn.modules.conv.Concat           [1]                           \n",
      " 18                  -1  3   7174400  ultralytics.nn.modules.block.C2f             [960, 640, 3]                 \n",
      " 19                  -1  1   3687680  ultralytics.nn.modules.conv.Conv             [640, 640, 3, 2]              \n",
      " 20             [-1, 9]  1         0  ultralytics.nn.modules.conv.Concat           [1]                           \n",
      " 21                  -1  3   7379200  ultralytics.nn.modules.block.C2f             [1280, 640, 3]                \n",
      " 22        [15, 18, 21]  1   8719894  ultralytics.nn.modules.head.Detect           [2, [320, 640, 640]]          \n",
      "Model summary: 365 layers, 68154534 parameters, 68154518 gradients, 258.1 GFLOPs\n",
      "\n",
      "Transferred 589/595 items from pretrained weights\n",
      "\u001b[34m\u001b[1mTensorBoard: \u001b[0mStart with 'tensorboard --logdir runs/detect/train', view at http://localhost:6006/\n",
      "Freezing layer 'model.22.dfl.conv.weight'\n",
      "\u001b[34m\u001b[1mAMP: \u001b[0mrunning Automatic Mixed Precision (AMP) checks with YOLOv8n...\n",
      "Downloading https://github.com/ultralytics/assets/releases/download/v8.2.0/yolov8n.pt to 'yolov8n.pt'...\n"
     ]
    },
    {
     "name": "stderr",
     "output_type": "stream",
     "text": [
      "100%|██████████| 6.23M/6.23M [00:00<00:00, 172MB/s]\n"
     ]
    },
    {
     "name": "stdout",
     "output_type": "stream",
     "text": [
      "\u001b[34m\u001b[1mAMP: \u001b[0mchecks passed ✅\n"
     ]
    },
    {
     "name": "stderr",
     "output_type": "stream",
     "text": [
      "\u001b[34m\u001b[1mtrain: \u001b[0mScanning /content/drive/MyDrive/dataset/yolofinetuning/yolofinetuning/train/labels.cache... 557 images, 0 backgrounds, 0 corrupt: 100%|██████████| 557/557 [00:00<?, ?it/s]\n"
     ]
    },
    {
     "name": "stdout",
     "output_type": "stream",
     "text": [
      "\u001b[34m\u001b[1malbumentations: \u001b[0mBlur(p=0.01, blur_limit=(3, 7)), MedianBlur(p=0.01, blur_limit=(3, 7)), ToGray(p=0.01), CLAHE(p=0.01, clip_limit=(1, 4.0), tile_grid_size=(8, 8))\n"
     ]
    },
    {
     "name": "stderr",
     "output_type": "stream",
     "text": [
      "/usr/lib/python3.10/multiprocessing/popen_fork.py:66: RuntimeWarning: os.fork() was called. os.fork() is incompatible with multithreaded code, and JAX is multithreaded, so this will likely lead to a deadlock.\n",
      "  self.pid = os.fork()\n",
      "\u001b[34m\u001b[1mval: \u001b[0mScanning /content/drive/MyDrive/dataset/yolofinetuning/yolofinetuning/valid/labels.cache... 50 images, 0 backgrounds, 0 corrupt: 100%|██████████| 50/50 [00:00<?, ?it/s]\n"
     ]
    },
    {
     "name": "stdout",
     "output_type": "stream",
     "text": [
      "Plotting labels to runs/detect/train/labels.jpg... \n",
      "\u001b[34m\u001b[1moptimizer:\u001b[0m 'optimizer=auto' found, ignoring 'lr0=0.01' and 'momentum=0.937' and determining best 'optimizer', 'lr0' and 'momentum' automatically... \n",
      "\u001b[34m\u001b[1moptimizer:\u001b[0m AdamW(lr=0.001667, momentum=0.9) with parameter groups 97 weight(decay=0.0), 104 weight(decay=0.0005), 103 bias(decay=0.0)\n",
      "\u001b[34m\u001b[1mTensorBoard: \u001b[0mmodel graph visualization added ✅\n",
      "Image sizes 640 train, 640 val\n",
      "Using 2 dataloader workers\n",
      "Logging results to \u001b[1mruns/detect/train\u001b[0m\n",
      "Starting training for 100 epochs...\n",
      "\n",
      "      Epoch    GPU_mem   box_loss   cls_loss   dfl_loss  Instances       Size\n"
     ]
    },
    {
     "name": "stderr",
     "output_type": "stream",
     "text": [
      "      1/100      14.2G      2.071      1.867      1.631        512        640: 100%|██████████| 35/35 [01:06<00:00,  1.89s/it]\n",
      "                 Class     Images  Instances      Box(P          R      mAP50  mAP50-95): 100%|██████████| 2/2 [00:04<00:00,  2.07s/it]"
     ]
    },
    {
     "name": "stdout",
     "output_type": "stream",
     "text": [
      "                   all         50       1437      0.261      0.559      0.258      0.135\n"
     ]
    },
    {
     "name": "stderr",
     "output_type": "stream",
     "text": [
      "\n"
     ]
    },
    {
     "name": "stdout",
     "output_type": "stream",
     "text": [
      "\n",
      "      Epoch    GPU_mem   box_loss   cls_loss   dfl_loss  Instances       Size\n"
     ]
    },
    {
     "name": "stderr",
     "output_type": "stream",
     "text": [
      "      2/100      14.1G       1.47      0.824      1.297        624        640: 100%|██████████| 35/35 [00:42<00:00,  1.22s/it]\n",
      "                 Class     Images  Instances      Box(P          R      mAP50  mAP50-95): 100%|██████████| 2/2 [00:02<00:00,  1.11s/it]"
     ]
    },
    {
     "name": "stdout",
     "output_type": "stream",
     "text": [
      "                   all         50       1437      0.541      0.308      0.357      0.175\n"
     ]
    },
    {
     "name": "stderr",
     "output_type": "stream",
     "text": [
      "\n"
     ]
    },
    {
     "name": "stdout",
     "output_type": "stream",
     "text": [
      "\n",
      "      Epoch    GPU_mem   box_loss   cls_loss   dfl_loss  Instances       Size\n"
     ]
    },
    {
     "name": "stderr",
     "output_type": "stream",
     "text": [
      "      3/100      13.9G      1.316     0.7181      1.219        520        640: 100%|██████████| 35/35 [00:42<00:00,  1.22s/it]\n",
      "                 Class     Images  Instances      Box(P          R      mAP50  mAP50-95): 100%|██████████| 2/2 [00:01<00:00,  1.13it/s]"
     ]
    },
    {
     "name": "stdout",
     "output_type": "stream",
     "text": [
      "                   all         50       1437      0.607      0.611      0.619      0.411\n"
     ]
    },
    {
     "name": "stderr",
     "output_type": "stream",
     "text": [
      "\n"
     ]
    },
    {
     "name": "stdout",
     "output_type": "stream",
     "text": [
      "\n",
      "      Epoch    GPU_mem   box_loss   cls_loss   dfl_loss  Instances       Size\n"
     ]
    },
    {
     "name": "stderr",
     "output_type": "stream",
     "text": [
      "      4/100      14.3G      1.168     0.6825      1.168        488        640: 100%|██████████| 35/35 [00:42<00:00,  1.23s/it]\n",
      "                 Class     Images  Instances      Box(P          R      mAP50  mAP50-95): 100%|██████████| 2/2 [00:02<00:00,  1.09s/it]"
     ]
    },
    {
     "name": "stdout",
     "output_type": "stream",
     "text": [
      "                   all         50       1437      0.674      0.611      0.623      0.441\n"
     ]
    },
    {
     "name": "stderr",
     "output_type": "stream",
     "text": [
      "\n"
     ]
    },
    {
     "name": "stdout",
     "output_type": "stream",
     "text": [
      "\n",
      "      Epoch    GPU_mem   box_loss   cls_loss   dfl_loss  Instances       Size\n"
     ]
    },
    {
     "name": "stderr",
     "output_type": "stream",
     "text": [
      "      5/100      13.8G      1.066     0.6142      1.114        502        640: 100%|██████████| 35/35 [00:43<00:00,  1.24s/it]\n",
      "                 Class     Images  Instances      Box(P          R      mAP50  mAP50-95): 100%|██████████| 2/2 [00:01<00:00,  1.12it/s]"
     ]
    },
    {
     "name": "stdout",
     "output_type": "stream",
     "text": [
      "                   all         50       1437      0.909      0.808       0.89      0.615\n"
     ]
    },
    {
     "name": "stderr",
     "output_type": "stream",
     "text": [
      "\n"
     ]
    },
    {
     "name": "stdout",
     "output_type": "stream",
     "text": [
      "\n",
      "      Epoch    GPU_mem   box_loss   cls_loss   dfl_loss  Instances       Size\n"
     ]
    },
    {
     "name": "stderr",
     "output_type": "stream",
     "text": [
      "      6/100      14.2G     0.9848     0.5567      1.064        545        640: 100%|██████████| 35/35 [00:43<00:00,  1.24s/it]\n",
      "                 Class     Images  Instances      Box(P          R      mAP50  mAP50-95): 100%|██████████| 2/2 [00:02<00:00,  1.02s/it]"
     ]
    },
    {
     "name": "stdout",
     "output_type": "stream",
     "text": [
      "                   all         50       1437      0.957       0.74      0.851      0.648\n"
     ]
    },
    {
     "name": "stderr",
     "output_type": "stream",
     "text": [
      "\n"
     ]
    },
    {
     "name": "stdout",
     "output_type": "stream",
     "text": [
      "\n",
      "      Epoch    GPU_mem   box_loss   cls_loss   dfl_loss  Instances       Size\n"
     ]
    },
    {
     "name": "stderr",
     "output_type": "stream",
     "text": [
      "      7/100      14.3G     0.9083     0.5302      1.035        603        640: 100%|██████████| 35/35 [00:43<00:00,  1.24s/it]\n",
      "                 Class     Images  Instances      Box(P          R      mAP50  mAP50-95): 100%|██████████| 2/2 [00:01<00:00,  1.19it/s]"
     ]
    },
    {
     "name": "stdout",
     "output_type": "stream",
     "text": [
      "                   all         50       1437       0.92      0.826      0.894      0.694\n"
     ]
    },
    {
     "name": "stderr",
     "output_type": "stream",
     "text": [
      "\n"
     ]
    },
    {
     "name": "stdout",
     "output_type": "stream",
     "text": [
      "\n",
      "      Epoch    GPU_mem   box_loss   cls_loss   dfl_loss  Instances       Size\n"
     ]
    },
    {
     "name": "stderr",
     "output_type": "stream",
     "text": [
      "      8/100      14.5G     0.8635     0.5105      1.016        426        640: 100%|██████████| 35/35 [00:43<00:00,  1.25s/it]\n",
      "                 Class     Images  Instances      Box(P          R      mAP50  mAP50-95): 100%|██████████| 2/2 [00:01<00:00,  1.16it/s]"
     ]
    },
    {
     "name": "stdout",
     "output_type": "stream",
     "text": [
      "                   all         50       1437      0.936      0.876      0.945      0.743\n"
     ]
    },
    {
     "name": "stderr",
     "output_type": "stream",
     "text": [
      "\n"
     ]
    },
    {
     "name": "stdout",
     "output_type": "stream",
     "text": [
      "\n",
      "      Epoch    GPU_mem   box_loss   cls_loss   dfl_loss  Instances       Size\n"
     ]
    },
    {
     "name": "stderr",
     "output_type": "stream",
     "text": [
      "      9/100      14.1G     0.8406     0.4851     0.9968        467        640: 100%|██████████| 35/35 [00:43<00:00,  1.24s/it]\n",
      "                 Class     Images  Instances      Box(P          R      mAP50  mAP50-95): 100%|██████████| 2/2 [00:02<00:00,  1.40s/it]"
     ]
    },
    {
     "name": "stdout",
     "output_type": "stream",
     "text": [
      "                   all         50       1437      0.902      0.798      0.903      0.686\n"
     ]
    },
    {
     "name": "stderr",
     "output_type": "stream",
     "text": [
      "\n"
     ]
    },
    {
     "name": "stdout",
     "output_type": "stream",
     "text": [
      "\n",
      "      Epoch    GPU_mem   box_loss   cls_loss   dfl_loss  Instances       Size\n"
     ]
    },
    {
     "name": "stderr",
     "output_type": "stream",
     "text": [
      "     10/100        14G     0.8225     0.4829      0.984        466        640: 100%|██████████| 35/35 [00:44<00:00,  1.26s/it]\n",
      "                 Class     Images  Instances      Box(P          R      mAP50  mAP50-95): 100%|██████████| 2/2 [00:01<00:00,  1.21it/s]"
     ]
    },
    {
     "name": "stdout",
     "output_type": "stream",
     "text": [
      "                   all         50       1437      0.918      0.898      0.957      0.761\n"
     ]
    },
    {
     "name": "stderr",
     "output_type": "stream",
     "text": [
      "\n"
     ]
    },
    {
     "name": "stdout",
     "output_type": "stream",
     "text": [
      "\n",
      "      Epoch    GPU_mem   box_loss   cls_loss   dfl_loss  Instances       Size\n"
     ]
    },
    {
     "name": "stderr",
     "output_type": "stream",
     "text": [
      "     11/100      14.2G      0.761     0.4408      0.968        514        640: 100%|██████████| 35/35 [00:43<00:00,  1.25s/it]\n",
      "                 Class     Images  Instances      Box(P          R      mAP50  mAP50-95): 100%|██████████| 2/2 [00:02<00:00,  1.33s/it]"
     ]
    },
    {
     "name": "stdout",
     "output_type": "stream",
     "text": [
      "                   all         50       1437      0.916      0.903      0.944      0.796\n"
     ]
    },
    {
     "name": "stderr",
     "output_type": "stream",
     "text": [
      "\n"
     ]
    },
    {
     "name": "stdout",
     "output_type": "stream",
     "text": [
      "\n",
      "      Epoch    GPU_mem   box_loss   cls_loss   dfl_loss  Instances       Size\n"
     ]
    },
    {
     "name": "stderr",
     "output_type": "stream",
     "text": [
      "     12/100      14.4G      0.718     0.4208     0.9491        535        640: 100%|██████████| 35/35 [00:43<00:00,  1.24s/it]\n",
      "                 Class     Images  Instances      Box(P          R      mAP50  mAP50-95): 100%|██████████| 2/2 [00:01<00:00,  1.21it/s]"
     ]
    },
    {
     "name": "stdout",
     "output_type": "stream",
     "text": [
      "                   all         50       1437      0.961      0.897       0.96      0.812\n"
     ]
    },
    {
     "name": "stderr",
     "output_type": "stream",
     "text": [
      "\n"
     ]
    },
    {
     "name": "stdout",
     "output_type": "stream",
     "text": [
      "\n",
      "      Epoch    GPU_mem   box_loss   cls_loss   dfl_loss  Instances       Size\n"
     ]
    },
    {
     "name": "stderr",
     "output_type": "stream",
     "text": [
      "     13/100        14G     0.7036     0.4136     0.9497        463        640: 100%|██████████| 35/35 [00:43<00:00,  1.25s/it]\n",
      "                 Class     Images  Instances      Box(P          R      mAP50  mAP50-95): 100%|██████████| 2/2 [00:02<00:00,  1.27s/it]"
     ]
    },
    {
     "name": "stdout",
     "output_type": "stream",
     "text": [
      "                   all         50       1437       0.93      0.869      0.949      0.775\n"
     ]
    },
    {
     "name": "stderr",
     "output_type": "stream",
     "text": [
      "\n"
     ]
    },
    {
     "name": "stdout",
     "output_type": "stream",
     "text": [
      "\n",
      "      Epoch    GPU_mem   box_loss   cls_loss   dfl_loss  Instances       Size\n"
     ]
    },
    {
     "name": "stderr",
     "output_type": "stream",
     "text": [
      "     14/100        14G     0.6652     0.4009     0.9283        441        640: 100%|██████████| 35/35 [00:43<00:00,  1.24s/it]\n",
      "                 Class     Images  Instances      Box(P          R      mAP50  mAP50-95): 100%|██████████| 2/2 [00:02<00:00,  1.21s/it]"
     ]
    },
    {
     "name": "stdout",
     "output_type": "stream",
     "text": [
      "                   all         50       1437      0.992      0.843      0.955      0.753\n"
     ]
    },
    {
     "name": "stderr",
     "output_type": "stream",
     "text": [
      "\n"
     ]
    },
    {
     "name": "stdout",
     "output_type": "stream",
     "text": [
      "\n",
      "      Epoch    GPU_mem   box_loss   cls_loss   dfl_loss  Instances       Size\n"
     ]
    },
    {
     "name": "stderr",
     "output_type": "stream",
     "text": [
      "     15/100        14G     0.6567     0.3885     0.9258        477        640: 100%|██████████| 35/35 [00:43<00:00,  1.25s/it]\n",
      "                 Class     Images  Instances      Box(P          R      mAP50  mAP50-95): 100%|██████████| 2/2 [00:02<00:00,  1.19s/it]"
     ]
    },
    {
     "name": "stdout",
     "output_type": "stream",
     "text": [
      "                   all         50       1437      0.953       0.85      0.955       0.79\n"
     ]
    },
    {
     "name": "stderr",
     "output_type": "stream",
     "text": [
      "\n"
     ]
    },
    {
     "name": "stdout",
     "output_type": "stream",
     "text": [
      "\n",
      "      Epoch    GPU_mem   box_loss   cls_loss   dfl_loss  Instances       Size\n"
     ]
    },
    {
     "name": "stderr",
     "output_type": "stream",
     "text": [
      "     16/100      14.1G      0.628     0.3804     0.9136        428        640: 100%|██████████| 35/35 [00:43<00:00,  1.24s/it]\n",
      "                 Class     Images  Instances      Box(P          R      mAP50  mAP50-95): 100%|██████████| 2/2 [00:02<00:00,  1.05s/it]"
     ]
    },
    {
     "name": "stdout",
     "output_type": "stream",
     "text": [
      "                   all         50       1437       0.91       0.89      0.953      0.772\n"
     ]
    },
    {
     "name": "stderr",
     "output_type": "stream",
     "text": [
      "\n"
     ]
    },
    {
     "name": "stdout",
     "output_type": "stream",
     "text": [
      "\n",
      "      Epoch    GPU_mem   box_loss   cls_loss   dfl_loss  Instances       Size\n"
     ]
    },
    {
     "name": "stderr",
     "output_type": "stream",
     "text": [
      "     17/100      13.7G     0.6385     0.3852     0.9164        493        640: 100%|██████████| 35/35 [00:43<00:00,  1.25s/it]\n",
      "                 Class     Images  Instances      Box(P          R      mAP50  mAP50-95): 100%|██████████| 2/2 [00:01<00:00,  1.32it/s]"
     ]
    },
    {
     "name": "stdout",
     "output_type": "stream",
     "text": [
      "                   all         50       1437      0.922      0.907      0.974      0.799\n"
     ]
    },
    {
     "name": "stderr",
     "output_type": "stream",
     "text": [
      "\n"
     ]
    },
    {
     "name": "stdout",
     "output_type": "stream",
     "text": [
      "\n",
      "      Epoch    GPU_mem   box_loss   cls_loss   dfl_loss  Instances       Size\n"
     ]
    },
    {
     "name": "stderr",
     "output_type": "stream",
     "text": [
      "     18/100      14.2G     0.6348     0.3824     0.9168        452        640: 100%|██████████| 35/35 [00:43<00:00,  1.25s/it]\n",
      "                 Class     Images  Instances      Box(P          R      mAP50  mAP50-95): 100%|██████████| 2/2 [00:01<00:00,  1.17it/s]"
     ]
    },
    {
     "name": "stdout",
     "output_type": "stream",
     "text": [
      "                   all         50       1437      0.944       0.86      0.939      0.757\n"
     ]
    },
    {
     "name": "stderr",
     "output_type": "stream",
     "text": [
      "\n"
     ]
    },
    {
     "name": "stdout",
     "output_type": "stream",
     "text": [
      "\n",
      "      Epoch    GPU_mem   box_loss   cls_loss   dfl_loss  Instances       Size\n"
     ]
    },
    {
     "name": "stderr",
     "output_type": "stream",
     "text": [
      "     19/100      14.2G     0.5948     0.3577     0.9143        439        640: 100%|██████████| 35/35 [00:43<00:00,  1.24s/it]\n",
      "                 Class     Images  Instances      Box(P          R      mAP50  mAP50-95): 100%|██████████| 2/2 [00:02<00:00,  1.20s/it]"
     ]
    },
    {
     "name": "stdout",
     "output_type": "stream",
     "text": [
      "                   all         50       1437      0.971      0.852      0.952      0.803\n"
     ]
    },
    {
     "name": "stderr",
     "output_type": "stream",
     "text": [
      "\n"
     ]
    },
    {
     "name": "stdout",
     "output_type": "stream",
     "text": [
      "\n",
      "      Epoch    GPU_mem   box_loss   cls_loss   dfl_loss  Instances       Size\n"
     ]
    },
    {
     "name": "stderr",
     "output_type": "stream",
     "text": [
      "     20/100      14.1G     0.5923     0.3594     0.9077        441        640: 100%|██████████| 35/35 [00:43<00:00,  1.24s/it]\n",
      "                 Class     Images  Instances      Box(P          R      mAP50  mAP50-95): 100%|██████████| 2/2 [00:01<00:00,  1.17it/s]"
     ]
    },
    {
     "name": "stdout",
     "output_type": "stream",
     "text": [
      "                   all         50       1437      0.982      0.884      0.967      0.792\n"
     ]
    },
    {
     "name": "stderr",
     "output_type": "stream",
     "text": [
      "\n"
     ]
    },
    {
     "name": "stdout",
     "output_type": "stream",
     "text": [
      "\n",
      "      Epoch    GPU_mem   box_loss   cls_loss   dfl_loss  Instances       Size\n"
     ]
    },
    {
     "name": "stderr",
     "output_type": "stream",
     "text": [
      "     21/100      14.1G     0.5441     0.3425     0.9012        433        640: 100%|██████████| 35/35 [00:43<00:00,  1.25s/it]\n",
      "                 Class     Images  Instances      Box(P          R      mAP50  mAP50-95): 100%|██████████| 2/2 [00:01<00:00,  1.16it/s]"
     ]
    },
    {
     "name": "stdout",
     "output_type": "stream",
     "text": [
      "                   all         50       1437       0.93      0.898      0.942      0.793\n"
     ]
    },
    {
     "name": "stderr",
     "output_type": "stream",
     "text": [
      "\n"
     ]
    },
    {
     "name": "stdout",
     "output_type": "stream",
     "text": [
      "\n",
      "      Epoch    GPU_mem   box_loss   cls_loss   dfl_loss  Instances       Size\n"
     ]
    },
    {
     "name": "stderr",
     "output_type": "stream",
     "text": [
      "     22/100      14.3G     0.5712     0.3524     0.9091        405        640: 100%|██████████| 35/35 [00:43<00:00,  1.25s/it]\n",
      "                 Class     Images  Instances      Box(P          R      mAP50  mAP50-95): 100%|██████████| 2/2 [00:01<00:00,  1.24it/s]"
     ]
    },
    {
     "name": "stdout",
     "output_type": "stream",
     "text": [
      "                   all         50       1437      0.981      0.861      0.948      0.807\n"
     ]
    },
    {
     "name": "stderr",
     "output_type": "stream",
     "text": [
      "\n"
     ]
    },
    {
     "name": "stdout",
     "output_type": "stream",
     "text": [
      "\n",
      "      Epoch    GPU_mem   box_loss   cls_loss   dfl_loss  Instances       Size\n"
     ]
    },
    {
     "name": "stderr",
     "output_type": "stream",
     "text": [
      "     23/100      14.3G      0.543     0.3403     0.9019        559        640: 100%|██████████| 35/35 [00:43<00:00,  1.25s/it]\n",
      "                 Class     Images  Instances      Box(P          R      mAP50  mAP50-95): 100%|██████████| 2/2 [00:01<00:00,  1.03it/s]"
     ]
    },
    {
     "name": "stdout",
     "output_type": "stream",
     "text": [
      "                   all         50       1437      0.893      0.905      0.954      0.792\n"
     ]
    },
    {
     "name": "stderr",
     "output_type": "stream",
     "text": [
      "\n"
     ]
    },
    {
     "name": "stdout",
     "output_type": "stream",
     "text": [
      "\n",
      "      Epoch    GPU_mem   box_loss   cls_loss   dfl_loss  Instances       Size\n"
     ]
    },
    {
     "name": "stderr",
     "output_type": "stream",
     "text": [
      "     24/100      14.3G     0.5695     0.3538     0.9043        467        640: 100%|██████████| 35/35 [00:43<00:00,  1.24s/it]\n",
      "                 Class     Images  Instances      Box(P          R      mAP50  mAP50-95): 100%|██████████| 2/2 [00:01<00:00,  1.17it/s]"
     ]
    },
    {
     "name": "stdout",
     "output_type": "stream",
     "text": [
      "                   all         50       1437      0.948      0.857      0.929      0.763\n"
     ]
    },
    {
     "name": "stderr",
     "output_type": "stream",
     "text": [
      "\n"
     ]
    },
    {
     "name": "stdout",
     "output_type": "stream",
     "text": [
      "\n",
      "      Epoch    GPU_mem   box_loss   cls_loss   dfl_loss  Instances       Size\n"
     ]
    },
    {
     "name": "stderr",
     "output_type": "stream",
     "text": [
      "     25/100      13.7G     0.5866     0.3638     0.9171        478        640: 100%|██████████| 35/35 [00:43<00:00,  1.26s/it]\n",
      "                 Class     Images  Instances      Box(P          R      mAP50  mAP50-95): 100%|██████████| 2/2 [00:01<00:00,  1.19it/s]"
     ]
    },
    {
     "name": "stdout",
     "output_type": "stream",
     "text": [
      "                   all         50       1437      0.941      0.913      0.963      0.797\n"
     ]
    },
    {
     "name": "stderr",
     "output_type": "stream",
     "text": [
      "\n"
     ]
    },
    {
     "name": "stdout",
     "output_type": "stream",
     "text": [
      "\n",
      "      Epoch    GPU_mem   box_loss   cls_loss   dfl_loss  Instances       Size\n"
     ]
    },
    {
     "name": "stderr",
     "output_type": "stream",
     "text": [
      "     26/100        14G     0.5463      0.349     0.9033        443        640: 100%|██████████| 35/35 [00:43<00:00,  1.25s/it]\n",
      "                 Class     Images  Instances      Box(P          R      mAP50  mAP50-95): 100%|██████████| 2/2 [00:01<00:00,  1.22it/s]"
     ]
    },
    {
     "name": "stdout",
     "output_type": "stream",
     "text": [
      "                   all         50       1437      0.936      0.882      0.946      0.778\n"
     ]
    },
    {
     "name": "stderr",
     "output_type": "stream",
     "text": [
      "\n"
     ]
    },
    {
     "name": "stdout",
     "output_type": "stream",
     "text": [
      "\n",
      "      Epoch    GPU_mem   box_loss   cls_loss   dfl_loss  Instances       Size\n"
     ]
    },
    {
     "name": "stderr",
     "output_type": "stream",
     "text": [
      "     27/100      14.2G     0.5437     0.3417     0.9028        424        640: 100%|██████████| 35/35 [00:43<00:00,  1.26s/it]\n",
      "                 Class     Images  Instances      Box(P          R      mAP50  mAP50-95): 100%|██████████| 2/2 [00:02<00:00,  1.36s/it]"
     ]
    },
    {
     "name": "stdout",
     "output_type": "stream",
     "text": [
      "                   all         50       1437      0.942      0.918      0.964      0.831\n"
     ]
    },
    {
     "name": "stderr",
     "output_type": "stream",
     "text": [
      "\n"
     ]
    },
    {
     "name": "stdout",
     "output_type": "stream",
     "text": [
      "\n",
      "      Epoch    GPU_mem   box_loss   cls_loss   dfl_loss  Instances       Size\n"
     ]
    },
    {
     "name": "stderr",
     "output_type": "stream",
     "text": [
      "     28/100      14.4G     0.5201     0.3293     0.8876        400        640: 100%|██████████| 35/35 [00:44<00:00,  1.26s/it]\n",
      "                 Class     Images  Instances      Box(P          R      mAP50  mAP50-95): 100%|██████████| 2/2 [00:01<00:00,  1.04it/s]"
     ]
    },
    {
     "name": "stdout",
     "output_type": "stream",
     "text": [
      "                   all         50       1437      0.915      0.911       0.97       0.83\n"
     ]
    },
    {
     "name": "stderr",
     "output_type": "stream",
     "text": [
      "\n"
     ]
    },
    {
     "name": "stdout",
     "output_type": "stream",
     "text": [
      "\n",
      "      Epoch    GPU_mem   box_loss   cls_loss   dfl_loss  Instances       Size\n"
     ]
    },
    {
     "name": "stderr",
     "output_type": "stream",
     "text": [
      "     29/100      13.7G     0.5107     0.3237     0.8859        626        640: 100%|██████████| 35/35 [00:43<00:00,  1.24s/it]\n",
      "                 Class     Images  Instances      Box(P          R      mAP50  mAP50-95): 100%|██████████| 2/2 [00:01<00:00,  1.35it/s]"
     ]
    },
    {
     "name": "stdout",
     "output_type": "stream",
     "text": [
      "                   all         50       1437      0.971      0.876      0.964      0.803\n"
     ]
    },
    {
     "name": "stderr",
     "output_type": "stream",
     "text": [
      "\n"
     ]
    },
    {
     "name": "stdout",
     "output_type": "stream",
     "text": [
      "\n",
      "      Epoch    GPU_mem   box_loss   cls_loss   dfl_loss  Instances       Size\n"
     ]
    },
    {
     "name": "stderr",
     "output_type": "stream",
     "text": [
      "     30/100      14.3G     0.5053     0.3219     0.8846        596        640: 100%|██████████| 35/35 [00:43<00:00,  1.25s/it]\n",
      "                 Class     Images  Instances      Box(P          R      mAP50  mAP50-95): 100%|██████████| 2/2 [00:02<00:00,  1.09s/it]"
     ]
    },
    {
     "name": "stdout",
     "output_type": "stream",
     "text": [
      "                   all         50       1437      0.962      0.895      0.964      0.818\n"
     ]
    },
    {
     "name": "stderr",
     "output_type": "stream",
     "text": [
      "\n"
     ]
    },
    {
     "name": "stdout",
     "output_type": "stream",
     "text": [
      "\n",
      "      Epoch    GPU_mem   box_loss   cls_loss   dfl_loss  Instances       Size\n"
     ]
    },
    {
     "name": "stderr",
     "output_type": "stream",
     "text": [
      "     31/100        14G     0.5117     0.3208     0.8907        551        640: 100%|██████████| 35/35 [00:44<00:00,  1.26s/it]\n",
      "                 Class     Images  Instances      Box(P          R      mAP50  mAP50-95): 100%|██████████| 2/2 [00:01<00:00,  1.12it/s]"
     ]
    },
    {
     "name": "stdout",
     "output_type": "stream",
     "text": [
      "                   all         50       1437      0.943      0.927      0.972      0.828\n"
     ]
    },
    {
     "name": "stderr",
     "output_type": "stream",
     "text": [
      "\n"
     ]
    },
    {
     "name": "stdout",
     "output_type": "stream",
     "text": [
      "\n",
      "      Epoch    GPU_mem   box_loss   cls_loss   dfl_loss  Instances       Size\n"
     ]
    },
    {
     "name": "stderr",
     "output_type": "stream",
     "text": [
      "     32/100      14.3G     0.4919     0.3144     0.8847        520        640: 100%|██████████| 35/35 [00:43<00:00,  1.25s/it]\n",
      "                 Class     Images  Instances      Box(P          R      mAP50  mAP50-95): 100%|██████████| 2/2 [00:02<00:00,  1.37s/it]"
     ]
    },
    {
     "name": "stdout",
     "output_type": "stream",
     "text": [
      "                   all         50       1437      0.929      0.868      0.954      0.829\n"
     ]
    },
    {
     "name": "stderr",
     "output_type": "stream",
     "text": [
      "\n"
     ]
    },
    {
     "name": "stdout",
     "output_type": "stream",
     "text": [
      "\n",
      "      Epoch    GPU_mem   box_loss   cls_loss   dfl_loss  Instances       Size\n"
     ]
    },
    {
     "name": "stderr",
     "output_type": "stream",
     "text": [
      "     33/100      14.1G     0.4725     0.3027      0.873        493        640: 100%|██████████| 35/35 [00:43<00:00,  1.25s/it]\n",
      "                 Class     Images  Instances      Box(P          R      mAP50  mAP50-95): 100%|██████████| 2/2 [00:01<00:00,  1.18it/s]"
     ]
    },
    {
     "name": "stdout",
     "output_type": "stream",
     "text": [
      "                   all         50       1437      0.906        0.9      0.952      0.823\n"
     ]
    },
    {
     "name": "stderr",
     "output_type": "stream",
     "text": [
      "\n"
     ]
    },
    {
     "name": "stdout",
     "output_type": "stream",
     "text": [
      "\n",
      "      Epoch    GPU_mem   box_loss   cls_loss   dfl_loss  Instances       Size\n"
     ]
    },
    {
     "name": "stderr",
     "output_type": "stream",
     "text": [
      "     34/100      14.3G     0.4773     0.3022      0.871        483        640: 100%|██████████| 35/35 [00:43<00:00,  1.24s/it]\n",
      "                 Class     Images  Instances      Box(P          R      mAP50  mAP50-95): 100%|██████████| 2/2 [00:01<00:00,  1.12it/s]"
     ]
    },
    {
     "name": "stdout",
     "output_type": "stream",
     "text": [
      "                   all         50       1437      0.944      0.904      0.965      0.822\n"
     ]
    },
    {
     "name": "stderr",
     "output_type": "stream",
     "text": [
      "\n"
     ]
    },
    {
     "name": "stdout",
     "output_type": "stream",
     "text": [
      "\n",
      "      Epoch    GPU_mem   box_loss   cls_loss   dfl_loss  Instances       Size\n"
     ]
    },
    {
     "name": "stderr",
     "output_type": "stream",
     "text": [
      "     35/100      14.2G     0.4676      0.298     0.8752        329        640: 100%|██████████| 35/35 [00:43<00:00,  1.24s/it]\n",
      "                 Class     Images  Instances      Box(P          R      mAP50  mAP50-95): 100%|██████████| 2/2 [00:01<00:00,  1.22it/s]"
     ]
    },
    {
     "name": "stdout",
     "output_type": "stream",
     "text": [
      "                   all         50       1437      0.949      0.884      0.966      0.817\n"
     ]
    },
    {
     "name": "stderr",
     "output_type": "stream",
     "text": [
      "\n"
     ]
    },
    {
     "name": "stdout",
     "output_type": "stream",
     "text": [
      "\n",
      "      Epoch    GPU_mem   box_loss   cls_loss   dfl_loss  Instances       Size\n"
     ]
    },
    {
     "name": "stderr",
     "output_type": "stream",
     "text": [
      "     36/100      14.1G     0.4373     0.2902     0.8681        604        640: 100%|██████████| 35/35 [00:43<00:00,  1.25s/it]\n",
      "                 Class     Images  Instances      Box(P          R      mAP50  mAP50-95): 100%|██████████| 2/2 [00:02<00:00,  1.10s/it]"
     ]
    },
    {
     "name": "stdout",
     "output_type": "stream",
     "text": [
      "                   all         50       1437      0.952      0.872      0.954      0.842\n"
     ]
    },
    {
     "name": "stderr",
     "output_type": "stream",
     "text": [
      "\n"
     ]
    },
    {
     "name": "stdout",
     "output_type": "stream",
     "text": [
      "\n",
      "      Epoch    GPU_mem   box_loss   cls_loss   dfl_loss  Instances       Size\n"
     ]
    },
    {
     "name": "stderr",
     "output_type": "stream",
     "text": [
      "     37/100      13.9G     0.4095     0.2715     0.8576        402        640: 100%|██████████| 35/35 [00:43<00:00,  1.24s/it]\n",
      "                 Class     Images  Instances      Box(P          R      mAP50  mAP50-95): 100%|██████████| 2/2 [00:02<00:00,  1.01s/it]"
     ]
    },
    {
     "name": "stdout",
     "output_type": "stream",
     "text": [
      "                   all         50       1437      0.981      0.925      0.976      0.858\n"
     ]
    },
    {
     "name": "stderr",
     "output_type": "stream",
     "text": [
      "\n"
     ]
    },
    {
     "name": "stdout",
     "output_type": "stream",
     "text": [
      "\n",
      "      Epoch    GPU_mem   box_loss   cls_loss   dfl_loss  Instances       Size\n"
     ]
    },
    {
     "name": "stderr",
     "output_type": "stream",
     "text": [
      "     38/100      14.3G     0.4063      0.269     0.8555        492        640: 100%|██████████| 35/35 [00:43<00:00,  1.23s/it]\n",
      "                 Class     Images  Instances      Box(P          R      mAP50  mAP50-95): 100%|██████████| 2/2 [00:01<00:00,  1.19it/s]"
     ]
    },
    {
     "name": "stdout",
     "output_type": "stream",
     "text": [
      "                   all         50       1437      0.923      0.925      0.966      0.854\n"
     ]
    },
    {
     "name": "stderr",
     "output_type": "stream",
     "text": [
      "\n"
     ]
    },
    {
     "name": "stdout",
     "output_type": "stream",
     "text": [
      "\n",
      "      Epoch    GPU_mem   box_loss   cls_loss   dfl_loss  Instances       Size\n"
     ]
    },
    {
     "name": "stderr",
     "output_type": "stream",
     "text": [
      "     39/100        14G     0.4063     0.2665     0.8523        345        640: 100%|██████████| 35/35 [00:43<00:00,  1.25s/it]\n",
      "                 Class     Images  Instances      Box(P          R      mAP50  mAP50-95): 100%|██████████| 2/2 [00:01<00:00,  1.20it/s]"
     ]
    },
    {
     "name": "stdout",
     "output_type": "stream",
     "text": [
      "                   all         50       1437      0.935      0.881      0.958      0.836\n"
     ]
    },
    {
     "name": "stderr",
     "output_type": "stream",
     "text": [
      "\n"
     ]
    },
    {
     "name": "stdout",
     "output_type": "stream",
     "text": [
      "\n",
      "      Epoch    GPU_mem   box_loss   cls_loss   dfl_loss  Instances       Size\n"
     ]
    },
    {
     "name": "stderr",
     "output_type": "stream",
     "text": [
      "     40/100      14.3G     0.4001     0.2633      0.852        545        640: 100%|██████████| 35/35 [00:43<00:00,  1.23s/it]\n",
      "                 Class     Images  Instances      Box(P          R      mAP50  mAP50-95): 100%|██████████| 2/2 [00:02<00:00,  1.11s/it]"
     ]
    },
    {
     "name": "stdout",
     "output_type": "stream",
     "text": [
      "                   all         50       1437      0.981      0.893      0.963      0.846\n"
     ]
    },
    {
     "name": "stderr",
     "output_type": "stream",
     "text": [
      "\n"
     ]
    },
    {
     "name": "stdout",
     "output_type": "stream",
     "text": [
      "\n",
      "      Epoch    GPU_mem   box_loss   cls_loss   dfl_loss  Instances       Size\n"
     ]
    },
    {
     "name": "stderr",
     "output_type": "stream",
     "text": [
      "     41/100        14G     0.3857     0.2577     0.8472        448        640: 100%|██████████| 35/35 [00:43<00:00,  1.25s/it]\n",
      "                 Class     Images  Instances      Box(P          R      mAP50  mAP50-95): 100%|██████████| 2/2 [00:02<00:00,  1.00s/it]"
     ]
    },
    {
     "name": "stdout",
     "output_type": "stream",
     "text": [
      "                   all         50       1437      0.979      0.909      0.972      0.847\n"
     ]
    },
    {
     "name": "stderr",
     "output_type": "stream",
     "text": [
      "\n"
     ]
    },
    {
     "name": "stdout",
     "output_type": "stream",
     "text": [
      "\n",
      "      Epoch    GPU_mem   box_loss   cls_loss   dfl_loss  Instances       Size\n"
     ]
    },
    {
     "name": "stderr",
     "output_type": "stream",
     "text": [
      "     42/100      14.3G      0.428     0.2766     0.8627        413        640: 100%|██████████| 35/35 [00:43<00:00,  1.25s/it]\n",
      "                 Class     Images  Instances      Box(P          R      mAP50  mAP50-95): 100%|██████████| 2/2 [00:02<00:00,  1.02s/it]"
     ]
    },
    {
     "name": "stdout",
     "output_type": "stream",
     "text": [
      "                   all         50       1437      0.982      0.919      0.972      0.842\n"
     ]
    },
    {
     "name": "stderr",
     "output_type": "stream",
     "text": [
      "\n"
     ]
    },
    {
     "name": "stdout",
     "output_type": "stream",
     "text": [
      "\n",
      "      Epoch    GPU_mem   box_loss   cls_loss   dfl_loss  Instances       Size\n"
     ]
    },
    {
     "name": "stderr",
     "output_type": "stream",
     "text": [
      "     43/100        14G     0.4105     0.2693     0.8546        500        640: 100%|██████████| 35/35 [00:44<00:00,  1.26s/it]\n",
      "                 Class     Images  Instances      Box(P          R      mAP50  mAP50-95): 100%|██████████| 2/2 [00:01<00:00,  1.01it/s]"
     ]
    },
    {
     "name": "stdout",
     "output_type": "stream",
     "text": [
      "                   all         50       1437      0.981       0.91      0.974      0.857\n"
     ]
    },
    {
     "name": "stderr",
     "output_type": "stream",
     "text": [
      "\n"
     ]
    },
    {
     "name": "stdout",
     "output_type": "stream",
     "text": [
      "\n",
      "      Epoch    GPU_mem   box_loss   cls_loss   dfl_loss  Instances       Size\n"
     ]
    },
    {
     "name": "stderr",
     "output_type": "stream",
     "text": [
      "     44/100      14.1G     0.3885     0.2566     0.8526        373        640: 100%|██████████| 35/35 [00:44<00:00,  1.26s/it]\n",
      "                 Class     Images  Instances      Box(P          R      mAP50  mAP50-95): 100%|██████████| 2/2 [00:02<00:00,  1.01s/it]"
     ]
    },
    {
     "name": "stdout",
     "output_type": "stream",
     "text": [
      "                   all         50       1437      0.947      0.882      0.947      0.865\n"
     ]
    },
    {
     "name": "stderr",
     "output_type": "stream",
     "text": [
      "\n"
     ]
    },
    {
     "name": "stdout",
     "output_type": "stream",
     "text": [
      "\n",
      "      Epoch    GPU_mem   box_loss   cls_loss   dfl_loss  Instances       Size\n"
     ]
    },
    {
     "name": "stderr",
     "output_type": "stream",
     "text": [
      "     45/100      13.9G     0.4071     0.2606      0.843        385        640: 100%|██████████| 35/35 [00:44<00:00,  1.27s/it]\n",
      "                 Class     Images  Instances      Box(P          R      mAP50  mAP50-95): 100%|██████████| 2/2 [00:01<00:00,  1.17it/s]"
     ]
    },
    {
     "name": "stdout",
     "output_type": "stream",
     "text": [
      "                   all         50       1437       0.98      0.907      0.968       0.83\n"
     ]
    },
    {
     "name": "stderr",
     "output_type": "stream",
     "text": [
      "\n"
     ]
    },
    {
     "name": "stdout",
     "output_type": "stream",
     "text": [
      "\n",
      "      Epoch    GPU_mem   box_loss   cls_loss   dfl_loss  Instances       Size\n"
     ]
    },
    {
     "name": "stderr",
     "output_type": "stream",
     "text": [
      "     46/100      14.4G     0.3966     0.2574     0.8445        472        640: 100%|██████████| 35/35 [00:43<00:00,  1.24s/it]\n",
      "                 Class     Images  Instances      Box(P          R      mAP50  mAP50-95): 100%|██████████| 2/2 [00:01<00:00,  1.18it/s]"
     ]
    },
    {
     "name": "stdout",
     "output_type": "stream",
     "text": [
      "                   all         50       1437      0.945      0.888      0.951      0.857\n"
     ]
    },
    {
     "name": "stderr",
     "output_type": "stream",
     "text": [
      "\n"
     ]
    },
    {
     "name": "stdout",
     "output_type": "stream",
     "text": [
      "\n",
      "      Epoch    GPU_mem   box_loss   cls_loss   dfl_loss  Instances       Size\n"
     ]
    },
    {
     "name": "stderr",
     "output_type": "stream",
     "text": [
      "     47/100        14G     0.3646     0.2421     0.8385        526        640: 100%|██████████| 35/35 [00:43<00:00,  1.24s/it]\n",
      "                 Class     Images  Instances      Box(P          R      mAP50  mAP50-95): 100%|██████████| 2/2 [00:01<00:00,  1.18it/s]"
     ]
    },
    {
     "name": "stdout",
     "output_type": "stream",
     "text": [
      "                   all         50       1437      0.944      0.881       0.95      0.863\n"
     ]
    },
    {
     "name": "stderr",
     "output_type": "stream",
     "text": [
      "\n"
     ]
    },
    {
     "name": "stdout",
     "output_type": "stream",
     "text": [
      "\n",
      "      Epoch    GPU_mem   box_loss   cls_loss   dfl_loss  Instances       Size\n"
     ]
    },
    {
     "name": "stderr",
     "output_type": "stream",
     "text": [
      "     48/100      14.4G     0.3808       0.25     0.8529        481        640: 100%|██████████| 35/35 [00:43<00:00,  1.25s/it]\n",
      "                 Class     Images  Instances      Box(P          R      mAP50  mAP50-95): 100%|██████████| 2/2 [00:01<00:00,  1.16it/s]"
     ]
    },
    {
     "name": "stdout",
     "output_type": "stream",
     "text": [
      "                   all         50       1437      0.973      0.911      0.966      0.847\n"
     ]
    },
    {
     "name": "stderr",
     "output_type": "stream",
     "text": [
      "\n"
     ]
    },
    {
     "name": "stdout",
     "output_type": "stream",
     "text": [
      "\n",
      "      Epoch    GPU_mem   box_loss   cls_loss   dfl_loss  Instances       Size\n"
     ]
    },
    {
     "name": "stderr",
     "output_type": "stream",
     "text": [
      "     49/100      13.7G     0.3747     0.2452     0.8407        394        640: 100%|██████████| 35/35 [00:43<00:00,  1.24s/it]\n",
      "                 Class     Images  Instances      Box(P          R      mAP50  mAP50-95): 100%|██████████| 2/2 [00:01<00:00,  1.35it/s]"
     ]
    },
    {
     "name": "stdout",
     "output_type": "stream",
     "text": [
      "                   all         50       1437       0.97      0.913      0.973      0.838\n"
     ]
    },
    {
     "name": "stderr",
     "output_type": "stream",
     "text": [
      "\n"
     ]
    },
    {
     "name": "stdout",
     "output_type": "stream",
     "text": [
      "\n",
      "      Epoch    GPU_mem   box_loss   cls_loss   dfl_loss  Instances       Size\n"
     ]
    },
    {
     "name": "stderr",
     "output_type": "stream",
     "text": [
      "     50/100        14G     0.3804     0.2478     0.8504        552        640: 100%|██████████| 35/35 [00:43<00:00,  1.25s/it]\n",
      "                 Class     Images  Instances      Box(P          R      mAP50  mAP50-95): 100%|██████████| 2/2 [00:02<00:00,  1.06s/it]"
     ]
    },
    {
     "name": "stdout",
     "output_type": "stream",
     "text": [
      "                   all         50       1437      0.978      0.873      0.968      0.872\n"
     ]
    },
    {
     "name": "stderr",
     "output_type": "stream",
     "text": [
      "\n"
     ]
    },
    {
     "name": "stdout",
     "output_type": "stream",
     "text": [
      "\n",
      "      Epoch    GPU_mem   box_loss   cls_loss   dfl_loss  Instances       Size\n"
     ]
    },
    {
     "name": "stderr",
     "output_type": "stream",
     "text": [
      "     51/100      14.3G     0.3776     0.2469     0.8423        562        640: 100%|██████████| 35/35 [00:44<00:00,  1.28s/it]\n",
      "                 Class     Images  Instances      Box(P          R      mAP50  mAP50-95): 100%|██████████| 2/2 [00:01<00:00,  1.18it/s]"
     ]
    },
    {
     "name": "stdout",
     "output_type": "stream",
     "text": [
      "                   all         50       1437       0.95      0.919      0.971      0.833\n"
     ]
    },
    {
     "name": "stderr",
     "output_type": "stream",
     "text": [
      "\n"
     ]
    },
    {
     "name": "stdout",
     "output_type": "stream",
     "text": [
      "\n",
      "      Epoch    GPU_mem   box_loss   cls_loss   dfl_loss  Instances       Size\n"
     ]
    },
    {
     "name": "stderr",
     "output_type": "stream",
     "text": [
      "     52/100      14.4G     0.3771     0.2504     0.8473        493        640: 100%|██████████| 35/35 [00:43<00:00,  1.24s/it]\n",
      "                 Class     Images  Instances      Box(P          R      mAP50  mAP50-95): 100%|██████████| 2/2 [00:02<00:00,  1.05s/it]"
     ]
    },
    {
     "name": "stdout",
     "output_type": "stream",
     "text": [
      "                   all         50       1437      0.951      0.894      0.963      0.872\n"
     ]
    },
    {
     "name": "stderr",
     "output_type": "stream",
     "text": [
      "\n"
     ]
    },
    {
     "name": "stdout",
     "output_type": "stream",
     "text": [
      "\n",
      "      Epoch    GPU_mem   box_loss   cls_loss   dfl_loss  Instances       Size\n"
     ]
    },
    {
     "name": "stderr",
     "output_type": "stream",
     "text": [
      "     53/100      13.7G     0.3758     0.2465     0.8472        538        640: 100%|██████████| 35/35 [00:43<00:00,  1.23s/it]\n",
      "                 Class     Images  Instances      Box(P          R      mAP50  mAP50-95): 100%|██████████| 2/2 [00:01<00:00,  1.38it/s]"
     ]
    },
    {
     "name": "stdout",
     "output_type": "stream",
     "text": [
      "                   all         50       1437      0.944      0.886      0.945      0.852\n"
     ]
    },
    {
     "name": "stderr",
     "output_type": "stream",
     "text": [
      "\n"
     ]
    },
    {
     "name": "stdout",
     "output_type": "stream",
     "text": [
      "\n",
      "      Epoch    GPU_mem   box_loss   cls_loss   dfl_loss  Instances       Size\n"
     ]
    },
    {
     "name": "stderr",
     "output_type": "stream",
     "text": [
      "     54/100        14G     0.3843     0.2513     0.8448        404        640: 100%|██████████| 35/35 [00:43<00:00,  1.24s/it]\n",
      "                 Class     Images  Instances      Box(P          R      mAP50  mAP50-95): 100%|██████████| 2/2 [00:01<00:00,  1.08it/s]"
     ]
    },
    {
     "name": "stdout",
     "output_type": "stream",
     "text": [
      "                   all         50       1437      0.894      0.932      0.969       0.87\n"
     ]
    },
    {
     "name": "stderr",
     "output_type": "stream",
     "text": [
      "\n"
     ]
    },
    {
     "name": "stdout",
     "output_type": "stream",
     "text": [
      "\n",
      "      Epoch    GPU_mem   box_loss   cls_loss   dfl_loss  Instances       Size\n"
     ]
    },
    {
     "name": "stderr",
     "output_type": "stream",
     "text": [
      "     55/100        14G     0.3617     0.2424     0.8369        557        640: 100%|██████████| 35/35 [00:43<00:00,  1.23s/it]\n",
      "                 Class     Images  Instances      Box(P          R      mAP50  mAP50-95): 100%|██████████| 2/2 [00:01<00:00,  1.18it/s]"
     ]
    },
    {
     "name": "stdout",
     "output_type": "stream",
     "text": [
      "                   all         50       1437      0.949      0.884       0.96      0.846\n"
     ]
    },
    {
     "name": "stderr",
     "output_type": "stream",
     "text": [
      "\n"
     ]
    },
    {
     "name": "stdout",
     "output_type": "stream",
     "text": [
      "\n",
      "      Epoch    GPU_mem   box_loss   cls_loss   dfl_loss  Instances       Size\n"
     ]
    },
    {
     "name": "stderr",
     "output_type": "stream",
     "text": [
      "     56/100      14.4G     0.3616      0.239     0.8422        443        640: 100%|██████████| 35/35 [00:43<00:00,  1.25s/it]\n",
      "                 Class     Images  Instances      Box(P          R      mAP50  mAP50-95): 100%|██████████| 2/2 [00:02<00:00,  1.17s/it]"
     ]
    },
    {
     "name": "stdout",
     "output_type": "stream",
     "text": [
      "                   all         50       1437      0.948      0.886       0.95      0.847\n"
     ]
    },
    {
     "name": "stderr",
     "output_type": "stream",
     "text": [
      "\n"
     ]
    },
    {
     "name": "stdout",
     "output_type": "stream",
     "text": [
      "\n",
      "      Epoch    GPU_mem   box_loss   cls_loss   dfl_loss  Instances       Size\n"
     ]
    },
    {
     "name": "stderr",
     "output_type": "stream",
     "text": [
      "     57/100      13.9G     0.3735     0.2441     0.8513        519        640: 100%|██████████| 35/35 [00:43<00:00,  1.23s/it]\n",
      "                 Class     Images  Instances      Box(P          R      mAP50  mAP50-95): 100%|██████████| 2/2 [00:02<00:00,  1.04s/it]"
     ]
    },
    {
     "name": "stdout",
     "output_type": "stream",
     "text": [
      "                   all         50       1437      0.936      0.941      0.971      0.895\n"
     ]
    },
    {
     "name": "stderr",
     "output_type": "stream",
     "text": [
      "\n"
     ]
    },
    {
     "name": "stdout",
     "output_type": "stream",
     "text": [
      "\n",
      "      Epoch    GPU_mem   box_loss   cls_loss   dfl_loss  Instances       Size\n"
     ]
    },
    {
     "name": "stderr",
     "output_type": "stream",
     "text": [
      "     58/100        14G      0.364     0.2389     0.8491        546        640: 100%|██████████| 35/35 [00:43<00:00,  1.23s/it]\n",
      "                 Class     Images  Instances      Box(P          R      mAP50  mAP50-95): 100%|██████████| 2/2 [00:02<00:00,  1.03s/it]"
     ]
    },
    {
     "name": "stdout",
     "output_type": "stream",
     "text": [
      "                   all         50       1437      0.931      0.899      0.957      0.862\n"
     ]
    },
    {
     "name": "stderr",
     "output_type": "stream",
     "text": [
      "\n"
     ]
    },
    {
     "name": "stdout",
     "output_type": "stream",
     "text": [
      "\n",
      "      Epoch    GPU_mem   box_loss   cls_loss   dfl_loss  Instances       Size\n"
     ]
    },
    {
     "name": "stderr",
     "output_type": "stream",
     "text": [
      "     59/100      14.2G     0.3454     0.2347     0.8367        567        640: 100%|██████████| 35/35 [00:43<00:00,  1.24s/it]\n",
      "                 Class     Images  Instances      Box(P          R      mAP50  mAP50-95): 100%|██████████| 2/2 [00:01<00:00,  1.17it/s]"
     ]
    },
    {
     "name": "stdout",
     "output_type": "stream",
     "text": [
      "                   all         50       1437      0.938       0.91      0.966      0.877\n"
     ]
    },
    {
     "name": "stderr",
     "output_type": "stream",
     "text": [
      "\n"
     ]
    },
    {
     "name": "stdout",
     "output_type": "stream",
     "text": [
      "\n",
      "      Epoch    GPU_mem   box_loss   cls_loss   dfl_loss  Instances       Size\n"
     ]
    },
    {
     "name": "stderr",
     "output_type": "stream",
     "text": [
      "     60/100      14.1G     0.3451     0.2314      0.838        572        640: 100%|██████████| 35/35 [00:43<00:00,  1.24s/it]\n",
      "                 Class     Images  Instances      Box(P          R      mAP50  mAP50-95): 100%|██████████| 2/2 [00:02<00:00,  1.19s/it]"
     ]
    },
    {
     "name": "stdout",
     "output_type": "stream",
     "text": [
      "                   all         50       1437      0.982      0.914       0.97      0.897\n"
     ]
    },
    {
     "name": "stderr",
     "output_type": "stream",
     "text": [
      "\n"
     ]
    },
    {
     "name": "stdout",
     "output_type": "stream",
     "text": [
      "\n",
      "      Epoch    GPU_mem   box_loss   cls_loss   dfl_loss  Instances       Size\n"
     ]
    },
    {
     "name": "stderr",
     "output_type": "stream",
     "text": [
      "     61/100        14G     0.3409      0.227     0.8396        466        640: 100%|██████████| 35/35 [00:43<00:00,  1.25s/it]\n",
      "                 Class     Images  Instances      Box(P          R      mAP50  mAP50-95): 100%|██████████| 2/2 [00:02<00:00,  1.21s/it]"
     ]
    },
    {
     "name": "stdout",
     "output_type": "stream",
     "text": [
      "                   all         50       1437      0.952      0.888      0.963      0.877\n"
     ]
    },
    {
     "name": "stderr",
     "output_type": "stream",
     "text": [
      "\n"
     ]
    },
    {
     "name": "stdout",
     "output_type": "stream",
     "text": [
      "\n",
      "      Epoch    GPU_mem   box_loss   cls_loss   dfl_loss  Instances       Size\n"
     ]
    },
    {
     "name": "stderr",
     "output_type": "stream",
     "text": [
      "     62/100      14.3G     0.3201     0.2168     0.8348        465        640: 100%|██████████| 35/35 [00:43<00:00,  1.24s/it]\n",
      "                 Class     Images  Instances      Box(P          R      mAP50  mAP50-95): 100%|██████████| 2/2 [00:01<00:00,  1.17it/s]"
     ]
    },
    {
     "name": "stdout",
     "output_type": "stream",
     "text": [
      "                   all         50       1437      0.923      0.905      0.967      0.873\n"
     ]
    },
    {
     "name": "stderr",
     "output_type": "stream",
     "text": [
      "\n"
     ]
    },
    {
     "name": "stdout",
     "output_type": "stream",
     "text": [
      "\n",
      "      Epoch    GPU_mem   box_loss   cls_loss   dfl_loss  Instances       Size\n"
     ]
    },
    {
     "name": "stderr",
     "output_type": "stream",
     "text": [
      "     63/100      14.3G     0.3387     0.2267     0.8365        389        640: 100%|██████████| 35/35 [00:43<00:00,  1.24s/it]\n",
      "                 Class     Images  Instances      Box(P          R      mAP50  mAP50-95): 100%|██████████| 2/2 [00:02<00:00,  1.02s/it]"
     ]
    },
    {
     "name": "stdout",
     "output_type": "stream",
     "text": [
      "                   all         50       1437      0.929      0.897      0.946      0.866\n"
     ]
    },
    {
     "name": "stderr",
     "output_type": "stream",
     "text": [
      "\n"
     ]
    },
    {
     "name": "stdout",
     "output_type": "stream",
     "text": [
      "\n",
      "      Epoch    GPU_mem   box_loss   cls_loss   dfl_loss  Instances       Size\n"
     ]
    },
    {
     "name": "stderr",
     "output_type": "stream",
     "text": [
      "     64/100      14.2G     0.3355      0.227     0.8356        626        640: 100%|██████████| 35/35 [00:43<00:00,  1.24s/it]\n",
      "                 Class     Images  Instances      Box(P          R      mAP50  mAP50-95): 100%|██████████| 2/2 [00:01<00:00,  1.04it/s]"
     ]
    },
    {
     "name": "stdout",
     "output_type": "stream",
     "text": [
      "                   all         50       1437      0.966      0.922      0.975       0.89\n"
     ]
    },
    {
     "name": "stderr",
     "output_type": "stream",
     "text": [
      "\n"
     ]
    },
    {
     "name": "stdout",
     "output_type": "stream",
     "text": [
      "\n",
      "      Epoch    GPU_mem   box_loss   cls_loss   dfl_loss  Instances       Size\n"
     ]
    },
    {
     "name": "stderr",
     "output_type": "stream",
     "text": [
      "     65/100      13.9G     0.3256     0.2202     0.8333        486        640: 100%|██████████| 35/35 [00:43<00:00,  1.25s/it]\n",
      "                 Class     Images  Instances      Box(P          R      mAP50  mAP50-95): 100%|██████████| 2/2 [00:01<00:00,  1.18it/s]"
     ]
    },
    {
     "name": "stdout",
     "output_type": "stream",
     "text": [
      "                   all         50       1437       0.98      0.923      0.975       0.88\n"
     ]
    },
    {
     "name": "stderr",
     "output_type": "stream",
     "text": [
      "\n"
     ]
    },
    {
     "name": "stdout",
     "output_type": "stream",
     "text": [
      "\n",
      "      Epoch    GPU_mem   box_loss   cls_loss   dfl_loss  Instances       Size\n"
     ]
    },
    {
     "name": "stderr",
     "output_type": "stream",
     "text": [
      "     66/100      14.2G     0.3341      0.224     0.8397        553        640: 100%|██████████| 35/35 [00:43<00:00,  1.24s/it]\n",
      "                 Class     Images  Instances      Box(P          R      mAP50  mAP50-95): 100%|██████████| 2/2 [00:02<00:00,  1.02s/it]"
     ]
    },
    {
     "name": "stdout",
     "output_type": "stream",
     "text": [
      "                   all         50       1437      0.952      0.888      0.961      0.854\n"
     ]
    },
    {
     "name": "stderr",
     "output_type": "stream",
     "text": [
      "\n"
     ]
    },
    {
     "name": "stdout",
     "output_type": "stream",
     "text": [
      "\n",
      "      Epoch    GPU_mem   box_loss   cls_loss   dfl_loss  Instances       Size\n"
     ]
    },
    {
     "name": "stderr",
     "output_type": "stream",
     "text": [
      "     67/100        14G     0.3254     0.2211     0.8335        400        640: 100%|██████████| 35/35 [00:43<00:00,  1.24s/it]\n",
      "                 Class     Images  Instances      Box(P          R      mAP50  mAP50-95): 100%|██████████| 2/2 [00:01<00:00,  1.20it/s]"
     ]
    },
    {
     "name": "stdout",
     "output_type": "stream",
     "text": [
      "                   all         50       1437      0.947      0.887      0.956      0.872\n"
     ]
    },
    {
     "name": "stderr",
     "output_type": "stream",
     "text": [
      "\n"
     ]
    },
    {
     "name": "stdout",
     "output_type": "stream",
     "text": [
      "\n",
      "      Epoch    GPU_mem   box_loss   cls_loss   dfl_loss  Instances       Size\n"
     ]
    },
    {
     "name": "stderr",
     "output_type": "stream",
     "text": [
      "     68/100      14.3G     0.3198     0.2174     0.8335        514        640: 100%|██████████| 35/35 [00:43<00:00,  1.24s/it]\n",
      "                 Class     Images  Instances      Box(P          R      mAP50  mAP50-95): 100%|██████████| 2/2 [00:01<00:00,  1.21it/s]"
     ]
    },
    {
     "name": "stdout",
     "output_type": "stream",
     "text": [
      "                   all         50       1437       0.95       0.88      0.952      0.851\n"
     ]
    },
    {
     "name": "stderr",
     "output_type": "stream",
     "text": [
      "\n"
     ]
    },
    {
     "name": "stdout",
     "output_type": "stream",
     "text": [
      "\n",
      "      Epoch    GPU_mem   box_loss   cls_loss   dfl_loss  Instances       Size\n"
     ]
    },
    {
     "name": "stderr",
     "output_type": "stream",
     "text": [
      "     69/100      14.1G     0.3166     0.2157     0.8332        480        640: 100%|██████████| 35/35 [00:43<00:00,  1.23s/it]\n",
      "                 Class     Images  Instances      Box(P          R      mAP50  mAP50-95): 100%|██████████| 2/2 [00:02<00:00,  1.06s/it]"
     ]
    },
    {
     "name": "stdout",
     "output_type": "stream",
     "text": [
      "                   all         50       1437      0.957      0.893      0.961      0.864\n"
     ]
    },
    {
     "name": "stderr",
     "output_type": "stream",
     "text": [
      "\n"
     ]
    },
    {
     "name": "stdout",
     "output_type": "stream",
     "text": [
      "\n",
      "      Epoch    GPU_mem   box_loss   cls_loss   dfl_loss  Instances       Size\n"
     ]
    },
    {
     "name": "stderr",
     "output_type": "stream",
     "text": [
      "     70/100      14.3G     0.3051     0.2109     0.8276        550        640: 100%|██████████| 35/35 [00:43<00:00,  1.24s/it]\n",
      "                 Class     Images  Instances      Box(P          R      mAP50  mAP50-95): 100%|██████████| 2/2 [00:01<00:00,  1.20it/s]"
     ]
    },
    {
     "name": "stdout",
     "output_type": "stream",
     "text": [
      "                   all         50       1437      0.946      0.885      0.945      0.846\n"
     ]
    },
    {
     "name": "stderr",
     "output_type": "stream",
     "text": [
      "\n"
     ]
    },
    {
     "name": "stdout",
     "output_type": "stream",
     "text": [
      "\n",
      "      Epoch    GPU_mem   box_loss   cls_loss   dfl_loss  Instances       Size\n"
     ]
    },
    {
     "name": "stderr",
     "output_type": "stream",
     "text": [
      "     71/100        14G     0.3127      0.212     0.8273        408        640: 100%|██████████| 35/35 [00:43<00:00,  1.24s/it]\n",
      "                 Class     Images  Instances      Box(P          R      mAP50  mAP50-95): 100%|██████████| 2/2 [00:02<00:00,  1.03s/it]"
     ]
    },
    {
     "name": "stdout",
     "output_type": "stream",
     "text": [
      "                   all         50       1437      0.934      0.917      0.966      0.888\n"
     ]
    },
    {
     "name": "stderr",
     "output_type": "stream",
     "text": [
      "\n"
     ]
    },
    {
     "name": "stdout",
     "output_type": "stream",
     "text": [
      "\n",
      "      Epoch    GPU_mem   box_loss   cls_loss   dfl_loss  Instances       Size\n"
     ]
    },
    {
     "name": "stderr",
     "output_type": "stream",
     "text": [
      "     72/100      14.1G     0.3061     0.2095     0.8297        336        640: 100%|██████████| 35/35 [00:43<00:00,  1.24s/it]\n",
      "                 Class     Images  Instances      Box(P          R      mAP50  mAP50-95): 100%|██████████| 2/2 [00:01<00:00,  1.20it/s]"
     ]
    },
    {
     "name": "stdout",
     "output_type": "stream",
     "text": [
      "                   all         50       1437      0.956      0.889      0.947      0.866\n"
     ]
    },
    {
     "name": "stderr",
     "output_type": "stream",
     "text": [
      "\n"
     ]
    },
    {
     "name": "stdout",
     "output_type": "stream",
     "text": [
      "\n",
      "      Epoch    GPU_mem   box_loss   cls_loss   dfl_loss  Instances       Size\n"
     ]
    },
    {
     "name": "stderr",
     "output_type": "stream",
     "text": [
      "     73/100      13.7G     0.3062     0.2084      0.831        398        640: 100%|██████████| 35/35 [00:43<00:00,  1.24s/it]\n",
      "                 Class     Images  Instances      Box(P          R      mAP50  mAP50-95): 100%|██████████| 2/2 [00:01<00:00,  1.25it/s]"
     ]
    },
    {
     "name": "stdout",
     "output_type": "stream",
     "text": [
      "                   all         50       1437      0.968      0.893      0.966      0.881\n"
     ]
    },
    {
     "name": "stderr",
     "output_type": "stream",
     "text": [
      "\n"
     ]
    },
    {
     "name": "stdout",
     "output_type": "stream",
     "text": [
      "\n",
      "      Epoch    GPU_mem   box_loss   cls_loss   dfl_loss  Instances       Size\n"
     ]
    },
    {
     "name": "stderr",
     "output_type": "stream",
     "text": [
      "     74/100      14.2G     0.3008     0.2031     0.8325        586        640: 100%|██████████| 35/35 [00:43<00:00,  1.23s/it]\n",
      "                 Class     Images  Instances      Box(P          R      mAP50  mAP50-95): 100%|██████████| 2/2 [00:01<00:00,  1.24it/s]"
     ]
    },
    {
     "name": "stdout",
     "output_type": "stream",
     "text": [
      "                   all         50       1437      0.957      0.888      0.963       0.88\n"
     ]
    },
    {
     "name": "stderr",
     "output_type": "stream",
     "text": [
      "\n"
     ]
    },
    {
     "name": "stdout",
     "output_type": "stream",
     "text": [
      "\n",
      "      Epoch    GPU_mem   box_loss   cls_loss   dfl_loss  Instances       Size\n"
     ]
    },
    {
     "name": "stderr",
     "output_type": "stream",
     "text": [
      "     75/100      14.3G     0.2952     0.2029     0.8276        484        640: 100%|██████████| 35/35 [00:43<00:00,  1.24s/it]\n",
      "                 Class     Images  Instances      Box(P          R      mAP50  mAP50-95): 100%|██████████| 2/2 [00:02<00:00,  1.12s/it]"
     ]
    },
    {
     "name": "stdout",
     "output_type": "stream",
     "text": [
      "                   all         50       1437       0.96      0.889      0.966      0.867\n"
     ]
    },
    {
     "name": "stderr",
     "output_type": "stream",
     "text": [
      "\n"
     ]
    },
    {
     "name": "stdout",
     "output_type": "stream",
     "text": [
      "\n",
      "      Epoch    GPU_mem   box_loss   cls_loss   dfl_loss  Instances       Size\n"
     ]
    },
    {
     "name": "stderr",
     "output_type": "stream",
     "text": [
      "     76/100      14.3G     0.2964     0.2014     0.8251        378        640: 100%|██████████| 35/35 [00:43<00:00,  1.23s/it]\n",
      "                 Class     Images  Instances      Box(P          R      mAP50  mAP50-95): 100%|██████████| 2/2 [00:02<00:00,  1.05s/it]"
     ]
    },
    {
     "name": "stdout",
     "output_type": "stream",
     "text": [
      "                   all         50       1437      0.929       0.91      0.945      0.865\n"
     ]
    },
    {
     "name": "stderr",
     "output_type": "stream",
     "text": [
      "\n"
     ]
    },
    {
     "name": "stdout",
     "output_type": "stream",
     "text": [
      "\n",
      "      Epoch    GPU_mem   box_loss   cls_loss   dfl_loss  Instances       Size\n"
     ]
    },
    {
     "name": "stderr",
     "output_type": "stream",
     "text": [
      "     77/100      13.8G     0.2906     0.1984     0.8239        367        640: 100%|██████████| 35/35 [00:43<00:00,  1.25s/it]\n",
      "                 Class     Images  Instances      Box(P          R      mAP50  mAP50-95): 100%|██████████| 2/2 [00:01<00:00,  1.00it/s]"
     ]
    },
    {
     "name": "stdout",
     "output_type": "stream",
     "text": [
      "                   all         50       1437      0.984      0.914      0.967      0.888\n"
     ]
    },
    {
     "name": "stderr",
     "output_type": "stream",
     "text": [
      "\n"
     ]
    },
    {
     "name": "stdout",
     "output_type": "stream",
     "text": [
      "\n",
      "      Epoch    GPU_mem   box_loss   cls_loss   dfl_loss  Instances       Size\n"
     ]
    },
    {
     "name": "stderr",
     "output_type": "stream",
     "text": [
      "     78/100      14.1G     0.2846      0.196     0.8233        595        640: 100%|██████████| 35/35 [00:43<00:00,  1.23s/it]\n",
      "                 Class     Images  Instances      Box(P          R      mAP50  mAP50-95): 100%|██████████| 2/2 [00:01<00:00,  1.03it/s]"
     ]
    },
    {
     "name": "stdout",
     "output_type": "stream",
     "text": [
      "                   all         50       1437       0.95      0.914      0.961      0.877\n"
     ]
    },
    {
     "name": "stderr",
     "output_type": "stream",
     "text": [
      "\n"
     ]
    },
    {
     "name": "stdout",
     "output_type": "stream",
     "text": [
      "\n",
      "      Epoch    GPU_mem   box_loss   cls_loss   dfl_loss  Instances       Size\n"
     ]
    },
    {
     "name": "stderr",
     "output_type": "stream",
     "text": [
      "     79/100      14.2G     0.2764     0.1916     0.8141        495        640: 100%|██████████| 35/35 [00:43<00:00,  1.24s/it]\n",
      "                 Class     Images  Instances      Box(P          R      mAP50  mAP50-95): 100%|██████████| 2/2 [00:01<00:00,  1.22it/s]"
     ]
    },
    {
     "name": "stdout",
     "output_type": "stream",
     "text": [
      "                   all         50       1437      0.982      0.918      0.972      0.897\n"
     ]
    },
    {
     "name": "stderr",
     "output_type": "stream",
     "text": [
      "\n"
     ]
    },
    {
     "name": "stdout",
     "output_type": "stream",
     "text": [
      "\n",
      "      Epoch    GPU_mem   box_loss   cls_loss   dfl_loss  Instances       Size\n"
     ]
    },
    {
     "name": "stderr",
     "output_type": "stream",
     "text": [
      "     80/100      14.1G     0.2831     0.1955     0.8201        370        640: 100%|██████████| 35/35 [00:43<00:00,  1.24s/it]\n",
      "                 Class     Images  Instances      Box(P          R      mAP50  mAP50-95): 100%|██████████| 2/2 [00:01<00:00,  1.18it/s]"
     ]
    },
    {
     "name": "stdout",
     "output_type": "stream",
     "text": [
      "                   all         50       1437      0.944        0.9      0.964      0.872\n"
     ]
    },
    {
     "name": "stderr",
     "output_type": "stream",
     "text": [
      "\n"
     ]
    },
    {
     "name": "stdout",
     "output_type": "stream",
     "text": [
      "\n",
      "      Epoch    GPU_mem   box_loss   cls_loss   dfl_loss  Instances       Size\n"
     ]
    },
    {
     "name": "stderr",
     "output_type": "stream",
     "text": [
      "     81/100      13.9G     0.2785     0.1911     0.8213        551        640: 100%|██████████| 35/35 [00:43<00:00,  1.24s/it]\n",
      "                 Class     Images  Instances      Box(P          R      mAP50  mAP50-95): 100%|██████████| 2/2 [00:01<00:00,  1.06it/s]"
     ]
    },
    {
     "name": "stdout",
     "output_type": "stream",
     "text": [
      "                   all         50       1437      0.951      0.891      0.948      0.853\n"
     ]
    },
    {
     "name": "stderr",
     "output_type": "stream",
     "text": [
      "\n"
     ]
    },
    {
     "name": "stdout",
     "output_type": "stream",
     "text": [
      "\n",
      "      Epoch    GPU_mem   box_loss   cls_loss   dfl_loss  Instances       Size\n"
     ]
    },
    {
     "name": "stderr",
     "output_type": "stream",
     "text": [
      "     82/100      14.2G     0.2894     0.1943     0.8263        391        640: 100%|██████████| 35/35 [00:43<00:00,  1.24s/it]\n",
      "                 Class     Images  Instances      Box(P          R      mAP50  mAP50-95): 100%|██████████| 2/2 [00:01<00:00,  1.18it/s]"
     ]
    },
    {
     "name": "stdout",
     "output_type": "stream",
     "text": [
      "                   all         50       1437      0.986      0.917      0.972      0.875\n"
     ]
    },
    {
     "name": "stderr",
     "output_type": "stream",
     "text": [
      "\n"
     ]
    },
    {
     "name": "stdout",
     "output_type": "stream",
     "text": [
      "\n",
      "      Epoch    GPU_mem   box_loss   cls_loss   dfl_loss  Instances       Size\n"
     ]
    },
    {
     "name": "stderr",
     "output_type": "stream",
     "text": [
      "     83/100      14.2G     0.2774     0.1897      0.824        479        640: 100%|██████████| 35/35 [00:43<00:00,  1.25s/it]\n",
      "                 Class     Images  Instances      Box(P          R      mAP50  mAP50-95): 100%|██████████| 2/2 [00:01<00:00,  1.22it/s]"
     ]
    },
    {
     "name": "stdout",
     "output_type": "stream",
     "text": [
      "                   all         50       1437      0.971      0.904      0.967      0.878\n"
     ]
    },
    {
     "name": "stderr",
     "output_type": "stream",
     "text": [
      "\n"
     ]
    },
    {
     "name": "stdout",
     "output_type": "stream",
     "text": [
      "\n",
      "      Epoch    GPU_mem   box_loss   cls_loss   dfl_loss  Instances       Size\n"
     ]
    },
    {
     "name": "stderr",
     "output_type": "stream",
     "text": [
      "     84/100      14.1G     0.2654     0.1833     0.8132        478        640: 100%|██████████| 35/35 [00:43<00:00,  1.24s/it]\n",
      "                 Class     Images  Instances      Box(P          R      mAP50  mAP50-95): 100%|██████████| 2/2 [00:02<00:00,  1.13s/it]"
     ]
    },
    {
     "name": "stdout",
     "output_type": "stream",
     "text": [
      "                   all         50       1437      0.977      0.913      0.973       0.87\n"
     ]
    },
    {
     "name": "stderr",
     "output_type": "stream",
     "text": [
      "\n"
     ]
    },
    {
     "name": "stdout",
     "output_type": "stream",
     "text": [
      "\n",
      "      Epoch    GPU_mem   box_loss   cls_loss   dfl_loss  Instances       Size\n"
     ]
    },
    {
     "name": "stderr",
     "output_type": "stream",
     "text": [
      "     85/100      13.9G     0.2745     0.1884     0.8218        636        640: 100%|██████████| 35/35 [00:43<00:00,  1.24s/it]\n",
      "                 Class     Images  Instances      Box(P          R      mAP50  mAP50-95): 100%|██████████| 2/2 [00:01<00:00,  1.20it/s]"
     ]
    },
    {
     "name": "stdout",
     "output_type": "stream",
     "text": [
      "                   all         50       1437       0.98      0.919      0.973      0.886\n"
     ]
    },
    {
     "name": "stderr",
     "output_type": "stream",
     "text": [
      "\n"
     ]
    },
    {
     "name": "stdout",
     "output_type": "stream",
     "text": [
      "\n",
      "      Epoch    GPU_mem   box_loss   cls_loss   dfl_loss  Instances       Size\n"
     ]
    },
    {
     "name": "stderr",
     "output_type": "stream",
     "text": [
      "     86/100      14.3G     0.2525     0.1788     0.8127        625        640: 100%|██████████| 35/35 [00:43<00:00,  1.25s/it]\n",
      "                 Class     Images  Instances      Box(P          R      mAP50  mAP50-95): 100%|██████████| 2/2 [00:01<00:00,  1.19it/s]"
     ]
    },
    {
     "name": "stdout",
     "output_type": "stream",
     "text": [
      "                   all         50       1437      0.948      0.894      0.947      0.863\n"
     ]
    },
    {
     "name": "stderr",
     "output_type": "stream",
     "text": [
      "\n"
     ]
    },
    {
     "name": "stdout",
     "output_type": "stream",
     "text": [
      "\n",
      "      Epoch    GPU_mem   box_loss   cls_loss   dfl_loss  Instances       Size\n"
     ]
    },
    {
     "name": "stderr",
     "output_type": "stream",
     "text": [
      "     87/100      14.2G     0.2559     0.1788     0.8134        497        640: 100%|██████████| 35/35 [00:43<00:00,  1.24s/it]\n",
      "                 Class     Images  Instances      Box(P          R      mAP50  mAP50-95): 100%|██████████| 2/2 [00:02<00:00,  1.21s/it]"
     ]
    },
    {
     "name": "stdout",
     "output_type": "stream",
     "text": [
      "                   all         50       1437      0.955      0.894      0.962      0.876\n"
     ]
    },
    {
     "name": "stderr",
     "output_type": "stream",
     "text": [
      "\n"
     ]
    },
    {
     "name": "stdout",
     "output_type": "stream",
     "text": [
      "\n",
      "      Epoch    GPU_mem   box_loss   cls_loss   dfl_loss  Instances       Size\n"
     ]
    },
    {
     "name": "stderr",
     "output_type": "stream",
     "text": [
      "     88/100      14.1G      0.258     0.1803     0.8162        411        640: 100%|██████████| 35/35 [00:46<00:00,  1.33s/it]\n",
      "                 Class     Images  Instances      Box(P          R      mAP50  mAP50-95): 100%|██████████| 2/2 [00:02<00:00,  1.18s/it]"
     ]
    },
    {
     "name": "stdout",
     "output_type": "stream",
     "text": [
      "                   all         50       1437      0.924      0.921      0.962      0.888\n"
     ]
    },
    {
     "name": "stderr",
     "output_type": "stream",
     "text": [
      "\n"
     ]
    },
    {
     "name": "stdout",
     "output_type": "stream",
     "text": [
      "\n",
      "      Epoch    GPU_mem   box_loss   cls_loss   dfl_loss  Instances       Size\n"
     ]
    },
    {
     "name": "stderr",
     "output_type": "stream",
     "text": [
      "     89/100      13.9G      0.262     0.1817     0.8158        401        640: 100%|██████████| 35/35 [00:43<00:00,  1.23s/it]\n",
      "                 Class     Images  Instances      Box(P          R      mAP50  mAP50-95): 100%|██████████| 2/2 [00:01<00:00,  1.15it/s]"
     ]
    },
    {
     "name": "stdout",
     "output_type": "stream",
     "text": [
      "                   all         50       1437      0.915      0.927      0.965      0.891\n"
     ]
    },
    {
     "name": "stderr",
     "output_type": "stream",
     "text": [
      "\n"
     ]
    },
    {
     "name": "stdout",
     "output_type": "stream",
     "text": [
      "\n",
      "      Epoch    GPU_mem   box_loss   cls_loss   dfl_loss  Instances       Size\n"
     ]
    },
    {
     "name": "stderr",
     "output_type": "stream",
     "text": [
      "     90/100      14.3G     0.2629     0.1799     0.8219        562        640: 100%|██████████| 35/35 [00:43<00:00,  1.24s/it]\n",
      "                 Class     Images  Instances      Box(P          R      mAP50  mAP50-95): 100%|██████████| 2/2 [00:02<00:00,  1.30s/it]"
     ]
    },
    {
     "name": "stdout",
     "output_type": "stream",
     "text": [
      "                   all         50       1437       0.96      0.884      0.963      0.885\n"
     ]
    },
    {
     "name": "stderr",
     "output_type": "stream",
     "text": [
      "\n"
     ]
    },
    {
     "name": "stdout",
     "output_type": "stream",
     "text": [
      "Closing dataloader mosaic\n",
      "\u001b[34m\u001b[1malbumentations: \u001b[0mBlur(p=0.01, blur_limit=(3, 7)), MedianBlur(p=0.01, blur_limit=(3, 7)), ToGray(p=0.01), CLAHE(p=0.01, clip_limit=(1, 4.0), tile_grid_size=(8, 8))\n"
     ]
    },
    {
     "name": "stderr",
     "output_type": "stream",
     "text": [
      "/usr/lib/python3.10/multiprocessing/popen_fork.py:66: RuntimeWarning: os.fork() was called. os.fork() is incompatible with multithreaded code, and JAX is multithreaded, so this will likely lead to a deadlock.\n",
      "  self.pid = os.fork()\n",
      "/usr/lib/python3.10/multiprocessing/popen_fork.py:66: RuntimeWarning: os.fork() was called. os.fork() is incompatible with multithreaded code, and JAX is multithreaded, so this will likely lead to a deadlock.\n",
      "  self.pid = os.fork()\n"
     ]
    },
    {
     "name": "stdout",
     "output_type": "stream",
     "text": [
      "\n",
      "      Epoch    GPU_mem   box_loss   cls_loss   dfl_loss  Instances       Size\n"
     ]
    },
    {
     "name": "stderr",
     "output_type": "stream",
     "text": [
      "     91/100      14.2G     0.3126     0.1952      0.823        262        640: 100%|██████████| 35/35 [00:49<00:00,  1.40s/it]\n",
      "                 Class     Images  Instances      Box(P          R      mAP50  mAP50-95): 100%|██████████| 2/2 [00:01<00:00,  1.16it/s]"
     ]
    },
    {
     "name": "stdout",
     "output_type": "stream",
     "text": [
      "                   all         50       1437      0.966      0.895      0.963      0.905\n"
     ]
    },
    {
     "name": "stderr",
     "output_type": "stream",
     "text": [
      "\n"
     ]
    },
    {
     "name": "stdout",
     "output_type": "stream",
     "text": [
      "\n",
      "      Epoch    GPU_mem   box_loss   cls_loss   dfl_loss  Instances       Size\n"
     ]
    },
    {
     "name": "stderr",
     "output_type": "stream",
     "text": [
      "     92/100      14.3G     0.2533     0.1739     0.8153        245        640: 100%|██████████| 35/35 [00:42<00:00,  1.22s/it]\n",
      "                 Class     Images  Instances      Box(P          R      mAP50  mAP50-95): 100%|██████████| 2/2 [00:02<00:00,  1.24s/it]"
     ]
    },
    {
     "name": "stdout",
     "output_type": "stream",
     "text": [
      "                   all         50       1437      0.955       0.89      0.964      0.908\n"
     ]
    },
    {
     "name": "stderr",
     "output_type": "stream",
     "text": [
      "\n"
     ]
    },
    {
     "name": "stdout",
     "output_type": "stream",
     "text": [
      "\n",
      "      Epoch    GPU_mem   box_loss   cls_loss   dfl_loss  Instances       Size\n"
     ]
    },
    {
     "name": "stderr",
     "output_type": "stream",
     "text": [
      "     93/100        14G     0.2413     0.1659     0.8068        276        640: 100%|██████████| 35/35 [00:42<00:00,  1.22s/it]\n",
      "                 Class     Images  Instances      Box(P          R      mAP50  mAP50-95): 100%|██████████| 2/2 [00:01<00:00,  1.20it/s]"
     ]
    },
    {
     "name": "stdout",
     "output_type": "stream",
     "text": [
      "                   all         50       1437      0.958       0.88      0.961      0.909\n"
     ]
    },
    {
     "name": "stderr",
     "output_type": "stream",
     "text": [
      "\n"
     ]
    },
    {
     "name": "stdout",
     "output_type": "stream",
     "text": [
      "\n",
      "      Epoch    GPU_mem   box_loss   cls_loss   dfl_loss  Instances       Size\n"
     ]
    },
    {
     "name": "stderr",
     "output_type": "stream",
     "text": [
      "     94/100      14.2G     0.2237     0.1591      0.805        255        640: 100%|██████████| 35/35 [00:42<00:00,  1.22s/it]\n",
      "                 Class     Images  Instances      Box(P          R      mAP50  mAP50-95): 100%|██████████| 2/2 [00:01<00:00,  1.08it/s]"
     ]
    },
    {
     "name": "stdout",
     "output_type": "stream",
     "text": [
      "                   all         50       1437      0.968      0.906       0.97      0.902\n"
     ]
    },
    {
     "name": "stderr",
     "output_type": "stream",
     "text": [
      "\n"
     ]
    },
    {
     "name": "stdout",
     "output_type": "stream",
     "text": [
      "\n",
      "      Epoch    GPU_mem   box_loss   cls_loss   dfl_loss  Instances       Size\n"
     ]
    },
    {
     "name": "stderr",
     "output_type": "stream",
     "text": [
      "     95/100      14.2G     0.2268      0.161     0.8119        273        640: 100%|██████████| 35/35 [00:42<00:00,  1.23s/it]\n",
      "                 Class     Images  Instances      Box(P          R      mAP50  mAP50-95): 100%|██████████| 2/2 [00:01<00:00,  1.17it/s]"
     ]
    },
    {
     "name": "stdout",
     "output_type": "stream",
     "text": [
      "                   all         50       1437      0.956      0.896      0.964      0.904\n"
     ]
    },
    {
     "name": "stderr",
     "output_type": "stream",
     "text": [
      "\n"
     ]
    },
    {
     "name": "stdout",
     "output_type": "stream",
     "text": [
      "\n",
      "      Epoch    GPU_mem   box_loss   cls_loss   dfl_loss  Instances       Size\n"
     ]
    },
    {
     "name": "stderr",
     "output_type": "stream",
     "text": [
      "     96/100      14.3G     0.2154     0.1554     0.8112        280        640: 100%|██████████| 35/35 [00:42<00:00,  1.22s/it]\n",
      "                 Class     Images  Instances      Box(P          R      mAP50  mAP50-95): 100%|██████████| 2/2 [00:01<00:00,  1.14it/s]"
     ]
    },
    {
     "name": "stdout",
     "output_type": "stream",
     "text": [
      "                   all         50       1437      0.955      0.895       0.96      0.905\n"
     ]
    },
    {
     "name": "stderr",
     "output_type": "stream",
     "text": [
      "\n"
     ]
    },
    {
     "name": "stdout",
     "output_type": "stream",
     "text": [
      "\n",
      "      Epoch    GPU_mem   box_loss   cls_loss   dfl_loss  Instances       Size\n"
     ]
    },
    {
     "name": "stderr",
     "output_type": "stream",
     "text": [
      "     97/100        14G     0.2125     0.1521      0.807        261        640: 100%|██████████| 35/35 [00:42<00:00,  1.21s/it]\n",
      "                 Class     Images  Instances      Box(P          R      mAP50  mAP50-95): 100%|██████████| 2/2 [00:02<00:00,  1.12s/it]"
     ]
    },
    {
     "name": "stdout",
     "output_type": "stream",
     "text": [
      "                   all         50       1437      0.958      0.895      0.962      0.908\n"
     ]
    },
    {
     "name": "stderr",
     "output_type": "stream",
     "text": [
      "\n"
     ]
    },
    {
     "name": "stdout",
     "output_type": "stream",
     "text": [
      "\n",
      "      Epoch    GPU_mem   box_loss   cls_loss   dfl_loss  Instances       Size\n"
     ]
    },
    {
     "name": "stderr",
     "output_type": "stream",
     "text": [
      "     98/100      14.2G     0.2062     0.1487      0.804        290        640: 100%|██████████| 35/35 [00:42<00:00,  1.21s/it]\n",
      "                 Class     Images  Instances      Box(P          R      mAP50  mAP50-95): 100%|██████████| 2/2 [00:01<00:00,  1.23it/s]"
     ]
    },
    {
     "name": "stdout",
     "output_type": "stream",
     "text": [
      "                   all         50       1437      0.956      0.893      0.965      0.913\n"
     ]
    },
    {
     "name": "stderr",
     "output_type": "stream",
     "text": [
      "\n"
     ]
    },
    {
     "name": "stdout",
     "output_type": "stream",
     "text": [
      "\n",
      "      Epoch    GPU_mem   box_loss   cls_loss   dfl_loss  Instances       Size\n"
     ]
    },
    {
     "name": "stderr",
     "output_type": "stream",
     "text": [
      "     99/100      14.2G     0.2029     0.1484     0.8053        281        640: 100%|██████████| 35/35 [00:42<00:00,  1.22s/it]\n",
      "                 Class     Images  Instances      Box(P          R      mAP50  mAP50-95): 100%|██████████| 2/2 [00:01<00:00,  1.21it/s]"
     ]
    },
    {
     "name": "stdout",
     "output_type": "stream",
     "text": [
      "                   all         50       1437       0.93      0.919      0.964      0.913\n"
     ]
    },
    {
     "name": "stderr",
     "output_type": "stream",
     "text": [
      "\n"
     ]
    },
    {
     "name": "stdout",
     "output_type": "stream",
     "text": [
      "\n",
      "      Epoch    GPU_mem   box_loss   cls_loss   dfl_loss  Instances       Size\n"
     ]
    },
    {
     "name": "stderr",
     "output_type": "stream",
     "text": [
      "    100/100      14.3G     0.1981     0.1443        0.8        230        640: 100%|██████████| 35/35 [00:42<00:00,  1.21s/it]\n",
      "                 Class     Images  Instances      Box(P          R      mAP50  mAP50-95): 100%|██████████| 2/2 [00:01<00:00,  1.20it/s]"
     ]
    },
    {
     "name": "stdout",
     "output_type": "stream",
     "text": [
      "                   all         50       1437      0.926      0.929      0.967      0.916\n"
     ]
    },
    {
     "name": "stderr",
     "output_type": "stream",
     "text": [
      "\n"
     ]
    },
    {
     "name": "stdout",
     "output_type": "stream",
     "text": [
      "\n",
      "100 epochs completed in 1.539 hours.\n",
      "Optimizer stripped from runs/detect/train/weights/last.pt, 136.7MB\n",
      "Optimizer stripped from runs/detect/train/weights/best.pt, 136.7MB\n",
      "\n",
      "Validating runs/detect/train/weights/best.pt...\n",
      "Ultralytics YOLOv8.2.18 🚀 Python-3.10.12 torch-2.2.1+cu121 CUDA:0 (Tesla T4, 15102MiB)\n",
      "Model summary (fused): 268 layers, 68125494 parameters, 0 gradients, 257.4 GFLOPs\n"
     ]
    },
    {
     "name": "stderr",
     "output_type": "stream",
     "text": [
      "                 Class     Images  Instances      Box(P          R      mAP50  mAP50-95): 100%|██████████| 2/2 [00:02<00:00,  1.39s/it]\n"
     ]
    },
    {
     "name": "stdout",
     "output_type": "stream",
     "text": [
      "                   all         50       1437      0.926      0.929      0.967      0.916\n",
      "                person         50       1437      0.926      0.929      0.967      0.916\n",
      "Speed: 0.2ms preprocess, 26.4ms inference, 0.0ms loss, 3.4ms postprocess per image\n",
      "Results saved to \u001b[1mruns/detect/train\u001b[0m\n",
      "Ultralytics YOLOv8.2.18 🚀 Python-3.10.12 torch-2.2.1+cu121 CUDA:0 (Tesla T4, 15102MiB)\n",
      "Model summary (fused): 268 layers, 68125494 parameters, 0 gradients, 257.4 GFLOPs\n"
     ]
    },
    {
     "name": "stderr",
     "output_type": "stream",
     "text": [
      "\u001b[34m\u001b[1mval: \u001b[0mScanning /content/drive/MyDrive/dataset/yolofinetuning/yolofinetuning/valid/labels.cache... 50 images, 0 backgrounds, 0 corrupt: 100%|██████████| 50/50 [00:00<?, ?it/s]\n",
      "/usr/lib/python3.10/multiprocessing/popen_fork.py:66: RuntimeWarning: os.fork() was called. os.fork() is incompatible with multithreaded code, and JAX is multithreaded, so this will likely lead to a deadlock.\n",
      "  self.pid = os.fork()\n",
      "                 Class     Images  Instances      Box(P          R      mAP50  mAP50-95): 100%|██████████| 4/4 [00:15<00:00,  3.77s/it]\n"
     ]
    },
    {
     "name": "stdout",
     "output_type": "stream",
     "text": [
      "                   all         50       1437      0.925      0.929      0.967      0.917\n",
      "                person         50       1437      0.925      0.929      0.967      0.917\n",
      "Speed: 1.7ms preprocess, 80.8ms inference, 0.0ms loss, 4.0ms postprocess per image\n",
      "Results saved to \u001b[1mruns/detect/train2\u001b[0m\n",
      "ultralytics.utils.metrics.DetMetrics object with attributes:\n",
      "\n",
      "ap_class_index: array([1])\n",
      "box: ultralytics.utils.metrics.Metric object\n",
      "confusion_matrix: <ultralytics.utils.metrics.ConfusionMatrix object at 0x7c45df0808e0>\n",
      "curves: ['Precision-Recall(B)', 'F1-Confidence(B)', 'Precision-Confidence(B)', 'Recall-Confidence(B)']\n",
      "curves_results: [[array([          0,    0.001001,    0.002002,    0.003003,    0.004004,    0.005005,    0.006006,    0.007007,    0.008008,    0.009009,     0.01001,    0.011011,    0.012012,    0.013013,    0.014014,    0.015015,    0.016016,    0.017017,    0.018018,    0.019019,     0.02002,    0.021021,    0.022022,    0.023023,\n",
      "          0.024024,    0.025025,    0.026026,    0.027027,    0.028028,    0.029029,     0.03003,    0.031031,    0.032032,    0.033033,    0.034034,    0.035035,    0.036036,    0.037037,    0.038038,    0.039039,     0.04004,    0.041041,    0.042042,    0.043043,    0.044044,    0.045045,    0.046046,    0.047047,\n",
      "          0.048048,    0.049049,     0.05005,    0.051051,    0.052052,    0.053053,    0.054054,    0.055055,    0.056056,    0.057057,    0.058058,    0.059059,     0.06006,    0.061061,    0.062062,    0.063063,    0.064064,    0.065065,    0.066066,    0.067067,    0.068068,    0.069069,     0.07007,    0.071071,\n",
      "          0.072072,    0.073073,    0.074074,    0.075075,    0.076076,    0.077077,    0.078078,    0.079079,     0.08008,    0.081081,    0.082082,    0.083083,    0.084084,    0.085085,    0.086086,    0.087087,    0.088088,    0.089089,     0.09009,    0.091091,    0.092092,    0.093093,    0.094094,    0.095095,\n",
      "          0.096096,    0.097097,    0.098098,    0.099099,      0.1001,      0.1011,      0.1021,      0.1031,      0.1041,     0.10511,     0.10611,     0.10711,     0.10811,     0.10911,     0.11011,     0.11111,     0.11211,     0.11311,     0.11411,     0.11512,     0.11612,     0.11712,     0.11812,     0.11912,\n",
      "           0.12012,     0.12112,     0.12212,     0.12312,     0.12412,     0.12513,     0.12613,     0.12713,     0.12813,     0.12913,     0.13013,     0.13113,     0.13213,     0.13313,     0.13413,     0.13514,     0.13614,     0.13714,     0.13814,     0.13914,     0.14014,     0.14114,     0.14214,     0.14314,\n",
      "           0.14414,     0.14515,     0.14615,     0.14715,     0.14815,     0.14915,     0.15015,     0.15115,     0.15215,     0.15315,     0.15415,     0.15516,     0.15616,     0.15716,     0.15816,     0.15916,     0.16016,     0.16116,     0.16216,     0.16316,     0.16416,     0.16517,     0.16617,     0.16717,\n",
      "           0.16817,     0.16917,     0.17017,     0.17117,     0.17217,     0.17317,     0.17417,     0.17518,     0.17618,     0.17718,     0.17818,     0.17918,     0.18018,     0.18118,     0.18218,     0.18318,     0.18418,     0.18519,     0.18619,     0.18719,     0.18819,     0.18919,     0.19019,     0.19119,\n",
      "           0.19219,     0.19319,     0.19419,      0.1952,      0.1962,      0.1972,      0.1982,      0.1992,      0.2002,      0.2012,      0.2022,      0.2032,      0.2042,     0.20521,     0.20621,     0.20721,     0.20821,     0.20921,     0.21021,     0.21121,     0.21221,     0.21321,     0.21421,     0.21522,\n",
      "           0.21622,     0.21722,     0.21822,     0.21922,     0.22022,     0.22122,     0.22222,     0.22322,     0.22422,     0.22523,     0.22623,     0.22723,     0.22823,     0.22923,     0.23023,     0.23123,     0.23223,     0.23323,     0.23423,     0.23524,     0.23624,     0.23724,     0.23824,     0.23924,\n",
      "           0.24024,     0.24124,     0.24224,     0.24324,     0.24424,     0.24525,     0.24625,     0.24725,     0.24825,     0.24925,     0.25025,     0.25125,     0.25225,     0.25325,     0.25425,     0.25526,     0.25626,     0.25726,     0.25826,     0.25926,     0.26026,     0.26126,     0.26226,     0.26326,\n",
      "           0.26426,     0.26527,     0.26627,     0.26727,     0.26827,     0.26927,     0.27027,     0.27127,     0.27227,     0.27327,     0.27427,     0.27528,     0.27628,     0.27728,     0.27828,     0.27928,     0.28028,     0.28128,     0.28228,     0.28328,     0.28428,     0.28529,     0.28629,     0.28729,\n",
      "           0.28829,     0.28929,     0.29029,     0.29129,     0.29229,     0.29329,     0.29429,      0.2953,      0.2963,      0.2973,      0.2983,      0.2993,      0.3003,      0.3013,      0.3023,      0.3033,      0.3043,     0.30531,     0.30631,     0.30731,     0.30831,     0.30931,     0.31031,     0.31131,\n",
      "           0.31231,     0.31331,     0.31431,     0.31532,     0.31632,     0.31732,     0.31832,     0.31932,     0.32032,     0.32132,     0.32232,     0.32332,     0.32432,     0.32533,     0.32633,     0.32733,     0.32833,     0.32933,     0.33033,     0.33133,     0.33233,     0.33333,     0.33433,     0.33534,\n",
      "           0.33634,     0.33734,     0.33834,     0.33934,     0.34034,     0.34134,     0.34234,     0.34334,     0.34434,     0.34535,     0.34635,     0.34735,     0.34835,     0.34935,     0.35035,     0.35135,     0.35235,     0.35335,     0.35435,     0.35536,     0.35636,     0.35736,     0.35836,     0.35936,\n",
      "           0.36036,     0.36136,     0.36236,     0.36336,     0.36436,     0.36537,     0.36637,     0.36737,     0.36837,     0.36937,     0.37037,     0.37137,     0.37237,     0.37337,     0.37437,     0.37538,     0.37638,     0.37738,     0.37838,     0.37938,     0.38038,     0.38138,     0.38238,     0.38338,\n",
      "           0.38438,     0.38539,     0.38639,     0.38739,     0.38839,     0.38939,     0.39039,     0.39139,     0.39239,     0.39339,     0.39439,      0.3954,      0.3964,      0.3974,      0.3984,      0.3994,      0.4004,      0.4014,      0.4024,      0.4034,      0.4044,     0.40541,     0.40641,     0.40741,\n",
      "           0.40841,     0.40941,     0.41041,     0.41141,     0.41241,     0.41341,     0.41441,     0.41542,     0.41642,     0.41742,     0.41842,     0.41942,     0.42042,     0.42142,     0.42242,     0.42342,     0.42442,     0.42543,     0.42643,     0.42743,     0.42843,     0.42943,     0.43043,     0.43143,\n",
      "           0.43243,     0.43343,     0.43443,     0.43544,     0.43644,     0.43744,     0.43844,     0.43944,     0.44044,     0.44144,     0.44244,     0.44344,     0.44444,     0.44545,     0.44645,     0.44745,     0.44845,     0.44945,     0.45045,     0.45145,     0.45245,     0.45345,     0.45445,     0.45546,\n",
      "           0.45646,     0.45746,     0.45846,     0.45946,     0.46046,     0.46146,     0.46246,     0.46346,     0.46446,     0.46547,     0.46647,     0.46747,     0.46847,     0.46947,     0.47047,     0.47147,     0.47247,     0.47347,     0.47447,     0.47548,     0.47648,     0.47748,     0.47848,     0.47948,\n",
      "           0.48048,     0.48148,     0.48248,     0.48348,     0.48448,     0.48549,     0.48649,     0.48749,     0.48849,     0.48949,     0.49049,     0.49149,     0.49249,     0.49349,     0.49449,      0.4955,      0.4965,      0.4975,      0.4985,      0.4995,      0.5005,      0.5015,      0.5025,      0.5035,\n",
      "            0.5045,     0.50551,     0.50651,     0.50751,     0.50851,     0.50951,     0.51051,     0.51151,     0.51251,     0.51351,     0.51451,     0.51552,     0.51652,     0.51752,     0.51852,     0.51952,     0.52052,     0.52152,     0.52252,     0.52352,     0.52452,     0.52553,     0.52653,     0.52753,\n",
      "           0.52853,     0.52953,     0.53053,     0.53153,     0.53253,     0.53353,     0.53453,     0.53554,     0.53654,     0.53754,     0.53854,     0.53954,     0.54054,     0.54154,     0.54254,     0.54354,     0.54454,     0.54555,     0.54655,     0.54755,     0.54855,     0.54955,     0.55055,     0.55155,\n",
      "           0.55255,     0.55355,     0.55455,     0.55556,     0.55656,     0.55756,     0.55856,     0.55956,     0.56056,     0.56156,     0.56256,     0.56356,     0.56456,     0.56557,     0.56657,     0.56757,     0.56857,     0.56957,     0.57057,     0.57157,     0.57257,     0.57357,     0.57457,     0.57558,\n",
      "           0.57658,     0.57758,     0.57858,     0.57958,     0.58058,     0.58158,     0.58258,     0.58358,     0.58458,     0.58559,     0.58659,     0.58759,     0.58859,     0.58959,     0.59059,     0.59159,     0.59259,     0.59359,     0.59459,      0.5956,      0.5966,      0.5976,      0.5986,      0.5996,\n",
      "            0.6006,      0.6016,      0.6026,      0.6036,      0.6046,     0.60561,     0.60661,     0.60761,     0.60861,     0.60961,     0.61061,     0.61161,     0.61261,     0.61361,     0.61461,     0.61562,     0.61662,     0.61762,     0.61862,     0.61962,     0.62062,     0.62162,     0.62262,     0.62362,\n",
      "           0.62462,     0.62563,     0.62663,     0.62763,     0.62863,     0.62963,     0.63063,     0.63163,     0.63263,     0.63363,     0.63463,     0.63564,     0.63664,     0.63764,     0.63864,     0.63964,     0.64064,     0.64164,     0.64264,     0.64364,     0.64464,     0.64565,     0.64665,     0.64765,\n",
      "           0.64865,     0.64965,     0.65065,     0.65165,     0.65265,     0.65365,     0.65465,     0.65566,     0.65666,     0.65766,     0.65866,     0.65966,     0.66066,     0.66166,     0.66266,     0.66366,     0.66466,     0.66567,     0.66667,     0.66767,     0.66867,     0.66967,     0.67067,     0.67167,\n",
      "           0.67267,     0.67367,     0.67467,     0.67568,     0.67668,     0.67768,     0.67868,     0.67968,     0.68068,     0.68168,     0.68268,     0.68368,     0.68468,     0.68569,     0.68669,     0.68769,     0.68869,     0.68969,     0.69069,     0.69169,     0.69269,     0.69369,     0.69469,      0.6957,\n",
      "            0.6967,      0.6977,      0.6987,      0.6997,      0.7007,      0.7017,      0.7027,      0.7037,      0.7047,     0.70571,     0.70671,     0.70771,     0.70871,     0.70971,     0.71071,     0.71171,     0.71271,     0.71371,     0.71471,     0.71572,     0.71672,     0.71772,     0.71872,     0.71972,\n",
      "           0.72072,     0.72172,     0.72272,     0.72372,     0.72472,     0.72573,     0.72673,     0.72773,     0.72873,     0.72973,     0.73073,     0.73173,     0.73273,     0.73373,     0.73473,     0.73574,     0.73674,     0.73774,     0.73874,     0.73974,     0.74074,     0.74174,     0.74274,     0.74374,\n",
      "           0.74474,     0.74575,     0.74675,     0.74775,     0.74875,     0.74975,     0.75075,     0.75175,     0.75275,     0.75375,     0.75475,     0.75576,     0.75676,     0.75776,     0.75876,     0.75976,     0.76076,     0.76176,     0.76276,     0.76376,     0.76476,     0.76577,     0.76677,     0.76777,\n",
      "           0.76877,     0.76977,     0.77077,     0.77177,     0.77277,     0.77377,     0.77477,     0.77578,     0.77678,     0.77778,     0.77878,     0.77978,     0.78078,     0.78178,     0.78278,     0.78378,     0.78478,     0.78579,     0.78679,     0.78779,     0.78879,     0.78979,     0.79079,     0.79179,\n",
      "           0.79279,     0.79379,     0.79479,      0.7958,      0.7968,      0.7978,      0.7988,      0.7998,      0.8008,      0.8018,      0.8028,      0.8038,      0.8048,     0.80581,     0.80681,     0.80781,     0.80881,     0.80981,     0.81081,     0.81181,     0.81281,     0.81381,     0.81481,     0.81582,\n",
      "           0.81682,     0.81782,     0.81882,     0.81982,     0.82082,     0.82182,     0.82282,     0.82382,     0.82482,     0.82583,     0.82683,     0.82783,     0.82883,     0.82983,     0.83083,     0.83183,     0.83283,     0.83383,     0.83483,     0.83584,     0.83684,     0.83784,     0.83884,     0.83984,\n",
      "           0.84084,     0.84184,     0.84284,     0.84384,     0.84484,     0.84585,     0.84685,     0.84785,     0.84885,     0.84985,     0.85085,     0.85185,     0.85285,     0.85385,     0.85485,     0.85586,     0.85686,     0.85786,     0.85886,     0.85986,     0.86086,     0.86186,     0.86286,     0.86386,\n",
      "           0.86486,     0.86587,     0.86687,     0.86787,     0.86887,     0.86987,     0.87087,     0.87187,     0.87287,     0.87387,     0.87487,     0.87588,     0.87688,     0.87788,     0.87888,     0.87988,     0.88088,     0.88188,     0.88288,     0.88388,     0.88488,     0.88589,     0.88689,     0.88789,\n",
      "           0.88889,     0.88989,     0.89089,     0.89189,     0.89289,     0.89389,     0.89489,      0.8959,      0.8969,      0.8979,      0.8989,      0.8999,      0.9009,      0.9019,      0.9029,      0.9039,      0.9049,     0.90591,     0.90691,     0.90791,     0.90891,     0.90991,     0.91091,     0.91191,\n",
      "           0.91291,     0.91391,     0.91491,     0.91592,     0.91692,     0.91792,     0.91892,     0.91992,     0.92092,     0.92192,     0.92292,     0.92392,     0.92492,     0.92593,     0.92693,     0.92793,     0.92893,     0.92993,     0.93093,     0.93193,     0.93293,     0.93393,     0.93493,     0.93594,\n",
      "           0.93694,     0.93794,     0.93894,     0.93994,     0.94094,     0.94194,     0.94294,     0.94394,     0.94494,     0.94595,     0.94695,     0.94795,     0.94895,     0.94995,     0.95095,     0.95195,     0.95295,     0.95395,     0.95495,     0.95596,     0.95696,     0.95796,     0.95896,     0.95996,\n",
      "           0.96096,     0.96196,     0.96296,     0.96396,     0.96496,     0.96597,     0.96697,     0.96797,     0.96897,     0.96997,     0.97097,     0.97197,     0.97297,     0.97397,     0.97497,     0.97598,     0.97698,     0.97798,     0.97898,     0.97998,     0.98098,     0.98198,     0.98298,     0.98398,\n",
      "           0.98498,     0.98599,     0.98699,     0.98799,     0.98899,     0.98999,     0.99099,     0.99199,     0.99299,     0.99399,     0.99499,       0.996,       0.997,       0.998,       0.999,           1]), array([[          1,           1,           1,           1,           1,           1,           1,           1,           1,           1,           1,           1,           1,           1,           1,           1,           1,           1,           1,           1,           1,           1,           1,\n",
      "                  1,           1,           1,           1,           1,           1,           1,           1,           1,           1,           1,           1,           1,           1,           1,           1,           1,           1,           1,           1,           1,           1,           1,\n",
      "                  1,           1,           1,           1,           1,           1,           1,           1,           1,           1,           1,           1,           1,           1,           1,           1,           1,           1,           1,           1,           1,           1,           1,\n",
      "                  1,           1,           1,           1,           1,           1,           1,           1,           1,           1,           1,           1,           1,           1,           1,           1,           1,           1,           1,           1,           1,           1,           1,\n",
      "                  1,           1,           1,           1,           1,           1,           1,           1,           1,           1,           1,           1,           1,           1,           1,           1,           1,           1,           1,           1,           1,           1,           1,\n",
      "                  1,           1,           1,           1,           1,           1,           1,           1,           1,           1,           1,           1,           1,           1,           1,           1,           1,           1,           1,           1,           1,           1,           1,\n",
      "                  1,           1,           1,           1,           1,           1,           1,           1,           1,           1,           1,           1,           1,           1,           1,           1,           1,           1,           1,           1,           1,           1,           1,\n",
      "                  1,           1,           1,           1,           1,           1,           1,           1,           1,           1,           1,           1,           1,           1,           1,           1,           1,           1,           1,           1,           1,           1,           1,\n",
      "                  1,           1,           1,           1,           1,           1,           1,           1,           1,           1,           1,           1,           1,           1,           1,           1,           1,           1,           1,           1,           1,           1,           1,\n",
      "                  1,           1,           1,           1,           1,           1,           1,           1,           1,           1,           1,           1,           1,           1,           1,           1,           1,           1,           1,           1,           1,           1,           1,\n",
      "                  1,           1,           1,           1,           1,           1,           1,           1,           1,           1,           1,           1,           1,           1,           1,           1,           1,           1,           1,           1,           1,           1,           1,\n",
      "                  1,           1,           1,           1,           1,           1,           1,           1,           1,           1,           1,           1,           1,           1,           1,           1,           1,           1,           1,           1,           1,           1,           1,\n",
      "                  1,           1,           1,           1,           1,           1,           1,           1,           1,           1,           1,           1,           1,           1,           1,           1,           1,           1,           1,           1,           1,           1,           1,\n",
      "                  1,           1,           1,           1,           1,           1,           1,           1,           1,           1,           1,           1,           1,           1,           1,           1,           1,           1,           1,           1,           1,           1,           1,\n",
      "                  1,           1,           1,           1,           1,           1,           1,           1,           1,           1,           1,           1,           1,           1,           1,           1,           1,           1,           1,           1,           1,           1,           1,\n",
      "                  1,           1,           1,           1,           1,           1,           1,           1,           1,           1,           1,           1,           1,           1,           1,           1,           1,           1,           1,           1,           1,           1,           1,\n",
      "                  1,           1,           1,           1,           1,           1,           1,           1,           1,           1,           1,           1,           1,           1,           1,           1,           1,           1,           1,           1,           1,           1,           1,\n",
      "                  1,           1,           1,           1,           1,           1,           1,           1,           1,           1,           1,           1,           1,           1,           1,           1,           1,           1,           1,           1,           1,           1,           1,\n",
      "                  1,           1,           1,           1,           1,           1,           1,           1,           1,           1,           1,           1,           1,           1,           1,           1,           1,           1,           1,           1,           1,           1,           1,\n",
      "                  1,           1,           1,           1,           1,           1,           1,           1,           1,           1,           1,           1,           1,           1,           1,           1,           1,           1,           1,           1,           1,           1,           1,\n",
      "                  1,           1,           1,           1,           1,           1,           1,           1,           1,           1,           1,           1,           1,           1,           1,           1,           1,           1,           1,           1,           1,           1,           1,\n",
      "                  1,           1,           1,           1,           1,           1,           1,           1,           1,           1,           1,           1,           1,           1,           1,           1,           1,           1,           1,           1,           1,           1,           1,\n",
      "                  1,           1,           1,           1,           1,           1,           1,           1,           1,           1,           1,           1,           1,           1,           1,           1,           1,           1,           1,           1,           1,           1,           1,\n",
      "                  1,           1,           1,           1,           1,           1,           1,           1,           1,           1,           1,           1,           1,           1,           1,           1,           1,           1,           1,           1,           1,           1,           1,\n",
      "                  1,           1,           1,           1,           1,           1,           1,           1,           1,           1,           1,           1,           1,           1,           1,           1,           1,           1,           1,           1,           1,           1,           1,\n",
      "                  1,           1,           1,           1,           1,           1,           1,           1,           1,           1,           1,           1,           1,           1,           1,           1,           1,           1,           1,           1,           1,           1,           1,\n",
      "                  1,           1,           1,           1,           1,           1,           1,           1,           1,           1,           1,           1,           1,           1,           1,           1,           1,           1,           1,           1,           1,           1,           1,\n",
      "                  1,           1,           1,           1,           1,           1,           1,           1,           1,           1,           1,           1,           1,           1,           1,           1,           1,           1,           1,           1,           1,           1,           1,\n",
      "                  1,           1,           1,           1,           1,           1,           1,           1,           1,           1,           1,           1,           1,           1,           1,           1,           1,           1,           1,           1,           1,           1,           1,\n",
      "                  1,           1,           1,           1,           1,           1,           1,           1,           1,           1,           1,           1,           1,           1,           1,           1,           1,           1,           1,           1,           1,           1,           1,\n",
      "                  1,           1,           1,           1,           1,           1,           1,           1,           1,           1,           1,           1,           1,           1,           1,           1,           1,           1,           1,           1,           1,           1,           1,\n",
      "                  1,           1,           1,           1,           1,           1,           1,           1,           1,           1,           1,           1,           1,           1,           1,           1,           1,           1,           1,           1,           1,           1,           1,\n",
      "                  1,           1,           1,           1,           1,           1,     0.99907,     0.99907,     0.99638,     0.99638,     0.99638,     0.99638,     0.99638,     0.99638,     0.99638,     0.99638,     0.99638,     0.99638,     0.99638,     0.99638,     0.99638,     0.99638,     0.99638,\n",
      "            0.99638,     0.99638,     0.99638,     0.99638,     0.99638,     0.99638,     0.99638,     0.99557,     0.99557,     0.99557,     0.99557,     0.99557,     0.99557,     0.99557,     0.99557,     0.99557,     0.99557,     0.99557,     0.99557,     0.99557,     0.99557,     0.99557,     0.99557,\n",
      "            0.99474,     0.99474,     0.99474,     0.99474,     0.99474,     0.99474,     0.99474,     0.99474,     0.99301,     0.99043,     0.98962,     0.98962,     0.98962,     0.98962,     0.98877,     0.98795,     0.98795,     0.98717,     0.98717,     0.98717,     0.98717,     0.98387,     0.98387,\n",
      "            0.98387,     0.98307,     0.98307,     0.98231,     0.98231,     0.98231,     0.98151,      0.9808,      0.9808,      0.9808,      0.9808,      0.9808,        0.98,     0.97922,     0.97867,     0.97867,     0.97867,     0.97867,     0.97867,     0.97867,     0.97867,     0.97867,     0.97867,\n",
      "            0.97867,     0.97867,     0.97714,     0.97714,     0.97714,     0.97638,     0.97482,     0.97426,     0.97426,     0.97426,     0.97426,     0.97426,     0.97426,     0.97426,     0.97354,     0.97354,     0.97278,     0.97222,     0.97222,     0.97222,     0.97222,     0.97222,     0.97222,\n",
      "            0.97222,      0.9715,      0.9715,     0.97017,     0.97017,     0.97017,     0.97017,     0.97017,     0.97017,      0.9687,     0.96802,     0.96802,     0.96737,     0.96737,     0.96737,     0.96669,     0.96669,       0.966,     0.96533,     0.96533,     0.96533,     0.96489,     0.96489,\n",
      "            0.96489,     0.96489,     0.96489,     0.96489,     0.96489,     0.96418,     0.96347,     0.96064,     0.96064,     0.95997,     0.95937,     0.95937,     0.95937,     0.95877,     0.95877,     0.95877,     0.95681,     0.95681,     0.95681,     0.95681,      0.9533,     0.94152,     0.94088,\n",
      "            0.93827,     0.93827,     0.93773,     0.93773,     0.93651,     0.93651,     0.93553,     0.93553,     0.93553,     0.93553,     0.93553,       0.935,       0.935,       0.935,     0.93498,     0.93498,     0.93498,     0.93498,     0.93498,     0.93498,     0.93498,     0.93498,     0.93498,\n",
      "            0.93376,     0.93376,     0.93198,     0.93198,     0.93137,     0.93012,     0.92952,     0.92575,     0.92526,     0.92526,     0.92467,     0.92414,     0.92376,     0.92376,     0.92376,     0.92376,     0.92071,     0.91831,     0.91774,     0.91718,      0.9161,      0.9161,     0.91141,\n",
      "            0.91141,     0.91141,      0.9097,     0.90915,     0.90625,     0.90511,     0.90344,     0.90291,     0.89882,     0.89367,     0.88623,     0.86679,     0.83475,     0.82842,     0.81335,     0.80458,     0.78495,     0.76533,     0.74571,     0.72608,     0.70646,     0.68684,     0.66721,\n",
      "            0.64759,     0.62796,     0.60834,     0.58872,     0.56909,     0.54947,     0.52984,     0.51022,      0.4906,     0.47097,     0.45135,     0.43173,      0.4121,     0.39248,     0.37285,     0.35323,     0.33361,     0.31398,     0.29436,     0.27473,     0.25511,     0.23549,     0.21586,\n",
      "            0.19624,     0.17661,     0.15699,     0.13737,     0.11774,    0.098119,    0.078495,    0.058872,    0.039248,    0.019624,           0]]), 'Recall', 'Precision'], [array([          0,    0.001001,    0.002002,    0.003003,    0.004004,    0.005005,    0.006006,    0.007007,    0.008008,    0.009009,     0.01001,    0.011011,    0.012012,    0.013013,    0.014014,    0.015015,    0.016016,    0.017017,    0.018018,    0.019019,     0.02002,    0.021021,    0.022022,    0.023023,\n",
      "          0.024024,    0.025025,    0.026026,    0.027027,    0.028028,    0.029029,     0.03003,    0.031031,    0.032032,    0.033033,    0.034034,    0.035035,    0.036036,    0.037037,    0.038038,    0.039039,     0.04004,    0.041041,    0.042042,    0.043043,    0.044044,    0.045045,    0.046046,    0.047047,\n",
      "          0.048048,    0.049049,     0.05005,    0.051051,    0.052052,    0.053053,    0.054054,    0.055055,    0.056056,    0.057057,    0.058058,    0.059059,     0.06006,    0.061061,    0.062062,    0.063063,    0.064064,    0.065065,    0.066066,    0.067067,    0.068068,    0.069069,     0.07007,    0.071071,\n",
      "          0.072072,    0.073073,    0.074074,    0.075075,    0.076076,    0.077077,    0.078078,    0.079079,     0.08008,    0.081081,    0.082082,    0.083083,    0.084084,    0.085085,    0.086086,    0.087087,    0.088088,    0.089089,     0.09009,    0.091091,    0.092092,    0.093093,    0.094094,    0.095095,\n",
      "          0.096096,    0.097097,    0.098098,    0.099099,      0.1001,      0.1011,      0.1021,      0.1031,      0.1041,     0.10511,     0.10611,     0.10711,     0.10811,     0.10911,     0.11011,     0.11111,     0.11211,     0.11311,     0.11411,     0.11512,     0.11612,     0.11712,     0.11812,     0.11912,\n",
      "           0.12012,     0.12112,     0.12212,     0.12312,     0.12412,     0.12513,     0.12613,     0.12713,     0.12813,     0.12913,     0.13013,     0.13113,     0.13213,     0.13313,     0.13413,     0.13514,     0.13614,     0.13714,     0.13814,     0.13914,     0.14014,     0.14114,     0.14214,     0.14314,\n",
      "           0.14414,     0.14515,     0.14615,     0.14715,     0.14815,     0.14915,     0.15015,     0.15115,     0.15215,     0.15315,     0.15415,     0.15516,     0.15616,     0.15716,     0.15816,     0.15916,     0.16016,     0.16116,     0.16216,     0.16316,     0.16416,     0.16517,     0.16617,     0.16717,\n",
      "           0.16817,     0.16917,     0.17017,     0.17117,     0.17217,     0.17317,     0.17417,     0.17518,     0.17618,     0.17718,     0.17818,     0.17918,     0.18018,     0.18118,     0.18218,     0.18318,     0.18418,     0.18519,     0.18619,     0.18719,     0.18819,     0.18919,     0.19019,     0.19119,\n",
      "           0.19219,     0.19319,     0.19419,      0.1952,      0.1962,      0.1972,      0.1982,      0.1992,      0.2002,      0.2012,      0.2022,      0.2032,      0.2042,     0.20521,     0.20621,     0.20721,     0.20821,     0.20921,     0.21021,     0.21121,     0.21221,     0.21321,     0.21421,     0.21522,\n",
      "           0.21622,     0.21722,     0.21822,     0.21922,     0.22022,     0.22122,     0.22222,     0.22322,     0.22422,     0.22523,     0.22623,     0.22723,     0.22823,     0.22923,     0.23023,     0.23123,     0.23223,     0.23323,     0.23423,     0.23524,     0.23624,     0.23724,     0.23824,     0.23924,\n",
      "           0.24024,     0.24124,     0.24224,     0.24324,     0.24424,     0.24525,     0.24625,     0.24725,     0.24825,     0.24925,     0.25025,     0.25125,     0.25225,     0.25325,     0.25425,     0.25526,     0.25626,     0.25726,     0.25826,     0.25926,     0.26026,     0.26126,     0.26226,     0.26326,\n",
      "           0.26426,     0.26527,     0.26627,     0.26727,     0.26827,     0.26927,     0.27027,     0.27127,     0.27227,     0.27327,     0.27427,     0.27528,     0.27628,     0.27728,     0.27828,     0.27928,     0.28028,     0.28128,     0.28228,     0.28328,     0.28428,     0.28529,     0.28629,     0.28729,\n",
      "           0.28829,     0.28929,     0.29029,     0.29129,     0.29229,     0.29329,     0.29429,      0.2953,      0.2963,      0.2973,      0.2983,      0.2993,      0.3003,      0.3013,      0.3023,      0.3033,      0.3043,     0.30531,     0.30631,     0.30731,     0.30831,     0.30931,     0.31031,     0.31131,\n",
      "           0.31231,     0.31331,     0.31431,     0.31532,     0.31632,     0.31732,     0.31832,     0.31932,     0.32032,     0.32132,     0.32232,     0.32332,     0.32432,     0.32533,     0.32633,     0.32733,     0.32833,     0.32933,     0.33033,     0.33133,     0.33233,     0.33333,     0.33433,     0.33534,\n",
      "           0.33634,     0.33734,     0.33834,     0.33934,     0.34034,     0.34134,     0.34234,     0.34334,     0.34434,     0.34535,     0.34635,     0.34735,     0.34835,     0.34935,     0.35035,     0.35135,     0.35235,     0.35335,     0.35435,     0.35536,     0.35636,     0.35736,     0.35836,     0.35936,\n",
      "           0.36036,     0.36136,     0.36236,     0.36336,     0.36436,     0.36537,     0.36637,     0.36737,     0.36837,     0.36937,     0.37037,     0.37137,     0.37237,     0.37337,     0.37437,     0.37538,     0.37638,     0.37738,     0.37838,     0.37938,     0.38038,     0.38138,     0.38238,     0.38338,\n",
      "           0.38438,     0.38539,     0.38639,     0.38739,     0.38839,     0.38939,     0.39039,     0.39139,     0.39239,     0.39339,     0.39439,      0.3954,      0.3964,      0.3974,      0.3984,      0.3994,      0.4004,      0.4014,      0.4024,      0.4034,      0.4044,     0.40541,     0.40641,     0.40741,\n",
      "           0.40841,     0.40941,     0.41041,     0.41141,     0.41241,     0.41341,     0.41441,     0.41542,     0.41642,     0.41742,     0.41842,     0.41942,     0.42042,     0.42142,     0.42242,     0.42342,     0.42442,     0.42543,     0.42643,     0.42743,     0.42843,     0.42943,     0.43043,     0.43143,\n",
      "           0.43243,     0.43343,     0.43443,     0.43544,     0.43644,     0.43744,     0.43844,     0.43944,     0.44044,     0.44144,     0.44244,     0.44344,     0.44444,     0.44545,     0.44645,     0.44745,     0.44845,     0.44945,     0.45045,     0.45145,     0.45245,     0.45345,     0.45445,     0.45546,\n",
      "           0.45646,     0.45746,     0.45846,     0.45946,     0.46046,     0.46146,     0.46246,     0.46346,     0.46446,     0.46547,     0.46647,     0.46747,     0.46847,     0.46947,     0.47047,     0.47147,     0.47247,     0.47347,     0.47447,     0.47548,     0.47648,     0.47748,     0.47848,     0.47948,\n",
      "           0.48048,     0.48148,     0.48248,     0.48348,     0.48448,     0.48549,     0.48649,     0.48749,     0.48849,     0.48949,     0.49049,     0.49149,     0.49249,     0.49349,     0.49449,      0.4955,      0.4965,      0.4975,      0.4985,      0.4995,      0.5005,      0.5015,      0.5025,      0.5035,\n",
      "            0.5045,     0.50551,     0.50651,     0.50751,     0.50851,     0.50951,     0.51051,     0.51151,     0.51251,     0.51351,     0.51451,     0.51552,     0.51652,     0.51752,     0.51852,     0.51952,     0.52052,     0.52152,     0.52252,     0.52352,     0.52452,     0.52553,     0.52653,     0.52753,\n",
      "           0.52853,     0.52953,     0.53053,     0.53153,     0.53253,     0.53353,     0.53453,     0.53554,     0.53654,     0.53754,     0.53854,     0.53954,     0.54054,     0.54154,     0.54254,     0.54354,     0.54454,     0.54555,     0.54655,     0.54755,     0.54855,     0.54955,     0.55055,     0.55155,\n",
      "           0.55255,     0.55355,     0.55455,     0.55556,     0.55656,     0.55756,     0.55856,     0.55956,     0.56056,     0.56156,     0.56256,     0.56356,     0.56456,     0.56557,     0.56657,     0.56757,     0.56857,     0.56957,     0.57057,     0.57157,     0.57257,     0.57357,     0.57457,     0.57558,\n",
      "           0.57658,     0.57758,     0.57858,     0.57958,     0.58058,     0.58158,     0.58258,     0.58358,     0.58458,     0.58559,     0.58659,     0.58759,     0.58859,     0.58959,     0.59059,     0.59159,     0.59259,     0.59359,     0.59459,      0.5956,      0.5966,      0.5976,      0.5986,      0.5996,\n",
      "            0.6006,      0.6016,      0.6026,      0.6036,      0.6046,     0.60561,     0.60661,     0.60761,     0.60861,     0.60961,     0.61061,     0.61161,     0.61261,     0.61361,     0.61461,     0.61562,     0.61662,     0.61762,     0.61862,     0.61962,     0.62062,     0.62162,     0.62262,     0.62362,\n",
      "           0.62462,     0.62563,     0.62663,     0.62763,     0.62863,     0.62963,     0.63063,     0.63163,     0.63263,     0.63363,     0.63463,     0.63564,     0.63664,     0.63764,     0.63864,     0.63964,     0.64064,     0.64164,     0.64264,     0.64364,     0.64464,     0.64565,     0.64665,     0.64765,\n",
      "           0.64865,     0.64965,     0.65065,     0.65165,     0.65265,     0.65365,     0.65465,     0.65566,     0.65666,     0.65766,     0.65866,     0.65966,     0.66066,     0.66166,     0.66266,     0.66366,     0.66466,     0.66567,     0.66667,     0.66767,     0.66867,     0.66967,     0.67067,     0.67167,\n",
      "           0.67267,     0.67367,     0.67467,     0.67568,     0.67668,     0.67768,     0.67868,     0.67968,     0.68068,     0.68168,     0.68268,     0.68368,     0.68468,     0.68569,     0.68669,     0.68769,     0.68869,     0.68969,     0.69069,     0.69169,     0.69269,     0.69369,     0.69469,      0.6957,\n",
      "            0.6967,      0.6977,      0.6987,      0.6997,      0.7007,      0.7017,      0.7027,      0.7037,      0.7047,     0.70571,     0.70671,     0.70771,     0.70871,     0.70971,     0.71071,     0.71171,     0.71271,     0.71371,     0.71471,     0.71572,     0.71672,     0.71772,     0.71872,     0.71972,\n",
      "           0.72072,     0.72172,     0.72272,     0.72372,     0.72472,     0.72573,     0.72673,     0.72773,     0.72873,     0.72973,     0.73073,     0.73173,     0.73273,     0.73373,     0.73473,     0.73574,     0.73674,     0.73774,     0.73874,     0.73974,     0.74074,     0.74174,     0.74274,     0.74374,\n",
      "           0.74474,     0.74575,     0.74675,     0.74775,     0.74875,     0.74975,     0.75075,     0.75175,     0.75275,     0.75375,     0.75475,     0.75576,     0.75676,     0.75776,     0.75876,     0.75976,     0.76076,     0.76176,     0.76276,     0.76376,     0.76476,     0.76577,     0.76677,     0.76777,\n",
      "           0.76877,     0.76977,     0.77077,     0.77177,     0.77277,     0.77377,     0.77477,     0.77578,     0.77678,     0.77778,     0.77878,     0.77978,     0.78078,     0.78178,     0.78278,     0.78378,     0.78478,     0.78579,     0.78679,     0.78779,     0.78879,     0.78979,     0.79079,     0.79179,\n",
      "           0.79279,     0.79379,     0.79479,      0.7958,      0.7968,      0.7978,      0.7988,      0.7998,      0.8008,      0.8018,      0.8028,      0.8038,      0.8048,     0.80581,     0.80681,     0.80781,     0.80881,     0.80981,     0.81081,     0.81181,     0.81281,     0.81381,     0.81481,     0.81582,\n",
      "           0.81682,     0.81782,     0.81882,     0.81982,     0.82082,     0.82182,     0.82282,     0.82382,     0.82482,     0.82583,     0.82683,     0.82783,     0.82883,     0.82983,     0.83083,     0.83183,     0.83283,     0.83383,     0.83483,     0.83584,     0.83684,     0.83784,     0.83884,     0.83984,\n",
      "           0.84084,     0.84184,     0.84284,     0.84384,     0.84484,     0.84585,     0.84685,     0.84785,     0.84885,     0.84985,     0.85085,     0.85185,     0.85285,     0.85385,     0.85485,     0.85586,     0.85686,     0.85786,     0.85886,     0.85986,     0.86086,     0.86186,     0.86286,     0.86386,\n",
      "           0.86486,     0.86587,     0.86687,     0.86787,     0.86887,     0.86987,     0.87087,     0.87187,     0.87287,     0.87387,     0.87487,     0.87588,     0.87688,     0.87788,     0.87888,     0.87988,     0.88088,     0.88188,     0.88288,     0.88388,     0.88488,     0.88589,     0.88689,     0.88789,\n",
      "           0.88889,     0.88989,     0.89089,     0.89189,     0.89289,     0.89389,     0.89489,      0.8959,      0.8969,      0.8979,      0.8989,      0.8999,      0.9009,      0.9019,      0.9029,      0.9039,      0.9049,     0.90591,     0.90691,     0.90791,     0.90891,     0.90991,     0.91091,     0.91191,\n",
      "           0.91291,     0.91391,     0.91491,     0.91592,     0.91692,     0.91792,     0.91892,     0.91992,     0.92092,     0.92192,     0.92292,     0.92392,     0.92492,     0.92593,     0.92693,     0.92793,     0.92893,     0.92993,     0.93093,     0.93193,     0.93293,     0.93393,     0.93493,     0.93594,\n",
      "           0.93694,     0.93794,     0.93894,     0.93994,     0.94094,     0.94194,     0.94294,     0.94394,     0.94494,     0.94595,     0.94695,     0.94795,     0.94895,     0.94995,     0.95095,     0.95195,     0.95295,     0.95395,     0.95495,     0.95596,     0.95696,     0.95796,     0.95896,     0.95996,\n",
      "           0.96096,     0.96196,     0.96296,     0.96396,     0.96496,     0.96597,     0.96697,     0.96797,     0.96897,     0.96997,     0.97097,     0.97197,     0.97297,     0.97397,     0.97497,     0.97598,     0.97698,     0.97798,     0.97898,     0.97998,     0.98098,     0.98198,     0.98298,     0.98398,\n",
      "           0.98498,     0.98599,     0.98699,     0.98799,     0.98899,     0.98999,     0.99099,     0.99199,     0.99299,     0.99399,     0.99499,       0.996,       0.997,       0.998,       0.999,           1]), array([[     0.8752,     0.87547,     0.89744,     0.90962,     0.91706,     0.92215,     0.92266,     0.92417,      0.9244,      0.9263,     0.92636,     0.92644,       0.927,     0.92751,     0.92762,     0.92765,     0.92781,     0.92772,     0.92729,     0.92698,     0.92711,     0.92815,     0.92843,\n",
      "            0.92859,     0.92842,     0.92825,     0.92798,     0.92829,     0.92815,     0.92801,     0.92816,     0.92831,     0.92851,     0.92892,     0.92869,     0.92894,     0.92916,     0.92919,     0.92935,     0.92954,      0.9288,     0.92833,      0.9281,     0.92806,     0.92822,     0.92826,\n",
      "            0.92817,     0.92807,     0.92798,     0.92786,     0.92769,     0.92758,     0.92771,     0.92784,      0.9277,     0.92757,     0.92779,     0.92773,     0.92761,     0.92749,     0.92739,     0.92731,     0.92722,     0.92713,       0.927,     0.92681,      0.9268,     0.92698,     0.92678,\n",
      "            0.92697,     0.92728,     0.92752,     0.92745,     0.92771,      0.9279,     0.92798,     0.92806,     0.92814,     0.92821,       0.928,     0.92788,     0.92794,     0.92801,     0.92807,     0.92814,     0.92812,       0.928,     0.92789,      0.9282,     0.92809,     0.92839,     0.92832,\n",
      "            0.92824,     0.92816,     0.92808,       0.928,     0.92793,     0.92787,      0.9278,     0.92773,     0.92766,     0.92723,     0.92715,     0.92708,     0.92701,     0.92693,     0.92691,     0.92694,     0.92697,       0.927,     0.92703,     0.92706,     0.92709,     0.92712,     0.92716,\n",
      "            0.92719,     0.92722,     0.92734,     0.92749,     0.92757,     0.92761,     0.92765,      0.9277,     0.92774,     0.92778,     0.92782,     0.92786,     0.92762,     0.92736,     0.92714,     0.92727,     0.92744,     0.92755,     0.92765,     0.92776,     0.92752,      0.9273,     0.92711,\n",
      "             0.9267,     0.92655,     0.92644,     0.92634,     0.92618,     0.92586,      0.9257,     0.92554,     0.92511,     0.92486,     0.92473,     0.92468,     0.92463,     0.92458,     0.92453,     0.92448,     0.92444,     0.92439,     0.92375,      0.9232,       0.923,     0.92258,     0.92265,\n",
      "            0.92244,     0.92226,     0.92208,     0.92173,     0.92187,     0.92198,     0.92192,     0.92186,     0.92179,     0.92173,     0.92167,      0.9216,      0.9214,     0.92117,     0.92069,     0.92041,     0.92033,     0.92024,     0.92015,     0.91998,     0.91966,     0.91955,     0.91944,\n",
      "            0.91934,      0.9191,     0.91896,     0.91901,     0.91906,     0.91911,     0.91916,     0.91921,     0.91926,     0.91959,     0.91957,     0.91955,     0.91953,     0.91951,     0.91949,     0.91948,     0.91946,     0.91944,     0.91942,      0.9194,     0.91938,     0.91937,     0.91935,\n",
      "            0.91933,     0.91931,     0.91929,     0.91927,     0.91925,     0.91924,     0.91922,     0.91918,     0.91911,     0.91905,     0.91898,     0.91891,     0.91884,     0.91885,     0.91888,     0.91892,     0.91895,     0.91898,     0.91902,     0.91905,     0.91909,     0.91912,     0.91913,\n",
      "            0.91901,     0.91889,     0.91878,     0.91878,      0.9188,     0.91881,     0.91883,     0.91885,     0.91886,     0.91888,     0.91889,     0.91891,     0.91893,     0.91894,     0.91896,     0.91898,     0.91899,     0.91901,     0.91902,     0.91904,     0.91906,     0.91907,     0.91909,\n",
      "            0.91902,     0.91894,     0.91886,     0.91878,     0.91869,     0.91848,     0.91831,     0.91824,     0.91817,      0.9181,     0.91804,     0.91797,     0.91795,     0.91797,     0.91799,     0.91801,     0.91803,     0.91805,     0.91807,     0.91809,     0.91811,     0.91813,     0.91814,\n",
      "            0.91816,     0.91818,      0.9182,     0.91822,     0.91824,     0.91826,     0.91825,     0.91823,     0.91821,     0.91819,     0.91817,     0.91814,     0.91812,      0.9181,     0.91808,     0.91806,     0.91804,     0.91802,       0.918,     0.91798,     0.91795,     0.91793,     0.91791,\n",
      "            0.91789,     0.91786,     0.91783,     0.91779,     0.91775,     0.91772,     0.91768,     0.91764,     0.91761,     0.91757,     0.91753,      0.9175,      0.9175,     0.91751,     0.91752,     0.91752,     0.91753,     0.91754,     0.91754,     0.91755,     0.91755,     0.91756,     0.91757,\n",
      "            0.91757,     0.91758,     0.91759,     0.91759,      0.9176,     0.91761,     0.91761,     0.91762,     0.91763,     0.91763,     0.91764,     0.91764,     0.91765,     0.91766,     0.91766,     0.91767,     0.91768,     0.91768,     0.91769,      0.9177,      0.9177,     0.91771,     0.91772,\n",
      "            0.91772,     0.91773,     0.91774,     0.91774,     0.91775,     0.91775,     0.91776,     0.91777,     0.91777,     0.91778,     0.91779,     0.91779,      0.9178,     0.91781,     0.91781,     0.91782,     0.91782,     0.91781,     0.91781,      0.9178,     0.91779,     0.91778,     0.91778,\n",
      "            0.91777,     0.91776,     0.91775,     0.91775,     0.91774,     0.91773,     0.91772,     0.91772,     0.91771,      0.9177,     0.91769,     0.91769,     0.91768,     0.91767,     0.91766,     0.91766,     0.91765,     0.91764,     0.91764,     0.91763,     0.91762,     0.91761,     0.91761,\n",
      "             0.9176,     0.91759,     0.91758,     0.91758,     0.91757,     0.91756,     0.91755,     0.91755,     0.91754,     0.91753,     0.91752,     0.91752,     0.91751,      0.9175,      0.9175,     0.91749,     0.91748,     0.91747,     0.91747,     0.91746,     0.91745,     0.91744,     0.91744,\n",
      "            0.91746,     0.91747,     0.91749,      0.9175,     0.91752,     0.91754,     0.91755,     0.91757,     0.91758,      0.9176,     0.91762,     0.91763,     0.91765,     0.91766,     0.91768,      0.9177,     0.91771,     0.91773,     0.91774,     0.91776,     0.91779,     0.91784,     0.91789,\n",
      "            0.91793,     0.91798,     0.91803,     0.91807,      0.9181,     0.91813,     0.91815,     0.91817,     0.91819,     0.91822,     0.91824,     0.91826,     0.91828,     0.91831,     0.91833,     0.91835,     0.91837,      0.9184,     0.91842,     0.91837,     0.91832,     0.91827,     0.91823,\n",
      "            0.91818,     0.91813,     0.91808,     0.91804,     0.91821,     0.91833,     0.91815,     0.91798,       0.918,     0.91802,     0.91804,     0.91806,     0.91809,     0.91811,     0.91813,     0.91815,     0.91817,      0.9182,     0.91822,     0.91824,     0.91826,     0.91828,     0.91836,\n",
      "            0.91868,     0.91883,     0.91901,     0.91924,      0.9194,     0.91955,     0.91965,     0.91971,     0.91978,     0.91984,      0.9199,     0.91999,     0.92013,     0.92027,     0.92017,     0.92006,     0.91995,     0.91991,     0.91997,     0.92002,     0.92008,     0.92014,     0.92019,\n",
      "             0.9203,     0.92044,     0.92058,     0.92072,     0.92086,     0.92164,     0.92218,     0.92231,     0.92242,     0.92254,     0.92266,     0.92278,     0.92316,     0.92283,     0.92287,     0.92292,     0.92296,     0.92301,     0.92306,      0.9231,     0.92318,     0.92333,      0.9238,\n",
      "            0.92388,     0.92396,     0.92404,     0.92412,     0.92413,     0.92414,     0.92415,     0.92416,     0.92416,     0.92417,     0.92418,     0.92419,     0.92419,      0.9242,     0.92421,     0.92422,     0.92422,     0.92423,     0.92424,     0.92425,     0.92425,     0.92426,     0.92427,\n",
      "            0.92427,     0.92428,     0.92429,      0.9243,      0.9243,     0.92431,     0.92432,     0.92433,     0.92433,     0.92434,     0.92435,     0.92436,     0.92436,     0.92437,     0.92438,     0.92439,     0.92439,      0.9244,     0.92441,     0.92442,     0.92442,     0.92443,     0.92444,\n",
      "            0.92445,     0.92445,     0.92446,     0.92433,     0.92419,     0.92405,     0.92394,     0.92383,     0.92371,     0.92367,     0.92364,     0.92361,     0.92358,     0.92356,     0.92353,      0.9235,     0.92347,     0.92345,     0.92342,     0.92339,     0.92336,     0.92333,     0.92331,\n",
      "            0.92326,     0.92321,     0.92315,     0.92309,     0.92304,     0.92298,     0.92293,      0.9229,     0.92289,     0.92287,     0.92286,     0.92285,     0.92283,     0.92282,     0.92281,     0.92279,     0.92278,     0.92277,     0.92275,     0.92274,     0.92273,     0.92271,      0.9227,\n",
      "            0.92269,     0.92268,     0.92266,     0.92265,     0.92264,     0.92262,     0.92261,      0.9226,     0.92258,     0.92257,     0.92256,     0.92254,     0.92253,      0.9226,     0.92273,     0.92318,     0.92313,     0.92307,     0.92301,     0.92295,     0.92289,     0.92283,     0.92281,\n",
      "            0.92282,     0.92284,     0.92285,     0.92287,     0.92289,      0.9229,     0.92292,     0.92293,     0.92295,     0.92297,     0.92298,       0.923,     0.92301,     0.92303,     0.92305,     0.92306,     0.92308,      0.9231,     0.92311,     0.92313,     0.92311,     0.92308,     0.92305,\n",
      "            0.92302,     0.92299,     0.92295,     0.92292,     0.92289,     0.92286,     0.92283,      0.9228,     0.92276,     0.92272,     0.92267,     0.92261,     0.92256,      0.9225,     0.92245,     0.92239,     0.92234,     0.92231,     0.92227,     0.92224,      0.9222,     0.92217,     0.92213,\n",
      "             0.9221,     0.92206,     0.92203,     0.92199,     0.92196,     0.92193,      0.9219,     0.92186,     0.92183,      0.9218,     0.92177,     0.92173,      0.9217,     0.92167,     0.92164,     0.92161,     0.92158,     0.92162,     0.92167,     0.92171,     0.92175,      0.9218,     0.92184,\n",
      "            0.92189,     0.92178,     0.92152,     0.92143,     0.92135,     0.92126,     0.92118,     0.92095,     0.92068,     0.92057,     0.92047,     0.92036,     0.92043,     0.92053,     0.92063,     0.92066,      0.9206,     0.92055,      0.9205,     0.92044,     0.92039,     0.92034,     0.92026,\n",
      "             0.9201,     0.91993,     0.91993,     0.91996,        0.92,     0.92003,     0.92007,      0.9201,     0.92014,     0.92017,     0.92021,     0.92022,      0.9202,     0.92018,     0.92016,     0.92014,     0.92012,     0.92009,     0.92007,     0.92005,     0.92003,     0.92001,     0.91999,\n",
      "            0.91996,     0.91994,     0.91992,      0.9199,     0.91988,     0.91986,      0.9195,     0.91978,     0.91945,     0.91954,     0.91962,     0.91971,     0.91984,     0.91999,     0.92021,     0.92029,     0.92002,     0.92016,     0.92033,     0.92028,     0.92024,     0.92019,     0.92014,\n",
      "            0.92009,     0.92005,        0.92,     0.91995,     0.91998,     0.92004,     0.92009,     0.92014,      0.9202,     0.92025,     0.92021,     0.92008,     0.91994,      0.9197,     0.91909,     0.91904,     0.91899,     0.91895,      0.9189,     0.91885,      0.9188,     0.91875,      0.9187,\n",
      "            0.91824,     0.91815,     0.91806,     0.91796,     0.91775,     0.91748,     0.91736,     0.91724,     0.91713,     0.91686,     0.91648,     0.91628,      0.9162,     0.91611,     0.91603,     0.91595,     0.91592,      0.9156,     0.91511,     0.91525,     0.91539,     0.91522,     0.91496,\n",
      "             0.9148,      0.9147,     0.91409,     0.91375,     0.91281,     0.91261,     0.91265,     0.91263,     0.91199,      0.9118,     0.91166,     0.91191,     0.91166,     0.91181,     0.91183,     0.91162,     0.91181,     0.91157,     0.91084,     0.91054,     0.91037,     0.90941,     0.90831,\n",
      "            0.90867,     0.90865,     0.90809,     0.90818,     0.90826,     0.90835,     0.90837,     0.90815,     0.90752,     0.90679,     0.90594,      0.9055,     0.90527,      0.9051,     0.90498,     0.90486,     0.90438,     0.90465,     0.90452,      0.9044,      0.9043,     0.90447,     0.90417,\n",
      "            0.90369,     0.90328,     0.90271,     0.90244,     0.90221,     0.90163,     0.90133,     0.90074,     0.90053,     0.89931,     0.89949,     0.89934,     0.89918,     0.89938,     0.89959,     0.89974,      0.8991,     0.89922,     0.89893,     0.89804,     0.89675,     0.89576,     0.89489,\n",
      "            0.89475,     0.89461,     0.89213,     0.89178,     0.89155,     0.89049,     0.89025,     0.88977,     0.88895,     0.88822,     0.88706,     0.88667,     0.88652,     0.88592,     0.88565,     0.88473,       0.885,      0.8854,     0.88552,     0.88503,     0.88442,     0.88379,     0.88309,\n",
      "            0.88297,     0.88278,     0.88259,      0.8822,     0.88232,     0.88171,     0.88105,     0.88064,     0.88025,     0.87972,     0.88057,     0.88029,     0.87898,     0.87708,     0.87582,     0.87367,     0.87157,     0.86891,     0.86641,       0.863,     0.86193,     0.85779,     0.85425,\n",
      "            0.85193,     0.85258,      0.8528,     0.85216,     0.85128,     0.84928,     0.84805,     0.84518,     0.84348,     0.83933,     0.83231,     0.82088,     0.81162,     0.80503,     0.79693,     0.78696,      0.7749,     0.75342,     0.73174,     0.71483,     0.68811,      0.6642,     0.63245,\n",
      "            0.60611,     0.58719,     0.53792,     0.48285,     0.44153,      0.3972,     0.34203,     0.32433,     0.30118,      0.2277,      0.1934,     0.18371,     0.14561,     0.04679,   0.0099362,           0,           0,           0,           0,           0,           0,           0,           0,\n",
      "                  0,           0,           0,           0,           0,           0,           0,           0,           0,           0,           0]]), 'Confidence', 'F1'], [array([          0,    0.001001,    0.002002,    0.003003,    0.004004,    0.005005,    0.006006,    0.007007,    0.008008,    0.009009,     0.01001,    0.011011,    0.012012,    0.013013,    0.014014,    0.015015,    0.016016,    0.017017,    0.018018,    0.019019,     0.02002,    0.021021,    0.022022,    0.023023,\n",
      "          0.024024,    0.025025,    0.026026,    0.027027,    0.028028,    0.029029,     0.03003,    0.031031,    0.032032,    0.033033,    0.034034,    0.035035,    0.036036,    0.037037,    0.038038,    0.039039,     0.04004,    0.041041,    0.042042,    0.043043,    0.044044,    0.045045,    0.046046,    0.047047,\n",
      "          0.048048,    0.049049,     0.05005,    0.051051,    0.052052,    0.053053,    0.054054,    0.055055,    0.056056,    0.057057,    0.058058,    0.059059,     0.06006,    0.061061,    0.062062,    0.063063,    0.064064,    0.065065,    0.066066,    0.067067,    0.068068,    0.069069,     0.07007,    0.071071,\n",
      "          0.072072,    0.073073,    0.074074,    0.075075,    0.076076,    0.077077,    0.078078,    0.079079,     0.08008,    0.081081,    0.082082,    0.083083,    0.084084,    0.085085,    0.086086,    0.087087,    0.088088,    0.089089,     0.09009,    0.091091,    0.092092,    0.093093,    0.094094,    0.095095,\n",
      "          0.096096,    0.097097,    0.098098,    0.099099,      0.1001,      0.1011,      0.1021,      0.1031,      0.1041,     0.10511,     0.10611,     0.10711,     0.10811,     0.10911,     0.11011,     0.11111,     0.11211,     0.11311,     0.11411,     0.11512,     0.11612,     0.11712,     0.11812,     0.11912,\n",
      "           0.12012,     0.12112,     0.12212,     0.12312,     0.12412,     0.12513,     0.12613,     0.12713,     0.12813,     0.12913,     0.13013,     0.13113,     0.13213,     0.13313,     0.13413,     0.13514,     0.13614,     0.13714,     0.13814,     0.13914,     0.14014,     0.14114,     0.14214,     0.14314,\n",
      "           0.14414,     0.14515,     0.14615,     0.14715,     0.14815,     0.14915,     0.15015,     0.15115,     0.15215,     0.15315,     0.15415,     0.15516,     0.15616,     0.15716,     0.15816,     0.15916,     0.16016,     0.16116,     0.16216,     0.16316,     0.16416,     0.16517,     0.16617,     0.16717,\n",
      "           0.16817,     0.16917,     0.17017,     0.17117,     0.17217,     0.17317,     0.17417,     0.17518,     0.17618,     0.17718,     0.17818,     0.17918,     0.18018,     0.18118,     0.18218,     0.18318,     0.18418,     0.18519,     0.18619,     0.18719,     0.18819,     0.18919,     0.19019,     0.19119,\n",
      "           0.19219,     0.19319,     0.19419,      0.1952,      0.1962,      0.1972,      0.1982,      0.1992,      0.2002,      0.2012,      0.2022,      0.2032,      0.2042,     0.20521,     0.20621,     0.20721,     0.20821,     0.20921,     0.21021,     0.21121,     0.21221,     0.21321,     0.21421,     0.21522,\n",
      "           0.21622,     0.21722,     0.21822,     0.21922,     0.22022,     0.22122,     0.22222,     0.22322,     0.22422,     0.22523,     0.22623,     0.22723,     0.22823,     0.22923,     0.23023,     0.23123,     0.23223,     0.23323,     0.23423,     0.23524,     0.23624,     0.23724,     0.23824,     0.23924,\n",
      "           0.24024,     0.24124,     0.24224,     0.24324,     0.24424,     0.24525,     0.24625,     0.24725,     0.24825,     0.24925,     0.25025,     0.25125,     0.25225,     0.25325,     0.25425,     0.25526,     0.25626,     0.25726,     0.25826,     0.25926,     0.26026,     0.26126,     0.26226,     0.26326,\n",
      "           0.26426,     0.26527,     0.26627,     0.26727,     0.26827,     0.26927,     0.27027,     0.27127,     0.27227,     0.27327,     0.27427,     0.27528,     0.27628,     0.27728,     0.27828,     0.27928,     0.28028,     0.28128,     0.28228,     0.28328,     0.28428,     0.28529,     0.28629,     0.28729,\n",
      "           0.28829,     0.28929,     0.29029,     0.29129,     0.29229,     0.29329,     0.29429,      0.2953,      0.2963,      0.2973,      0.2983,      0.2993,      0.3003,      0.3013,      0.3023,      0.3033,      0.3043,     0.30531,     0.30631,     0.30731,     0.30831,     0.30931,     0.31031,     0.31131,\n",
      "           0.31231,     0.31331,     0.31431,     0.31532,     0.31632,     0.31732,     0.31832,     0.31932,     0.32032,     0.32132,     0.32232,     0.32332,     0.32432,     0.32533,     0.32633,     0.32733,     0.32833,     0.32933,     0.33033,     0.33133,     0.33233,     0.33333,     0.33433,     0.33534,\n",
      "           0.33634,     0.33734,     0.33834,     0.33934,     0.34034,     0.34134,     0.34234,     0.34334,     0.34434,     0.34535,     0.34635,     0.34735,     0.34835,     0.34935,     0.35035,     0.35135,     0.35235,     0.35335,     0.35435,     0.35536,     0.35636,     0.35736,     0.35836,     0.35936,\n",
      "           0.36036,     0.36136,     0.36236,     0.36336,     0.36436,     0.36537,     0.36637,     0.36737,     0.36837,     0.36937,     0.37037,     0.37137,     0.37237,     0.37337,     0.37437,     0.37538,     0.37638,     0.37738,     0.37838,     0.37938,     0.38038,     0.38138,     0.38238,     0.38338,\n",
      "           0.38438,     0.38539,     0.38639,     0.38739,     0.38839,     0.38939,     0.39039,     0.39139,     0.39239,     0.39339,     0.39439,      0.3954,      0.3964,      0.3974,      0.3984,      0.3994,      0.4004,      0.4014,      0.4024,      0.4034,      0.4044,     0.40541,     0.40641,     0.40741,\n",
      "           0.40841,     0.40941,     0.41041,     0.41141,     0.41241,     0.41341,     0.41441,     0.41542,     0.41642,     0.41742,     0.41842,     0.41942,     0.42042,     0.42142,     0.42242,     0.42342,     0.42442,     0.42543,     0.42643,     0.42743,     0.42843,     0.42943,     0.43043,     0.43143,\n",
      "           0.43243,     0.43343,     0.43443,     0.43544,     0.43644,     0.43744,     0.43844,     0.43944,     0.44044,     0.44144,     0.44244,     0.44344,     0.44444,     0.44545,     0.44645,     0.44745,     0.44845,     0.44945,     0.45045,     0.45145,     0.45245,     0.45345,     0.45445,     0.45546,\n",
      "           0.45646,     0.45746,     0.45846,     0.45946,     0.46046,     0.46146,     0.46246,     0.46346,     0.46446,     0.46547,     0.46647,     0.46747,     0.46847,     0.46947,     0.47047,     0.47147,     0.47247,     0.47347,     0.47447,     0.47548,     0.47648,     0.47748,     0.47848,     0.47948,\n",
      "           0.48048,     0.48148,     0.48248,     0.48348,     0.48448,     0.48549,     0.48649,     0.48749,     0.48849,     0.48949,     0.49049,     0.49149,     0.49249,     0.49349,     0.49449,      0.4955,      0.4965,      0.4975,      0.4985,      0.4995,      0.5005,      0.5015,      0.5025,      0.5035,\n",
      "            0.5045,     0.50551,     0.50651,     0.50751,     0.50851,     0.50951,     0.51051,     0.51151,     0.51251,     0.51351,     0.51451,     0.51552,     0.51652,     0.51752,     0.51852,     0.51952,     0.52052,     0.52152,     0.52252,     0.52352,     0.52452,     0.52553,     0.52653,     0.52753,\n",
      "           0.52853,     0.52953,     0.53053,     0.53153,     0.53253,     0.53353,     0.53453,     0.53554,     0.53654,     0.53754,     0.53854,     0.53954,     0.54054,     0.54154,     0.54254,     0.54354,     0.54454,     0.54555,     0.54655,     0.54755,     0.54855,     0.54955,     0.55055,     0.55155,\n",
      "           0.55255,     0.55355,     0.55455,     0.55556,     0.55656,     0.55756,     0.55856,     0.55956,     0.56056,     0.56156,     0.56256,     0.56356,     0.56456,     0.56557,     0.56657,     0.56757,     0.56857,     0.56957,     0.57057,     0.57157,     0.57257,     0.57357,     0.57457,     0.57558,\n",
      "           0.57658,     0.57758,     0.57858,     0.57958,     0.58058,     0.58158,     0.58258,     0.58358,     0.58458,     0.58559,     0.58659,     0.58759,     0.58859,     0.58959,     0.59059,     0.59159,     0.59259,     0.59359,     0.59459,      0.5956,      0.5966,      0.5976,      0.5986,      0.5996,\n",
      "            0.6006,      0.6016,      0.6026,      0.6036,      0.6046,     0.60561,     0.60661,     0.60761,     0.60861,     0.60961,     0.61061,     0.61161,     0.61261,     0.61361,     0.61461,     0.61562,     0.61662,     0.61762,     0.61862,     0.61962,     0.62062,     0.62162,     0.62262,     0.62362,\n",
      "           0.62462,     0.62563,     0.62663,     0.62763,     0.62863,     0.62963,     0.63063,     0.63163,     0.63263,     0.63363,     0.63463,     0.63564,     0.63664,     0.63764,     0.63864,     0.63964,     0.64064,     0.64164,     0.64264,     0.64364,     0.64464,     0.64565,     0.64665,     0.64765,\n",
      "           0.64865,     0.64965,     0.65065,     0.65165,     0.65265,     0.65365,     0.65465,     0.65566,     0.65666,     0.65766,     0.65866,     0.65966,     0.66066,     0.66166,     0.66266,     0.66366,     0.66466,     0.66567,     0.66667,     0.66767,     0.66867,     0.66967,     0.67067,     0.67167,\n",
      "           0.67267,     0.67367,     0.67467,     0.67568,     0.67668,     0.67768,     0.67868,     0.67968,     0.68068,     0.68168,     0.68268,     0.68368,     0.68468,     0.68569,     0.68669,     0.68769,     0.68869,     0.68969,     0.69069,     0.69169,     0.69269,     0.69369,     0.69469,      0.6957,\n",
      "            0.6967,      0.6977,      0.6987,      0.6997,      0.7007,      0.7017,      0.7027,      0.7037,      0.7047,     0.70571,     0.70671,     0.70771,     0.70871,     0.70971,     0.71071,     0.71171,     0.71271,     0.71371,     0.71471,     0.71572,     0.71672,     0.71772,     0.71872,     0.71972,\n",
      "           0.72072,     0.72172,     0.72272,     0.72372,     0.72472,     0.72573,     0.72673,     0.72773,     0.72873,     0.72973,     0.73073,     0.73173,     0.73273,     0.73373,     0.73473,     0.73574,     0.73674,     0.73774,     0.73874,     0.73974,     0.74074,     0.74174,     0.74274,     0.74374,\n",
      "           0.74474,     0.74575,     0.74675,     0.74775,     0.74875,     0.74975,     0.75075,     0.75175,     0.75275,     0.75375,     0.75475,     0.75576,     0.75676,     0.75776,     0.75876,     0.75976,     0.76076,     0.76176,     0.76276,     0.76376,     0.76476,     0.76577,     0.76677,     0.76777,\n",
      "           0.76877,     0.76977,     0.77077,     0.77177,     0.77277,     0.77377,     0.77477,     0.77578,     0.77678,     0.77778,     0.77878,     0.77978,     0.78078,     0.78178,     0.78278,     0.78378,     0.78478,     0.78579,     0.78679,     0.78779,     0.78879,     0.78979,     0.79079,     0.79179,\n",
      "           0.79279,     0.79379,     0.79479,      0.7958,      0.7968,      0.7978,      0.7988,      0.7998,      0.8008,      0.8018,      0.8028,      0.8038,      0.8048,     0.80581,     0.80681,     0.80781,     0.80881,     0.80981,     0.81081,     0.81181,     0.81281,     0.81381,     0.81481,     0.81582,\n",
      "           0.81682,     0.81782,     0.81882,     0.81982,     0.82082,     0.82182,     0.82282,     0.82382,     0.82482,     0.82583,     0.82683,     0.82783,     0.82883,     0.82983,     0.83083,     0.83183,     0.83283,     0.83383,     0.83483,     0.83584,     0.83684,     0.83784,     0.83884,     0.83984,\n",
      "           0.84084,     0.84184,     0.84284,     0.84384,     0.84484,     0.84585,     0.84685,     0.84785,     0.84885,     0.84985,     0.85085,     0.85185,     0.85285,     0.85385,     0.85485,     0.85586,     0.85686,     0.85786,     0.85886,     0.85986,     0.86086,     0.86186,     0.86286,     0.86386,\n",
      "           0.86486,     0.86587,     0.86687,     0.86787,     0.86887,     0.86987,     0.87087,     0.87187,     0.87287,     0.87387,     0.87487,     0.87588,     0.87688,     0.87788,     0.87888,     0.87988,     0.88088,     0.88188,     0.88288,     0.88388,     0.88488,     0.88589,     0.88689,     0.88789,\n",
      "           0.88889,     0.88989,     0.89089,     0.89189,     0.89289,     0.89389,     0.89489,      0.8959,      0.8969,      0.8979,      0.8989,      0.8999,      0.9009,      0.9019,      0.9029,      0.9039,      0.9049,     0.90591,     0.90691,     0.90791,     0.90891,     0.90991,     0.91091,     0.91191,\n",
      "           0.91291,     0.91391,     0.91491,     0.91592,     0.91692,     0.91792,     0.91892,     0.91992,     0.92092,     0.92192,     0.92292,     0.92392,     0.92492,     0.92593,     0.92693,     0.92793,     0.92893,     0.92993,     0.93093,     0.93193,     0.93293,     0.93393,     0.93493,     0.93594,\n",
      "           0.93694,     0.93794,     0.93894,     0.93994,     0.94094,     0.94194,     0.94294,     0.94394,     0.94494,     0.94595,     0.94695,     0.94795,     0.94895,     0.94995,     0.95095,     0.95195,     0.95295,     0.95395,     0.95495,     0.95596,     0.95696,     0.95796,     0.95896,     0.95996,\n",
      "           0.96096,     0.96196,     0.96296,     0.96396,     0.96496,     0.96597,     0.96697,     0.96797,     0.96897,     0.96997,     0.97097,     0.97197,     0.97297,     0.97397,     0.97497,     0.97598,     0.97698,     0.97798,     0.97898,     0.97998,     0.98098,     0.98198,     0.98298,     0.98398,\n",
      "           0.98498,     0.98599,     0.98699,     0.98799,     0.98899,     0.98999,     0.99099,     0.99199,     0.99299,     0.99399,     0.99499,       0.996,       0.997,       0.998,       0.999,           1]), array([[    0.80491,     0.80536,     0.84605,     0.86855,     0.88281,      0.8929,     0.89447,     0.89767,     0.89877,     0.90259,      0.9046,     0.90537,     0.90709,     0.90856,     0.90969,     0.91026,     0.91083,     0.91105,     0.91131,     0.91126,      0.9124,     0.91447,     0.91501,\n",
      "            0.91604,     0.91602,     0.91599,     0.91613,     0.91738,     0.91827,     0.91883,     0.91912,     0.91941,     0.91981,      0.9207,     0.92067,     0.92133,     0.92177,      0.9225,     0.92282,     0.92319,     0.92362,     0.92355,     0.92352,     0.92365,     0.92397,     0.92413,\n",
      "            0.92412,     0.92411,     0.92409,     0.92408,     0.92405,     0.92408,     0.92434,     0.92459,     0.92465,     0.92474,     0.92518,     0.92525,     0.92523,     0.92521,      0.9252,     0.92519,     0.92517,     0.92516,     0.92514,     0.92512,     0.92528,     0.92565,     0.92593,\n",
      "            0.92631,     0.92694,     0.92742,     0.92796,     0.92849,     0.92888,     0.92903,     0.92919,     0.92934,      0.9295,     0.92949,     0.92952,     0.92965,     0.92978,     0.92992,     0.93005,     0.93011,      0.9301,     0.93008,     0.93088,     0.93133,     0.93196,     0.93197,\n",
      "            0.93196,     0.93195,     0.93194,     0.93193,     0.93192,     0.93191,      0.9319,     0.93189,     0.93188,     0.93183,     0.93182,     0.93181,      0.9318,     0.93179,     0.93182,     0.93188,     0.93194,       0.932,     0.93206,     0.93212,     0.93218,     0.93225,     0.93231,\n",
      "            0.93237,     0.93243,     0.93268,     0.93298,     0.93315,     0.93323,     0.93332,      0.9334,     0.93348,     0.93357,     0.93365,     0.93373,     0.93372,     0.93369,     0.93367,     0.93397,     0.93432,     0.93453,     0.93475,     0.93496,     0.93495,     0.93492,      0.9349,\n",
      "            0.93485,     0.93483,     0.93482,     0.93481,     0.93479,     0.93475,     0.93473,     0.93471,     0.93466,     0.93463,     0.93461,      0.9346,      0.9346,     0.93459,     0.93459,     0.93458,     0.93457,     0.93457,     0.93449,     0.93442,      0.9344,     0.93434,     0.93498,\n",
      "            0.93495,     0.93493,     0.93491,     0.93499,     0.93529,     0.93553,     0.93552,     0.93551,     0.93551,      0.9355,     0.93549,     0.93548,     0.93546,     0.93543,     0.93537,     0.93534,     0.93533,     0.93532,     0.93531,     0.93529,     0.93525,     0.93523,     0.93522,\n",
      "            0.93521,     0.93518,      0.9352,      0.9353,     0.93541,     0.93551,     0.93561,     0.93572,     0.93582,     0.93651,     0.93651,      0.9365,      0.9365,      0.9365,      0.9365,     0.93649,     0.93649,     0.93649,     0.93649,     0.93649,     0.93648,     0.93648,     0.93648,\n",
      "            0.93648,     0.93647,     0.93647,     0.93647,     0.93647,     0.93647,     0.93646,     0.93646,     0.93645,     0.93644,     0.93643,     0.93643,     0.93642,     0.93647,     0.93654,     0.93661,     0.93668,     0.93675,     0.93682,     0.93689,     0.93696,     0.93703,     0.93709,\n",
      "            0.93708,     0.93706,     0.93705,     0.93708,     0.93711,     0.93715,     0.93718,     0.93721,     0.93725,     0.93728,     0.93732,     0.93735,     0.93738,     0.93742,     0.93745,     0.93748,     0.93752,     0.93755,     0.93759,     0.93762,     0.93765,     0.93769,     0.93772,\n",
      "            0.93772,     0.93771,      0.9377,     0.93769,     0.93768,     0.93765,     0.93763,     0.93763,     0.93762,     0.93761,      0.9376,     0.93759,     0.93761,     0.93765,      0.9377,     0.93774,     0.93778,     0.93782,     0.93786,      0.9379,     0.93794,     0.93798,     0.93802,\n",
      "            0.93806,      0.9381,     0.93814,     0.93818,     0.93822,     0.93826,     0.93827,     0.93827,     0.93826,     0.93826,     0.93826,     0.93826,     0.93826,     0.93825,     0.93825,     0.93825,     0.93825,     0.93824,     0.93824,     0.93824,     0.93824,     0.93823,     0.93823,\n",
      "            0.93823,     0.93822,     0.93822,     0.93822,     0.93821,     0.93821,      0.9382,      0.9382,     0.93819,     0.93819,     0.93819,     0.93818,      0.9382,     0.93821,     0.93822,     0.93824,     0.93825,     0.93826,     0.93828,     0.93829,      0.9383,     0.93832,     0.93833,\n",
      "            0.93834,     0.93836,     0.93837,     0.93838,      0.9384,     0.93841,     0.93842,     0.93844,     0.93845,     0.93847,     0.93848,     0.93849,     0.93851,     0.93852,     0.93853,     0.93855,     0.93856,     0.93857,     0.93859,      0.9386,     0.93861,     0.93863,     0.93864,\n",
      "            0.93865,     0.93867,     0.93868,     0.93869,     0.93871,     0.93872,     0.93874,     0.93875,     0.93876,     0.93878,     0.93879,      0.9388,     0.93882,     0.93883,     0.93884,     0.93886,     0.93886,     0.93886,     0.93886,     0.93886,     0.93886,     0.93886,     0.93886,\n",
      "            0.93886,     0.93886,     0.93886,     0.93886,     0.93885,     0.93885,     0.93885,     0.93885,     0.93885,     0.93885,     0.93885,     0.93885,     0.93885,     0.93885,     0.93885,     0.93885,     0.93884,     0.93884,     0.93884,     0.93884,     0.93884,     0.93884,     0.93884,\n",
      "            0.93884,     0.93884,     0.93884,     0.93884,     0.93884,     0.93883,     0.93883,     0.93883,     0.93883,     0.93883,     0.93883,     0.93883,     0.93883,     0.93883,     0.93883,     0.93883,     0.93883,     0.93882,     0.93882,     0.93882,     0.93882,     0.93882,     0.93883,\n",
      "            0.93886,     0.93889,     0.93893,     0.93896,     0.93899,     0.93903,     0.93906,     0.93909,     0.93913,     0.93916,     0.93919,     0.93923,     0.93926,     0.93929,     0.93933,     0.93936,     0.93939,     0.93943,     0.93946,     0.93949,     0.93957,     0.93966,     0.93976,\n",
      "            0.93986,     0.93996,     0.94005,     0.94015,     0.94022,     0.94026,     0.94031,     0.94036,     0.94041,     0.94045,      0.9405,     0.94055,      0.9406,     0.94064,     0.94069,     0.94074,     0.94078,     0.94083,     0.94088,     0.94087,     0.94086,     0.94086,     0.94085,\n",
      "            0.94085,     0.94084,     0.94084,     0.94083,      0.9412,     0.94152,      0.9415,     0.94148,     0.94153,     0.94157,     0.94162,     0.94166,     0.94171,     0.94176,      0.9418,     0.94185,      0.9419,     0.94194,     0.94199,     0.94203,     0.94208,     0.94213,     0.94229,\n",
      "            0.94296,     0.94329,     0.94365,     0.94415,     0.94449,      0.9448,     0.94501,     0.94514,     0.94528,     0.94541,     0.94554,     0.94573,     0.94602,     0.94631,     0.94631,      0.9463,     0.94629,     0.94634,     0.94646,     0.94658,      0.9467,     0.94681,     0.94693,\n",
      "            0.94716,     0.94746,     0.94776,     0.94805,     0.94835,     0.95001,     0.95115,     0.95142,     0.95167,     0.95191,     0.95217,     0.95244,      0.9533,     0.95332,     0.95342,     0.95352,     0.95361,     0.95371,     0.95381,      0.9539,     0.95407,     0.95439,      0.9554,\n",
      "            0.95557,     0.95574,     0.95591,     0.95607,     0.95611,     0.95613,     0.95615,     0.95616,     0.95618,     0.95619,     0.95621,     0.95623,     0.95624,     0.95626,     0.95627,     0.95629,      0.9563,     0.95632,     0.95634,     0.95635,     0.95637,     0.95638,      0.9564,\n",
      "            0.95642,     0.95643,     0.95645,     0.95646,     0.95648,      0.9565,     0.95651,     0.95653,     0.95654,     0.95656,     0.95657,     0.95659,     0.95661,     0.95662,     0.95664,     0.95665,     0.95667,     0.95669,      0.9567,     0.95672,     0.95673,     0.95675,     0.95676,\n",
      "            0.95678,      0.9568,     0.95681,      0.9568,     0.95679,     0.95678,     0.95677,     0.95676,     0.95675,     0.95675,     0.95674,     0.95674,     0.95674,     0.95674,     0.95674,     0.95673,     0.95673,     0.95673,     0.95673,     0.95672,     0.95672,     0.95672,     0.95672,\n",
      "            0.95671,     0.95671,      0.9567,      0.9567,     0.95669,     0.95669,     0.95669,     0.95668,     0.95668,     0.95668,     0.95668,     0.95668,     0.95668,     0.95668,     0.95668,     0.95667,     0.95667,     0.95667,     0.95667,     0.95667,     0.95667,     0.95667,     0.95667,\n",
      "            0.95667,     0.95666,     0.95666,     0.95666,     0.95666,     0.95666,     0.95666,     0.95666,     0.95666,     0.95666,     0.95665,     0.95665,     0.95665,     0.95681,      0.9571,     0.95808,     0.95808,     0.95807,     0.95807,     0.95806,     0.95806,     0.95806,     0.95807,\n",
      "             0.9581,     0.95814,     0.95817,     0.95821,     0.95824,     0.95828,     0.95831,     0.95834,     0.95838,     0.95841,     0.95845,     0.95848,     0.95852,     0.95855,     0.95859,     0.95862,     0.95866,     0.95869,     0.95872,     0.95876,     0.95877,     0.95877,     0.95876,\n",
      "            0.95876,     0.95876,     0.95876,     0.95875,     0.95875,     0.95875,     0.95875,     0.95874,     0.95874,     0.95874,     0.95873,     0.95873,     0.95872,     0.95872,     0.95872,     0.95871,     0.95871,      0.9587,      0.9587,      0.9587,      0.9587,     0.95869,     0.95869,\n",
      "            0.95869,     0.95869,     0.95868,     0.95868,     0.95868,     0.95867,     0.95867,     0.95867,     0.95867,     0.95866,     0.95866,     0.95866,     0.95866,     0.95865,     0.95865,     0.95865,     0.95865,     0.95875,     0.95884,     0.95894,     0.95903,     0.95913,     0.95922,\n",
      "            0.95932,     0.95936,     0.95934,     0.95933,     0.95932,     0.95932,     0.95931,     0.95929,     0.95927,     0.95926,     0.95925,     0.95925,     0.95943,     0.95964,     0.95985,     0.95997,     0.95996,     0.95996,     0.95996,     0.95995,     0.95995,     0.95994,     0.95994,\n",
      "            0.95992,     0.95991,     0.95997,     0.96005,     0.96012,      0.9602,     0.96028,     0.96036,     0.96043,     0.96051,     0.96059,     0.96064,     0.96063,     0.96063,     0.96063,     0.96063,     0.96063,     0.96063,     0.96062,     0.96062,     0.96062,     0.96062,     0.96062,\n",
      "            0.96062,     0.96061,     0.96061,     0.96061,     0.96061,     0.96061,     0.96068,     0.96129,     0.96141,      0.9616,     0.96178,     0.96197,     0.96226,     0.96259,     0.96307,     0.96346,     0.96344,      0.9638,     0.96418,     0.96417,     0.96417,     0.96417,     0.96416,\n",
      "            0.96416,     0.96416,     0.96415,     0.96415,     0.96424,     0.96436,     0.96448,     0.96459,     0.96471,     0.96482,     0.96488,     0.96487,     0.96486,     0.96485,      0.9648,      0.9648,      0.9648,     0.96479,     0.96479,     0.96479,     0.96478,     0.96478,     0.96478,\n",
      "            0.96475,     0.96474,     0.96473,     0.96473,     0.96471,     0.96469,     0.96469,     0.96468,     0.96467,     0.96465,     0.96463,     0.96461,     0.96461,      0.9646,     0.96459,     0.96459,     0.96531,     0.96529,     0.96532,     0.96563,     0.96594,     0.96598,     0.96597,\n",
      "            0.96634,     0.96668,     0.96736,     0.96734,     0.96728,     0.96727,     0.96761,     0.96801,     0.96797,     0.96795,     0.96799,     0.96855,     0.96889,     0.96922,     0.96943,     0.96942,     0.97017,     0.97016,     0.97011,      0.9701,     0.97009,     0.97003,     0.96997,\n",
      "              0.971,     0.97148,     0.97148,     0.97167,     0.97187,     0.97206,     0.97222,     0.97221,     0.97217,     0.97213,     0.97209,     0.97206,     0.97205,     0.97204,     0.97203,     0.97203,     0.97207,     0.97278,     0.97277,     0.97276,      0.9728,      0.9732,     0.97351,\n",
      "            0.97349,     0.97423,      0.9742,     0.97419,     0.97418,     0.97415,     0.97413,      0.9741,     0.97409,     0.97403,     0.97469,     0.97481,      0.9749,     0.97537,     0.97587,     0.97638,      0.9766,      0.9769,     0.97713,     0.97866,      0.9786,     0.97856,     0.97852,\n",
      "            0.97852,     0.97851,     0.97851,     0.97999,     0.98079,     0.98075,     0.98074,     0.98072,      0.9815,     0.98229,     0.98225,     0.98241,     0.98305,     0.98385,     0.98385,     0.98386,     0.98465,     0.98656,     0.98717,     0.98715,     0.98714,     0.98712,      0.9871,\n",
      "            0.98794,     0.98794,     0.98793,     0.98877,     0.98962,     0.98961,     0.98959,     0.98958,     0.98966,      0.9905,     0.99301,     0.99414,     0.99473,      0.9947,     0.99469,     0.99555,     0.99553,     0.99551,     0.99548,     0.99636,     0.99635,     0.99632,     0.99629,\n",
      "            0.99666,     0.99842,     0.99904,      0.9998,           1,           1,           1,           1,           1,           1,           1,           1,           1,           1,           1,           1,           1,           1,           1,           1,           1,           1,           1,\n",
      "                  1,           1,           1,           1,           1,           1,           1,           1,           1,           1,           1,           1,           1,           1,           1,           1,           1,           1,           1,           1,           1,           1,           1,\n",
      "                  1,           1,           1,           1,           1,           1,           1,           1,           1,           1,           1]]), 'Confidence', 'Precision'], [array([          0,    0.001001,    0.002002,    0.003003,    0.004004,    0.005005,    0.006006,    0.007007,    0.008008,    0.009009,     0.01001,    0.011011,    0.012012,    0.013013,    0.014014,    0.015015,    0.016016,    0.017017,    0.018018,    0.019019,     0.02002,    0.021021,    0.022022,    0.023023,\n",
      "          0.024024,    0.025025,    0.026026,    0.027027,    0.028028,    0.029029,     0.03003,    0.031031,    0.032032,    0.033033,    0.034034,    0.035035,    0.036036,    0.037037,    0.038038,    0.039039,     0.04004,    0.041041,    0.042042,    0.043043,    0.044044,    0.045045,    0.046046,    0.047047,\n",
      "          0.048048,    0.049049,     0.05005,    0.051051,    0.052052,    0.053053,    0.054054,    0.055055,    0.056056,    0.057057,    0.058058,    0.059059,     0.06006,    0.061061,    0.062062,    0.063063,    0.064064,    0.065065,    0.066066,    0.067067,    0.068068,    0.069069,     0.07007,    0.071071,\n",
      "          0.072072,    0.073073,    0.074074,    0.075075,    0.076076,    0.077077,    0.078078,    0.079079,     0.08008,    0.081081,    0.082082,    0.083083,    0.084084,    0.085085,    0.086086,    0.087087,    0.088088,    0.089089,     0.09009,    0.091091,    0.092092,    0.093093,    0.094094,    0.095095,\n",
      "          0.096096,    0.097097,    0.098098,    0.099099,      0.1001,      0.1011,      0.1021,      0.1031,      0.1041,     0.10511,     0.10611,     0.10711,     0.10811,     0.10911,     0.11011,     0.11111,     0.11211,     0.11311,     0.11411,     0.11512,     0.11612,     0.11712,     0.11812,     0.11912,\n",
      "           0.12012,     0.12112,     0.12212,     0.12312,     0.12412,     0.12513,     0.12613,     0.12713,     0.12813,     0.12913,     0.13013,     0.13113,     0.13213,     0.13313,     0.13413,     0.13514,     0.13614,     0.13714,     0.13814,     0.13914,     0.14014,     0.14114,     0.14214,     0.14314,\n",
      "           0.14414,     0.14515,     0.14615,     0.14715,     0.14815,     0.14915,     0.15015,     0.15115,     0.15215,     0.15315,     0.15415,     0.15516,     0.15616,     0.15716,     0.15816,     0.15916,     0.16016,     0.16116,     0.16216,     0.16316,     0.16416,     0.16517,     0.16617,     0.16717,\n",
      "           0.16817,     0.16917,     0.17017,     0.17117,     0.17217,     0.17317,     0.17417,     0.17518,     0.17618,     0.17718,     0.17818,     0.17918,     0.18018,     0.18118,     0.18218,     0.18318,     0.18418,     0.18519,     0.18619,     0.18719,     0.18819,     0.18919,     0.19019,     0.19119,\n",
      "           0.19219,     0.19319,     0.19419,      0.1952,      0.1962,      0.1972,      0.1982,      0.1992,      0.2002,      0.2012,      0.2022,      0.2032,      0.2042,     0.20521,     0.20621,     0.20721,     0.20821,     0.20921,     0.21021,     0.21121,     0.21221,     0.21321,     0.21421,     0.21522,\n",
      "           0.21622,     0.21722,     0.21822,     0.21922,     0.22022,     0.22122,     0.22222,     0.22322,     0.22422,     0.22523,     0.22623,     0.22723,     0.22823,     0.22923,     0.23023,     0.23123,     0.23223,     0.23323,     0.23423,     0.23524,     0.23624,     0.23724,     0.23824,     0.23924,\n",
      "           0.24024,     0.24124,     0.24224,     0.24324,     0.24424,     0.24525,     0.24625,     0.24725,     0.24825,     0.24925,     0.25025,     0.25125,     0.25225,     0.25325,     0.25425,     0.25526,     0.25626,     0.25726,     0.25826,     0.25926,     0.26026,     0.26126,     0.26226,     0.26326,\n",
      "           0.26426,     0.26527,     0.26627,     0.26727,     0.26827,     0.26927,     0.27027,     0.27127,     0.27227,     0.27327,     0.27427,     0.27528,     0.27628,     0.27728,     0.27828,     0.27928,     0.28028,     0.28128,     0.28228,     0.28328,     0.28428,     0.28529,     0.28629,     0.28729,\n",
      "           0.28829,     0.28929,     0.29029,     0.29129,     0.29229,     0.29329,     0.29429,      0.2953,      0.2963,      0.2973,      0.2983,      0.2993,      0.3003,      0.3013,      0.3023,      0.3033,      0.3043,     0.30531,     0.30631,     0.30731,     0.30831,     0.30931,     0.31031,     0.31131,\n",
      "           0.31231,     0.31331,     0.31431,     0.31532,     0.31632,     0.31732,     0.31832,     0.31932,     0.32032,     0.32132,     0.32232,     0.32332,     0.32432,     0.32533,     0.32633,     0.32733,     0.32833,     0.32933,     0.33033,     0.33133,     0.33233,     0.33333,     0.33433,     0.33534,\n",
      "           0.33634,     0.33734,     0.33834,     0.33934,     0.34034,     0.34134,     0.34234,     0.34334,     0.34434,     0.34535,     0.34635,     0.34735,     0.34835,     0.34935,     0.35035,     0.35135,     0.35235,     0.35335,     0.35435,     0.35536,     0.35636,     0.35736,     0.35836,     0.35936,\n",
      "           0.36036,     0.36136,     0.36236,     0.36336,     0.36436,     0.36537,     0.36637,     0.36737,     0.36837,     0.36937,     0.37037,     0.37137,     0.37237,     0.37337,     0.37437,     0.37538,     0.37638,     0.37738,     0.37838,     0.37938,     0.38038,     0.38138,     0.38238,     0.38338,\n",
      "           0.38438,     0.38539,     0.38639,     0.38739,     0.38839,     0.38939,     0.39039,     0.39139,     0.39239,     0.39339,     0.39439,      0.3954,      0.3964,      0.3974,      0.3984,      0.3994,      0.4004,      0.4014,      0.4024,      0.4034,      0.4044,     0.40541,     0.40641,     0.40741,\n",
      "           0.40841,     0.40941,     0.41041,     0.41141,     0.41241,     0.41341,     0.41441,     0.41542,     0.41642,     0.41742,     0.41842,     0.41942,     0.42042,     0.42142,     0.42242,     0.42342,     0.42442,     0.42543,     0.42643,     0.42743,     0.42843,     0.42943,     0.43043,     0.43143,\n",
      "           0.43243,     0.43343,     0.43443,     0.43544,     0.43644,     0.43744,     0.43844,     0.43944,     0.44044,     0.44144,     0.44244,     0.44344,     0.44444,     0.44545,     0.44645,     0.44745,     0.44845,     0.44945,     0.45045,     0.45145,     0.45245,     0.45345,     0.45445,     0.45546,\n",
      "           0.45646,     0.45746,     0.45846,     0.45946,     0.46046,     0.46146,     0.46246,     0.46346,     0.46446,     0.46547,     0.46647,     0.46747,     0.46847,     0.46947,     0.47047,     0.47147,     0.47247,     0.47347,     0.47447,     0.47548,     0.47648,     0.47748,     0.47848,     0.47948,\n",
      "           0.48048,     0.48148,     0.48248,     0.48348,     0.48448,     0.48549,     0.48649,     0.48749,     0.48849,     0.48949,     0.49049,     0.49149,     0.49249,     0.49349,     0.49449,      0.4955,      0.4965,      0.4975,      0.4985,      0.4995,      0.5005,      0.5015,      0.5025,      0.5035,\n",
      "            0.5045,     0.50551,     0.50651,     0.50751,     0.50851,     0.50951,     0.51051,     0.51151,     0.51251,     0.51351,     0.51451,     0.51552,     0.51652,     0.51752,     0.51852,     0.51952,     0.52052,     0.52152,     0.52252,     0.52352,     0.52452,     0.52553,     0.52653,     0.52753,\n",
      "           0.52853,     0.52953,     0.53053,     0.53153,     0.53253,     0.53353,     0.53453,     0.53554,     0.53654,     0.53754,     0.53854,     0.53954,     0.54054,     0.54154,     0.54254,     0.54354,     0.54454,     0.54555,     0.54655,     0.54755,     0.54855,     0.54955,     0.55055,     0.55155,\n",
      "           0.55255,     0.55355,     0.55455,     0.55556,     0.55656,     0.55756,     0.55856,     0.55956,     0.56056,     0.56156,     0.56256,     0.56356,     0.56456,     0.56557,     0.56657,     0.56757,     0.56857,     0.56957,     0.57057,     0.57157,     0.57257,     0.57357,     0.57457,     0.57558,\n",
      "           0.57658,     0.57758,     0.57858,     0.57958,     0.58058,     0.58158,     0.58258,     0.58358,     0.58458,     0.58559,     0.58659,     0.58759,     0.58859,     0.58959,     0.59059,     0.59159,     0.59259,     0.59359,     0.59459,      0.5956,      0.5966,      0.5976,      0.5986,      0.5996,\n",
      "            0.6006,      0.6016,      0.6026,      0.6036,      0.6046,     0.60561,     0.60661,     0.60761,     0.60861,     0.60961,     0.61061,     0.61161,     0.61261,     0.61361,     0.61461,     0.61562,     0.61662,     0.61762,     0.61862,     0.61962,     0.62062,     0.62162,     0.62262,     0.62362,\n",
      "           0.62462,     0.62563,     0.62663,     0.62763,     0.62863,     0.62963,     0.63063,     0.63163,     0.63263,     0.63363,     0.63463,     0.63564,     0.63664,     0.63764,     0.63864,     0.63964,     0.64064,     0.64164,     0.64264,     0.64364,     0.64464,     0.64565,     0.64665,     0.64765,\n",
      "           0.64865,     0.64965,     0.65065,     0.65165,     0.65265,     0.65365,     0.65465,     0.65566,     0.65666,     0.65766,     0.65866,     0.65966,     0.66066,     0.66166,     0.66266,     0.66366,     0.66466,     0.66567,     0.66667,     0.66767,     0.66867,     0.66967,     0.67067,     0.67167,\n",
      "           0.67267,     0.67367,     0.67467,     0.67568,     0.67668,     0.67768,     0.67868,     0.67968,     0.68068,     0.68168,     0.68268,     0.68368,     0.68468,     0.68569,     0.68669,     0.68769,     0.68869,     0.68969,     0.69069,     0.69169,     0.69269,     0.69369,     0.69469,      0.6957,\n",
      "            0.6967,      0.6977,      0.6987,      0.6997,      0.7007,      0.7017,      0.7027,      0.7037,      0.7047,     0.70571,     0.70671,     0.70771,     0.70871,     0.70971,     0.71071,     0.71171,     0.71271,     0.71371,     0.71471,     0.71572,     0.71672,     0.71772,     0.71872,     0.71972,\n",
      "           0.72072,     0.72172,     0.72272,     0.72372,     0.72472,     0.72573,     0.72673,     0.72773,     0.72873,     0.72973,     0.73073,     0.73173,     0.73273,     0.73373,     0.73473,     0.73574,     0.73674,     0.73774,     0.73874,     0.73974,     0.74074,     0.74174,     0.74274,     0.74374,\n",
      "           0.74474,     0.74575,     0.74675,     0.74775,     0.74875,     0.74975,     0.75075,     0.75175,     0.75275,     0.75375,     0.75475,     0.75576,     0.75676,     0.75776,     0.75876,     0.75976,     0.76076,     0.76176,     0.76276,     0.76376,     0.76476,     0.76577,     0.76677,     0.76777,\n",
      "           0.76877,     0.76977,     0.77077,     0.77177,     0.77277,     0.77377,     0.77477,     0.77578,     0.77678,     0.77778,     0.77878,     0.77978,     0.78078,     0.78178,     0.78278,     0.78378,     0.78478,     0.78579,     0.78679,     0.78779,     0.78879,     0.78979,     0.79079,     0.79179,\n",
      "           0.79279,     0.79379,     0.79479,      0.7958,      0.7968,      0.7978,      0.7988,      0.7998,      0.8008,      0.8018,      0.8028,      0.8038,      0.8048,     0.80581,     0.80681,     0.80781,     0.80881,     0.80981,     0.81081,     0.81181,     0.81281,     0.81381,     0.81481,     0.81582,\n",
      "           0.81682,     0.81782,     0.81882,     0.81982,     0.82082,     0.82182,     0.82282,     0.82382,     0.82482,     0.82583,     0.82683,     0.82783,     0.82883,     0.82983,     0.83083,     0.83183,     0.83283,     0.83383,     0.83483,     0.83584,     0.83684,     0.83784,     0.83884,     0.83984,\n",
      "           0.84084,     0.84184,     0.84284,     0.84384,     0.84484,     0.84585,     0.84685,     0.84785,     0.84885,     0.84985,     0.85085,     0.85185,     0.85285,     0.85385,     0.85485,     0.85586,     0.85686,     0.85786,     0.85886,     0.85986,     0.86086,     0.86186,     0.86286,     0.86386,\n",
      "           0.86486,     0.86587,     0.86687,     0.86787,     0.86887,     0.86987,     0.87087,     0.87187,     0.87287,     0.87387,     0.87487,     0.87588,     0.87688,     0.87788,     0.87888,     0.87988,     0.88088,     0.88188,     0.88288,     0.88388,     0.88488,     0.88589,     0.88689,     0.88789,\n",
      "           0.88889,     0.88989,     0.89089,     0.89189,     0.89289,     0.89389,     0.89489,      0.8959,      0.8969,      0.8979,      0.8989,      0.8999,      0.9009,      0.9019,      0.9029,      0.9039,      0.9049,     0.90591,     0.90691,     0.90791,     0.90891,     0.90991,     0.91091,     0.91191,\n",
      "           0.91291,     0.91391,     0.91491,     0.91592,     0.91692,     0.91792,     0.91892,     0.91992,     0.92092,     0.92192,     0.92292,     0.92392,     0.92492,     0.92593,     0.92693,     0.92793,     0.92893,     0.92993,     0.93093,     0.93193,     0.93293,     0.93393,     0.93493,     0.93594,\n",
      "           0.93694,     0.93794,     0.93894,     0.93994,     0.94094,     0.94194,     0.94294,     0.94394,     0.94494,     0.94595,     0.94695,     0.94795,     0.94895,     0.94995,     0.95095,     0.95195,     0.95295,     0.95395,     0.95495,     0.95596,     0.95696,     0.95796,     0.95896,     0.95996,\n",
      "           0.96096,     0.96196,     0.96296,     0.96396,     0.96496,     0.96597,     0.96697,     0.96797,     0.96897,     0.96997,     0.97097,     0.97197,     0.97297,     0.97397,     0.97497,     0.97598,     0.97698,     0.97798,     0.97898,     0.97998,     0.98098,     0.98198,     0.98298,     0.98398,\n",
      "           0.98498,     0.98599,     0.98699,     0.98799,     0.98899,     0.98999,     0.99099,     0.99199,     0.99299,     0.99399,     0.99499,       0.996,       0.997,       0.998,       0.999,           1]), array([[    0.95894,     0.95894,     0.95546,     0.95477,     0.95407,     0.95338,     0.95268,     0.95228,     0.95152,     0.95129,      0.9492,      0.9485,     0.94781,     0.94726,     0.94627,     0.94572,     0.94542,     0.94502,     0.94384,     0.94326,      0.9423,     0.94224,     0.94224,\n",
      "            0.94149,     0.94117,     0.94085,     0.94015,     0.93946,     0.93825,     0.93737,     0.93737,     0.93737,     0.93737,     0.93729,     0.93685,     0.93667,     0.93667,     0.93598,     0.93598,     0.93598,     0.93405,     0.93317,     0.93273,      0.9325,      0.9325,     0.93242,\n",
      "            0.93225,     0.93208,     0.93191,     0.93168,     0.93136,     0.93111,     0.93111,     0.93111,     0.93077,     0.93041,     0.93041,     0.93023,        0.93,     0.92978,      0.9296,     0.92944,     0.92927,     0.92911,     0.92886,     0.92851,     0.92832,     0.92832,     0.92763,\n",
      "            0.92763,     0.92763,     0.92763,     0.92693,     0.92693,     0.92693,     0.92693,     0.92693,     0.92693,     0.92693,     0.92652,     0.92624,     0.92624,     0.92624,     0.92624,     0.92624,     0.92614,     0.92592,      0.9257,     0.92554,     0.92488,     0.92484,      0.9247,\n",
      "            0.92455,      0.9244,     0.92426,     0.92411,     0.92398,     0.92386,     0.92373,      0.9236,     0.92347,     0.92267,     0.92254,      0.9224,     0.92226,     0.92213,     0.92206,     0.92206,     0.92206,     0.92206,     0.92206,     0.92206,     0.92206,     0.92206,     0.92206,\n",
      "            0.92206,     0.92206,     0.92206,     0.92206,     0.92206,     0.92206,     0.92206,     0.92206,     0.92206,     0.92206,     0.92206,     0.92206,     0.92159,     0.92111,     0.92071,     0.92067,     0.92067,     0.92067,     0.92067,     0.92067,      0.9202,     0.91979,     0.91945,\n",
      "            0.91869,     0.91841,     0.91822,     0.91803,     0.91773,     0.91714,     0.91684,     0.91654,     0.91576,      0.9153,     0.91505,     0.91496,     0.91487,     0.91478,     0.91469,      0.9146,     0.91451,     0.91443,     0.91325,     0.91225,     0.91187,     0.91111,     0.91063,\n",
      "            0.91025,     0.90992,     0.90959,     0.90884,     0.90884,     0.90882,      0.9087,     0.90859,     0.90848,     0.90836,     0.90825,     0.90813,     0.90776,     0.90733,     0.90646,     0.90596,      0.9058,     0.90564,     0.90548,     0.90516,     0.90459,     0.90439,     0.90419,\n",
      "            0.90399,     0.90356,     0.90327,     0.90327,     0.90327,     0.90327,     0.90327,     0.90327,     0.90327,     0.90327,     0.90323,      0.9032,     0.90316,     0.90313,      0.9031,     0.90306,     0.90303,       0.903,     0.90296,     0.90293,      0.9029,     0.90286,     0.90283,\n",
      "             0.9028,     0.90276,     0.90273,      0.9027,     0.90266,     0.90263,      0.9026,     0.90253,     0.90241,     0.90228,     0.90216,     0.90204,     0.90192,     0.90188,     0.90188,     0.90188,     0.90188,     0.90188,     0.90188,     0.90188,     0.90188,     0.90188,     0.90185,\n",
      "            0.90163,     0.90142,      0.9012,     0.90118,     0.90118,     0.90118,     0.90118,     0.90118,     0.90118,     0.90118,     0.90118,     0.90118,     0.90118,     0.90118,     0.90118,     0.90118,     0.90118,     0.90118,     0.90118,     0.90118,     0.90118,     0.90118,     0.90118,\n",
      "            0.90106,     0.90091,     0.90077,     0.90062,     0.90046,     0.90008,     0.89976,     0.89964,     0.89951,     0.89939,     0.89927,     0.89915,      0.8991,      0.8991,      0.8991,      0.8991,      0.8991,      0.8991,      0.8991,      0.8991,      0.8991,      0.8991,      0.8991,\n",
      "             0.8991,      0.8991,      0.8991,      0.8991,      0.8991,      0.8991,     0.89907,     0.89903,     0.89899,     0.89895,     0.89891,     0.89888,     0.89884,      0.8988,     0.89876,     0.89872,     0.89869,     0.89865,     0.89861,     0.89857,     0.89853,     0.89849,     0.89846,\n",
      "            0.89842,     0.89836,      0.8983,     0.89823,     0.89817,      0.8981,     0.89803,     0.89797,      0.8979,     0.89784,     0.89777,      0.8977,      0.8977,      0.8977,      0.8977,      0.8977,      0.8977,      0.8977,      0.8977,      0.8977,      0.8977,      0.8977,      0.8977,\n",
      "             0.8977,      0.8977,      0.8977,      0.8977,      0.8977,      0.8977,      0.8977,      0.8977,      0.8977,      0.8977,      0.8977,      0.8977,      0.8977,      0.8977,      0.8977,      0.8977,      0.8977,      0.8977,      0.8977,      0.8977,      0.8977,      0.8977,      0.8977,\n",
      "             0.8977,      0.8977,      0.8977,      0.8977,      0.8977,      0.8977,      0.8977,      0.8977,      0.8977,      0.8977,      0.8977,      0.8977,      0.8977,      0.8977,      0.8977,      0.8977,      0.8977,     0.89768,     0.89767,     0.89766,     0.89764,     0.89763,     0.89762,\n",
      "             0.8976,     0.89759,     0.89758,     0.89756,     0.89755,     0.89754,     0.89752,     0.89751,      0.8975,     0.89748,     0.89747,     0.89746,     0.89744,     0.89743,     0.89742,      0.8974,     0.89739,     0.89738,     0.89736,     0.89735,     0.89734,     0.89732,     0.89731,\n",
      "             0.8973,     0.89728,     0.89727,     0.89726,     0.89724,     0.89723,     0.89722,     0.89721,     0.89719,     0.89718,     0.89717,     0.89715,     0.89714,     0.89713,     0.89711,      0.8971,     0.89709,     0.89707,     0.89706,     0.89705,     0.89703,     0.89702,     0.89701,\n",
      "            0.89701,     0.89701,     0.89701,     0.89701,     0.89701,     0.89701,     0.89701,     0.89701,     0.89701,     0.89701,     0.89701,     0.89701,     0.89701,     0.89701,     0.89701,     0.89701,     0.89701,     0.89701,     0.89701,     0.89701,     0.89701,     0.89701,     0.89701,\n",
      "            0.89701,     0.89701,     0.89701,     0.89701,     0.89701,     0.89701,     0.89701,     0.89701,     0.89701,     0.89701,     0.89701,     0.89701,     0.89701,     0.89701,     0.89701,     0.89701,     0.89701,     0.89701,       0.897,     0.89692,     0.89683,     0.89675,     0.89666,\n",
      "            0.89657,     0.89649,      0.8964,     0.89632,     0.89631,     0.89625,     0.89593,     0.89562,     0.89562,     0.89562,     0.89562,     0.89562,     0.89562,     0.89562,     0.89562,     0.89562,     0.89562,     0.89562,     0.89562,     0.89562,     0.89562,     0.89562,     0.89562,\n",
      "            0.89562,     0.89562,     0.89562,     0.89562,     0.89562,     0.89562,     0.89562,     0.89562,     0.89562,     0.89562,     0.89562,     0.89562,     0.89562,     0.89562,     0.89542,     0.89523,     0.89503,     0.89492,     0.89492,     0.89492,     0.89492,     0.89492,     0.89492,\n",
      "            0.89492,     0.89492,     0.89492,     0.89492,     0.89492,     0.89492,     0.89492,     0.89492,     0.89492,     0.89492,     0.89492,     0.89492,     0.89486,     0.89422,     0.89422,     0.89422,     0.89422,     0.89422,     0.89422,     0.89422,     0.89422,     0.89422,     0.89422,\n",
      "            0.89422,     0.89422,     0.89422,     0.89422,     0.89422,     0.89422,     0.89422,     0.89422,     0.89422,     0.89422,     0.89422,     0.89422,     0.89422,     0.89422,     0.89422,     0.89422,     0.89422,     0.89422,     0.89422,     0.89422,     0.89422,     0.89422,     0.89422,\n",
      "            0.89422,     0.89422,     0.89422,     0.89422,     0.89422,     0.89422,     0.89422,     0.89422,     0.89422,     0.89422,     0.89422,     0.89422,     0.89422,     0.89422,     0.89422,     0.89422,     0.89422,     0.89422,     0.89422,     0.89422,     0.89422,     0.89422,     0.89422,\n",
      "            0.89422,     0.89422,     0.89422,     0.89398,     0.89374,     0.89349,     0.89329,     0.89309,     0.89288,      0.8928,     0.89275,      0.8927,     0.89265,      0.8926,     0.89255,      0.8925,     0.89245,      0.8924,     0.89235,      0.8923,     0.89225,      0.8922,     0.89215,\n",
      "            0.89207,     0.89197,     0.89187,     0.89177,     0.89167,     0.89157,     0.89147,     0.89142,      0.8914,     0.89138,     0.89135,     0.89133,      0.8913,     0.89128,     0.89126,     0.89123,     0.89121,     0.89119,     0.89116,     0.89114,     0.89111,     0.89109,     0.89107,\n",
      "            0.89104,     0.89102,     0.89099,     0.89097,     0.89095,     0.89092,      0.8909,     0.89087,     0.89085,     0.89083,      0.8908,     0.89078,     0.89076,     0.89074,     0.89074,     0.89074,     0.89063,     0.89053,     0.89042,     0.89032,     0.89021,     0.89011,     0.89005,\n",
      "            0.89005,     0.89005,     0.89005,     0.89005,     0.89005,     0.89005,     0.89005,     0.89005,     0.89005,     0.89005,     0.89005,     0.89005,     0.89005,     0.89005,     0.89005,     0.89005,     0.89005,     0.89005,     0.89005,     0.89005,     0.89001,     0.88995,      0.8899,\n",
      "            0.88984,     0.88979,     0.88973,     0.88967,     0.88962,     0.88956,      0.8895,     0.88945,     0.88939,     0.88932,     0.88922,     0.88912,     0.88902,     0.88892,     0.88882,     0.88872,     0.88864,     0.88857,     0.88851,     0.88845,     0.88839,     0.88832,     0.88826,\n",
      "             0.8882,     0.88814,     0.88807,     0.88801,     0.88795,     0.88789,     0.88784,     0.88778,     0.88772,     0.88766,     0.88761,     0.88755,     0.88749,     0.88743,     0.88738,     0.88732,     0.88727,     0.88727,     0.88727,     0.88727,     0.88727,     0.88727,     0.88727,\n",
      "            0.88727,     0.88704,     0.88657,     0.88642,     0.88627,     0.88611,     0.88596,     0.88556,     0.88508,     0.88489,     0.88469,      0.8845,     0.88448,     0.88448,     0.88448,     0.88444,     0.88434,     0.88425,     0.88415,     0.88406,     0.88396,     0.88387,     0.88374,\n",
      "            0.88344,     0.88315,     0.88309,     0.88309,     0.88309,     0.88309,     0.88309,     0.88309,     0.88309,     0.88309,     0.88309,     0.88308,     0.88304,       0.883,     0.88296,     0.88292,     0.88288,     0.88285,     0.88281,     0.88277,     0.88273,     0.88269,     0.88265,\n",
      "            0.88261,     0.88258,     0.88254,      0.8825,     0.88246,     0.88242,      0.8817,      0.8817,       0.881,       0.881,       0.881,       0.881,       0.881,       0.881,       0.881,     0.88083,     0.88035,     0.88031,      0.8803,     0.88022,     0.88013,     0.88005,     0.87996,\n",
      "            0.87988,      0.8798,     0.87971,     0.87963,     0.87961,     0.87961,     0.87961,     0.87961,     0.87961,     0.87961,      0.8795,     0.87926,     0.87902,     0.87859,     0.87751,     0.87743,     0.87734,     0.87726,     0.87717,     0.87709,       0.877,     0.87691,     0.87683,\n",
      "            0.87602,     0.87585,     0.87569,     0.87552,     0.87514,     0.87466,     0.87446,     0.87426,     0.87405,     0.87358,     0.87292,     0.87255,     0.87241,     0.87227,     0.87213,     0.87199,     0.87133,     0.87078,     0.86987,     0.86987,     0.86987,     0.86953,     0.86907,\n",
      "            0.86848,     0.86802,     0.86639,     0.86578,     0.86414,     0.86379,      0.8636,     0.86325,     0.86213,     0.86181,     0.86152,     0.86152,     0.86082,     0.86082,      0.8607,     0.86032,     0.86007,     0.85966,     0.85839,     0.85787,     0.85758,     0.85592,     0.85403,\n",
      "            0.85386,     0.85346,     0.85247,     0.85247,     0.85247,     0.85247,      0.8524,       0.852,     0.85093,     0.84967,     0.84822,     0.84747,     0.84708,     0.84679,     0.84659,     0.84638,     0.84551,     0.84543,     0.84522,     0.84501,     0.84482,     0.84482,     0.84405,\n",
      "            0.84324,     0.84196,     0.84099,     0.84053,     0.84014,     0.83916,     0.83865,     0.83765,      0.8373,     0.83523,     0.83507,     0.83472,     0.83438,     0.83438,     0.83438,     0.83425,     0.83299,     0.83299,     0.83233,     0.82969,     0.82754,     0.82587,     0.82443,\n",
      "             0.8242,     0.82396,     0.81976,     0.81813,     0.81719,     0.81545,     0.81504,     0.81426,     0.81235,      0.8106,     0.80868,     0.80793,     0.80726,     0.80572,     0.80528,     0.80376,     0.80366,     0.80306,     0.80285,     0.80206,     0.80106,     0.80004,     0.79891,\n",
      "            0.79817,     0.79786,     0.79755,     0.79636,     0.79602,     0.79503,     0.79396,     0.79331,     0.79262,     0.79123,     0.79101,     0.78984,     0.78737,     0.78434,     0.78233,     0.77838,     0.77506,     0.77088,     0.76697,     0.76112,     0.75948,     0.75308,     0.74765,\n",
      "            0.74391,     0.74391,     0.74391,     0.74252,     0.74106,     0.73805,     0.73619,     0.73188,     0.72933,     0.72314,     0.71278,     0.69618,     0.68296,     0.67368,     0.66242,     0.64875,     0.63252,     0.60439,     0.57696,     0.55621,     0.52452,     0.49723,     0.46247,\n",
      "            0.43483,     0.41561,     0.36792,     0.31826,     0.28331,     0.24782,     0.20629,     0.19355,     0.17728,     0.12848,     0.10705,     0.10114,    0.078524,    0.023955,   0.0049929,           0,           0,           0,           0,           0,           0,           0,           0,\n",
      "                  0,           0,           0,           0,           0,           0,           0,           0,           0,           0,           0]]), 'Confidence', 'Recall']]\n",
      "fitness: 0.9219249447024727\n",
      "keys: ['metrics/precision(B)', 'metrics/recall(B)', 'metrics/mAP50(B)', 'metrics/mAP50-95(B)']\n",
      "maps: array([    0.91689,     0.91689])\n",
      "names: {0: ' ', 1: 'person'}\n",
      "plot: True\n",
      "results_dict: {'metrics/precision(B)': 0.9251626663179305, 'metrics/recall(B)': 0.9291092973101196, 'metrics/mAP50(B)': 0.9672353499186636, 'metrics/mAP50-95(B)': 0.916890455234007, 'fitness': 0.9219249447024727}\n",
      "save_dir: PosixPath('runs/detect/train2')\n",
      "speed: {'preprocess': 1.7415428161621094, 'inference': 80.75556755065918, 'loss': 0.0012731552124023438, 'postprocess': 4.025716781616211}\n",
      "task: 'detect'\n"
     ]
    }
   ],
   "source": [
    "from ultralytics import YOLO\n",
    "\n",
    "yolo = YOLO('yolov8x.pt')\n",
    "yolo.train(data='/content/drive/MyDrive/dataset/yolofinetuning/yolofinetuning/data.yaml', epochs=100)\n",
    "valid_results = yolo.val()\n",
    "print(valid_results)"
   ]
  },
  {
   "cell_type": "code",
   "execution_count": null,
   "metadata": {
    "colab": {
     "base_uri": "https://localhost:8080/"
    },
    "executionInfo": {
     "elapsed": 876,
     "status": "ok",
     "timestamp": 1716104285711,
     "user": {
      "displayName": "Harsh Maheshwari",
      "userId": "10425666184789192535"
     },
     "user_tz": -330
    },
    "id": "RT_g5844u-WU",
    "outputId": "7d0403e1-d279-47f0-9f43-03774d2a197e"
   },
   "outputs": [
    {
     "name": "stdout",
     "output_type": "stream",
     "text": [
      "ultralytics.utils.metrics.DetMetrics object with attributes:\n",
      "\n",
      "ap_class_index: array([1])\n",
      "box: ultralytics.utils.metrics.Metric object\n",
      "confusion_matrix: <ultralytics.utils.metrics.ConfusionMatrix object at 0x7c45df0808e0>\n",
      "curves: ['Precision-Recall(B)', 'F1-Confidence(B)', 'Precision-Confidence(B)', 'Recall-Confidence(B)']\n",
      "curves_results: [[array([          0,    0.001001,    0.002002,    0.003003,    0.004004,    0.005005,    0.006006,    0.007007,    0.008008,    0.009009,     0.01001,    0.011011,    0.012012,    0.013013,    0.014014,    0.015015,    0.016016,    0.017017,    0.018018,    0.019019,     0.02002,    0.021021,    0.022022,    0.023023,\n",
      "          0.024024,    0.025025,    0.026026,    0.027027,    0.028028,    0.029029,     0.03003,    0.031031,    0.032032,    0.033033,    0.034034,    0.035035,    0.036036,    0.037037,    0.038038,    0.039039,     0.04004,    0.041041,    0.042042,    0.043043,    0.044044,    0.045045,    0.046046,    0.047047,\n",
      "          0.048048,    0.049049,     0.05005,    0.051051,    0.052052,    0.053053,    0.054054,    0.055055,    0.056056,    0.057057,    0.058058,    0.059059,     0.06006,    0.061061,    0.062062,    0.063063,    0.064064,    0.065065,    0.066066,    0.067067,    0.068068,    0.069069,     0.07007,    0.071071,\n",
      "          0.072072,    0.073073,    0.074074,    0.075075,    0.076076,    0.077077,    0.078078,    0.079079,     0.08008,    0.081081,    0.082082,    0.083083,    0.084084,    0.085085,    0.086086,    0.087087,    0.088088,    0.089089,     0.09009,    0.091091,    0.092092,    0.093093,    0.094094,    0.095095,\n",
      "          0.096096,    0.097097,    0.098098,    0.099099,      0.1001,      0.1011,      0.1021,      0.1031,      0.1041,     0.10511,     0.10611,     0.10711,     0.10811,     0.10911,     0.11011,     0.11111,     0.11211,     0.11311,     0.11411,     0.11512,     0.11612,     0.11712,     0.11812,     0.11912,\n",
      "           0.12012,     0.12112,     0.12212,     0.12312,     0.12412,     0.12513,     0.12613,     0.12713,     0.12813,     0.12913,     0.13013,     0.13113,     0.13213,     0.13313,     0.13413,     0.13514,     0.13614,     0.13714,     0.13814,     0.13914,     0.14014,     0.14114,     0.14214,     0.14314,\n",
      "           0.14414,     0.14515,     0.14615,     0.14715,     0.14815,     0.14915,     0.15015,     0.15115,     0.15215,     0.15315,     0.15415,     0.15516,     0.15616,     0.15716,     0.15816,     0.15916,     0.16016,     0.16116,     0.16216,     0.16316,     0.16416,     0.16517,     0.16617,     0.16717,\n",
      "           0.16817,     0.16917,     0.17017,     0.17117,     0.17217,     0.17317,     0.17417,     0.17518,     0.17618,     0.17718,     0.17818,     0.17918,     0.18018,     0.18118,     0.18218,     0.18318,     0.18418,     0.18519,     0.18619,     0.18719,     0.18819,     0.18919,     0.19019,     0.19119,\n",
      "           0.19219,     0.19319,     0.19419,      0.1952,      0.1962,      0.1972,      0.1982,      0.1992,      0.2002,      0.2012,      0.2022,      0.2032,      0.2042,     0.20521,     0.20621,     0.20721,     0.20821,     0.20921,     0.21021,     0.21121,     0.21221,     0.21321,     0.21421,     0.21522,\n",
      "           0.21622,     0.21722,     0.21822,     0.21922,     0.22022,     0.22122,     0.22222,     0.22322,     0.22422,     0.22523,     0.22623,     0.22723,     0.22823,     0.22923,     0.23023,     0.23123,     0.23223,     0.23323,     0.23423,     0.23524,     0.23624,     0.23724,     0.23824,     0.23924,\n",
      "           0.24024,     0.24124,     0.24224,     0.24324,     0.24424,     0.24525,     0.24625,     0.24725,     0.24825,     0.24925,     0.25025,     0.25125,     0.25225,     0.25325,     0.25425,     0.25526,     0.25626,     0.25726,     0.25826,     0.25926,     0.26026,     0.26126,     0.26226,     0.26326,\n",
      "           0.26426,     0.26527,     0.26627,     0.26727,     0.26827,     0.26927,     0.27027,     0.27127,     0.27227,     0.27327,     0.27427,     0.27528,     0.27628,     0.27728,     0.27828,     0.27928,     0.28028,     0.28128,     0.28228,     0.28328,     0.28428,     0.28529,     0.28629,     0.28729,\n",
      "           0.28829,     0.28929,     0.29029,     0.29129,     0.29229,     0.29329,     0.29429,      0.2953,      0.2963,      0.2973,      0.2983,      0.2993,      0.3003,      0.3013,      0.3023,      0.3033,      0.3043,     0.30531,     0.30631,     0.30731,     0.30831,     0.30931,     0.31031,     0.31131,\n",
      "           0.31231,     0.31331,     0.31431,     0.31532,     0.31632,     0.31732,     0.31832,     0.31932,     0.32032,     0.32132,     0.32232,     0.32332,     0.32432,     0.32533,     0.32633,     0.32733,     0.32833,     0.32933,     0.33033,     0.33133,     0.33233,     0.33333,     0.33433,     0.33534,\n",
      "           0.33634,     0.33734,     0.33834,     0.33934,     0.34034,     0.34134,     0.34234,     0.34334,     0.34434,     0.34535,     0.34635,     0.34735,     0.34835,     0.34935,     0.35035,     0.35135,     0.35235,     0.35335,     0.35435,     0.35536,     0.35636,     0.35736,     0.35836,     0.35936,\n",
      "           0.36036,     0.36136,     0.36236,     0.36336,     0.36436,     0.36537,     0.36637,     0.36737,     0.36837,     0.36937,     0.37037,     0.37137,     0.37237,     0.37337,     0.37437,     0.37538,     0.37638,     0.37738,     0.37838,     0.37938,     0.38038,     0.38138,     0.38238,     0.38338,\n",
      "           0.38438,     0.38539,     0.38639,     0.38739,     0.38839,     0.38939,     0.39039,     0.39139,     0.39239,     0.39339,     0.39439,      0.3954,      0.3964,      0.3974,      0.3984,      0.3994,      0.4004,      0.4014,      0.4024,      0.4034,      0.4044,     0.40541,     0.40641,     0.40741,\n",
      "           0.40841,     0.40941,     0.41041,     0.41141,     0.41241,     0.41341,     0.41441,     0.41542,     0.41642,     0.41742,     0.41842,     0.41942,     0.42042,     0.42142,     0.42242,     0.42342,     0.42442,     0.42543,     0.42643,     0.42743,     0.42843,     0.42943,     0.43043,     0.43143,\n",
      "           0.43243,     0.43343,     0.43443,     0.43544,     0.43644,     0.43744,     0.43844,     0.43944,     0.44044,     0.44144,     0.44244,     0.44344,     0.44444,     0.44545,     0.44645,     0.44745,     0.44845,     0.44945,     0.45045,     0.45145,     0.45245,     0.45345,     0.45445,     0.45546,\n",
      "           0.45646,     0.45746,     0.45846,     0.45946,     0.46046,     0.46146,     0.46246,     0.46346,     0.46446,     0.46547,     0.46647,     0.46747,     0.46847,     0.46947,     0.47047,     0.47147,     0.47247,     0.47347,     0.47447,     0.47548,     0.47648,     0.47748,     0.47848,     0.47948,\n",
      "           0.48048,     0.48148,     0.48248,     0.48348,     0.48448,     0.48549,     0.48649,     0.48749,     0.48849,     0.48949,     0.49049,     0.49149,     0.49249,     0.49349,     0.49449,      0.4955,      0.4965,      0.4975,      0.4985,      0.4995,      0.5005,      0.5015,      0.5025,      0.5035,\n",
      "            0.5045,     0.50551,     0.50651,     0.50751,     0.50851,     0.50951,     0.51051,     0.51151,     0.51251,     0.51351,     0.51451,     0.51552,     0.51652,     0.51752,     0.51852,     0.51952,     0.52052,     0.52152,     0.52252,     0.52352,     0.52452,     0.52553,     0.52653,     0.52753,\n",
      "           0.52853,     0.52953,     0.53053,     0.53153,     0.53253,     0.53353,     0.53453,     0.53554,     0.53654,     0.53754,     0.53854,     0.53954,     0.54054,     0.54154,     0.54254,     0.54354,     0.54454,     0.54555,     0.54655,     0.54755,     0.54855,     0.54955,     0.55055,     0.55155,\n",
      "           0.55255,     0.55355,     0.55455,     0.55556,     0.55656,     0.55756,     0.55856,     0.55956,     0.56056,     0.56156,     0.56256,     0.56356,     0.56456,     0.56557,     0.56657,     0.56757,     0.56857,     0.56957,     0.57057,     0.57157,     0.57257,     0.57357,     0.57457,     0.57558,\n",
      "           0.57658,     0.57758,     0.57858,     0.57958,     0.58058,     0.58158,     0.58258,     0.58358,     0.58458,     0.58559,     0.58659,     0.58759,     0.58859,     0.58959,     0.59059,     0.59159,     0.59259,     0.59359,     0.59459,      0.5956,      0.5966,      0.5976,      0.5986,      0.5996,\n",
      "            0.6006,      0.6016,      0.6026,      0.6036,      0.6046,     0.60561,     0.60661,     0.60761,     0.60861,     0.60961,     0.61061,     0.61161,     0.61261,     0.61361,     0.61461,     0.61562,     0.61662,     0.61762,     0.61862,     0.61962,     0.62062,     0.62162,     0.62262,     0.62362,\n",
      "           0.62462,     0.62563,     0.62663,     0.62763,     0.62863,     0.62963,     0.63063,     0.63163,     0.63263,     0.63363,     0.63463,     0.63564,     0.63664,     0.63764,     0.63864,     0.63964,     0.64064,     0.64164,     0.64264,     0.64364,     0.64464,     0.64565,     0.64665,     0.64765,\n",
      "           0.64865,     0.64965,     0.65065,     0.65165,     0.65265,     0.65365,     0.65465,     0.65566,     0.65666,     0.65766,     0.65866,     0.65966,     0.66066,     0.66166,     0.66266,     0.66366,     0.66466,     0.66567,     0.66667,     0.66767,     0.66867,     0.66967,     0.67067,     0.67167,\n",
      "           0.67267,     0.67367,     0.67467,     0.67568,     0.67668,     0.67768,     0.67868,     0.67968,     0.68068,     0.68168,     0.68268,     0.68368,     0.68468,     0.68569,     0.68669,     0.68769,     0.68869,     0.68969,     0.69069,     0.69169,     0.69269,     0.69369,     0.69469,      0.6957,\n",
      "            0.6967,      0.6977,      0.6987,      0.6997,      0.7007,      0.7017,      0.7027,      0.7037,      0.7047,     0.70571,     0.70671,     0.70771,     0.70871,     0.70971,     0.71071,     0.71171,     0.71271,     0.71371,     0.71471,     0.71572,     0.71672,     0.71772,     0.71872,     0.71972,\n",
      "           0.72072,     0.72172,     0.72272,     0.72372,     0.72472,     0.72573,     0.72673,     0.72773,     0.72873,     0.72973,     0.73073,     0.73173,     0.73273,     0.73373,     0.73473,     0.73574,     0.73674,     0.73774,     0.73874,     0.73974,     0.74074,     0.74174,     0.74274,     0.74374,\n",
      "           0.74474,     0.74575,     0.74675,     0.74775,     0.74875,     0.74975,     0.75075,     0.75175,     0.75275,     0.75375,     0.75475,     0.75576,     0.75676,     0.75776,     0.75876,     0.75976,     0.76076,     0.76176,     0.76276,     0.76376,     0.76476,     0.76577,     0.76677,     0.76777,\n",
      "           0.76877,     0.76977,     0.77077,     0.77177,     0.77277,     0.77377,     0.77477,     0.77578,     0.77678,     0.77778,     0.77878,     0.77978,     0.78078,     0.78178,     0.78278,     0.78378,     0.78478,     0.78579,     0.78679,     0.78779,     0.78879,     0.78979,     0.79079,     0.79179,\n",
      "           0.79279,     0.79379,     0.79479,      0.7958,      0.7968,      0.7978,      0.7988,      0.7998,      0.8008,      0.8018,      0.8028,      0.8038,      0.8048,     0.80581,     0.80681,     0.80781,     0.80881,     0.80981,     0.81081,     0.81181,     0.81281,     0.81381,     0.81481,     0.81582,\n",
      "           0.81682,     0.81782,     0.81882,     0.81982,     0.82082,     0.82182,     0.82282,     0.82382,     0.82482,     0.82583,     0.82683,     0.82783,     0.82883,     0.82983,     0.83083,     0.83183,     0.83283,     0.83383,     0.83483,     0.83584,     0.83684,     0.83784,     0.83884,     0.83984,\n",
      "           0.84084,     0.84184,     0.84284,     0.84384,     0.84484,     0.84585,     0.84685,     0.84785,     0.84885,     0.84985,     0.85085,     0.85185,     0.85285,     0.85385,     0.85485,     0.85586,     0.85686,     0.85786,     0.85886,     0.85986,     0.86086,     0.86186,     0.86286,     0.86386,\n",
      "           0.86486,     0.86587,     0.86687,     0.86787,     0.86887,     0.86987,     0.87087,     0.87187,     0.87287,     0.87387,     0.87487,     0.87588,     0.87688,     0.87788,     0.87888,     0.87988,     0.88088,     0.88188,     0.88288,     0.88388,     0.88488,     0.88589,     0.88689,     0.88789,\n",
      "           0.88889,     0.88989,     0.89089,     0.89189,     0.89289,     0.89389,     0.89489,      0.8959,      0.8969,      0.8979,      0.8989,      0.8999,      0.9009,      0.9019,      0.9029,      0.9039,      0.9049,     0.90591,     0.90691,     0.90791,     0.90891,     0.90991,     0.91091,     0.91191,\n",
      "           0.91291,     0.91391,     0.91491,     0.91592,     0.91692,     0.91792,     0.91892,     0.91992,     0.92092,     0.92192,     0.92292,     0.92392,     0.92492,     0.92593,     0.92693,     0.92793,     0.92893,     0.92993,     0.93093,     0.93193,     0.93293,     0.93393,     0.93493,     0.93594,\n",
      "           0.93694,     0.93794,     0.93894,     0.93994,     0.94094,     0.94194,     0.94294,     0.94394,     0.94494,     0.94595,     0.94695,     0.94795,     0.94895,     0.94995,     0.95095,     0.95195,     0.95295,     0.95395,     0.95495,     0.95596,     0.95696,     0.95796,     0.95896,     0.95996,\n",
      "           0.96096,     0.96196,     0.96296,     0.96396,     0.96496,     0.96597,     0.96697,     0.96797,     0.96897,     0.96997,     0.97097,     0.97197,     0.97297,     0.97397,     0.97497,     0.97598,     0.97698,     0.97798,     0.97898,     0.97998,     0.98098,     0.98198,     0.98298,     0.98398,\n",
      "           0.98498,     0.98599,     0.98699,     0.98799,     0.98899,     0.98999,     0.99099,     0.99199,     0.99299,     0.99399,     0.99499,       0.996,       0.997,       0.998,       0.999,           1]), array([[          1,           1,           1,           1,           1,           1,           1,           1,           1,           1,           1,           1,           1,           1,           1,           1,           1,           1,           1,           1,           1,           1,           1,\n",
      "                  1,           1,           1,           1,           1,           1,           1,           1,           1,           1,           1,           1,           1,           1,           1,           1,           1,           1,           1,           1,           1,           1,           1,\n",
      "                  1,           1,           1,           1,           1,           1,           1,           1,           1,           1,           1,           1,           1,           1,           1,           1,           1,           1,           1,           1,           1,           1,           1,\n",
      "                  1,           1,           1,           1,           1,           1,           1,           1,           1,           1,           1,           1,           1,           1,           1,           1,           1,           1,           1,           1,           1,           1,           1,\n",
      "                  1,           1,           1,           1,           1,           1,           1,           1,           1,           1,           1,           1,           1,           1,           1,           1,           1,           1,           1,           1,           1,           1,           1,\n",
      "                  1,           1,           1,           1,           1,           1,           1,           1,           1,           1,           1,           1,           1,           1,           1,           1,           1,           1,           1,           1,           1,           1,           1,\n",
      "                  1,           1,           1,           1,           1,           1,           1,           1,           1,           1,           1,           1,           1,           1,           1,           1,           1,           1,           1,           1,           1,           1,           1,\n",
      "                  1,           1,           1,           1,           1,           1,           1,           1,           1,           1,           1,           1,           1,           1,           1,           1,           1,           1,           1,           1,           1,           1,           1,\n",
      "                  1,           1,           1,           1,           1,           1,           1,           1,           1,           1,           1,           1,           1,           1,           1,           1,           1,           1,           1,           1,           1,           1,           1,\n",
      "                  1,           1,           1,           1,           1,           1,           1,           1,           1,           1,           1,           1,           1,           1,           1,           1,           1,           1,           1,           1,           1,           1,           1,\n",
      "                  1,           1,           1,           1,           1,           1,           1,           1,           1,           1,           1,           1,           1,           1,           1,           1,           1,           1,           1,           1,           1,           1,           1,\n",
      "                  1,           1,           1,           1,           1,           1,           1,           1,           1,           1,           1,           1,           1,           1,           1,           1,           1,           1,           1,           1,           1,           1,           1,\n",
      "                  1,           1,           1,           1,           1,           1,           1,           1,           1,           1,           1,           1,           1,           1,           1,           1,           1,           1,           1,           1,           1,           1,           1,\n",
      "                  1,           1,           1,           1,           1,           1,           1,           1,           1,           1,           1,           1,           1,           1,           1,           1,           1,           1,           1,           1,           1,           1,           1,\n",
      "                  1,           1,           1,           1,           1,           1,           1,           1,           1,           1,           1,           1,           1,           1,           1,           1,           1,           1,           1,           1,           1,           1,           1,\n",
      "                  1,           1,           1,           1,           1,           1,           1,           1,           1,           1,           1,           1,           1,           1,           1,           1,           1,           1,           1,           1,           1,           1,           1,\n",
      "                  1,           1,           1,           1,           1,           1,           1,           1,           1,           1,           1,           1,           1,           1,           1,           1,           1,           1,           1,           1,           1,           1,           1,\n",
      "                  1,           1,           1,           1,           1,           1,           1,           1,           1,           1,           1,           1,           1,           1,           1,           1,           1,           1,           1,           1,           1,           1,           1,\n",
      "                  1,           1,           1,           1,           1,           1,           1,           1,           1,           1,           1,           1,           1,           1,           1,           1,           1,           1,           1,           1,           1,           1,           1,\n",
      "                  1,           1,           1,           1,           1,           1,           1,           1,           1,           1,           1,           1,           1,           1,           1,           1,           1,           1,           1,           1,           1,           1,           1,\n",
      "                  1,           1,           1,           1,           1,           1,           1,           1,           1,           1,           1,           1,           1,           1,           1,           1,           1,           1,           1,           1,           1,           1,           1,\n",
      "                  1,           1,           1,           1,           1,           1,           1,           1,           1,           1,           1,           1,           1,           1,           1,           1,           1,           1,           1,           1,           1,           1,           1,\n",
      "                  1,           1,           1,           1,           1,           1,           1,           1,           1,           1,           1,           1,           1,           1,           1,           1,           1,           1,           1,           1,           1,           1,           1,\n",
      "                  1,           1,           1,           1,           1,           1,           1,           1,           1,           1,           1,           1,           1,           1,           1,           1,           1,           1,           1,           1,           1,           1,           1,\n",
      "                  1,           1,           1,           1,           1,           1,           1,           1,           1,           1,           1,           1,           1,           1,           1,           1,           1,           1,           1,           1,           1,           1,           1,\n",
      "                  1,           1,           1,           1,           1,           1,           1,           1,           1,           1,           1,           1,           1,           1,           1,           1,           1,           1,           1,           1,           1,           1,           1,\n",
      "                  1,           1,           1,           1,           1,           1,           1,           1,           1,           1,           1,           1,           1,           1,           1,           1,           1,           1,           1,           1,           1,           1,           1,\n",
      "                  1,           1,           1,           1,           1,           1,           1,           1,           1,           1,           1,           1,           1,           1,           1,           1,           1,           1,           1,           1,           1,           1,           1,\n",
      "                  1,           1,           1,           1,           1,           1,           1,           1,           1,           1,           1,           1,           1,           1,           1,           1,           1,           1,           1,           1,           1,           1,           1,\n",
      "                  1,           1,           1,           1,           1,           1,           1,           1,           1,           1,           1,           1,           1,           1,           1,           1,           1,           1,           1,           1,           1,           1,           1,\n",
      "                  1,           1,           1,           1,           1,           1,           1,           1,           1,           1,           1,           1,           1,           1,           1,           1,           1,           1,           1,           1,           1,           1,           1,\n",
      "                  1,           1,           1,           1,           1,           1,           1,           1,           1,           1,           1,           1,           1,           1,           1,           1,           1,           1,           1,           1,           1,           1,           1,\n",
      "                  1,           1,           1,           1,           1,           1,     0.99907,     0.99907,     0.99638,     0.99638,     0.99638,     0.99638,     0.99638,     0.99638,     0.99638,     0.99638,     0.99638,     0.99638,     0.99638,     0.99638,     0.99638,     0.99638,     0.99638,\n",
      "            0.99638,     0.99638,     0.99638,     0.99638,     0.99638,     0.99638,     0.99638,     0.99557,     0.99557,     0.99557,     0.99557,     0.99557,     0.99557,     0.99557,     0.99557,     0.99557,     0.99557,     0.99557,     0.99557,     0.99557,     0.99557,     0.99557,     0.99557,\n",
      "            0.99474,     0.99474,     0.99474,     0.99474,     0.99474,     0.99474,     0.99474,     0.99474,     0.99301,     0.99043,     0.98962,     0.98962,     0.98962,     0.98962,     0.98877,     0.98795,     0.98795,     0.98717,     0.98717,     0.98717,     0.98717,     0.98387,     0.98387,\n",
      "            0.98387,     0.98307,     0.98307,     0.98231,     0.98231,     0.98231,     0.98151,      0.9808,      0.9808,      0.9808,      0.9808,      0.9808,        0.98,     0.97922,     0.97867,     0.97867,     0.97867,     0.97867,     0.97867,     0.97867,     0.97867,     0.97867,     0.97867,\n",
      "            0.97867,     0.97867,     0.97714,     0.97714,     0.97714,     0.97638,     0.97482,     0.97426,     0.97426,     0.97426,     0.97426,     0.97426,     0.97426,     0.97426,     0.97354,     0.97354,     0.97278,     0.97222,     0.97222,     0.97222,     0.97222,     0.97222,     0.97222,\n",
      "            0.97222,      0.9715,      0.9715,     0.97017,     0.97017,     0.97017,     0.97017,     0.97017,     0.97017,      0.9687,     0.96802,     0.96802,     0.96737,     0.96737,     0.96737,     0.96669,     0.96669,       0.966,     0.96533,     0.96533,     0.96533,     0.96489,     0.96489,\n",
      "            0.96489,     0.96489,     0.96489,     0.96489,     0.96489,     0.96418,     0.96347,     0.96064,     0.96064,     0.95997,     0.95937,     0.95937,     0.95937,     0.95877,     0.95877,     0.95877,     0.95681,     0.95681,     0.95681,     0.95681,      0.9533,     0.94152,     0.94088,\n",
      "            0.93827,     0.93827,     0.93773,     0.93773,     0.93651,     0.93651,     0.93553,     0.93553,     0.93553,     0.93553,     0.93553,       0.935,       0.935,       0.935,     0.93498,     0.93498,     0.93498,     0.93498,     0.93498,     0.93498,     0.93498,     0.93498,     0.93498,\n",
      "            0.93376,     0.93376,     0.93198,     0.93198,     0.93137,     0.93012,     0.92952,     0.92575,     0.92526,     0.92526,     0.92467,     0.92414,     0.92376,     0.92376,     0.92376,     0.92376,     0.92071,     0.91831,     0.91774,     0.91718,      0.9161,      0.9161,     0.91141,\n",
      "            0.91141,     0.91141,      0.9097,     0.90915,     0.90625,     0.90511,     0.90344,     0.90291,     0.89882,     0.89367,     0.88623,     0.86679,     0.83475,     0.82842,     0.81335,     0.80458,     0.78495,     0.76533,     0.74571,     0.72608,     0.70646,     0.68684,     0.66721,\n",
      "            0.64759,     0.62796,     0.60834,     0.58872,     0.56909,     0.54947,     0.52984,     0.51022,      0.4906,     0.47097,     0.45135,     0.43173,      0.4121,     0.39248,     0.37285,     0.35323,     0.33361,     0.31398,     0.29436,     0.27473,     0.25511,     0.23549,     0.21586,\n",
      "            0.19624,     0.17661,     0.15699,     0.13737,     0.11774,    0.098119,    0.078495,    0.058872,    0.039248,    0.019624,           0]]), 'Recall', 'Precision'], [array([          0,    0.001001,    0.002002,    0.003003,    0.004004,    0.005005,    0.006006,    0.007007,    0.008008,    0.009009,     0.01001,    0.011011,    0.012012,    0.013013,    0.014014,    0.015015,    0.016016,    0.017017,    0.018018,    0.019019,     0.02002,    0.021021,    0.022022,    0.023023,\n",
      "          0.024024,    0.025025,    0.026026,    0.027027,    0.028028,    0.029029,     0.03003,    0.031031,    0.032032,    0.033033,    0.034034,    0.035035,    0.036036,    0.037037,    0.038038,    0.039039,     0.04004,    0.041041,    0.042042,    0.043043,    0.044044,    0.045045,    0.046046,    0.047047,\n",
      "          0.048048,    0.049049,     0.05005,    0.051051,    0.052052,    0.053053,    0.054054,    0.055055,    0.056056,    0.057057,    0.058058,    0.059059,     0.06006,    0.061061,    0.062062,    0.063063,    0.064064,    0.065065,    0.066066,    0.067067,    0.068068,    0.069069,     0.07007,    0.071071,\n",
      "          0.072072,    0.073073,    0.074074,    0.075075,    0.076076,    0.077077,    0.078078,    0.079079,     0.08008,    0.081081,    0.082082,    0.083083,    0.084084,    0.085085,    0.086086,    0.087087,    0.088088,    0.089089,     0.09009,    0.091091,    0.092092,    0.093093,    0.094094,    0.095095,\n",
      "          0.096096,    0.097097,    0.098098,    0.099099,      0.1001,      0.1011,      0.1021,      0.1031,      0.1041,     0.10511,     0.10611,     0.10711,     0.10811,     0.10911,     0.11011,     0.11111,     0.11211,     0.11311,     0.11411,     0.11512,     0.11612,     0.11712,     0.11812,     0.11912,\n",
      "           0.12012,     0.12112,     0.12212,     0.12312,     0.12412,     0.12513,     0.12613,     0.12713,     0.12813,     0.12913,     0.13013,     0.13113,     0.13213,     0.13313,     0.13413,     0.13514,     0.13614,     0.13714,     0.13814,     0.13914,     0.14014,     0.14114,     0.14214,     0.14314,\n",
      "           0.14414,     0.14515,     0.14615,     0.14715,     0.14815,     0.14915,     0.15015,     0.15115,     0.15215,     0.15315,     0.15415,     0.15516,     0.15616,     0.15716,     0.15816,     0.15916,     0.16016,     0.16116,     0.16216,     0.16316,     0.16416,     0.16517,     0.16617,     0.16717,\n",
      "           0.16817,     0.16917,     0.17017,     0.17117,     0.17217,     0.17317,     0.17417,     0.17518,     0.17618,     0.17718,     0.17818,     0.17918,     0.18018,     0.18118,     0.18218,     0.18318,     0.18418,     0.18519,     0.18619,     0.18719,     0.18819,     0.18919,     0.19019,     0.19119,\n",
      "           0.19219,     0.19319,     0.19419,      0.1952,      0.1962,      0.1972,      0.1982,      0.1992,      0.2002,      0.2012,      0.2022,      0.2032,      0.2042,     0.20521,     0.20621,     0.20721,     0.20821,     0.20921,     0.21021,     0.21121,     0.21221,     0.21321,     0.21421,     0.21522,\n",
      "           0.21622,     0.21722,     0.21822,     0.21922,     0.22022,     0.22122,     0.22222,     0.22322,     0.22422,     0.22523,     0.22623,     0.22723,     0.22823,     0.22923,     0.23023,     0.23123,     0.23223,     0.23323,     0.23423,     0.23524,     0.23624,     0.23724,     0.23824,     0.23924,\n",
      "           0.24024,     0.24124,     0.24224,     0.24324,     0.24424,     0.24525,     0.24625,     0.24725,     0.24825,     0.24925,     0.25025,     0.25125,     0.25225,     0.25325,     0.25425,     0.25526,     0.25626,     0.25726,     0.25826,     0.25926,     0.26026,     0.26126,     0.26226,     0.26326,\n",
      "           0.26426,     0.26527,     0.26627,     0.26727,     0.26827,     0.26927,     0.27027,     0.27127,     0.27227,     0.27327,     0.27427,     0.27528,     0.27628,     0.27728,     0.27828,     0.27928,     0.28028,     0.28128,     0.28228,     0.28328,     0.28428,     0.28529,     0.28629,     0.28729,\n",
      "           0.28829,     0.28929,     0.29029,     0.29129,     0.29229,     0.29329,     0.29429,      0.2953,      0.2963,      0.2973,      0.2983,      0.2993,      0.3003,      0.3013,      0.3023,      0.3033,      0.3043,     0.30531,     0.30631,     0.30731,     0.30831,     0.30931,     0.31031,     0.31131,\n",
      "           0.31231,     0.31331,     0.31431,     0.31532,     0.31632,     0.31732,     0.31832,     0.31932,     0.32032,     0.32132,     0.32232,     0.32332,     0.32432,     0.32533,     0.32633,     0.32733,     0.32833,     0.32933,     0.33033,     0.33133,     0.33233,     0.33333,     0.33433,     0.33534,\n",
      "           0.33634,     0.33734,     0.33834,     0.33934,     0.34034,     0.34134,     0.34234,     0.34334,     0.34434,     0.34535,     0.34635,     0.34735,     0.34835,     0.34935,     0.35035,     0.35135,     0.35235,     0.35335,     0.35435,     0.35536,     0.35636,     0.35736,     0.35836,     0.35936,\n",
      "           0.36036,     0.36136,     0.36236,     0.36336,     0.36436,     0.36537,     0.36637,     0.36737,     0.36837,     0.36937,     0.37037,     0.37137,     0.37237,     0.37337,     0.37437,     0.37538,     0.37638,     0.37738,     0.37838,     0.37938,     0.38038,     0.38138,     0.38238,     0.38338,\n",
      "           0.38438,     0.38539,     0.38639,     0.38739,     0.38839,     0.38939,     0.39039,     0.39139,     0.39239,     0.39339,     0.39439,      0.3954,      0.3964,      0.3974,      0.3984,      0.3994,      0.4004,      0.4014,      0.4024,      0.4034,      0.4044,     0.40541,     0.40641,     0.40741,\n",
      "           0.40841,     0.40941,     0.41041,     0.41141,     0.41241,     0.41341,     0.41441,     0.41542,     0.41642,     0.41742,     0.41842,     0.41942,     0.42042,     0.42142,     0.42242,     0.42342,     0.42442,     0.42543,     0.42643,     0.42743,     0.42843,     0.42943,     0.43043,     0.43143,\n",
      "           0.43243,     0.43343,     0.43443,     0.43544,     0.43644,     0.43744,     0.43844,     0.43944,     0.44044,     0.44144,     0.44244,     0.44344,     0.44444,     0.44545,     0.44645,     0.44745,     0.44845,     0.44945,     0.45045,     0.45145,     0.45245,     0.45345,     0.45445,     0.45546,\n",
      "           0.45646,     0.45746,     0.45846,     0.45946,     0.46046,     0.46146,     0.46246,     0.46346,     0.46446,     0.46547,     0.46647,     0.46747,     0.46847,     0.46947,     0.47047,     0.47147,     0.47247,     0.47347,     0.47447,     0.47548,     0.47648,     0.47748,     0.47848,     0.47948,\n",
      "           0.48048,     0.48148,     0.48248,     0.48348,     0.48448,     0.48549,     0.48649,     0.48749,     0.48849,     0.48949,     0.49049,     0.49149,     0.49249,     0.49349,     0.49449,      0.4955,      0.4965,      0.4975,      0.4985,      0.4995,      0.5005,      0.5015,      0.5025,      0.5035,\n",
      "            0.5045,     0.50551,     0.50651,     0.50751,     0.50851,     0.50951,     0.51051,     0.51151,     0.51251,     0.51351,     0.51451,     0.51552,     0.51652,     0.51752,     0.51852,     0.51952,     0.52052,     0.52152,     0.52252,     0.52352,     0.52452,     0.52553,     0.52653,     0.52753,\n",
      "           0.52853,     0.52953,     0.53053,     0.53153,     0.53253,     0.53353,     0.53453,     0.53554,     0.53654,     0.53754,     0.53854,     0.53954,     0.54054,     0.54154,     0.54254,     0.54354,     0.54454,     0.54555,     0.54655,     0.54755,     0.54855,     0.54955,     0.55055,     0.55155,\n",
      "           0.55255,     0.55355,     0.55455,     0.55556,     0.55656,     0.55756,     0.55856,     0.55956,     0.56056,     0.56156,     0.56256,     0.56356,     0.56456,     0.56557,     0.56657,     0.56757,     0.56857,     0.56957,     0.57057,     0.57157,     0.57257,     0.57357,     0.57457,     0.57558,\n",
      "           0.57658,     0.57758,     0.57858,     0.57958,     0.58058,     0.58158,     0.58258,     0.58358,     0.58458,     0.58559,     0.58659,     0.58759,     0.58859,     0.58959,     0.59059,     0.59159,     0.59259,     0.59359,     0.59459,      0.5956,      0.5966,      0.5976,      0.5986,      0.5996,\n",
      "            0.6006,      0.6016,      0.6026,      0.6036,      0.6046,     0.60561,     0.60661,     0.60761,     0.60861,     0.60961,     0.61061,     0.61161,     0.61261,     0.61361,     0.61461,     0.61562,     0.61662,     0.61762,     0.61862,     0.61962,     0.62062,     0.62162,     0.62262,     0.62362,\n",
      "           0.62462,     0.62563,     0.62663,     0.62763,     0.62863,     0.62963,     0.63063,     0.63163,     0.63263,     0.63363,     0.63463,     0.63564,     0.63664,     0.63764,     0.63864,     0.63964,     0.64064,     0.64164,     0.64264,     0.64364,     0.64464,     0.64565,     0.64665,     0.64765,\n",
      "           0.64865,     0.64965,     0.65065,     0.65165,     0.65265,     0.65365,     0.65465,     0.65566,     0.65666,     0.65766,     0.65866,     0.65966,     0.66066,     0.66166,     0.66266,     0.66366,     0.66466,     0.66567,     0.66667,     0.66767,     0.66867,     0.66967,     0.67067,     0.67167,\n",
      "           0.67267,     0.67367,     0.67467,     0.67568,     0.67668,     0.67768,     0.67868,     0.67968,     0.68068,     0.68168,     0.68268,     0.68368,     0.68468,     0.68569,     0.68669,     0.68769,     0.68869,     0.68969,     0.69069,     0.69169,     0.69269,     0.69369,     0.69469,      0.6957,\n",
      "            0.6967,      0.6977,      0.6987,      0.6997,      0.7007,      0.7017,      0.7027,      0.7037,      0.7047,     0.70571,     0.70671,     0.70771,     0.70871,     0.70971,     0.71071,     0.71171,     0.71271,     0.71371,     0.71471,     0.71572,     0.71672,     0.71772,     0.71872,     0.71972,\n",
      "           0.72072,     0.72172,     0.72272,     0.72372,     0.72472,     0.72573,     0.72673,     0.72773,     0.72873,     0.72973,     0.73073,     0.73173,     0.73273,     0.73373,     0.73473,     0.73574,     0.73674,     0.73774,     0.73874,     0.73974,     0.74074,     0.74174,     0.74274,     0.74374,\n",
      "           0.74474,     0.74575,     0.74675,     0.74775,     0.74875,     0.74975,     0.75075,     0.75175,     0.75275,     0.75375,     0.75475,     0.75576,     0.75676,     0.75776,     0.75876,     0.75976,     0.76076,     0.76176,     0.76276,     0.76376,     0.76476,     0.76577,     0.76677,     0.76777,\n",
      "           0.76877,     0.76977,     0.77077,     0.77177,     0.77277,     0.77377,     0.77477,     0.77578,     0.77678,     0.77778,     0.77878,     0.77978,     0.78078,     0.78178,     0.78278,     0.78378,     0.78478,     0.78579,     0.78679,     0.78779,     0.78879,     0.78979,     0.79079,     0.79179,\n",
      "           0.79279,     0.79379,     0.79479,      0.7958,      0.7968,      0.7978,      0.7988,      0.7998,      0.8008,      0.8018,      0.8028,      0.8038,      0.8048,     0.80581,     0.80681,     0.80781,     0.80881,     0.80981,     0.81081,     0.81181,     0.81281,     0.81381,     0.81481,     0.81582,\n",
      "           0.81682,     0.81782,     0.81882,     0.81982,     0.82082,     0.82182,     0.82282,     0.82382,     0.82482,     0.82583,     0.82683,     0.82783,     0.82883,     0.82983,     0.83083,     0.83183,     0.83283,     0.83383,     0.83483,     0.83584,     0.83684,     0.83784,     0.83884,     0.83984,\n",
      "           0.84084,     0.84184,     0.84284,     0.84384,     0.84484,     0.84585,     0.84685,     0.84785,     0.84885,     0.84985,     0.85085,     0.85185,     0.85285,     0.85385,     0.85485,     0.85586,     0.85686,     0.85786,     0.85886,     0.85986,     0.86086,     0.86186,     0.86286,     0.86386,\n",
      "           0.86486,     0.86587,     0.86687,     0.86787,     0.86887,     0.86987,     0.87087,     0.87187,     0.87287,     0.87387,     0.87487,     0.87588,     0.87688,     0.87788,     0.87888,     0.87988,     0.88088,     0.88188,     0.88288,     0.88388,     0.88488,     0.88589,     0.88689,     0.88789,\n",
      "           0.88889,     0.88989,     0.89089,     0.89189,     0.89289,     0.89389,     0.89489,      0.8959,      0.8969,      0.8979,      0.8989,      0.8999,      0.9009,      0.9019,      0.9029,      0.9039,      0.9049,     0.90591,     0.90691,     0.90791,     0.90891,     0.90991,     0.91091,     0.91191,\n",
      "           0.91291,     0.91391,     0.91491,     0.91592,     0.91692,     0.91792,     0.91892,     0.91992,     0.92092,     0.92192,     0.92292,     0.92392,     0.92492,     0.92593,     0.92693,     0.92793,     0.92893,     0.92993,     0.93093,     0.93193,     0.93293,     0.93393,     0.93493,     0.93594,\n",
      "           0.93694,     0.93794,     0.93894,     0.93994,     0.94094,     0.94194,     0.94294,     0.94394,     0.94494,     0.94595,     0.94695,     0.94795,     0.94895,     0.94995,     0.95095,     0.95195,     0.95295,     0.95395,     0.95495,     0.95596,     0.95696,     0.95796,     0.95896,     0.95996,\n",
      "           0.96096,     0.96196,     0.96296,     0.96396,     0.96496,     0.96597,     0.96697,     0.96797,     0.96897,     0.96997,     0.97097,     0.97197,     0.97297,     0.97397,     0.97497,     0.97598,     0.97698,     0.97798,     0.97898,     0.97998,     0.98098,     0.98198,     0.98298,     0.98398,\n",
      "           0.98498,     0.98599,     0.98699,     0.98799,     0.98899,     0.98999,     0.99099,     0.99199,     0.99299,     0.99399,     0.99499,       0.996,       0.997,       0.998,       0.999,           1]), array([[     0.8752,     0.87547,     0.89744,     0.90962,     0.91706,     0.92215,     0.92266,     0.92417,      0.9244,      0.9263,     0.92636,     0.92644,       0.927,     0.92751,     0.92762,     0.92765,     0.92781,     0.92772,     0.92729,     0.92698,     0.92711,     0.92815,     0.92843,\n",
      "            0.92859,     0.92842,     0.92825,     0.92798,     0.92829,     0.92815,     0.92801,     0.92816,     0.92831,     0.92851,     0.92892,     0.92869,     0.92894,     0.92916,     0.92919,     0.92935,     0.92954,      0.9288,     0.92833,      0.9281,     0.92806,     0.92822,     0.92826,\n",
      "            0.92817,     0.92807,     0.92798,     0.92786,     0.92769,     0.92758,     0.92771,     0.92784,      0.9277,     0.92757,     0.92779,     0.92773,     0.92761,     0.92749,     0.92739,     0.92731,     0.92722,     0.92713,       0.927,     0.92681,      0.9268,     0.92698,     0.92678,\n",
      "            0.92697,     0.92728,     0.92752,     0.92745,     0.92771,      0.9279,     0.92798,     0.92806,     0.92814,     0.92821,       0.928,     0.92788,     0.92794,     0.92801,     0.92807,     0.92814,     0.92812,       0.928,     0.92789,      0.9282,     0.92809,     0.92839,     0.92832,\n",
      "            0.92824,     0.92816,     0.92808,       0.928,     0.92793,     0.92787,      0.9278,     0.92773,     0.92766,     0.92723,     0.92715,     0.92708,     0.92701,     0.92693,     0.92691,     0.92694,     0.92697,       0.927,     0.92703,     0.92706,     0.92709,     0.92712,     0.92716,\n",
      "            0.92719,     0.92722,     0.92734,     0.92749,     0.92757,     0.92761,     0.92765,      0.9277,     0.92774,     0.92778,     0.92782,     0.92786,     0.92762,     0.92736,     0.92714,     0.92727,     0.92744,     0.92755,     0.92765,     0.92776,     0.92752,      0.9273,     0.92711,\n",
      "             0.9267,     0.92655,     0.92644,     0.92634,     0.92618,     0.92586,      0.9257,     0.92554,     0.92511,     0.92486,     0.92473,     0.92468,     0.92463,     0.92458,     0.92453,     0.92448,     0.92444,     0.92439,     0.92375,      0.9232,       0.923,     0.92258,     0.92265,\n",
      "            0.92244,     0.92226,     0.92208,     0.92173,     0.92187,     0.92198,     0.92192,     0.92186,     0.92179,     0.92173,     0.92167,      0.9216,      0.9214,     0.92117,     0.92069,     0.92041,     0.92033,     0.92024,     0.92015,     0.91998,     0.91966,     0.91955,     0.91944,\n",
      "            0.91934,      0.9191,     0.91896,     0.91901,     0.91906,     0.91911,     0.91916,     0.91921,     0.91926,     0.91959,     0.91957,     0.91955,     0.91953,     0.91951,     0.91949,     0.91948,     0.91946,     0.91944,     0.91942,      0.9194,     0.91938,     0.91937,     0.91935,\n",
      "            0.91933,     0.91931,     0.91929,     0.91927,     0.91925,     0.91924,     0.91922,     0.91918,     0.91911,     0.91905,     0.91898,     0.91891,     0.91884,     0.91885,     0.91888,     0.91892,     0.91895,     0.91898,     0.91902,     0.91905,     0.91909,     0.91912,     0.91913,\n",
      "            0.91901,     0.91889,     0.91878,     0.91878,      0.9188,     0.91881,     0.91883,     0.91885,     0.91886,     0.91888,     0.91889,     0.91891,     0.91893,     0.91894,     0.91896,     0.91898,     0.91899,     0.91901,     0.91902,     0.91904,     0.91906,     0.91907,     0.91909,\n",
      "            0.91902,     0.91894,     0.91886,     0.91878,     0.91869,     0.91848,     0.91831,     0.91824,     0.91817,      0.9181,     0.91804,     0.91797,     0.91795,     0.91797,     0.91799,     0.91801,     0.91803,     0.91805,     0.91807,     0.91809,     0.91811,     0.91813,     0.91814,\n",
      "            0.91816,     0.91818,      0.9182,     0.91822,     0.91824,     0.91826,     0.91825,     0.91823,     0.91821,     0.91819,     0.91817,     0.91814,     0.91812,      0.9181,     0.91808,     0.91806,     0.91804,     0.91802,       0.918,     0.91798,     0.91795,     0.91793,     0.91791,\n",
      "            0.91789,     0.91786,     0.91783,     0.91779,     0.91775,     0.91772,     0.91768,     0.91764,     0.91761,     0.91757,     0.91753,      0.9175,      0.9175,     0.91751,     0.91752,     0.91752,     0.91753,     0.91754,     0.91754,     0.91755,     0.91755,     0.91756,     0.91757,\n",
      "            0.91757,     0.91758,     0.91759,     0.91759,      0.9176,     0.91761,     0.91761,     0.91762,     0.91763,     0.91763,     0.91764,     0.91764,     0.91765,     0.91766,     0.91766,     0.91767,     0.91768,     0.91768,     0.91769,      0.9177,      0.9177,     0.91771,     0.91772,\n",
      "            0.91772,     0.91773,     0.91774,     0.91774,     0.91775,     0.91775,     0.91776,     0.91777,     0.91777,     0.91778,     0.91779,     0.91779,      0.9178,     0.91781,     0.91781,     0.91782,     0.91782,     0.91781,     0.91781,      0.9178,     0.91779,     0.91778,     0.91778,\n",
      "            0.91777,     0.91776,     0.91775,     0.91775,     0.91774,     0.91773,     0.91772,     0.91772,     0.91771,      0.9177,     0.91769,     0.91769,     0.91768,     0.91767,     0.91766,     0.91766,     0.91765,     0.91764,     0.91764,     0.91763,     0.91762,     0.91761,     0.91761,\n",
      "             0.9176,     0.91759,     0.91758,     0.91758,     0.91757,     0.91756,     0.91755,     0.91755,     0.91754,     0.91753,     0.91752,     0.91752,     0.91751,      0.9175,      0.9175,     0.91749,     0.91748,     0.91747,     0.91747,     0.91746,     0.91745,     0.91744,     0.91744,\n",
      "            0.91746,     0.91747,     0.91749,      0.9175,     0.91752,     0.91754,     0.91755,     0.91757,     0.91758,      0.9176,     0.91762,     0.91763,     0.91765,     0.91766,     0.91768,      0.9177,     0.91771,     0.91773,     0.91774,     0.91776,     0.91779,     0.91784,     0.91789,\n",
      "            0.91793,     0.91798,     0.91803,     0.91807,      0.9181,     0.91813,     0.91815,     0.91817,     0.91819,     0.91822,     0.91824,     0.91826,     0.91828,     0.91831,     0.91833,     0.91835,     0.91837,      0.9184,     0.91842,     0.91837,     0.91832,     0.91827,     0.91823,\n",
      "            0.91818,     0.91813,     0.91808,     0.91804,     0.91821,     0.91833,     0.91815,     0.91798,       0.918,     0.91802,     0.91804,     0.91806,     0.91809,     0.91811,     0.91813,     0.91815,     0.91817,      0.9182,     0.91822,     0.91824,     0.91826,     0.91828,     0.91836,\n",
      "            0.91868,     0.91883,     0.91901,     0.91924,      0.9194,     0.91955,     0.91965,     0.91971,     0.91978,     0.91984,      0.9199,     0.91999,     0.92013,     0.92027,     0.92017,     0.92006,     0.91995,     0.91991,     0.91997,     0.92002,     0.92008,     0.92014,     0.92019,\n",
      "             0.9203,     0.92044,     0.92058,     0.92072,     0.92086,     0.92164,     0.92218,     0.92231,     0.92242,     0.92254,     0.92266,     0.92278,     0.92316,     0.92283,     0.92287,     0.92292,     0.92296,     0.92301,     0.92306,      0.9231,     0.92318,     0.92333,      0.9238,\n",
      "            0.92388,     0.92396,     0.92404,     0.92412,     0.92413,     0.92414,     0.92415,     0.92416,     0.92416,     0.92417,     0.92418,     0.92419,     0.92419,      0.9242,     0.92421,     0.92422,     0.92422,     0.92423,     0.92424,     0.92425,     0.92425,     0.92426,     0.92427,\n",
      "            0.92427,     0.92428,     0.92429,      0.9243,      0.9243,     0.92431,     0.92432,     0.92433,     0.92433,     0.92434,     0.92435,     0.92436,     0.92436,     0.92437,     0.92438,     0.92439,     0.92439,      0.9244,     0.92441,     0.92442,     0.92442,     0.92443,     0.92444,\n",
      "            0.92445,     0.92445,     0.92446,     0.92433,     0.92419,     0.92405,     0.92394,     0.92383,     0.92371,     0.92367,     0.92364,     0.92361,     0.92358,     0.92356,     0.92353,      0.9235,     0.92347,     0.92345,     0.92342,     0.92339,     0.92336,     0.92333,     0.92331,\n",
      "            0.92326,     0.92321,     0.92315,     0.92309,     0.92304,     0.92298,     0.92293,      0.9229,     0.92289,     0.92287,     0.92286,     0.92285,     0.92283,     0.92282,     0.92281,     0.92279,     0.92278,     0.92277,     0.92275,     0.92274,     0.92273,     0.92271,      0.9227,\n",
      "            0.92269,     0.92268,     0.92266,     0.92265,     0.92264,     0.92262,     0.92261,      0.9226,     0.92258,     0.92257,     0.92256,     0.92254,     0.92253,      0.9226,     0.92273,     0.92318,     0.92313,     0.92307,     0.92301,     0.92295,     0.92289,     0.92283,     0.92281,\n",
      "            0.92282,     0.92284,     0.92285,     0.92287,     0.92289,      0.9229,     0.92292,     0.92293,     0.92295,     0.92297,     0.92298,       0.923,     0.92301,     0.92303,     0.92305,     0.92306,     0.92308,      0.9231,     0.92311,     0.92313,     0.92311,     0.92308,     0.92305,\n",
      "            0.92302,     0.92299,     0.92295,     0.92292,     0.92289,     0.92286,     0.92283,      0.9228,     0.92276,     0.92272,     0.92267,     0.92261,     0.92256,      0.9225,     0.92245,     0.92239,     0.92234,     0.92231,     0.92227,     0.92224,      0.9222,     0.92217,     0.92213,\n",
      "             0.9221,     0.92206,     0.92203,     0.92199,     0.92196,     0.92193,      0.9219,     0.92186,     0.92183,      0.9218,     0.92177,     0.92173,      0.9217,     0.92167,     0.92164,     0.92161,     0.92158,     0.92162,     0.92167,     0.92171,     0.92175,      0.9218,     0.92184,\n",
      "            0.92189,     0.92178,     0.92152,     0.92143,     0.92135,     0.92126,     0.92118,     0.92095,     0.92068,     0.92057,     0.92047,     0.92036,     0.92043,     0.92053,     0.92063,     0.92066,      0.9206,     0.92055,      0.9205,     0.92044,     0.92039,     0.92034,     0.92026,\n",
      "             0.9201,     0.91993,     0.91993,     0.91996,        0.92,     0.92003,     0.92007,      0.9201,     0.92014,     0.92017,     0.92021,     0.92022,      0.9202,     0.92018,     0.92016,     0.92014,     0.92012,     0.92009,     0.92007,     0.92005,     0.92003,     0.92001,     0.91999,\n",
      "            0.91996,     0.91994,     0.91992,      0.9199,     0.91988,     0.91986,      0.9195,     0.91978,     0.91945,     0.91954,     0.91962,     0.91971,     0.91984,     0.91999,     0.92021,     0.92029,     0.92002,     0.92016,     0.92033,     0.92028,     0.92024,     0.92019,     0.92014,\n",
      "            0.92009,     0.92005,        0.92,     0.91995,     0.91998,     0.92004,     0.92009,     0.92014,      0.9202,     0.92025,     0.92021,     0.92008,     0.91994,      0.9197,     0.91909,     0.91904,     0.91899,     0.91895,      0.9189,     0.91885,      0.9188,     0.91875,      0.9187,\n",
      "            0.91824,     0.91815,     0.91806,     0.91796,     0.91775,     0.91748,     0.91736,     0.91724,     0.91713,     0.91686,     0.91648,     0.91628,      0.9162,     0.91611,     0.91603,     0.91595,     0.91592,      0.9156,     0.91511,     0.91525,     0.91539,     0.91522,     0.91496,\n",
      "             0.9148,      0.9147,     0.91409,     0.91375,     0.91281,     0.91261,     0.91265,     0.91263,     0.91199,      0.9118,     0.91166,     0.91191,     0.91166,     0.91181,     0.91183,     0.91162,     0.91181,     0.91157,     0.91084,     0.91054,     0.91037,     0.90941,     0.90831,\n",
      "            0.90867,     0.90865,     0.90809,     0.90818,     0.90826,     0.90835,     0.90837,     0.90815,     0.90752,     0.90679,     0.90594,      0.9055,     0.90527,      0.9051,     0.90498,     0.90486,     0.90438,     0.90465,     0.90452,      0.9044,      0.9043,     0.90447,     0.90417,\n",
      "            0.90369,     0.90328,     0.90271,     0.90244,     0.90221,     0.90163,     0.90133,     0.90074,     0.90053,     0.89931,     0.89949,     0.89934,     0.89918,     0.89938,     0.89959,     0.89974,      0.8991,     0.89922,     0.89893,     0.89804,     0.89675,     0.89576,     0.89489,\n",
      "            0.89475,     0.89461,     0.89213,     0.89178,     0.89155,     0.89049,     0.89025,     0.88977,     0.88895,     0.88822,     0.88706,     0.88667,     0.88652,     0.88592,     0.88565,     0.88473,       0.885,      0.8854,     0.88552,     0.88503,     0.88442,     0.88379,     0.88309,\n",
      "            0.88297,     0.88278,     0.88259,      0.8822,     0.88232,     0.88171,     0.88105,     0.88064,     0.88025,     0.87972,     0.88057,     0.88029,     0.87898,     0.87708,     0.87582,     0.87367,     0.87157,     0.86891,     0.86641,       0.863,     0.86193,     0.85779,     0.85425,\n",
      "            0.85193,     0.85258,      0.8528,     0.85216,     0.85128,     0.84928,     0.84805,     0.84518,     0.84348,     0.83933,     0.83231,     0.82088,     0.81162,     0.80503,     0.79693,     0.78696,      0.7749,     0.75342,     0.73174,     0.71483,     0.68811,      0.6642,     0.63245,\n",
      "            0.60611,     0.58719,     0.53792,     0.48285,     0.44153,      0.3972,     0.34203,     0.32433,     0.30118,      0.2277,      0.1934,     0.18371,     0.14561,     0.04679,   0.0099362,           0,           0,           0,           0,           0,           0,           0,           0,\n",
      "                  0,           0,           0,           0,           0,           0,           0,           0,           0,           0,           0]]), 'Confidence', 'F1'], [array([          0,    0.001001,    0.002002,    0.003003,    0.004004,    0.005005,    0.006006,    0.007007,    0.008008,    0.009009,     0.01001,    0.011011,    0.012012,    0.013013,    0.014014,    0.015015,    0.016016,    0.017017,    0.018018,    0.019019,     0.02002,    0.021021,    0.022022,    0.023023,\n",
      "          0.024024,    0.025025,    0.026026,    0.027027,    0.028028,    0.029029,     0.03003,    0.031031,    0.032032,    0.033033,    0.034034,    0.035035,    0.036036,    0.037037,    0.038038,    0.039039,     0.04004,    0.041041,    0.042042,    0.043043,    0.044044,    0.045045,    0.046046,    0.047047,\n",
      "          0.048048,    0.049049,     0.05005,    0.051051,    0.052052,    0.053053,    0.054054,    0.055055,    0.056056,    0.057057,    0.058058,    0.059059,     0.06006,    0.061061,    0.062062,    0.063063,    0.064064,    0.065065,    0.066066,    0.067067,    0.068068,    0.069069,     0.07007,    0.071071,\n",
      "          0.072072,    0.073073,    0.074074,    0.075075,    0.076076,    0.077077,    0.078078,    0.079079,     0.08008,    0.081081,    0.082082,    0.083083,    0.084084,    0.085085,    0.086086,    0.087087,    0.088088,    0.089089,     0.09009,    0.091091,    0.092092,    0.093093,    0.094094,    0.095095,\n",
      "          0.096096,    0.097097,    0.098098,    0.099099,      0.1001,      0.1011,      0.1021,      0.1031,      0.1041,     0.10511,     0.10611,     0.10711,     0.10811,     0.10911,     0.11011,     0.11111,     0.11211,     0.11311,     0.11411,     0.11512,     0.11612,     0.11712,     0.11812,     0.11912,\n",
      "           0.12012,     0.12112,     0.12212,     0.12312,     0.12412,     0.12513,     0.12613,     0.12713,     0.12813,     0.12913,     0.13013,     0.13113,     0.13213,     0.13313,     0.13413,     0.13514,     0.13614,     0.13714,     0.13814,     0.13914,     0.14014,     0.14114,     0.14214,     0.14314,\n",
      "           0.14414,     0.14515,     0.14615,     0.14715,     0.14815,     0.14915,     0.15015,     0.15115,     0.15215,     0.15315,     0.15415,     0.15516,     0.15616,     0.15716,     0.15816,     0.15916,     0.16016,     0.16116,     0.16216,     0.16316,     0.16416,     0.16517,     0.16617,     0.16717,\n",
      "           0.16817,     0.16917,     0.17017,     0.17117,     0.17217,     0.17317,     0.17417,     0.17518,     0.17618,     0.17718,     0.17818,     0.17918,     0.18018,     0.18118,     0.18218,     0.18318,     0.18418,     0.18519,     0.18619,     0.18719,     0.18819,     0.18919,     0.19019,     0.19119,\n",
      "           0.19219,     0.19319,     0.19419,      0.1952,      0.1962,      0.1972,      0.1982,      0.1992,      0.2002,      0.2012,      0.2022,      0.2032,      0.2042,     0.20521,     0.20621,     0.20721,     0.20821,     0.20921,     0.21021,     0.21121,     0.21221,     0.21321,     0.21421,     0.21522,\n",
      "           0.21622,     0.21722,     0.21822,     0.21922,     0.22022,     0.22122,     0.22222,     0.22322,     0.22422,     0.22523,     0.22623,     0.22723,     0.22823,     0.22923,     0.23023,     0.23123,     0.23223,     0.23323,     0.23423,     0.23524,     0.23624,     0.23724,     0.23824,     0.23924,\n",
      "           0.24024,     0.24124,     0.24224,     0.24324,     0.24424,     0.24525,     0.24625,     0.24725,     0.24825,     0.24925,     0.25025,     0.25125,     0.25225,     0.25325,     0.25425,     0.25526,     0.25626,     0.25726,     0.25826,     0.25926,     0.26026,     0.26126,     0.26226,     0.26326,\n",
      "           0.26426,     0.26527,     0.26627,     0.26727,     0.26827,     0.26927,     0.27027,     0.27127,     0.27227,     0.27327,     0.27427,     0.27528,     0.27628,     0.27728,     0.27828,     0.27928,     0.28028,     0.28128,     0.28228,     0.28328,     0.28428,     0.28529,     0.28629,     0.28729,\n",
      "           0.28829,     0.28929,     0.29029,     0.29129,     0.29229,     0.29329,     0.29429,      0.2953,      0.2963,      0.2973,      0.2983,      0.2993,      0.3003,      0.3013,      0.3023,      0.3033,      0.3043,     0.30531,     0.30631,     0.30731,     0.30831,     0.30931,     0.31031,     0.31131,\n",
      "           0.31231,     0.31331,     0.31431,     0.31532,     0.31632,     0.31732,     0.31832,     0.31932,     0.32032,     0.32132,     0.32232,     0.32332,     0.32432,     0.32533,     0.32633,     0.32733,     0.32833,     0.32933,     0.33033,     0.33133,     0.33233,     0.33333,     0.33433,     0.33534,\n",
      "           0.33634,     0.33734,     0.33834,     0.33934,     0.34034,     0.34134,     0.34234,     0.34334,     0.34434,     0.34535,     0.34635,     0.34735,     0.34835,     0.34935,     0.35035,     0.35135,     0.35235,     0.35335,     0.35435,     0.35536,     0.35636,     0.35736,     0.35836,     0.35936,\n",
      "           0.36036,     0.36136,     0.36236,     0.36336,     0.36436,     0.36537,     0.36637,     0.36737,     0.36837,     0.36937,     0.37037,     0.37137,     0.37237,     0.37337,     0.37437,     0.37538,     0.37638,     0.37738,     0.37838,     0.37938,     0.38038,     0.38138,     0.38238,     0.38338,\n",
      "           0.38438,     0.38539,     0.38639,     0.38739,     0.38839,     0.38939,     0.39039,     0.39139,     0.39239,     0.39339,     0.39439,      0.3954,      0.3964,      0.3974,      0.3984,      0.3994,      0.4004,      0.4014,      0.4024,      0.4034,      0.4044,     0.40541,     0.40641,     0.40741,\n",
      "           0.40841,     0.40941,     0.41041,     0.41141,     0.41241,     0.41341,     0.41441,     0.41542,     0.41642,     0.41742,     0.41842,     0.41942,     0.42042,     0.42142,     0.42242,     0.42342,     0.42442,     0.42543,     0.42643,     0.42743,     0.42843,     0.42943,     0.43043,     0.43143,\n",
      "           0.43243,     0.43343,     0.43443,     0.43544,     0.43644,     0.43744,     0.43844,     0.43944,     0.44044,     0.44144,     0.44244,     0.44344,     0.44444,     0.44545,     0.44645,     0.44745,     0.44845,     0.44945,     0.45045,     0.45145,     0.45245,     0.45345,     0.45445,     0.45546,\n",
      "           0.45646,     0.45746,     0.45846,     0.45946,     0.46046,     0.46146,     0.46246,     0.46346,     0.46446,     0.46547,     0.46647,     0.46747,     0.46847,     0.46947,     0.47047,     0.47147,     0.47247,     0.47347,     0.47447,     0.47548,     0.47648,     0.47748,     0.47848,     0.47948,\n",
      "           0.48048,     0.48148,     0.48248,     0.48348,     0.48448,     0.48549,     0.48649,     0.48749,     0.48849,     0.48949,     0.49049,     0.49149,     0.49249,     0.49349,     0.49449,      0.4955,      0.4965,      0.4975,      0.4985,      0.4995,      0.5005,      0.5015,      0.5025,      0.5035,\n",
      "            0.5045,     0.50551,     0.50651,     0.50751,     0.50851,     0.50951,     0.51051,     0.51151,     0.51251,     0.51351,     0.51451,     0.51552,     0.51652,     0.51752,     0.51852,     0.51952,     0.52052,     0.52152,     0.52252,     0.52352,     0.52452,     0.52553,     0.52653,     0.52753,\n",
      "           0.52853,     0.52953,     0.53053,     0.53153,     0.53253,     0.53353,     0.53453,     0.53554,     0.53654,     0.53754,     0.53854,     0.53954,     0.54054,     0.54154,     0.54254,     0.54354,     0.54454,     0.54555,     0.54655,     0.54755,     0.54855,     0.54955,     0.55055,     0.55155,\n",
      "           0.55255,     0.55355,     0.55455,     0.55556,     0.55656,     0.55756,     0.55856,     0.55956,     0.56056,     0.56156,     0.56256,     0.56356,     0.56456,     0.56557,     0.56657,     0.56757,     0.56857,     0.56957,     0.57057,     0.57157,     0.57257,     0.57357,     0.57457,     0.57558,\n",
      "           0.57658,     0.57758,     0.57858,     0.57958,     0.58058,     0.58158,     0.58258,     0.58358,     0.58458,     0.58559,     0.58659,     0.58759,     0.58859,     0.58959,     0.59059,     0.59159,     0.59259,     0.59359,     0.59459,      0.5956,      0.5966,      0.5976,      0.5986,      0.5996,\n",
      "            0.6006,      0.6016,      0.6026,      0.6036,      0.6046,     0.60561,     0.60661,     0.60761,     0.60861,     0.60961,     0.61061,     0.61161,     0.61261,     0.61361,     0.61461,     0.61562,     0.61662,     0.61762,     0.61862,     0.61962,     0.62062,     0.62162,     0.62262,     0.62362,\n",
      "           0.62462,     0.62563,     0.62663,     0.62763,     0.62863,     0.62963,     0.63063,     0.63163,     0.63263,     0.63363,     0.63463,     0.63564,     0.63664,     0.63764,     0.63864,     0.63964,     0.64064,     0.64164,     0.64264,     0.64364,     0.64464,     0.64565,     0.64665,     0.64765,\n",
      "           0.64865,     0.64965,     0.65065,     0.65165,     0.65265,     0.65365,     0.65465,     0.65566,     0.65666,     0.65766,     0.65866,     0.65966,     0.66066,     0.66166,     0.66266,     0.66366,     0.66466,     0.66567,     0.66667,     0.66767,     0.66867,     0.66967,     0.67067,     0.67167,\n",
      "           0.67267,     0.67367,     0.67467,     0.67568,     0.67668,     0.67768,     0.67868,     0.67968,     0.68068,     0.68168,     0.68268,     0.68368,     0.68468,     0.68569,     0.68669,     0.68769,     0.68869,     0.68969,     0.69069,     0.69169,     0.69269,     0.69369,     0.69469,      0.6957,\n",
      "            0.6967,      0.6977,      0.6987,      0.6997,      0.7007,      0.7017,      0.7027,      0.7037,      0.7047,     0.70571,     0.70671,     0.70771,     0.70871,     0.70971,     0.71071,     0.71171,     0.71271,     0.71371,     0.71471,     0.71572,     0.71672,     0.71772,     0.71872,     0.71972,\n",
      "           0.72072,     0.72172,     0.72272,     0.72372,     0.72472,     0.72573,     0.72673,     0.72773,     0.72873,     0.72973,     0.73073,     0.73173,     0.73273,     0.73373,     0.73473,     0.73574,     0.73674,     0.73774,     0.73874,     0.73974,     0.74074,     0.74174,     0.74274,     0.74374,\n",
      "           0.74474,     0.74575,     0.74675,     0.74775,     0.74875,     0.74975,     0.75075,     0.75175,     0.75275,     0.75375,     0.75475,     0.75576,     0.75676,     0.75776,     0.75876,     0.75976,     0.76076,     0.76176,     0.76276,     0.76376,     0.76476,     0.76577,     0.76677,     0.76777,\n",
      "           0.76877,     0.76977,     0.77077,     0.77177,     0.77277,     0.77377,     0.77477,     0.77578,     0.77678,     0.77778,     0.77878,     0.77978,     0.78078,     0.78178,     0.78278,     0.78378,     0.78478,     0.78579,     0.78679,     0.78779,     0.78879,     0.78979,     0.79079,     0.79179,\n",
      "           0.79279,     0.79379,     0.79479,      0.7958,      0.7968,      0.7978,      0.7988,      0.7998,      0.8008,      0.8018,      0.8028,      0.8038,      0.8048,     0.80581,     0.80681,     0.80781,     0.80881,     0.80981,     0.81081,     0.81181,     0.81281,     0.81381,     0.81481,     0.81582,\n",
      "           0.81682,     0.81782,     0.81882,     0.81982,     0.82082,     0.82182,     0.82282,     0.82382,     0.82482,     0.82583,     0.82683,     0.82783,     0.82883,     0.82983,     0.83083,     0.83183,     0.83283,     0.83383,     0.83483,     0.83584,     0.83684,     0.83784,     0.83884,     0.83984,\n",
      "           0.84084,     0.84184,     0.84284,     0.84384,     0.84484,     0.84585,     0.84685,     0.84785,     0.84885,     0.84985,     0.85085,     0.85185,     0.85285,     0.85385,     0.85485,     0.85586,     0.85686,     0.85786,     0.85886,     0.85986,     0.86086,     0.86186,     0.86286,     0.86386,\n",
      "           0.86486,     0.86587,     0.86687,     0.86787,     0.86887,     0.86987,     0.87087,     0.87187,     0.87287,     0.87387,     0.87487,     0.87588,     0.87688,     0.87788,     0.87888,     0.87988,     0.88088,     0.88188,     0.88288,     0.88388,     0.88488,     0.88589,     0.88689,     0.88789,\n",
      "           0.88889,     0.88989,     0.89089,     0.89189,     0.89289,     0.89389,     0.89489,      0.8959,      0.8969,      0.8979,      0.8989,      0.8999,      0.9009,      0.9019,      0.9029,      0.9039,      0.9049,     0.90591,     0.90691,     0.90791,     0.90891,     0.90991,     0.91091,     0.91191,\n",
      "           0.91291,     0.91391,     0.91491,     0.91592,     0.91692,     0.91792,     0.91892,     0.91992,     0.92092,     0.92192,     0.92292,     0.92392,     0.92492,     0.92593,     0.92693,     0.92793,     0.92893,     0.92993,     0.93093,     0.93193,     0.93293,     0.93393,     0.93493,     0.93594,\n",
      "           0.93694,     0.93794,     0.93894,     0.93994,     0.94094,     0.94194,     0.94294,     0.94394,     0.94494,     0.94595,     0.94695,     0.94795,     0.94895,     0.94995,     0.95095,     0.95195,     0.95295,     0.95395,     0.95495,     0.95596,     0.95696,     0.95796,     0.95896,     0.95996,\n",
      "           0.96096,     0.96196,     0.96296,     0.96396,     0.96496,     0.96597,     0.96697,     0.96797,     0.96897,     0.96997,     0.97097,     0.97197,     0.97297,     0.97397,     0.97497,     0.97598,     0.97698,     0.97798,     0.97898,     0.97998,     0.98098,     0.98198,     0.98298,     0.98398,\n",
      "           0.98498,     0.98599,     0.98699,     0.98799,     0.98899,     0.98999,     0.99099,     0.99199,     0.99299,     0.99399,     0.99499,       0.996,       0.997,       0.998,       0.999,           1]), array([[    0.80491,     0.80536,     0.84605,     0.86855,     0.88281,      0.8929,     0.89447,     0.89767,     0.89877,     0.90259,      0.9046,     0.90537,     0.90709,     0.90856,     0.90969,     0.91026,     0.91083,     0.91105,     0.91131,     0.91126,      0.9124,     0.91447,     0.91501,\n",
      "            0.91604,     0.91602,     0.91599,     0.91613,     0.91738,     0.91827,     0.91883,     0.91912,     0.91941,     0.91981,      0.9207,     0.92067,     0.92133,     0.92177,      0.9225,     0.92282,     0.92319,     0.92362,     0.92355,     0.92352,     0.92365,     0.92397,     0.92413,\n",
      "            0.92412,     0.92411,     0.92409,     0.92408,     0.92405,     0.92408,     0.92434,     0.92459,     0.92465,     0.92474,     0.92518,     0.92525,     0.92523,     0.92521,      0.9252,     0.92519,     0.92517,     0.92516,     0.92514,     0.92512,     0.92528,     0.92565,     0.92593,\n",
      "            0.92631,     0.92694,     0.92742,     0.92796,     0.92849,     0.92888,     0.92903,     0.92919,     0.92934,      0.9295,     0.92949,     0.92952,     0.92965,     0.92978,     0.92992,     0.93005,     0.93011,      0.9301,     0.93008,     0.93088,     0.93133,     0.93196,     0.93197,\n",
      "            0.93196,     0.93195,     0.93194,     0.93193,     0.93192,     0.93191,      0.9319,     0.93189,     0.93188,     0.93183,     0.93182,     0.93181,      0.9318,     0.93179,     0.93182,     0.93188,     0.93194,       0.932,     0.93206,     0.93212,     0.93218,     0.93225,     0.93231,\n",
      "            0.93237,     0.93243,     0.93268,     0.93298,     0.93315,     0.93323,     0.93332,      0.9334,     0.93348,     0.93357,     0.93365,     0.93373,     0.93372,     0.93369,     0.93367,     0.93397,     0.93432,     0.93453,     0.93475,     0.93496,     0.93495,     0.93492,      0.9349,\n",
      "            0.93485,     0.93483,     0.93482,     0.93481,     0.93479,     0.93475,     0.93473,     0.93471,     0.93466,     0.93463,     0.93461,      0.9346,      0.9346,     0.93459,     0.93459,     0.93458,     0.93457,     0.93457,     0.93449,     0.93442,      0.9344,     0.93434,     0.93498,\n",
      "            0.93495,     0.93493,     0.93491,     0.93499,     0.93529,     0.93553,     0.93552,     0.93551,     0.93551,      0.9355,     0.93549,     0.93548,     0.93546,     0.93543,     0.93537,     0.93534,     0.93533,     0.93532,     0.93531,     0.93529,     0.93525,     0.93523,     0.93522,\n",
      "            0.93521,     0.93518,      0.9352,      0.9353,     0.93541,     0.93551,     0.93561,     0.93572,     0.93582,     0.93651,     0.93651,      0.9365,      0.9365,      0.9365,      0.9365,     0.93649,     0.93649,     0.93649,     0.93649,     0.93649,     0.93648,     0.93648,     0.93648,\n",
      "            0.93648,     0.93647,     0.93647,     0.93647,     0.93647,     0.93647,     0.93646,     0.93646,     0.93645,     0.93644,     0.93643,     0.93643,     0.93642,     0.93647,     0.93654,     0.93661,     0.93668,     0.93675,     0.93682,     0.93689,     0.93696,     0.93703,     0.93709,\n",
      "            0.93708,     0.93706,     0.93705,     0.93708,     0.93711,     0.93715,     0.93718,     0.93721,     0.93725,     0.93728,     0.93732,     0.93735,     0.93738,     0.93742,     0.93745,     0.93748,     0.93752,     0.93755,     0.93759,     0.93762,     0.93765,     0.93769,     0.93772,\n",
      "            0.93772,     0.93771,      0.9377,     0.93769,     0.93768,     0.93765,     0.93763,     0.93763,     0.93762,     0.93761,      0.9376,     0.93759,     0.93761,     0.93765,      0.9377,     0.93774,     0.93778,     0.93782,     0.93786,      0.9379,     0.93794,     0.93798,     0.93802,\n",
      "            0.93806,      0.9381,     0.93814,     0.93818,     0.93822,     0.93826,     0.93827,     0.93827,     0.93826,     0.93826,     0.93826,     0.93826,     0.93826,     0.93825,     0.93825,     0.93825,     0.93825,     0.93824,     0.93824,     0.93824,     0.93824,     0.93823,     0.93823,\n",
      "            0.93823,     0.93822,     0.93822,     0.93822,     0.93821,     0.93821,      0.9382,      0.9382,     0.93819,     0.93819,     0.93819,     0.93818,      0.9382,     0.93821,     0.93822,     0.93824,     0.93825,     0.93826,     0.93828,     0.93829,      0.9383,     0.93832,     0.93833,\n",
      "            0.93834,     0.93836,     0.93837,     0.93838,      0.9384,     0.93841,     0.93842,     0.93844,     0.93845,     0.93847,     0.93848,     0.93849,     0.93851,     0.93852,     0.93853,     0.93855,     0.93856,     0.93857,     0.93859,      0.9386,     0.93861,     0.93863,     0.93864,\n",
      "            0.93865,     0.93867,     0.93868,     0.93869,     0.93871,     0.93872,     0.93874,     0.93875,     0.93876,     0.93878,     0.93879,      0.9388,     0.93882,     0.93883,     0.93884,     0.93886,     0.93886,     0.93886,     0.93886,     0.93886,     0.93886,     0.93886,     0.93886,\n",
      "            0.93886,     0.93886,     0.93886,     0.93886,     0.93885,     0.93885,     0.93885,     0.93885,     0.93885,     0.93885,     0.93885,     0.93885,     0.93885,     0.93885,     0.93885,     0.93885,     0.93884,     0.93884,     0.93884,     0.93884,     0.93884,     0.93884,     0.93884,\n",
      "            0.93884,     0.93884,     0.93884,     0.93884,     0.93884,     0.93883,     0.93883,     0.93883,     0.93883,     0.93883,     0.93883,     0.93883,     0.93883,     0.93883,     0.93883,     0.93883,     0.93883,     0.93882,     0.93882,     0.93882,     0.93882,     0.93882,     0.93883,\n",
      "            0.93886,     0.93889,     0.93893,     0.93896,     0.93899,     0.93903,     0.93906,     0.93909,     0.93913,     0.93916,     0.93919,     0.93923,     0.93926,     0.93929,     0.93933,     0.93936,     0.93939,     0.93943,     0.93946,     0.93949,     0.93957,     0.93966,     0.93976,\n",
      "            0.93986,     0.93996,     0.94005,     0.94015,     0.94022,     0.94026,     0.94031,     0.94036,     0.94041,     0.94045,      0.9405,     0.94055,      0.9406,     0.94064,     0.94069,     0.94074,     0.94078,     0.94083,     0.94088,     0.94087,     0.94086,     0.94086,     0.94085,\n",
      "            0.94085,     0.94084,     0.94084,     0.94083,      0.9412,     0.94152,      0.9415,     0.94148,     0.94153,     0.94157,     0.94162,     0.94166,     0.94171,     0.94176,      0.9418,     0.94185,      0.9419,     0.94194,     0.94199,     0.94203,     0.94208,     0.94213,     0.94229,\n",
      "            0.94296,     0.94329,     0.94365,     0.94415,     0.94449,      0.9448,     0.94501,     0.94514,     0.94528,     0.94541,     0.94554,     0.94573,     0.94602,     0.94631,     0.94631,      0.9463,     0.94629,     0.94634,     0.94646,     0.94658,      0.9467,     0.94681,     0.94693,\n",
      "            0.94716,     0.94746,     0.94776,     0.94805,     0.94835,     0.95001,     0.95115,     0.95142,     0.95167,     0.95191,     0.95217,     0.95244,      0.9533,     0.95332,     0.95342,     0.95352,     0.95361,     0.95371,     0.95381,      0.9539,     0.95407,     0.95439,      0.9554,\n",
      "            0.95557,     0.95574,     0.95591,     0.95607,     0.95611,     0.95613,     0.95615,     0.95616,     0.95618,     0.95619,     0.95621,     0.95623,     0.95624,     0.95626,     0.95627,     0.95629,      0.9563,     0.95632,     0.95634,     0.95635,     0.95637,     0.95638,      0.9564,\n",
      "            0.95642,     0.95643,     0.95645,     0.95646,     0.95648,      0.9565,     0.95651,     0.95653,     0.95654,     0.95656,     0.95657,     0.95659,     0.95661,     0.95662,     0.95664,     0.95665,     0.95667,     0.95669,      0.9567,     0.95672,     0.95673,     0.95675,     0.95676,\n",
      "            0.95678,      0.9568,     0.95681,      0.9568,     0.95679,     0.95678,     0.95677,     0.95676,     0.95675,     0.95675,     0.95674,     0.95674,     0.95674,     0.95674,     0.95674,     0.95673,     0.95673,     0.95673,     0.95673,     0.95672,     0.95672,     0.95672,     0.95672,\n",
      "            0.95671,     0.95671,      0.9567,      0.9567,     0.95669,     0.95669,     0.95669,     0.95668,     0.95668,     0.95668,     0.95668,     0.95668,     0.95668,     0.95668,     0.95668,     0.95667,     0.95667,     0.95667,     0.95667,     0.95667,     0.95667,     0.95667,     0.95667,\n",
      "            0.95667,     0.95666,     0.95666,     0.95666,     0.95666,     0.95666,     0.95666,     0.95666,     0.95666,     0.95666,     0.95665,     0.95665,     0.95665,     0.95681,      0.9571,     0.95808,     0.95808,     0.95807,     0.95807,     0.95806,     0.95806,     0.95806,     0.95807,\n",
      "             0.9581,     0.95814,     0.95817,     0.95821,     0.95824,     0.95828,     0.95831,     0.95834,     0.95838,     0.95841,     0.95845,     0.95848,     0.95852,     0.95855,     0.95859,     0.95862,     0.95866,     0.95869,     0.95872,     0.95876,     0.95877,     0.95877,     0.95876,\n",
      "            0.95876,     0.95876,     0.95876,     0.95875,     0.95875,     0.95875,     0.95875,     0.95874,     0.95874,     0.95874,     0.95873,     0.95873,     0.95872,     0.95872,     0.95872,     0.95871,     0.95871,      0.9587,      0.9587,      0.9587,      0.9587,     0.95869,     0.95869,\n",
      "            0.95869,     0.95869,     0.95868,     0.95868,     0.95868,     0.95867,     0.95867,     0.95867,     0.95867,     0.95866,     0.95866,     0.95866,     0.95866,     0.95865,     0.95865,     0.95865,     0.95865,     0.95875,     0.95884,     0.95894,     0.95903,     0.95913,     0.95922,\n",
      "            0.95932,     0.95936,     0.95934,     0.95933,     0.95932,     0.95932,     0.95931,     0.95929,     0.95927,     0.95926,     0.95925,     0.95925,     0.95943,     0.95964,     0.95985,     0.95997,     0.95996,     0.95996,     0.95996,     0.95995,     0.95995,     0.95994,     0.95994,\n",
      "            0.95992,     0.95991,     0.95997,     0.96005,     0.96012,      0.9602,     0.96028,     0.96036,     0.96043,     0.96051,     0.96059,     0.96064,     0.96063,     0.96063,     0.96063,     0.96063,     0.96063,     0.96063,     0.96062,     0.96062,     0.96062,     0.96062,     0.96062,\n",
      "            0.96062,     0.96061,     0.96061,     0.96061,     0.96061,     0.96061,     0.96068,     0.96129,     0.96141,      0.9616,     0.96178,     0.96197,     0.96226,     0.96259,     0.96307,     0.96346,     0.96344,      0.9638,     0.96418,     0.96417,     0.96417,     0.96417,     0.96416,\n",
      "            0.96416,     0.96416,     0.96415,     0.96415,     0.96424,     0.96436,     0.96448,     0.96459,     0.96471,     0.96482,     0.96488,     0.96487,     0.96486,     0.96485,      0.9648,      0.9648,      0.9648,     0.96479,     0.96479,     0.96479,     0.96478,     0.96478,     0.96478,\n",
      "            0.96475,     0.96474,     0.96473,     0.96473,     0.96471,     0.96469,     0.96469,     0.96468,     0.96467,     0.96465,     0.96463,     0.96461,     0.96461,      0.9646,     0.96459,     0.96459,     0.96531,     0.96529,     0.96532,     0.96563,     0.96594,     0.96598,     0.96597,\n",
      "            0.96634,     0.96668,     0.96736,     0.96734,     0.96728,     0.96727,     0.96761,     0.96801,     0.96797,     0.96795,     0.96799,     0.96855,     0.96889,     0.96922,     0.96943,     0.96942,     0.97017,     0.97016,     0.97011,      0.9701,     0.97009,     0.97003,     0.96997,\n",
      "              0.971,     0.97148,     0.97148,     0.97167,     0.97187,     0.97206,     0.97222,     0.97221,     0.97217,     0.97213,     0.97209,     0.97206,     0.97205,     0.97204,     0.97203,     0.97203,     0.97207,     0.97278,     0.97277,     0.97276,      0.9728,      0.9732,     0.97351,\n",
      "            0.97349,     0.97423,      0.9742,     0.97419,     0.97418,     0.97415,     0.97413,      0.9741,     0.97409,     0.97403,     0.97469,     0.97481,      0.9749,     0.97537,     0.97587,     0.97638,      0.9766,      0.9769,     0.97713,     0.97866,      0.9786,     0.97856,     0.97852,\n",
      "            0.97852,     0.97851,     0.97851,     0.97999,     0.98079,     0.98075,     0.98074,     0.98072,      0.9815,     0.98229,     0.98225,     0.98241,     0.98305,     0.98385,     0.98385,     0.98386,     0.98465,     0.98656,     0.98717,     0.98715,     0.98714,     0.98712,      0.9871,\n",
      "            0.98794,     0.98794,     0.98793,     0.98877,     0.98962,     0.98961,     0.98959,     0.98958,     0.98966,      0.9905,     0.99301,     0.99414,     0.99473,      0.9947,     0.99469,     0.99555,     0.99553,     0.99551,     0.99548,     0.99636,     0.99635,     0.99632,     0.99629,\n",
      "            0.99666,     0.99842,     0.99904,      0.9998,           1,           1,           1,           1,           1,           1,           1,           1,           1,           1,           1,           1,           1,           1,           1,           1,           1,           1,           1,\n",
      "                  1,           1,           1,           1,           1,           1,           1,           1,           1,           1,           1,           1,           1,           1,           1,           1,           1,           1,           1,           1,           1,           1,           1,\n",
      "                  1,           1,           1,           1,           1,           1,           1,           1,           1,           1,           1]]), 'Confidence', 'Precision'], [array([          0,    0.001001,    0.002002,    0.003003,    0.004004,    0.005005,    0.006006,    0.007007,    0.008008,    0.009009,     0.01001,    0.011011,    0.012012,    0.013013,    0.014014,    0.015015,    0.016016,    0.017017,    0.018018,    0.019019,     0.02002,    0.021021,    0.022022,    0.023023,\n",
      "          0.024024,    0.025025,    0.026026,    0.027027,    0.028028,    0.029029,     0.03003,    0.031031,    0.032032,    0.033033,    0.034034,    0.035035,    0.036036,    0.037037,    0.038038,    0.039039,     0.04004,    0.041041,    0.042042,    0.043043,    0.044044,    0.045045,    0.046046,    0.047047,\n",
      "          0.048048,    0.049049,     0.05005,    0.051051,    0.052052,    0.053053,    0.054054,    0.055055,    0.056056,    0.057057,    0.058058,    0.059059,     0.06006,    0.061061,    0.062062,    0.063063,    0.064064,    0.065065,    0.066066,    0.067067,    0.068068,    0.069069,     0.07007,    0.071071,\n",
      "          0.072072,    0.073073,    0.074074,    0.075075,    0.076076,    0.077077,    0.078078,    0.079079,     0.08008,    0.081081,    0.082082,    0.083083,    0.084084,    0.085085,    0.086086,    0.087087,    0.088088,    0.089089,     0.09009,    0.091091,    0.092092,    0.093093,    0.094094,    0.095095,\n",
      "          0.096096,    0.097097,    0.098098,    0.099099,      0.1001,      0.1011,      0.1021,      0.1031,      0.1041,     0.10511,     0.10611,     0.10711,     0.10811,     0.10911,     0.11011,     0.11111,     0.11211,     0.11311,     0.11411,     0.11512,     0.11612,     0.11712,     0.11812,     0.11912,\n",
      "           0.12012,     0.12112,     0.12212,     0.12312,     0.12412,     0.12513,     0.12613,     0.12713,     0.12813,     0.12913,     0.13013,     0.13113,     0.13213,     0.13313,     0.13413,     0.13514,     0.13614,     0.13714,     0.13814,     0.13914,     0.14014,     0.14114,     0.14214,     0.14314,\n",
      "           0.14414,     0.14515,     0.14615,     0.14715,     0.14815,     0.14915,     0.15015,     0.15115,     0.15215,     0.15315,     0.15415,     0.15516,     0.15616,     0.15716,     0.15816,     0.15916,     0.16016,     0.16116,     0.16216,     0.16316,     0.16416,     0.16517,     0.16617,     0.16717,\n",
      "           0.16817,     0.16917,     0.17017,     0.17117,     0.17217,     0.17317,     0.17417,     0.17518,     0.17618,     0.17718,     0.17818,     0.17918,     0.18018,     0.18118,     0.18218,     0.18318,     0.18418,     0.18519,     0.18619,     0.18719,     0.18819,     0.18919,     0.19019,     0.19119,\n",
      "           0.19219,     0.19319,     0.19419,      0.1952,      0.1962,      0.1972,      0.1982,      0.1992,      0.2002,      0.2012,      0.2022,      0.2032,      0.2042,     0.20521,     0.20621,     0.20721,     0.20821,     0.20921,     0.21021,     0.21121,     0.21221,     0.21321,     0.21421,     0.21522,\n",
      "           0.21622,     0.21722,     0.21822,     0.21922,     0.22022,     0.22122,     0.22222,     0.22322,     0.22422,     0.22523,     0.22623,     0.22723,     0.22823,     0.22923,     0.23023,     0.23123,     0.23223,     0.23323,     0.23423,     0.23524,     0.23624,     0.23724,     0.23824,     0.23924,\n",
      "           0.24024,     0.24124,     0.24224,     0.24324,     0.24424,     0.24525,     0.24625,     0.24725,     0.24825,     0.24925,     0.25025,     0.25125,     0.25225,     0.25325,     0.25425,     0.25526,     0.25626,     0.25726,     0.25826,     0.25926,     0.26026,     0.26126,     0.26226,     0.26326,\n",
      "           0.26426,     0.26527,     0.26627,     0.26727,     0.26827,     0.26927,     0.27027,     0.27127,     0.27227,     0.27327,     0.27427,     0.27528,     0.27628,     0.27728,     0.27828,     0.27928,     0.28028,     0.28128,     0.28228,     0.28328,     0.28428,     0.28529,     0.28629,     0.28729,\n",
      "           0.28829,     0.28929,     0.29029,     0.29129,     0.29229,     0.29329,     0.29429,      0.2953,      0.2963,      0.2973,      0.2983,      0.2993,      0.3003,      0.3013,      0.3023,      0.3033,      0.3043,     0.30531,     0.30631,     0.30731,     0.30831,     0.30931,     0.31031,     0.31131,\n",
      "           0.31231,     0.31331,     0.31431,     0.31532,     0.31632,     0.31732,     0.31832,     0.31932,     0.32032,     0.32132,     0.32232,     0.32332,     0.32432,     0.32533,     0.32633,     0.32733,     0.32833,     0.32933,     0.33033,     0.33133,     0.33233,     0.33333,     0.33433,     0.33534,\n",
      "           0.33634,     0.33734,     0.33834,     0.33934,     0.34034,     0.34134,     0.34234,     0.34334,     0.34434,     0.34535,     0.34635,     0.34735,     0.34835,     0.34935,     0.35035,     0.35135,     0.35235,     0.35335,     0.35435,     0.35536,     0.35636,     0.35736,     0.35836,     0.35936,\n",
      "           0.36036,     0.36136,     0.36236,     0.36336,     0.36436,     0.36537,     0.36637,     0.36737,     0.36837,     0.36937,     0.37037,     0.37137,     0.37237,     0.37337,     0.37437,     0.37538,     0.37638,     0.37738,     0.37838,     0.37938,     0.38038,     0.38138,     0.38238,     0.38338,\n",
      "           0.38438,     0.38539,     0.38639,     0.38739,     0.38839,     0.38939,     0.39039,     0.39139,     0.39239,     0.39339,     0.39439,      0.3954,      0.3964,      0.3974,      0.3984,      0.3994,      0.4004,      0.4014,      0.4024,      0.4034,      0.4044,     0.40541,     0.40641,     0.40741,\n",
      "           0.40841,     0.40941,     0.41041,     0.41141,     0.41241,     0.41341,     0.41441,     0.41542,     0.41642,     0.41742,     0.41842,     0.41942,     0.42042,     0.42142,     0.42242,     0.42342,     0.42442,     0.42543,     0.42643,     0.42743,     0.42843,     0.42943,     0.43043,     0.43143,\n",
      "           0.43243,     0.43343,     0.43443,     0.43544,     0.43644,     0.43744,     0.43844,     0.43944,     0.44044,     0.44144,     0.44244,     0.44344,     0.44444,     0.44545,     0.44645,     0.44745,     0.44845,     0.44945,     0.45045,     0.45145,     0.45245,     0.45345,     0.45445,     0.45546,\n",
      "           0.45646,     0.45746,     0.45846,     0.45946,     0.46046,     0.46146,     0.46246,     0.46346,     0.46446,     0.46547,     0.46647,     0.46747,     0.46847,     0.46947,     0.47047,     0.47147,     0.47247,     0.47347,     0.47447,     0.47548,     0.47648,     0.47748,     0.47848,     0.47948,\n",
      "           0.48048,     0.48148,     0.48248,     0.48348,     0.48448,     0.48549,     0.48649,     0.48749,     0.48849,     0.48949,     0.49049,     0.49149,     0.49249,     0.49349,     0.49449,      0.4955,      0.4965,      0.4975,      0.4985,      0.4995,      0.5005,      0.5015,      0.5025,      0.5035,\n",
      "            0.5045,     0.50551,     0.50651,     0.50751,     0.50851,     0.50951,     0.51051,     0.51151,     0.51251,     0.51351,     0.51451,     0.51552,     0.51652,     0.51752,     0.51852,     0.51952,     0.52052,     0.52152,     0.52252,     0.52352,     0.52452,     0.52553,     0.52653,     0.52753,\n",
      "           0.52853,     0.52953,     0.53053,     0.53153,     0.53253,     0.53353,     0.53453,     0.53554,     0.53654,     0.53754,     0.53854,     0.53954,     0.54054,     0.54154,     0.54254,     0.54354,     0.54454,     0.54555,     0.54655,     0.54755,     0.54855,     0.54955,     0.55055,     0.55155,\n",
      "           0.55255,     0.55355,     0.55455,     0.55556,     0.55656,     0.55756,     0.55856,     0.55956,     0.56056,     0.56156,     0.56256,     0.56356,     0.56456,     0.56557,     0.56657,     0.56757,     0.56857,     0.56957,     0.57057,     0.57157,     0.57257,     0.57357,     0.57457,     0.57558,\n",
      "           0.57658,     0.57758,     0.57858,     0.57958,     0.58058,     0.58158,     0.58258,     0.58358,     0.58458,     0.58559,     0.58659,     0.58759,     0.58859,     0.58959,     0.59059,     0.59159,     0.59259,     0.59359,     0.59459,      0.5956,      0.5966,      0.5976,      0.5986,      0.5996,\n",
      "            0.6006,      0.6016,      0.6026,      0.6036,      0.6046,     0.60561,     0.60661,     0.60761,     0.60861,     0.60961,     0.61061,     0.61161,     0.61261,     0.61361,     0.61461,     0.61562,     0.61662,     0.61762,     0.61862,     0.61962,     0.62062,     0.62162,     0.62262,     0.62362,\n",
      "           0.62462,     0.62563,     0.62663,     0.62763,     0.62863,     0.62963,     0.63063,     0.63163,     0.63263,     0.63363,     0.63463,     0.63564,     0.63664,     0.63764,     0.63864,     0.63964,     0.64064,     0.64164,     0.64264,     0.64364,     0.64464,     0.64565,     0.64665,     0.64765,\n",
      "           0.64865,     0.64965,     0.65065,     0.65165,     0.65265,     0.65365,     0.65465,     0.65566,     0.65666,     0.65766,     0.65866,     0.65966,     0.66066,     0.66166,     0.66266,     0.66366,     0.66466,     0.66567,     0.66667,     0.66767,     0.66867,     0.66967,     0.67067,     0.67167,\n",
      "           0.67267,     0.67367,     0.67467,     0.67568,     0.67668,     0.67768,     0.67868,     0.67968,     0.68068,     0.68168,     0.68268,     0.68368,     0.68468,     0.68569,     0.68669,     0.68769,     0.68869,     0.68969,     0.69069,     0.69169,     0.69269,     0.69369,     0.69469,      0.6957,\n",
      "            0.6967,      0.6977,      0.6987,      0.6997,      0.7007,      0.7017,      0.7027,      0.7037,      0.7047,     0.70571,     0.70671,     0.70771,     0.70871,     0.70971,     0.71071,     0.71171,     0.71271,     0.71371,     0.71471,     0.71572,     0.71672,     0.71772,     0.71872,     0.71972,\n",
      "           0.72072,     0.72172,     0.72272,     0.72372,     0.72472,     0.72573,     0.72673,     0.72773,     0.72873,     0.72973,     0.73073,     0.73173,     0.73273,     0.73373,     0.73473,     0.73574,     0.73674,     0.73774,     0.73874,     0.73974,     0.74074,     0.74174,     0.74274,     0.74374,\n",
      "           0.74474,     0.74575,     0.74675,     0.74775,     0.74875,     0.74975,     0.75075,     0.75175,     0.75275,     0.75375,     0.75475,     0.75576,     0.75676,     0.75776,     0.75876,     0.75976,     0.76076,     0.76176,     0.76276,     0.76376,     0.76476,     0.76577,     0.76677,     0.76777,\n",
      "           0.76877,     0.76977,     0.77077,     0.77177,     0.77277,     0.77377,     0.77477,     0.77578,     0.77678,     0.77778,     0.77878,     0.77978,     0.78078,     0.78178,     0.78278,     0.78378,     0.78478,     0.78579,     0.78679,     0.78779,     0.78879,     0.78979,     0.79079,     0.79179,\n",
      "           0.79279,     0.79379,     0.79479,      0.7958,      0.7968,      0.7978,      0.7988,      0.7998,      0.8008,      0.8018,      0.8028,      0.8038,      0.8048,     0.80581,     0.80681,     0.80781,     0.80881,     0.80981,     0.81081,     0.81181,     0.81281,     0.81381,     0.81481,     0.81582,\n",
      "           0.81682,     0.81782,     0.81882,     0.81982,     0.82082,     0.82182,     0.82282,     0.82382,     0.82482,     0.82583,     0.82683,     0.82783,     0.82883,     0.82983,     0.83083,     0.83183,     0.83283,     0.83383,     0.83483,     0.83584,     0.83684,     0.83784,     0.83884,     0.83984,\n",
      "           0.84084,     0.84184,     0.84284,     0.84384,     0.84484,     0.84585,     0.84685,     0.84785,     0.84885,     0.84985,     0.85085,     0.85185,     0.85285,     0.85385,     0.85485,     0.85586,     0.85686,     0.85786,     0.85886,     0.85986,     0.86086,     0.86186,     0.86286,     0.86386,\n",
      "           0.86486,     0.86587,     0.86687,     0.86787,     0.86887,     0.86987,     0.87087,     0.87187,     0.87287,     0.87387,     0.87487,     0.87588,     0.87688,     0.87788,     0.87888,     0.87988,     0.88088,     0.88188,     0.88288,     0.88388,     0.88488,     0.88589,     0.88689,     0.88789,\n",
      "           0.88889,     0.88989,     0.89089,     0.89189,     0.89289,     0.89389,     0.89489,      0.8959,      0.8969,      0.8979,      0.8989,      0.8999,      0.9009,      0.9019,      0.9029,      0.9039,      0.9049,     0.90591,     0.90691,     0.90791,     0.90891,     0.90991,     0.91091,     0.91191,\n",
      "           0.91291,     0.91391,     0.91491,     0.91592,     0.91692,     0.91792,     0.91892,     0.91992,     0.92092,     0.92192,     0.92292,     0.92392,     0.92492,     0.92593,     0.92693,     0.92793,     0.92893,     0.92993,     0.93093,     0.93193,     0.93293,     0.93393,     0.93493,     0.93594,\n",
      "           0.93694,     0.93794,     0.93894,     0.93994,     0.94094,     0.94194,     0.94294,     0.94394,     0.94494,     0.94595,     0.94695,     0.94795,     0.94895,     0.94995,     0.95095,     0.95195,     0.95295,     0.95395,     0.95495,     0.95596,     0.95696,     0.95796,     0.95896,     0.95996,\n",
      "           0.96096,     0.96196,     0.96296,     0.96396,     0.96496,     0.96597,     0.96697,     0.96797,     0.96897,     0.96997,     0.97097,     0.97197,     0.97297,     0.97397,     0.97497,     0.97598,     0.97698,     0.97798,     0.97898,     0.97998,     0.98098,     0.98198,     0.98298,     0.98398,\n",
      "           0.98498,     0.98599,     0.98699,     0.98799,     0.98899,     0.98999,     0.99099,     0.99199,     0.99299,     0.99399,     0.99499,       0.996,       0.997,       0.998,       0.999,           1]), array([[    0.95894,     0.95894,     0.95546,     0.95477,     0.95407,     0.95338,     0.95268,     0.95228,     0.95152,     0.95129,      0.9492,      0.9485,     0.94781,     0.94726,     0.94627,     0.94572,     0.94542,     0.94502,     0.94384,     0.94326,      0.9423,     0.94224,     0.94224,\n",
      "            0.94149,     0.94117,     0.94085,     0.94015,     0.93946,     0.93825,     0.93737,     0.93737,     0.93737,     0.93737,     0.93729,     0.93685,     0.93667,     0.93667,     0.93598,     0.93598,     0.93598,     0.93405,     0.93317,     0.93273,      0.9325,      0.9325,     0.93242,\n",
      "            0.93225,     0.93208,     0.93191,     0.93168,     0.93136,     0.93111,     0.93111,     0.93111,     0.93077,     0.93041,     0.93041,     0.93023,        0.93,     0.92978,      0.9296,     0.92944,     0.92927,     0.92911,     0.92886,     0.92851,     0.92832,     0.92832,     0.92763,\n",
      "            0.92763,     0.92763,     0.92763,     0.92693,     0.92693,     0.92693,     0.92693,     0.92693,     0.92693,     0.92693,     0.92652,     0.92624,     0.92624,     0.92624,     0.92624,     0.92624,     0.92614,     0.92592,      0.9257,     0.92554,     0.92488,     0.92484,      0.9247,\n",
      "            0.92455,      0.9244,     0.92426,     0.92411,     0.92398,     0.92386,     0.92373,      0.9236,     0.92347,     0.92267,     0.92254,      0.9224,     0.92226,     0.92213,     0.92206,     0.92206,     0.92206,     0.92206,     0.92206,     0.92206,     0.92206,     0.92206,     0.92206,\n",
      "            0.92206,     0.92206,     0.92206,     0.92206,     0.92206,     0.92206,     0.92206,     0.92206,     0.92206,     0.92206,     0.92206,     0.92206,     0.92159,     0.92111,     0.92071,     0.92067,     0.92067,     0.92067,     0.92067,     0.92067,      0.9202,     0.91979,     0.91945,\n",
      "            0.91869,     0.91841,     0.91822,     0.91803,     0.91773,     0.91714,     0.91684,     0.91654,     0.91576,      0.9153,     0.91505,     0.91496,     0.91487,     0.91478,     0.91469,      0.9146,     0.91451,     0.91443,     0.91325,     0.91225,     0.91187,     0.91111,     0.91063,\n",
      "            0.91025,     0.90992,     0.90959,     0.90884,     0.90884,     0.90882,      0.9087,     0.90859,     0.90848,     0.90836,     0.90825,     0.90813,     0.90776,     0.90733,     0.90646,     0.90596,      0.9058,     0.90564,     0.90548,     0.90516,     0.90459,     0.90439,     0.90419,\n",
      "            0.90399,     0.90356,     0.90327,     0.90327,     0.90327,     0.90327,     0.90327,     0.90327,     0.90327,     0.90327,     0.90323,      0.9032,     0.90316,     0.90313,      0.9031,     0.90306,     0.90303,       0.903,     0.90296,     0.90293,      0.9029,     0.90286,     0.90283,\n",
      "             0.9028,     0.90276,     0.90273,      0.9027,     0.90266,     0.90263,      0.9026,     0.90253,     0.90241,     0.90228,     0.90216,     0.90204,     0.90192,     0.90188,     0.90188,     0.90188,     0.90188,     0.90188,     0.90188,     0.90188,     0.90188,     0.90188,     0.90185,\n",
      "            0.90163,     0.90142,      0.9012,     0.90118,     0.90118,     0.90118,     0.90118,     0.90118,     0.90118,     0.90118,     0.90118,     0.90118,     0.90118,     0.90118,     0.90118,     0.90118,     0.90118,     0.90118,     0.90118,     0.90118,     0.90118,     0.90118,     0.90118,\n",
      "            0.90106,     0.90091,     0.90077,     0.90062,     0.90046,     0.90008,     0.89976,     0.89964,     0.89951,     0.89939,     0.89927,     0.89915,      0.8991,      0.8991,      0.8991,      0.8991,      0.8991,      0.8991,      0.8991,      0.8991,      0.8991,      0.8991,      0.8991,\n",
      "             0.8991,      0.8991,      0.8991,      0.8991,      0.8991,      0.8991,     0.89907,     0.89903,     0.89899,     0.89895,     0.89891,     0.89888,     0.89884,      0.8988,     0.89876,     0.89872,     0.89869,     0.89865,     0.89861,     0.89857,     0.89853,     0.89849,     0.89846,\n",
      "            0.89842,     0.89836,      0.8983,     0.89823,     0.89817,      0.8981,     0.89803,     0.89797,      0.8979,     0.89784,     0.89777,      0.8977,      0.8977,      0.8977,      0.8977,      0.8977,      0.8977,      0.8977,      0.8977,      0.8977,      0.8977,      0.8977,      0.8977,\n",
      "             0.8977,      0.8977,      0.8977,      0.8977,      0.8977,      0.8977,      0.8977,      0.8977,      0.8977,      0.8977,      0.8977,      0.8977,      0.8977,      0.8977,      0.8977,      0.8977,      0.8977,      0.8977,      0.8977,      0.8977,      0.8977,      0.8977,      0.8977,\n",
      "             0.8977,      0.8977,      0.8977,      0.8977,      0.8977,      0.8977,      0.8977,      0.8977,      0.8977,      0.8977,      0.8977,      0.8977,      0.8977,      0.8977,      0.8977,      0.8977,      0.8977,     0.89768,     0.89767,     0.89766,     0.89764,     0.89763,     0.89762,\n",
      "             0.8976,     0.89759,     0.89758,     0.89756,     0.89755,     0.89754,     0.89752,     0.89751,      0.8975,     0.89748,     0.89747,     0.89746,     0.89744,     0.89743,     0.89742,      0.8974,     0.89739,     0.89738,     0.89736,     0.89735,     0.89734,     0.89732,     0.89731,\n",
      "             0.8973,     0.89728,     0.89727,     0.89726,     0.89724,     0.89723,     0.89722,     0.89721,     0.89719,     0.89718,     0.89717,     0.89715,     0.89714,     0.89713,     0.89711,      0.8971,     0.89709,     0.89707,     0.89706,     0.89705,     0.89703,     0.89702,     0.89701,\n",
      "            0.89701,     0.89701,     0.89701,     0.89701,     0.89701,     0.89701,     0.89701,     0.89701,     0.89701,     0.89701,     0.89701,     0.89701,     0.89701,     0.89701,     0.89701,     0.89701,     0.89701,     0.89701,     0.89701,     0.89701,     0.89701,     0.89701,     0.89701,\n",
      "            0.89701,     0.89701,     0.89701,     0.89701,     0.89701,     0.89701,     0.89701,     0.89701,     0.89701,     0.89701,     0.89701,     0.89701,     0.89701,     0.89701,     0.89701,     0.89701,     0.89701,     0.89701,       0.897,     0.89692,     0.89683,     0.89675,     0.89666,\n",
      "            0.89657,     0.89649,      0.8964,     0.89632,     0.89631,     0.89625,     0.89593,     0.89562,     0.89562,     0.89562,     0.89562,     0.89562,     0.89562,     0.89562,     0.89562,     0.89562,     0.89562,     0.89562,     0.89562,     0.89562,     0.89562,     0.89562,     0.89562,\n",
      "            0.89562,     0.89562,     0.89562,     0.89562,     0.89562,     0.89562,     0.89562,     0.89562,     0.89562,     0.89562,     0.89562,     0.89562,     0.89562,     0.89562,     0.89542,     0.89523,     0.89503,     0.89492,     0.89492,     0.89492,     0.89492,     0.89492,     0.89492,\n",
      "            0.89492,     0.89492,     0.89492,     0.89492,     0.89492,     0.89492,     0.89492,     0.89492,     0.89492,     0.89492,     0.89492,     0.89492,     0.89486,     0.89422,     0.89422,     0.89422,     0.89422,     0.89422,     0.89422,     0.89422,     0.89422,     0.89422,     0.89422,\n",
      "            0.89422,     0.89422,     0.89422,     0.89422,     0.89422,     0.89422,     0.89422,     0.89422,     0.89422,     0.89422,     0.89422,     0.89422,     0.89422,     0.89422,     0.89422,     0.89422,     0.89422,     0.89422,     0.89422,     0.89422,     0.89422,     0.89422,     0.89422,\n",
      "            0.89422,     0.89422,     0.89422,     0.89422,     0.89422,     0.89422,     0.89422,     0.89422,     0.89422,     0.89422,     0.89422,     0.89422,     0.89422,     0.89422,     0.89422,     0.89422,     0.89422,     0.89422,     0.89422,     0.89422,     0.89422,     0.89422,     0.89422,\n",
      "            0.89422,     0.89422,     0.89422,     0.89398,     0.89374,     0.89349,     0.89329,     0.89309,     0.89288,      0.8928,     0.89275,      0.8927,     0.89265,      0.8926,     0.89255,      0.8925,     0.89245,      0.8924,     0.89235,      0.8923,     0.89225,      0.8922,     0.89215,\n",
      "            0.89207,     0.89197,     0.89187,     0.89177,     0.89167,     0.89157,     0.89147,     0.89142,      0.8914,     0.89138,     0.89135,     0.89133,      0.8913,     0.89128,     0.89126,     0.89123,     0.89121,     0.89119,     0.89116,     0.89114,     0.89111,     0.89109,     0.89107,\n",
      "            0.89104,     0.89102,     0.89099,     0.89097,     0.89095,     0.89092,      0.8909,     0.89087,     0.89085,     0.89083,      0.8908,     0.89078,     0.89076,     0.89074,     0.89074,     0.89074,     0.89063,     0.89053,     0.89042,     0.89032,     0.89021,     0.89011,     0.89005,\n",
      "            0.89005,     0.89005,     0.89005,     0.89005,     0.89005,     0.89005,     0.89005,     0.89005,     0.89005,     0.89005,     0.89005,     0.89005,     0.89005,     0.89005,     0.89005,     0.89005,     0.89005,     0.89005,     0.89005,     0.89005,     0.89001,     0.88995,      0.8899,\n",
      "            0.88984,     0.88979,     0.88973,     0.88967,     0.88962,     0.88956,      0.8895,     0.88945,     0.88939,     0.88932,     0.88922,     0.88912,     0.88902,     0.88892,     0.88882,     0.88872,     0.88864,     0.88857,     0.88851,     0.88845,     0.88839,     0.88832,     0.88826,\n",
      "             0.8882,     0.88814,     0.88807,     0.88801,     0.88795,     0.88789,     0.88784,     0.88778,     0.88772,     0.88766,     0.88761,     0.88755,     0.88749,     0.88743,     0.88738,     0.88732,     0.88727,     0.88727,     0.88727,     0.88727,     0.88727,     0.88727,     0.88727,\n",
      "            0.88727,     0.88704,     0.88657,     0.88642,     0.88627,     0.88611,     0.88596,     0.88556,     0.88508,     0.88489,     0.88469,      0.8845,     0.88448,     0.88448,     0.88448,     0.88444,     0.88434,     0.88425,     0.88415,     0.88406,     0.88396,     0.88387,     0.88374,\n",
      "            0.88344,     0.88315,     0.88309,     0.88309,     0.88309,     0.88309,     0.88309,     0.88309,     0.88309,     0.88309,     0.88309,     0.88308,     0.88304,       0.883,     0.88296,     0.88292,     0.88288,     0.88285,     0.88281,     0.88277,     0.88273,     0.88269,     0.88265,\n",
      "            0.88261,     0.88258,     0.88254,      0.8825,     0.88246,     0.88242,      0.8817,      0.8817,       0.881,       0.881,       0.881,       0.881,       0.881,       0.881,       0.881,     0.88083,     0.88035,     0.88031,      0.8803,     0.88022,     0.88013,     0.88005,     0.87996,\n",
      "            0.87988,      0.8798,     0.87971,     0.87963,     0.87961,     0.87961,     0.87961,     0.87961,     0.87961,     0.87961,      0.8795,     0.87926,     0.87902,     0.87859,     0.87751,     0.87743,     0.87734,     0.87726,     0.87717,     0.87709,       0.877,     0.87691,     0.87683,\n",
      "            0.87602,     0.87585,     0.87569,     0.87552,     0.87514,     0.87466,     0.87446,     0.87426,     0.87405,     0.87358,     0.87292,     0.87255,     0.87241,     0.87227,     0.87213,     0.87199,     0.87133,     0.87078,     0.86987,     0.86987,     0.86987,     0.86953,     0.86907,\n",
      "            0.86848,     0.86802,     0.86639,     0.86578,     0.86414,     0.86379,      0.8636,     0.86325,     0.86213,     0.86181,     0.86152,     0.86152,     0.86082,     0.86082,      0.8607,     0.86032,     0.86007,     0.85966,     0.85839,     0.85787,     0.85758,     0.85592,     0.85403,\n",
      "            0.85386,     0.85346,     0.85247,     0.85247,     0.85247,     0.85247,      0.8524,       0.852,     0.85093,     0.84967,     0.84822,     0.84747,     0.84708,     0.84679,     0.84659,     0.84638,     0.84551,     0.84543,     0.84522,     0.84501,     0.84482,     0.84482,     0.84405,\n",
      "            0.84324,     0.84196,     0.84099,     0.84053,     0.84014,     0.83916,     0.83865,     0.83765,      0.8373,     0.83523,     0.83507,     0.83472,     0.83438,     0.83438,     0.83438,     0.83425,     0.83299,     0.83299,     0.83233,     0.82969,     0.82754,     0.82587,     0.82443,\n",
      "             0.8242,     0.82396,     0.81976,     0.81813,     0.81719,     0.81545,     0.81504,     0.81426,     0.81235,      0.8106,     0.80868,     0.80793,     0.80726,     0.80572,     0.80528,     0.80376,     0.80366,     0.80306,     0.80285,     0.80206,     0.80106,     0.80004,     0.79891,\n",
      "            0.79817,     0.79786,     0.79755,     0.79636,     0.79602,     0.79503,     0.79396,     0.79331,     0.79262,     0.79123,     0.79101,     0.78984,     0.78737,     0.78434,     0.78233,     0.77838,     0.77506,     0.77088,     0.76697,     0.76112,     0.75948,     0.75308,     0.74765,\n",
      "            0.74391,     0.74391,     0.74391,     0.74252,     0.74106,     0.73805,     0.73619,     0.73188,     0.72933,     0.72314,     0.71278,     0.69618,     0.68296,     0.67368,     0.66242,     0.64875,     0.63252,     0.60439,     0.57696,     0.55621,     0.52452,     0.49723,     0.46247,\n",
      "            0.43483,     0.41561,     0.36792,     0.31826,     0.28331,     0.24782,     0.20629,     0.19355,     0.17728,     0.12848,     0.10705,     0.10114,    0.078524,    0.023955,   0.0049929,           0,           0,           0,           0,           0,           0,           0,           0,\n",
      "                  0,           0,           0,           0,           0,           0,           0,           0,           0,           0,           0]]), 'Confidence', 'Recall']]\n",
      "fitness: 0.9219249447024727\n",
      "keys: ['metrics/precision(B)', 'metrics/recall(B)', 'metrics/mAP50(B)', 'metrics/mAP50-95(B)']\n",
      "maps: array([    0.91689,     0.91689])\n",
      "names: {0: ' ', 1: 'person'}\n",
      "plot: True\n",
      "results_dict: {'metrics/precision(B)': 0.9251626663179305, 'metrics/recall(B)': 0.9291092973101196, 'metrics/mAP50(B)': 0.9672353499186636, 'metrics/mAP50-95(B)': 0.916890455234007, 'fitness': 0.9219249447024727}\n",
      "save_dir: PosixPath('runs/detect/train2')\n",
      "speed: {'preprocess': 1.7415428161621094, 'inference': 80.75556755065918, 'loss': 0.0012731552124023438, 'postprocess': 4.025716781616211}\n",
      "task: 'detect'\n"
     ]
    }
   ],
   "source": [
    "print(valid_results)"
   ]
  },
  {
   "cell_type": "code",
   "execution_count": null,
   "metadata": {
    "colab": {
     "base_uri": "https://localhost:8080/"
    },
    "executionInfo": {
     "elapsed": 20672,
     "status": "ok",
     "timestamp": 1716105560063,
     "user": {
      "displayName": "Harsh Maheshwari",
      "userId": "10425666184789192535"
     },
     "user_tz": -330
    },
    "id": "fJOynCyr0Z8V",
    "outputId": "c4d0d319-df0c-4c82-b2ca-59d49a59637a"
   },
   "outputs": [
    {
     "name": "stdout",
     "output_type": "stream",
     "text": [
      "  adding: content/runs/detect/ (stored 0%)\n",
      "  adding: content/runs/detect/train2/ (stored 0%)\n",
      "  adding: content/runs/detect/train2/val_batch1_pred.jpg (deflated 3%)\n",
      "  adding: content/runs/detect/train2/confusion_matrix.png (deflated 37%)\n",
      "  adding: content/runs/detect/train2/val_batch2_labels.jpg (deflated 3%)\n",
      "  adding: content/runs/detect/train2/val_batch1_labels.jpg (deflated 3%)\n",
      "  adding: content/runs/detect/train2/PR_curve.png (deflated 24%)\n",
      "  adding: content/runs/detect/train2/confusion_matrix_normalized.png (deflated 38%)\n",
      "  adding: content/runs/detect/train2/val_batch0_labels.jpg (deflated 3%)\n",
      "  adding: content/runs/detect/train2/R_curve.png (deflated 19%)\n",
      "  adding: content/runs/detect/train2/val_batch2_pred.jpg (deflated 3%)\n",
      "  adding: content/runs/detect/train2/val_batch0_pred.jpg (deflated 3%)\n",
      "  adding: content/runs/detect/train2/F1_curve.png (deflated 21%)\n",
      "  adding: content/runs/detect/train2/P_curve.png (deflated 26%)\n",
      "  adding: content/runs/detect/train/ (stored 0%)\n",
      "  adding: content/runs/detect/train/val_batch1_pred.jpg (deflated 3%)\n",
      "  adding: content/runs/detect/train/confusion_matrix.png (deflated 37%)\n",
      "  adding: content/runs/detect/train/train_batch1.jpg (deflated 3%)\n",
      "  adding: content/runs/detect/train/weights/ (stored 0%)\n",
      "  adding: content/runs/detect/train/weights/last.pt (deflated 8%)\n",
      "  adding: content/runs/detect/train/weights/best.pt (deflated 8%)\n",
      "  adding: content/runs/detect/train/labels_correlogram.jpg (deflated 38%)\n",
      "  adding: content/runs/detect/train/val_batch1_labels.jpg (deflated 3%)\n",
      "  adding: content/runs/detect/train/results.csv (deflated 85%)\n",
      "  adding: content/runs/detect/train/PR_curve.png (deflated 24%)\n",
      "  adding: content/runs/detect/train/args.yaml (deflated 53%)\n",
      "  adding: content/runs/detect/train/train_batch3152.jpg (deflated 6%)\n",
      "  adding: content/runs/detect/train/labels.jpg (deflated 38%)\n",
      "  adding: content/runs/detect/train/events.out.tfevents.1716097298.5839456ef6fa.467.0 (deflated 89%)\n",
      "  adding: content/runs/detect/train/confusion_matrix_normalized.png (deflated 38%)\n",
      "  adding: content/runs/detect/train/val_batch0_labels.jpg (deflated 3%)\n",
      "  adding: content/runs/detect/train/train_batch3151.jpg (deflated 8%)\n",
      "  adding: content/runs/detect/train/train_batch2.jpg (deflated 2%)\n",
      "  adding: content/runs/detect/train/R_curve.png (deflated 18%)\n",
      "  adding: content/runs/detect/train/results.png (deflated 9%)\n",
      "  adding: content/runs/detect/train/train_batch0.jpg (deflated 2%)\n",
      "  adding: content/runs/detect/train/val_batch0_pred.jpg (deflated 3%)\n",
      "  adding: content/runs/detect/train/train_batch3150.jpg (deflated 8%)\n",
      "  adding: content/runs/detect/train/F1_curve.png (deflated 21%)\n",
      "  adding: content/runs/detect/train/P_curve.png (deflated 26%)\n"
     ]
    }
   ],
   "source": [
    "!zip -r runs.zip /content/runs/detect"
   ]
  },
  {
   "cell_type": "code",
   "execution_count": null,
   "metadata": {
    "id": "PL0_Kr0921-9"
   },
   "outputs": [],
   "source": []
  }
 ],
 "metadata": {
  "accelerator": "GPU",
  "colab": {
   "authorship_tag": "ABX9TyNfedFofvHvjHHrikiEzdFY",
   "gpuType": "T4",
   "mount_file_id": "1ynSmJWnCMo-MUpkTBS0Q4QzyLiPhJa-q",
   "provenance": []
  },
  "kernelspec": {
   "display_name": "Python 3",
   "name": "python3"
  },
  "language_info": {
   "name": "python"
  }
 },
 "nbformat": 4,
 "nbformat_minor": 0
}
